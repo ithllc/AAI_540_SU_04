{
 "cells": [
  {
   "cell_type": "markdown",
   "id": "39315377-58c9-48b9-a577-bf5811c7798d",
   "metadata": {},
   "source": [
    "### Build SAM (Serverless Application Module)"
   ]
  },
  {
   "cell_type": "code",
   "execution_count": 3,
   "id": "47cd50ce-6166-4c83-9579-9a81332ade46",
   "metadata": {},
   "outputs": [
    {
     "name": "stdout",
     "output_type": "stream",
     "text": [
      "\u001b[33m\n",
      "\tSAM CLI now collects telemetry to better understand customer needs.\n",
      "\n",
      "\tYou can OPT OUT and disable telemetry collection by setting the\n",
      "\tenvironment variable SAM_CLI_TELEMETRY=0 in your shell.\n",
      "\tThanks for your help!\n",
      "\n",
      "\tLearn More: https://docs.aws.amazon.com/serverless-application-model/latest/developerguide/serverless-sam-telemetry.html\n",
      "\u001b[0m\n",
      "\u001b[32m\n",
      "Build Succeeded\u001b[0m\n",
      "\u001b[33m\n",
      "Built Artifacts  : .aws-sam/build\n",
      "Built Template   : .aws-sam/build/template.yaml\n",
      "\n",
      "Commands you can use next\n",
      "=========================\n",
      "[*] Validate SAM template: sam validate\n",
      "[*] Invoke Function: sam local invoke\n",
      "[*] Test Function in the Cloud: sam sync --stack-name {{stack-name}} --watch\n",
      "[*] Deploy: sam deploy --guided\u001b[0m\n"
     ]
    }
   ],
   "source": [
    "!sam build"
   ]
  },
  {
   "cell_type": "markdown",
   "id": "7da92877-e72e-480c-ab69-a545149c30ca",
   "metadata": {},
   "source": [
    "### Validate SAM Template"
   ]
  },
  {
   "cell_type": "code",
   "execution_count": 4,
   "id": "0785c835-4440-4880-a77d-2dcdd4da61fe",
   "metadata": {},
   "outputs": [
    {
     "name": "stdout",
     "output_type": "stream",
     "text": [
      "\u001b[32m/home/sagemaker-user/AAI_540_SU_04/code/template.yml is a valid SAM Template. This is according to basic SAM Validation, for additional validation, please run with \"--lint\" option\u001b[0m\n"
     ]
    }
   ],
   "source": [
    "!sam validate"
   ]
  },
  {
   "cell_type": "code",
   "execution_count": 5,
   "id": "11033587-a75c-49af-842a-beb19a5a9ab5",
   "metadata": {},
   "outputs": [
    {
     "name": "stdout",
     "output_type": "stream",
     "text": [
      "\u001b[32m/home/sagemaker-user/AAI_540_SU_04/code/template.yml is a valid SAM Template\u001b[0m\n"
     ]
    }
   ],
   "source": [
    "!sam validate --lint"
   ]
  },
  {
   "cell_type": "markdown",
   "id": "19784477-6a60-4116-8d5a-a4b5258795c5",
   "metadata": {},
   "source": [
    "### Deploy SAM Template"
   ]
  },
  {
   "cell_type": "code",
   "execution_count": 6,
   "id": "881dc222-88dc-474d-8c41-b795fa1702fd",
   "metadata": {},
   "outputs": [
    {
     "name": "stdout",
     "output_type": "stream",
     "text": [
      "\u001b[33m\n",
      "Configuring SAM deploy\n",
      "======================\u001b[0m\n",
      "\n",
      "\tLooking for config file [samconfig.toml] :  Not found\n",
      "\u001b[33m\n",
      "\tSetting default arguments for 'sam deploy'\n",
      "\t=========================================\u001b[0m\n",
      "\t\u001b[1mStack Name\u001b[0m [sam-app]: ^C\n"
     ]
    }
   ],
   "source": [
    "!sam deploy --guided"
   ]
  },
  {
   "cell_type": "code",
   "execution_count": null,
   "id": "f1c16b53-d04f-400a-a53d-127bc8449b2f",
   "metadata": {},
   "outputs": [],
   "source": []
  }
 ],
 "metadata": {
  "kernelspec": {
   "display_name": "Python 3 (ipykernel)",
   "language": "python",
   "name": "python3"
  },
  "language_info": {
   "codemirror_mode": {
    "name": "ipython",
    "version": 3
   },
   "file_extension": ".py",
   "mimetype": "text/x-python",
   "name": "python",
   "nbconvert_exporter": "python",
   "pygments_lexer": "ipython3",
   "version": "3.10.14"
  }
 },
 "nbformat": 4,
 "nbformat_minor": 5
}
