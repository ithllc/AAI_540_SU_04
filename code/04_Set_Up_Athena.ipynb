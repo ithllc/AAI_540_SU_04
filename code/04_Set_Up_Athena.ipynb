{
 "cells": [
  {
   "cell_type": "markdown",
   "id": "d2bdae22-d5ff-457b-bd00-b367bae515cf",
   "metadata": {
    "tags": []
   },
   "source": [
    "# Set Up Data in Athena"
   ]
  },
  {
   "cell_type": "markdown",
   "id": "ee8d003f-05c2-4147-9e35-645f9b50a307",
   "metadata": {},
   "source": [
    "## Import libraries"
   ]
  },
  {
   "cell_type": "code",
   "execution_count": 37,
   "id": "86c9be41-e29f-4430-8166-0ef42dfb8c80",
   "metadata": {
    "tags": []
   },
   "outputs": [],
   "source": [
    "import boto3\n",
    "import os\n",
    "import pandas as pd\n",
    "import sagemaker\n",
    "import warnings\n",
    "\n",
    "from IPython.core.display import HTML\n",
    "from pyathena import connect\n",
    "\n",
    "# Suppress future warnings\n",
    "warnings.simplefilter(action='ignore', category=FutureWarning)\n",
    "\n",
    "# Filter out the specific UserWarning related to DBAPI2 objects\n",
    "warnings.filterwarnings('ignore', message=\"pandas only supports SQLAlchemy connectable\")"
   ]
  },
  {
   "cell_type": "code",
   "execution_count": 38,
   "id": "79112a76-7ea1-4fa9-8976-db9d576a4da9",
   "metadata": {
    "tags": []
   },
   "outputs": [
    {
     "name": "stdout",
     "output_type": "stream",
     "text": [
      "Stored variables and their in-db values:\n",
      "bucket_name                           -> 'wizard-of-tasks-dataset-5432'\n",
      "setup_dependencies_passed             -> True\n",
      "setup_s3_bucket_passed                -> True\n"
     ]
    }
   ],
   "source": [
    "# check stored variables\n",
    "%store"
   ]
  },
  {
   "cell_type": "markdown",
   "id": "4203b534-67be-41cd-beef-745bf0c2555d",
   "metadata": {
    "tags": []
   },
   "source": [
    "## Setup Table in Athena"
   ]
  },
  {
   "cell_type": "code",
   "execution_count": 39,
   "id": "f5d3f237-a0ec-45d8-894e-5349292679eb",
   "metadata": {
    "tags": []
   },
   "outputs": [],
   "source": [
    "# save Amazon information\n",
    "account_id = boto3.client(\"sts\").get_caller_identity().get(\"Account\")\n",
    "region = boto3.Session().region_name\n",
    "role = sagemaker.get_execution_role()\n",
    "sagemaker_session = sagemaker.Session()\n",
    "s3 = boto3.client('s3', region_name=sagemaker_session.boto_region_name)"
   ]
  },
  {
   "cell_type": "code",
   "execution_count": 40,
   "id": "503dff48-976d-4c16-8260-8cf4ce1fde36",
   "metadata": {
    "tags": []
   },
   "outputs": [
    {
     "name": "stdout",
     "output_type": "stream",
     "text": [
      "wizard-of-tasks-dataset-5432\n"
     ]
    }
   ],
   "source": [
    "# get bucket_name\n",
    "%store -r bucket_name\n",
    "print(bucket_name)"
   ]
  },
  {
   "cell_type": "code",
   "execution_count": 41,
   "id": "e0dfeda0-1216-4c54-80e1-f606616470a9",
   "metadata": {
    "tags": []
   },
   "outputs": [
    {
     "data": {
      "text/html": [
       "<div>\n",
       "<style scoped>\n",
       "    .dataframe tbody tr th:only-of-type {\n",
       "        vertical-align: middle;\n",
       "    }\n",
       "\n",
       "    .dataframe tbody tr th {\n",
       "        vertical-align: top;\n",
       "    }\n",
       "\n",
       "    .dataframe thead th {\n",
       "        text-align: right;\n",
       "    }\n",
       "</style>\n",
       "<table border=\"1\" class=\"dataframe\">\n",
       "  <thead>\n",
       "    <tr style=\"text-align: right;\">\n",
       "      <th></th>\n",
       "    </tr>\n",
       "  </thead>\n",
       "  <tbody>\n",
       "  </tbody>\n",
       "</table>\n",
       "</div>"
      ],
      "text/plain": [
       "Empty DataFrame\n",
       "Columns: []\n",
       "Index: []"
      ]
     },
     "execution_count": 41,
     "metadata": {},
     "output_type": "execute_result"
    }
   ],
   "source": [
    "# set database name\n",
    "database_name = \"wizard_of_tasks\"\n",
    "\n",
    "# set S3 staging directory\n",
    "s3_staging_dir = \"s3://{0}/athena/staging\".format(bucket_name)\n",
    "\n",
    "# create connection\n",
    "conn = connect(region_name=region, s3_staging_dir=s3_staging_dir)\n",
    "\n",
    "# create database if it doesn't exist\n",
    "statement = \"CREATE DATABASE IF NOT EXISTS {}\".format(database_name)\n",
    "pd.read_sql(statement, conn)"
   ]
  },
  {
   "cell_type": "code",
   "execution_count": 42,
   "id": "be75dcb3-fe8f-48a0-a9e3-3bab73480cd9",
   "metadata": {},
   "outputs": [
    {
     "data": {
      "text/html": [
       "<div>\n",
       "<style scoped>\n",
       "    .dataframe tbody tr th:only-of-type {\n",
       "        vertical-align: middle;\n",
       "    }\n",
       "\n",
       "    .dataframe tbody tr th {\n",
       "        vertical-align: top;\n",
       "    }\n",
       "\n",
       "    .dataframe thead th {\n",
       "        text-align: right;\n",
       "    }\n",
       "</style>\n",
       "<table border=\"1\" class=\"dataframe\">\n",
       "  <thead>\n",
       "    <tr style=\"text-align: right;\">\n",
       "      <th></th>\n",
       "      <th>database_name</th>\n",
       "    </tr>\n",
       "  </thead>\n",
       "  <tbody>\n",
       "    <tr>\n",
       "      <th>0</th>\n",
       "      <td>awsdata</td>\n",
       "    </tr>\n",
       "    <tr>\n",
       "      <th>1</th>\n",
       "      <td>default</td>\n",
       "    </tr>\n",
       "    <tr>\n",
       "      <th>2</th>\n",
       "      <td>sagemaker_featurestore</td>\n",
       "    </tr>\n",
       "    <tr>\n",
       "      <th>3</th>\n",
       "      <td>wizard_of_tasks</td>\n",
       "    </tr>\n",
       "  </tbody>\n",
       "</table>\n",
       "</div>"
      ],
      "text/plain": [
       "            database_name\n",
       "0                 awsdata\n",
       "1                 default\n",
       "2  sagemaker_featurestore\n",
       "3         wizard_of_tasks"
      ]
     },
     "execution_count": 42,
     "metadata": {},
     "output_type": "execute_result"
    }
   ],
   "source": [
    "# verify the database has been created\n",
    "statement = \"SHOW DATABASES\"\n",
    "\n",
    "df_show = pd.read_sql(statement, conn)\n",
    "df_show.head(5)"
   ]
  },
  {
   "cell_type": "code",
   "execution_count": 93,
   "id": "abec13a4-41d4-4168-8a7c-801add74f579",
   "metadata": {
    "tags": []
   },
   "outputs": [
    {
     "data": {
      "text/html": [
       "<div>\n",
       "<style scoped>\n",
       "    .dataframe tbody tr th:only-of-type {\n",
       "        vertical-align: middle;\n",
       "    }\n",
       "\n",
       "    .dataframe tbody tr th {\n",
       "        vertical-align: top;\n",
       "    }\n",
       "\n",
       "    .dataframe thead th {\n",
       "        text-align: right;\n",
       "    }\n",
       "</style>\n",
       "<table border=\"1\" class=\"dataframe\">\n",
       "  <thead>\n",
       "    <tr style=\"text-align: right;\">\n",
       "      <th></th>\n",
       "    </tr>\n",
       "  </thead>\n",
       "  <tbody>\n",
       "  </tbody>\n",
       "</table>\n",
       "</div>"
      ],
      "text/plain": [
       "Empty DataFrame\n",
       "Columns: []\n",
       "Index: []"
      ]
     },
     "execution_count": 93,
     "metadata": {},
     "output_type": "execute_result"
    }
   ],
   "source": [
    "# Table name\n",
    "table_name = \"data\"\n",
    "\n",
    "# S3 path to dataset\n",
    "s3_path = 's3://{}/data/'.format(bucket_name)\n",
    "\n",
    "# drop the table if it already exists\n",
    "statement = f\"DROP TABLE IF EXISTS {database_name}.{table_name}\"\n",
    "pd.read_sql(statement, conn)\n",
    "\n",
    "# create table statement updated to reflect the actual structure\n",
    "statement = f\"\"\"CREATE EXTERNAL TABLE IF NOT EXISTS {database_name}.{table_name}(\n",
    "         question STRING,\n",
    "         intent_question STRING,\n",
    "         history STRING,\n",
    "         conversation_id STRING,\n",
    "         document_url_question STRING,\n",
    "         domain_question STRING,\n",
    "         text_answer STRING,\n",
    "         intent_answer STRING,\n",
    "         domain_answer STRING,\n",
    "         question_id STRING,\n",
    "         title STRING,\n",
    "         description STRING,\n",
    "         ingredients STRING,\n",
    "         steps STRING\n",
    ") ROW FORMAT DELIMITED FIELDS TERMINATED BY '^' LINES TERMINATED BY '\\n' LOCATION '{s3_path}'\n",
    "TBLPROPERTIES ('skip.header.line.count'='1')\"\"\"\n",
    "pd.read_sql(statement, conn)"
   ]
  },
  {
   "cell_type": "code",
   "execution_count": 94,
   "id": "5eb3955b-c026-4fe7-8f9b-788a6c2e8725",
   "metadata": {},
   "outputs": [
    {
     "data": {
      "text/html": [
       "<div>\n",
       "<style scoped>\n",
       "    .dataframe tbody tr th:only-of-type {\n",
       "        vertical-align: middle;\n",
       "    }\n",
       "\n",
       "    .dataframe tbody tr th {\n",
       "        vertical-align: top;\n",
       "    }\n",
       "\n",
       "    .dataframe thead th {\n",
       "        text-align: right;\n",
       "    }\n",
       "</style>\n",
       "<table border=\"1\" class=\"dataframe\">\n",
       "  <thead>\n",
       "    <tr style=\"text-align: right;\">\n",
       "      <th></th>\n",
       "      <th>tab_name</th>\n",
       "    </tr>\n",
       "  </thead>\n",
       "  <tbody>\n",
       "    <tr>\n",
       "      <th>0</th>\n",
       "      <td>data</td>\n",
       "    </tr>\n",
       "  </tbody>\n",
       "</table>\n",
       "</div>"
      ],
      "text/plain": [
       "  tab_name\n",
       "0     data"
      ]
     },
     "execution_count": 94,
     "metadata": {},
     "output_type": "execute_result"
    }
   ],
   "source": [
    "# verify table has been created\n",
    "statement = \"SHOW TABLES in {}\".format(database_name)\n",
    "df_show = pd.read_sql(statement, conn)\n",
    "df_show.head(5)"
   ]
  },
  {
   "cell_type": "code",
   "execution_count": 95,
   "id": "7c0f8dc1-41f4-4b2a-9e38-1e5d65bccbf6",
   "metadata": {
    "tags": []
   },
   "outputs": [
    {
     "data": {
      "text/html": [
       "<div>\n",
       "<style scoped>\n",
       "    .dataframe tbody tr th:only-of-type {\n",
       "        vertical-align: middle;\n",
       "    }\n",
       "\n",
       "    .dataframe tbody tr th {\n",
       "        vertical-align: top;\n",
       "    }\n",
       "\n",
       "    .dataframe thead th {\n",
       "        text-align: right;\n",
       "    }\n",
       "</style>\n",
       "<table border=\"1\" class=\"dataframe\">\n",
       "  <thead>\n",
       "    <tr style=\"text-align: right;\">\n",
       "      <th></th>\n",
       "      <th>question</th>\n",
       "      <th>intent_question</th>\n",
       "      <th>history</th>\n",
       "      <th>conversation_id</th>\n",
       "      <th>document_url_question</th>\n",
       "      <th>domain_question</th>\n",
       "      <th>text_answer</th>\n",
       "      <th>intent_answer</th>\n",
       "      <th>domain_answer</th>\n",
       "      <th>question_id</th>\n",
       "      <th>title</th>\n",
       "      <th>description</th>\n",
       "      <th>ingredients</th>\n",
       "      <th>steps</th>\n",
       "    </tr>\n",
       "  </thead>\n",
       "  <tbody>\n",
       "    <tr>\n",
       "      <th>0</th>\n",
       "      <td>How do we prepare the tree?</td>\n",
       "      <td>ask_question_recipe_steps</td>\n",
       "      <td>student: I'm ready for the first step now plea...</td>\n",
       "      <td>Wizard-of-Task-diy-1</td>\n",
       "      <td>https://www.wikihow.com/Start-a-Bonsai-Tree</td>\n",
       "      <td>diy</td>\n",
       "      <td>Have you selected a pot? This is a very import...</td>\n",
       "      <td>answer_question_recipe_steps</td>\n",
       "      <td>diy</td>\n",
       "      <td>diy-1-1</td>\n",
       "      <td>How to Start a Bonsai Tree</td>\n",
       "      <td>\"\\nThe ancient art of growing Bonsai trees is ...</td>\n",
       "      <td></td>\n",
       "      <td>['Select a suitable species of tree for your c...</td>\n",
       "    </tr>\n",
       "    <tr>\n",
       "      <th>1</th>\n",
       "      <td>Ok, I have a nice dark green pot, perfect. Wha...</td>\n",
       "      <td>ask_question_ingredients_tools</td>\n",
       "      <td>student: I've got an idea of where I want it t...</td>\n",
       "      <td>Wizard-of-Task-diy-1</td>\n",
       "      <td>https://www.wikihow.com/Start-a-Bonsai-Tree</td>\n",
       "      <td>diy</td>\n",
       "      <td>Next we will prepare the tree for potting. The...</td>\n",
       "      <td>answer_question_recipe_steps</td>\n",
       "      <td>diy</td>\n",
       "      <td>diy-1-2</td>\n",
       "      <td>How to Start a Bonsai Tree</td>\n",
       "      <td>\"\\nThe ancient art of growing Bonsai trees is ...</td>\n",
       "      <td></td>\n",
       "      <td>['Select a suitable species of tree for your c...</td>\n",
       "    </tr>\n",
       "    <tr>\n",
       "      <th>2</th>\n",
       "      <td>Does that mean basil grows best in the spring ...</td>\n",
       "      <td>ask_question_recipe_steps</td>\n",
       "      <td>student: Gotcha!  Once I have all those tools,...</td>\n",
       "      <td>Wizard-of-Task-diy-2</td>\n",
       "      <td>https://www.wikihow.com/Grow-Basil</td>\n",
       "      <td>diy</td>\n",
       "      <td>Yes, like most plants, basil likes a temperate...</td>\n",
       "      <td>answer_question_recipe_steps</td>\n",
       "      <td>diy</td>\n",
       "      <td>diy-2-3</td>\n",
       "      <td>How to Grow Basil</td>\n",
       "      <td>\\nBasil is easy to grow, and transforms ordina...</td>\n",
       "      <td></td>\n",
       "      <td>['Choose the kind of basil you wish to grow.',...</td>\n",
       "    </tr>\n",
       "    <tr>\n",
       "      <th>3</th>\n",
       "      <td>I don't really have access to those right now ...</td>\n",
       "      <td>ask_question_recipe_steps</td>\n",
       "      <td>student: Okay, now what should I do after that...</td>\n",
       "      <td>Wizard-of-Task-diy-3</td>\n",
       "      <td>https://www.wikihow.com/Remove-Salt-Build-up-o...</td>\n",
       "      <td>diy</td>\n",
       "      <td>You can just rub it on the main zipper piece</td>\n",
       "      <td>answer_question_recipe_steps</td>\n",
       "      <td>diy</td>\n",
       "      <td>diy-3-1</td>\n",
       "      <td>How to Remove Salt Build up on a Zipper</td>\n",
       "      <td>\\nWhether it’s from roads and sidewalks in the...</td>\n",
       "      <td></td>\n",
       "      <td>['Open the zipper as much as possible.', 'Use ...</td>\n",
       "    </tr>\n",
       "    <tr>\n",
       "      <th>4</th>\n",
       "      <td>If I could only choose one thing to decoupage ...</td>\n",
       "      <td>ask_question_recipe_steps</td>\n",
       "      <td>student: What is the easiest type of material ...</td>\n",
       "      <td>Wizard-of-Task-diy-5</td>\n",
       "      <td>https://www.wikihow.com/Decoupage</td>\n",
       "      <td>diy</td>\n",
       "      <td>I would highly recommend either decoupaging wo...</td>\n",
       "      <td>answer_question_recipe_steps</td>\n",
       "      <td>diy</td>\n",
       "      <td>diy-5-5</td>\n",
       "      <td>How to Decoupage</td>\n",
       "      <td>\\nIf you'd like to give new life to a piece of...</td>\n",
       "      <td></td>\n",
       "      <td>\"['Cover your workspace with paper to protect ...</td>\n",
       "    </tr>\n",
       "    <tr>\n",
       "      <th>5</th>\n",
       "      <td>Can you tell me what a vacuum thermoflask is u...</td>\n",
       "      <td>ask_question_ingredients_tools</td>\n",
       "      <td></td>\n",
       "      <td>Wizard-of-Task-diy-7</td>\n",
       "      <td>https://www.wikihow.com/Clean-a-Vacuum-Thermos...</td>\n",
       "      <td>diy</td>\n",
       "      <td>You can fold it and put it in your wardrobe.</td>\n",
       "      <td>answer_question_recipe_steps</td>\n",
       "      <td>diy</td>\n",
       "      <td>diy-7-0</td>\n",
       "      <td>How to Clean a Vacuum Thermosflask That Has St...</td>\n",
       "      <td>\\nInsulated flasks are all the rage these days...</td>\n",
       "      <td></td>\n",
       "      <td>['Put some baking soda and vinegar into the bo...</td>\n",
       "    </tr>\n",
       "    <tr>\n",
       "      <th>6</th>\n",
       "      <td>I have added the salt, what materials do I nee...</td>\n",
       "      <td>ask_question_ingredients_tools</td>\n",
       "      <td>student: Ok, I've crushed my ice and filled th...</td>\n",
       "      <td>Wizard-of-Task-diy-7</td>\n",
       "      <td>https://www.wikihow.com/Clean-a-Vacuum-Thermos...</td>\n",
       "      <td>diy</td>\n",
       "      <td>Firstly you will want to put some baking soda ...</td>\n",
       "      <td>answer_question_recipe_steps</td>\n",
       "      <td>diy</td>\n",
       "      <td>diy-7-3</td>\n",
       "      <td>How to Clean a Vacuum Thermosflask That Has St...</td>\n",
       "      <td>\\nInsulated flasks are all the rage these days...</td>\n",
       "      <td></td>\n",
       "      <td>['Put some baking soda and vinegar into the bo...</td>\n",
       "    </tr>\n",
       "    <tr>\n",
       "      <th>7</th>\n",
       "      <td>What do I do with the flask?</td>\n",
       "      <td>ask_question_recipe_steps</td>\n",
       "      <td>student: I have added the salt, what materials...</td>\n",
       "      <td>Wizard-of-Task-diy-7</td>\n",
       "      <td>https://www.wikihow.com/Clean-a-Vacuum-Thermos...</td>\n",
       "      <td>diy</td>\n",
       "      <td>Now mix baking soda and vinegar in your flask.</td>\n",
       "      <td>answer_question_recipe_steps</td>\n",
       "      <td>diy</td>\n",
       "      <td>diy-7-4</td>\n",
       "      <td>How to Clean a Vacuum Thermosflask That Has St...</td>\n",
       "      <td>\\nInsulated flasks are all the rage these days...</td>\n",
       "      <td></td>\n",
       "      <td>['Put some baking soda and vinegar into the bo...</td>\n",
       "    </tr>\n",
       "    <tr>\n",
       "      <th>8</th>\n",
       "      <td>I have added salt, what do I need for the next...</td>\n",
       "      <td>ask_question_ingredients_tools</td>\n",
       "      <td>student: I have made sure the flask is dry, wh...</td>\n",
       "      <td>Wizard-of-Task-diy-7</td>\n",
       "      <td>https://www.wikihow.com/Clean-a-Vacuum-Thermos...</td>\n",
       "      <td>diy</td>\n",
       "      <td>Next lets fill the flask with hot water. I've ...</td>\n",
       "      <td>answer_question_recipe_steps</td>\n",
       "      <td>diy</td>\n",
       "      <td>diy-7-5</td>\n",
       "      <td>How to Clean a Vacuum Thermosflask That Has St...</td>\n",
       "      <td>\\nInsulated flasks are all the rage these days...</td>\n",
       "      <td></td>\n",
       "      <td>['Put some baking soda and vinegar into the bo...</td>\n",
       "    </tr>\n",
       "    <tr>\n",
       "      <th>9</th>\n",
       "      <td>Could I substitute baking soda if I don't have...</td>\n",
       "      <td>ask_question_recipe_steps</td>\n",
       "      <td>teacher: Now you need to rinse out the flask |...</td>\n",
       "      <td>Wizard-of-Task-diy-7</td>\n",
       "      <td>https://www.wikihow.com/Clean-a-Vacuum-Thermos...</td>\n",
       "      <td>diy</td>\n",
       "      <td>Now you want to get rid of the mixture and rin...</td>\n",
       "      <td>answer_question_recipe_steps</td>\n",
       "      <td>diy</td>\n",
       "      <td>diy-7-6</td>\n",
       "      <td>How to Clean a Vacuum Thermosflask That Has St...</td>\n",
       "      <td>\\nInsulated flasks are all the rage these days...</td>\n",
       "      <td></td>\n",
       "      <td>['Put some baking soda and vinegar into the bo...</td>\n",
       "    </tr>\n",
       "  </tbody>\n",
       "</table>\n",
       "</div>"
      ],
      "text/plain": [
       "                                            question  \\\n",
       "0                       How do we prepare the tree?    \n",
       "1  Ok, I have a nice dark green pot, perfect. Wha...   \n",
       "2  Does that mean basil grows best in the spring ...   \n",
       "3  I don't really have access to those right now ...   \n",
       "4  If I could only choose one thing to decoupage ...   \n",
       "5  Can you tell me what a vacuum thermoflask is u...   \n",
       "6  I have added the salt, what materials do I nee...   \n",
       "7                       What do I do with the flask?   \n",
       "8  I have added salt, what do I need for the next...   \n",
       "9  Could I substitute baking soda if I don't have...   \n",
       "\n",
       "                  intent_question  \\\n",
       "0       ask_question_recipe_steps   \n",
       "1  ask_question_ingredients_tools   \n",
       "2       ask_question_recipe_steps   \n",
       "3       ask_question_recipe_steps   \n",
       "4       ask_question_recipe_steps   \n",
       "5  ask_question_ingredients_tools   \n",
       "6  ask_question_ingredients_tools   \n",
       "7       ask_question_recipe_steps   \n",
       "8  ask_question_ingredients_tools   \n",
       "9       ask_question_recipe_steps   \n",
       "\n",
       "                                             history       conversation_id  \\\n",
       "0  student: I'm ready for the first step now plea...  Wizard-of-Task-diy-1   \n",
       "1  student: I've got an idea of where I want it t...  Wizard-of-Task-diy-1   \n",
       "2  student: Gotcha!  Once I have all those tools,...  Wizard-of-Task-diy-2   \n",
       "3  student: Okay, now what should I do after that...  Wizard-of-Task-diy-3   \n",
       "4  student: What is the easiest type of material ...  Wizard-of-Task-diy-5   \n",
       "5                                                     Wizard-of-Task-diy-7   \n",
       "6  student: Ok, I've crushed my ice and filled th...  Wizard-of-Task-diy-7   \n",
       "7  student: I have added the salt, what materials...  Wizard-of-Task-diy-7   \n",
       "8  student: I have made sure the flask is dry, wh...  Wizard-of-Task-diy-7   \n",
       "9  teacher: Now you need to rinse out the flask |...  Wizard-of-Task-diy-7   \n",
       "\n",
       "                               document_url_question domain_question  \\\n",
       "0        https://www.wikihow.com/Start-a-Bonsai-Tree             diy   \n",
       "1        https://www.wikihow.com/Start-a-Bonsai-Tree             diy   \n",
       "2                 https://www.wikihow.com/Grow-Basil             diy   \n",
       "3  https://www.wikihow.com/Remove-Salt-Build-up-o...             diy   \n",
       "4                  https://www.wikihow.com/Decoupage             diy   \n",
       "5  https://www.wikihow.com/Clean-a-Vacuum-Thermos...             diy   \n",
       "6  https://www.wikihow.com/Clean-a-Vacuum-Thermos...             diy   \n",
       "7  https://www.wikihow.com/Clean-a-Vacuum-Thermos...             diy   \n",
       "8  https://www.wikihow.com/Clean-a-Vacuum-Thermos...             diy   \n",
       "9  https://www.wikihow.com/Clean-a-Vacuum-Thermos...             diy   \n",
       "\n",
       "                                         text_answer  \\\n",
       "0  Have you selected a pot? This is a very import...   \n",
       "1  Next we will prepare the tree for potting. The...   \n",
       "2  Yes, like most plants, basil likes a temperate...   \n",
       "3       You can just rub it on the main zipper piece   \n",
       "4  I would highly recommend either decoupaging wo...   \n",
       "5      You can fold it and put it in your wardrobe.    \n",
       "6  Firstly you will want to put some baking soda ...   \n",
       "7    Now mix baking soda and vinegar in your flask.    \n",
       "8  Next lets fill the flask with hot water. I've ...   \n",
       "9  Now you want to get rid of the mixture and rin...   \n",
       "\n",
       "                  intent_answer domain_answer question_id  \\\n",
       "0  answer_question_recipe_steps           diy     diy-1-1   \n",
       "1  answer_question_recipe_steps           diy     diy-1-2   \n",
       "2  answer_question_recipe_steps           diy     diy-2-3   \n",
       "3  answer_question_recipe_steps           diy     diy-3-1   \n",
       "4  answer_question_recipe_steps           diy     diy-5-5   \n",
       "5  answer_question_recipe_steps           diy     diy-7-0   \n",
       "6  answer_question_recipe_steps           diy     diy-7-3   \n",
       "7  answer_question_recipe_steps           diy     diy-7-4   \n",
       "8  answer_question_recipe_steps           diy     diy-7-5   \n",
       "9  answer_question_recipe_steps           diy     diy-7-6   \n",
       "\n",
       "                                               title  \\\n",
       "0                         How to Start a Bonsai Tree   \n",
       "1                         How to Start a Bonsai Tree   \n",
       "2                                  How to Grow Basil   \n",
       "3            How to Remove Salt Build up on a Zipper   \n",
       "4                                   How to Decoupage   \n",
       "5  How to Clean a Vacuum Thermosflask That Has St...   \n",
       "6  How to Clean a Vacuum Thermosflask That Has St...   \n",
       "7  How to Clean a Vacuum Thermosflask That Has St...   \n",
       "8  How to Clean a Vacuum Thermosflask That Has St...   \n",
       "9  How to Clean a Vacuum Thermosflask That Has St...   \n",
       "\n",
       "                                         description ingredients  \\\n",
       "0  \"\\nThe ancient art of growing Bonsai trees is ...               \n",
       "1  \"\\nThe ancient art of growing Bonsai trees is ...               \n",
       "2  \\nBasil is easy to grow, and transforms ordina...               \n",
       "3  \\nWhether it’s from roads and sidewalks in the...               \n",
       "4  \\nIf you'd like to give new life to a piece of...               \n",
       "5  \\nInsulated flasks are all the rage these days...               \n",
       "6  \\nInsulated flasks are all the rage these days...               \n",
       "7  \\nInsulated flasks are all the rage these days...               \n",
       "8  \\nInsulated flasks are all the rage these days...               \n",
       "9  \\nInsulated flasks are all the rage these days...               \n",
       "\n",
       "                                               steps  \n",
       "0  ['Select a suitable species of tree for your c...  \n",
       "1  ['Select a suitable species of tree for your c...  \n",
       "2  ['Choose the kind of basil you wish to grow.',...  \n",
       "3  ['Open the zipper as much as possible.', 'Use ...  \n",
       "4  \"['Cover your workspace with paper to protect ...  \n",
       "5  ['Put some baking soda and vinegar into the bo...  \n",
       "6  ['Put some baking soda and vinegar into the bo...  \n",
       "7  ['Put some baking soda and vinegar into the bo...  \n",
       "8  ['Put some baking soda and vinegar into the bo...  \n",
       "9  ['Put some baking soda and vinegar into the bo...  "
      ]
     },
     "execution_count": 95,
     "metadata": {},
     "output_type": "execute_result"
    }
   ],
   "source": [
    "# pull data\n",
    "statement = \"\"\"SELECT * FROM {}.{}\"\"\".format(\n",
    "    database_name, table_name\n",
    ")\n",
    "df = pd.read_sql(statement, conn)\n",
    "df.head(10)"
   ]
  },
  {
   "cell_type": "code",
   "execution_count": 96,
   "id": "bb87cada-7624-40e4-85d7-2e3567592b54",
   "metadata": {
    "tags": []
   },
   "outputs": [
    {
     "data": {
      "text/html": [
       "<b>Review <a target=\"top\" href=\"https://console.aws.amazon.com/glue/home?region=us-east-1#\">Data Catalog</a></b>"
      ],
      "text/plain": [
       "<IPython.core.display.HTML object>"
      ]
     },
     "metadata": {},
     "output_type": "display_data"
    }
   ],
   "source": [
    "# review the new table in Athena\n",
    "display(\n",
    "    HTML(\n",
    "        '<b>Review <a target=\"top\" href=\"https://console.aws.amazon.com/glue/home?region={}#\">Data Catalog</a></b>'.format(\n",
    "            region\n",
    "        )\n",
    "    )\n",
    ")"
   ]
  },
  {
   "cell_type": "markdown",
   "id": "116c566d-6bad-41ad-b57b-96adf689816c",
   "metadata": {},
   "source": [
    "## Shut down notebook resources"
   ]
  },
  {
   "cell_type": "code",
   "execution_count": 97,
   "id": "f163218f-317d-4036-a57c-89e7efc0d07f",
   "metadata": {
    "tags": []
   },
   "outputs": [
    {
     "data": {
      "text/html": [
       "\n",
       "<p><b>Shutting down your kernel for this notebook to release resources.</b></p>\n",
       "<button class=\"sm-command-button\" data-commandlinker-command=\"kernelmenu:shutdown\" style=\"display:none;\">Shutdown Kernel</button>\n",
       "        \n",
       "<script>\n",
       "try {\n",
       "    els = document.getElementsByClassName(\"sm-command-button\");\n",
       "    els[0].click();\n",
       "}\n",
       "catch(err) {\n",
       "    // NoOp\n",
       "}    \n",
       "</script>\n"
      ],
      "text/plain": [
       "<IPython.core.display.HTML object>"
      ]
     },
     "metadata": {},
     "output_type": "display_data"
    }
   ],
   "source": [
    "%%html\n",
    "\n",
    "<p><b>Shutting down your kernel for this notebook to release resources.</b></p>\n",
    "<button class=\"sm-command-button\" data-commandlinker-command=\"kernelmenu:shutdown\" style=\"display:none;\">Shutdown Kernel</button>\n",
    "        \n",
    "<script>\n",
    "try {\n",
    "    els = document.getElementsByClassName(\"sm-command-button\");\n",
    "    els[0].click();\n",
    "}\n",
    "catch(err) {\n",
    "    // NoOp\n",
    "}    \n",
    "</script>"
   ]
  },
  {
   "cell_type": "code",
   "execution_count": 13,
   "id": "c92ba96c-396a-4d42-9994-ac2f7d9b11a6",
   "metadata": {},
   "outputs": [
    {
     "data": {
      "application/javascript": [
       "\n",
       "try {\n",
       "    Jupyter.notebook.save_checkpoint();\n",
       "    Jupyter.notebook.session.delete();\n",
       "}\n",
       "catch(err) {\n",
       "    // NoOp\n",
       "}\n"
      ],
      "text/plain": [
       "<IPython.core.display.Javascript object>"
      ]
     },
     "metadata": {},
     "output_type": "display_data"
    }
   ],
   "source": [
    "%%javascript\n",
    "\n",
    "try {\n",
    "    Jupyter.notebook.save_checkpoint();\n",
    "    Jupyter.notebook.session.delete();\n",
    "}\n",
    "catch(err) {\n",
    "    // NoOp\n",
    "}"
   ]
  }
 ],
 "metadata": {
  "availableInstances": [
   {
    "_defaultOrder": 0,
    "_isFastLaunch": true,
    "category": "General purpose",
    "gpuNum": 0,
    "hideHardwareSpecs": false,
    "memoryGiB": 4,
    "name": "ml.t3.medium",
    "vcpuNum": 2
   },
   {
    "_defaultOrder": 1,
    "_isFastLaunch": false,
    "category": "General purpose",
    "gpuNum": 0,
    "hideHardwareSpecs": false,
    "memoryGiB": 8,
    "name": "ml.t3.large",
    "vcpuNum": 2
   },
   {
    "_defaultOrder": 2,
    "_isFastLaunch": false,
    "category": "General purpose",
    "gpuNum": 0,
    "hideHardwareSpecs": false,
    "memoryGiB": 16,
    "name": "ml.t3.xlarge",
    "vcpuNum": 4
   },
   {
    "_defaultOrder": 3,
    "_isFastLaunch": false,
    "category": "General purpose",
    "gpuNum": 0,
    "hideHardwareSpecs": false,
    "memoryGiB": 32,
    "name": "ml.t3.2xlarge",
    "vcpuNum": 8
   },
   {
    "_defaultOrder": 4,
    "_isFastLaunch": true,
    "category": "General purpose",
    "gpuNum": 0,
    "hideHardwareSpecs": false,
    "memoryGiB": 8,
    "name": "ml.m5.large",
    "vcpuNum": 2
   },
   {
    "_defaultOrder": 5,
    "_isFastLaunch": false,
    "category": "General purpose",
    "gpuNum": 0,
    "hideHardwareSpecs": false,
    "memoryGiB": 16,
    "name": "ml.m5.xlarge",
    "vcpuNum": 4
   },
   {
    "_defaultOrder": 6,
    "_isFastLaunch": false,
    "category": "General purpose",
    "gpuNum": 0,
    "hideHardwareSpecs": false,
    "memoryGiB": 32,
    "name": "ml.m5.2xlarge",
    "vcpuNum": 8
   },
   {
    "_defaultOrder": 7,
    "_isFastLaunch": false,
    "category": "General purpose",
    "gpuNum": 0,
    "hideHardwareSpecs": false,
    "memoryGiB": 64,
    "name": "ml.m5.4xlarge",
    "vcpuNum": 16
   },
   {
    "_defaultOrder": 8,
    "_isFastLaunch": false,
    "category": "General purpose",
    "gpuNum": 0,
    "hideHardwareSpecs": false,
    "memoryGiB": 128,
    "name": "ml.m5.8xlarge",
    "vcpuNum": 32
   },
   {
    "_defaultOrder": 9,
    "_isFastLaunch": false,
    "category": "General purpose",
    "gpuNum": 0,
    "hideHardwareSpecs": false,
    "memoryGiB": 192,
    "name": "ml.m5.12xlarge",
    "vcpuNum": 48
   },
   {
    "_defaultOrder": 10,
    "_isFastLaunch": false,
    "category": "General purpose",
    "gpuNum": 0,
    "hideHardwareSpecs": false,
    "memoryGiB": 256,
    "name": "ml.m5.16xlarge",
    "vcpuNum": 64
   },
   {
    "_defaultOrder": 11,
    "_isFastLaunch": false,
    "category": "General purpose",
    "gpuNum": 0,
    "hideHardwareSpecs": false,
    "memoryGiB": 384,
    "name": "ml.m5.24xlarge",
    "vcpuNum": 96
   },
   {
    "_defaultOrder": 12,
    "_isFastLaunch": false,
    "category": "General purpose",
    "gpuNum": 0,
    "hideHardwareSpecs": false,
    "memoryGiB": 8,
    "name": "ml.m5d.large",
    "vcpuNum": 2
   },
   {
    "_defaultOrder": 13,
    "_isFastLaunch": false,
    "category": "General purpose",
    "gpuNum": 0,
    "hideHardwareSpecs": false,
    "memoryGiB": 16,
    "name": "ml.m5d.xlarge",
    "vcpuNum": 4
   },
   {
    "_defaultOrder": 14,
    "_isFastLaunch": false,
    "category": "General purpose",
    "gpuNum": 0,
    "hideHardwareSpecs": false,
    "memoryGiB": 32,
    "name": "ml.m5d.2xlarge",
    "vcpuNum": 8
   },
   {
    "_defaultOrder": 15,
    "_isFastLaunch": false,
    "category": "General purpose",
    "gpuNum": 0,
    "hideHardwareSpecs": false,
    "memoryGiB": 64,
    "name": "ml.m5d.4xlarge",
    "vcpuNum": 16
   },
   {
    "_defaultOrder": 16,
    "_isFastLaunch": false,
    "category": "General purpose",
    "gpuNum": 0,
    "hideHardwareSpecs": false,
    "memoryGiB": 128,
    "name": "ml.m5d.8xlarge",
    "vcpuNum": 32
   },
   {
    "_defaultOrder": 17,
    "_isFastLaunch": false,
    "category": "General purpose",
    "gpuNum": 0,
    "hideHardwareSpecs": false,
    "memoryGiB": 192,
    "name": "ml.m5d.12xlarge",
    "vcpuNum": 48
   },
   {
    "_defaultOrder": 18,
    "_isFastLaunch": false,
    "category": "General purpose",
    "gpuNum": 0,
    "hideHardwareSpecs": false,
    "memoryGiB": 256,
    "name": "ml.m5d.16xlarge",
    "vcpuNum": 64
   },
   {
    "_defaultOrder": 19,
    "_isFastLaunch": false,
    "category": "General purpose",
    "gpuNum": 0,
    "hideHardwareSpecs": false,
    "memoryGiB": 384,
    "name": "ml.m5d.24xlarge",
    "vcpuNum": 96
   },
   {
    "_defaultOrder": 20,
    "_isFastLaunch": false,
    "category": "General purpose",
    "gpuNum": 0,
    "hideHardwareSpecs": true,
    "memoryGiB": 0,
    "name": "ml.geospatial.interactive",
    "supportedImageNames": [
     "sagemaker-geospatial-v1-0"
    ],
    "vcpuNum": 0
   },
   {
    "_defaultOrder": 21,
    "_isFastLaunch": true,
    "category": "Compute optimized",
    "gpuNum": 0,
    "hideHardwareSpecs": false,
    "memoryGiB": 4,
    "name": "ml.c5.large",
    "vcpuNum": 2
   },
   {
    "_defaultOrder": 22,
    "_isFastLaunch": false,
    "category": "Compute optimized",
    "gpuNum": 0,
    "hideHardwareSpecs": false,
    "memoryGiB": 8,
    "name": "ml.c5.xlarge",
    "vcpuNum": 4
   },
   {
    "_defaultOrder": 23,
    "_isFastLaunch": false,
    "category": "Compute optimized",
    "gpuNum": 0,
    "hideHardwareSpecs": false,
    "memoryGiB": 16,
    "name": "ml.c5.2xlarge",
    "vcpuNum": 8
   },
   {
    "_defaultOrder": 24,
    "_isFastLaunch": false,
    "category": "Compute optimized",
    "gpuNum": 0,
    "hideHardwareSpecs": false,
    "memoryGiB": 32,
    "name": "ml.c5.4xlarge",
    "vcpuNum": 16
   },
   {
    "_defaultOrder": 25,
    "_isFastLaunch": false,
    "category": "Compute optimized",
    "gpuNum": 0,
    "hideHardwareSpecs": false,
    "memoryGiB": 72,
    "name": "ml.c5.9xlarge",
    "vcpuNum": 36
   },
   {
    "_defaultOrder": 26,
    "_isFastLaunch": false,
    "category": "Compute optimized",
    "gpuNum": 0,
    "hideHardwareSpecs": false,
    "memoryGiB": 96,
    "name": "ml.c5.12xlarge",
    "vcpuNum": 48
   },
   {
    "_defaultOrder": 27,
    "_isFastLaunch": false,
    "category": "Compute optimized",
    "gpuNum": 0,
    "hideHardwareSpecs": false,
    "memoryGiB": 144,
    "name": "ml.c5.18xlarge",
    "vcpuNum": 72
   },
   {
    "_defaultOrder": 28,
    "_isFastLaunch": false,
    "category": "Compute optimized",
    "gpuNum": 0,
    "hideHardwareSpecs": false,
    "memoryGiB": 192,
    "name": "ml.c5.24xlarge",
    "vcpuNum": 96
   },
   {
    "_defaultOrder": 29,
    "_isFastLaunch": true,
    "category": "Accelerated computing",
    "gpuNum": 1,
    "hideHardwareSpecs": false,
    "memoryGiB": 16,
    "name": "ml.g4dn.xlarge",
    "vcpuNum": 4
   },
   {
    "_defaultOrder": 30,
    "_isFastLaunch": false,
    "category": "Accelerated computing",
    "gpuNum": 1,
    "hideHardwareSpecs": false,
    "memoryGiB": 32,
    "name": "ml.g4dn.2xlarge",
    "vcpuNum": 8
   },
   {
    "_defaultOrder": 31,
    "_isFastLaunch": false,
    "category": "Accelerated computing",
    "gpuNum": 1,
    "hideHardwareSpecs": false,
    "memoryGiB": 64,
    "name": "ml.g4dn.4xlarge",
    "vcpuNum": 16
   },
   {
    "_defaultOrder": 32,
    "_isFastLaunch": false,
    "category": "Accelerated computing",
    "gpuNum": 1,
    "hideHardwareSpecs": false,
    "memoryGiB": 128,
    "name": "ml.g4dn.8xlarge",
    "vcpuNum": 32
   },
   {
    "_defaultOrder": 33,
    "_isFastLaunch": false,
    "category": "Accelerated computing",
    "gpuNum": 4,
    "hideHardwareSpecs": false,
    "memoryGiB": 192,
    "name": "ml.g4dn.12xlarge",
    "vcpuNum": 48
   },
   {
    "_defaultOrder": 34,
    "_isFastLaunch": false,
    "category": "Accelerated computing",
    "gpuNum": 1,
    "hideHardwareSpecs": false,
    "memoryGiB": 256,
    "name": "ml.g4dn.16xlarge",
    "vcpuNum": 64
   },
   {
    "_defaultOrder": 35,
    "_isFastLaunch": false,
    "category": "Accelerated computing",
    "gpuNum": 1,
    "hideHardwareSpecs": false,
    "memoryGiB": 61,
    "name": "ml.p3.2xlarge",
    "vcpuNum": 8
   },
   {
    "_defaultOrder": 36,
    "_isFastLaunch": false,
    "category": "Accelerated computing",
    "gpuNum": 4,
    "hideHardwareSpecs": false,
    "memoryGiB": 244,
    "name": "ml.p3.8xlarge",
    "vcpuNum": 32
   },
   {
    "_defaultOrder": 37,
    "_isFastLaunch": false,
    "category": "Accelerated computing",
    "gpuNum": 8,
    "hideHardwareSpecs": false,
    "memoryGiB": 488,
    "name": "ml.p3.16xlarge",
    "vcpuNum": 64
   },
   {
    "_defaultOrder": 38,
    "_isFastLaunch": false,
    "category": "Accelerated computing",
    "gpuNum": 8,
    "hideHardwareSpecs": false,
    "memoryGiB": 768,
    "name": "ml.p3dn.24xlarge",
    "vcpuNum": 96
   },
   {
    "_defaultOrder": 39,
    "_isFastLaunch": false,
    "category": "Memory Optimized",
    "gpuNum": 0,
    "hideHardwareSpecs": false,
    "memoryGiB": 16,
    "name": "ml.r5.large",
    "vcpuNum": 2
   },
   {
    "_defaultOrder": 40,
    "_isFastLaunch": false,
    "category": "Memory Optimized",
    "gpuNum": 0,
    "hideHardwareSpecs": false,
    "memoryGiB": 32,
    "name": "ml.r5.xlarge",
    "vcpuNum": 4
   },
   {
    "_defaultOrder": 41,
    "_isFastLaunch": false,
    "category": "Memory Optimized",
    "gpuNum": 0,
    "hideHardwareSpecs": false,
    "memoryGiB": 64,
    "name": "ml.r5.2xlarge",
    "vcpuNum": 8
   },
   {
    "_defaultOrder": 42,
    "_isFastLaunch": false,
    "category": "Memory Optimized",
    "gpuNum": 0,
    "hideHardwareSpecs": false,
    "memoryGiB": 128,
    "name": "ml.r5.4xlarge",
    "vcpuNum": 16
   },
   {
    "_defaultOrder": 43,
    "_isFastLaunch": false,
    "category": "Memory Optimized",
    "gpuNum": 0,
    "hideHardwareSpecs": false,
    "memoryGiB": 256,
    "name": "ml.r5.8xlarge",
    "vcpuNum": 32
   },
   {
    "_defaultOrder": 44,
    "_isFastLaunch": false,
    "category": "Memory Optimized",
    "gpuNum": 0,
    "hideHardwareSpecs": false,
    "memoryGiB": 384,
    "name": "ml.r5.12xlarge",
    "vcpuNum": 48
   },
   {
    "_defaultOrder": 45,
    "_isFastLaunch": false,
    "category": "Memory Optimized",
    "gpuNum": 0,
    "hideHardwareSpecs": false,
    "memoryGiB": 512,
    "name": "ml.r5.16xlarge",
    "vcpuNum": 64
   },
   {
    "_defaultOrder": 46,
    "_isFastLaunch": false,
    "category": "Memory Optimized",
    "gpuNum": 0,
    "hideHardwareSpecs": false,
    "memoryGiB": 768,
    "name": "ml.r5.24xlarge",
    "vcpuNum": 96
   },
   {
    "_defaultOrder": 47,
    "_isFastLaunch": false,
    "category": "Accelerated computing",
    "gpuNum": 1,
    "hideHardwareSpecs": false,
    "memoryGiB": 16,
    "name": "ml.g5.xlarge",
    "vcpuNum": 4
   },
   {
    "_defaultOrder": 48,
    "_isFastLaunch": false,
    "category": "Accelerated computing",
    "gpuNum": 1,
    "hideHardwareSpecs": false,
    "memoryGiB": 32,
    "name": "ml.g5.2xlarge",
    "vcpuNum": 8
   },
   {
    "_defaultOrder": 49,
    "_isFastLaunch": false,
    "category": "Accelerated computing",
    "gpuNum": 1,
    "hideHardwareSpecs": false,
    "memoryGiB": 64,
    "name": "ml.g5.4xlarge",
    "vcpuNum": 16
   },
   {
    "_defaultOrder": 50,
    "_isFastLaunch": false,
    "category": "Accelerated computing",
    "gpuNum": 1,
    "hideHardwareSpecs": false,
    "memoryGiB": 128,
    "name": "ml.g5.8xlarge",
    "vcpuNum": 32
   },
   {
    "_defaultOrder": 51,
    "_isFastLaunch": false,
    "category": "Accelerated computing",
    "gpuNum": 1,
    "hideHardwareSpecs": false,
    "memoryGiB": 256,
    "name": "ml.g5.16xlarge",
    "vcpuNum": 64
   },
   {
    "_defaultOrder": 52,
    "_isFastLaunch": false,
    "category": "Accelerated computing",
    "gpuNum": 4,
    "hideHardwareSpecs": false,
    "memoryGiB": 192,
    "name": "ml.g5.12xlarge",
    "vcpuNum": 48
   },
   {
    "_defaultOrder": 53,
    "_isFastLaunch": false,
    "category": "Accelerated computing",
    "gpuNum": 4,
    "hideHardwareSpecs": false,
    "memoryGiB": 384,
    "name": "ml.g5.24xlarge",
    "vcpuNum": 96
   },
   {
    "_defaultOrder": 54,
    "_isFastLaunch": false,
    "category": "Accelerated computing",
    "gpuNum": 8,
    "hideHardwareSpecs": false,
    "memoryGiB": 768,
    "name": "ml.g5.48xlarge",
    "vcpuNum": 192
   },
   {
    "_defaultOrder": 55,
    "_isFastLaunch": false,
    "category": "Accelerated computing",
    "gpuNum": 8,
    "hideHardwareSpecs": false,
    "memoryGiB": 1152,
    "name": "ml.p4d.24xlarge",
    "vcpuNum": 96
   },
   {
    "_defaultOrder": 56,
    "_isFastLaunch": false,
    "category": "Accelerated computing",
    "gpuNum": 8,
    "hideHardwareSpecs": false,
    "memoryGiB": 1152,
    "name": "ml.p4de.24xlarge",
    "vcpuNum": 96
   },
   {
    "_defaultOrder": 57,
    "_isFastLaunch": false,
    "category": "Accelerated computing",
    "gpuNum": 0,
    "hideHardwareSpecs": false,
    "memoryGiB": 32,
    "name": "ml.trn1.2xlarge",
    "vcpuNum": 8
   },
   {
    "_defaultOrder": 58,
    "_isFastLaunch": false,
    "category": "Accelerated computing",
    "gpuNum": 0,
    "hideHardwareSpecs": false,
    "memoryGiB": 512,
    "name": "ml.trn1.32xlarge",
    "vcpuNum": 128
   },
   {
    "_defaultOrder": 59,
    "_isFastLaunch": false,
    "category": "Accelerated computing",
    "gpuNum": 0,
    "hideHardwareSpecs": false,
    "memoryGiB": 512,
    "name": "ml.trn1n.32xlarge",
    "vcpuNum": 128
   }
  ],
  "instance_type": "ml.t3.medium",
  "kernelspec": {
   "display_name": "Python 3 (Data Science 3.0)",
   "language": "python",
   "name": "python3__SAGEMAKER_INTERNAL__arn:aws:sagemaker:us-east-1:081325390199:image/sagemaker-data-science-310-v1"
  },
  "language_info": {
   "codemirror_mode": {
    "name": "ipython",
    "version": 3
   },
   "file_extension": ".py",
   "mimetype": "text/x-python",
   "name": "python",
   "nbconvert_exporter": "python",
   "pygments_lexer": "ipython3",
   "version": "3.10.6"
  }
 },
 "nbformat": 4,
 "nbformat_minor": 5
}
