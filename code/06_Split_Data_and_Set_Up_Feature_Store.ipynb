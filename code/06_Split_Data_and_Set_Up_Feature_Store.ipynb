{
 "cells": [
  {
   "cell_type": "markdown",
   "id": "d2bdae22-d5ff-457b-bd00-b367bae515cf",
   "metadata": {
    "tags": []
   },
   "source": [
    "# Set Up Feature Store"
   ]
  },
  {
   "cell_type": "markdown",
   "id": "ee8d003f-05c2-4147-9e35-645f9b50a307",
   "metadata": {},
   "source": [
    "## Import libraries"
   ]
  },
  {
   "cell_type": "code",
   "execution_count": 1,
   "id": "86c9be41-e29f-4430-8166-0ef42dfb8c80",
   "metadata": {
    "tags": []
   },
   "outputs": [
    {
     "name": "stdout",
     "output_type": "stream",
     "text": [
      "sagemaker.config INFO - Not applying SDK defaults from location: /etc/xdg/sagemaker/config.yaml\n",
      "sagemaker.config INFO - Not applying SDK defaults from location: /home/sagemaker-user/.config/sagemaker/config.yaml\n"
     ]
    }
   ],
   "source": [
    "import boto3\n",
    "import matplotlib.pyplot as plt\n",
    "import numpy as np\n",
    "import os\n",
    "import pandas as pd\n",
    "import re\n",
    "import sagemaker\n",
    "import seaborn as sns\n",
    "import time\n",
    "import warnings\n",
    "\n",
    "from IPython.core.display import HTML\n",
    "from pandas.api.types import CategoricalDtype\n",
    "from pyathena import connect\n",
    "from sagemaker.feature_store.feature_group import FeatureGroup\n",
    "from sagemaker.session import Session\n",
    "from sklearn.impute import SimpleImputer\n",
    "import awswrangler as wr\n",
    "\n",
    "# suppress future warnings\n",
    "warnings.simplefilter(action='ignore', category=FutureWarning)\n",
    "\n",
    "# filter out the specific UserWarning related to DBAPI2 objects\n",
    "warnings.filterwarnings('ignore', message=\"pandas only supports SQLAlchemy connectable\")"
   ]
  },
  {
   "cell_type": "code",
   "execution_count": 2,
   "id": "79112a76-7ea1-4fa9-8976-db9d576a4da9",
   "metadata": {
    "tags": []
   },
   "outputs": [
    {
     "name": "stdout",
     "output_type": "stream",
     "text": [
      "Stored variables and their in-db values:\n",
      "bucket_name                            -> 'housing-dataset-54355'\n",
      "set_up_dependencies_passed             -> True\n",
      "set_up_s3_bucket_passed                -> True\n"
     ]
    }
   ],
   "source": [
    "# check stored variables\n",
    "%store"
   ]
  },
  {
   "cell_type": "markdown",
   "id": "4203b534-67be-41cd-beef-745bf0c2555d",
   "metadata": {
    "tags": []
   },
   "source": [
    "## Pull Data from Athena"
   ]
  },
  {
   "cell_type": "code",
   "execution_count": 3,
   "id": "f5d3f237-a0ec-45d8-894e-5349292679eb",
   "metadata": {
    "tags": []
   },
   "outputs": [],
   "source": [
    "# save Amazon information\n",
    "account_id = boto3.client(\"sts\").get_caller_identity().get(\"Account\")\n",
    "region = boto3.Session().region_name\n",
    "role = sagemaker.get_execution_role()\n",
    "sagemaker_session = sagemaker.Session()\n",
    "s3 = boto3.client('s3', region_name=sagemaker_session.boto_region_name)"
   ]
  },
  {
   "cell_type": "code",
   "execution_count": 4,
   "id": "503dff48-976d-4c16-8260-8cf4ce1fde36",
   "metadata": {
    "tags": []
   },
   "outputs": [
    {
     "name": "stdout",
     "output_type": "stream",
     "text": [
      "housing-dataset-54355\n"
     ]
    }
   ],
   "source": [
    "# get bucket_name\n",
    "%store -r bucket_name\n",
    "print(bucket_name)\n",
    "\n",
    "# set S3 staging directory\n",
    "s3_staging_dir = \"s3://{0}/athena/staging\".format(bucket_name)\n",
    "\n",
    "# create connection\n",
    "# using AWS Wrangler to create the Feature Store and Feature Group\n",
    "#conn = connect(region_name=region, s3_staging_dir=s3_staging_dir)"
   ]
  },
  {
   "cell_type": "code",
   "execution_count": 5,
   "id": "b966a13d-e457-47bf-9cab-f78c07913932",
   "metadata": {
    "tags": []
   },
   "outputs": [
    {
     "data": {
      "text/html": [
       "<div>\n",
       "<style scoped>\n",
       "    .dataframe tbody tr th:only-of-type {\n",
       "        vertical-align: middle;\n",
       "    }\n",
       "\n",
       "    .dataframe tbody tr th {\n",
       "        vertical-align: top;\n",
       "    }\n",
       "\n",
       "    .dataframe thead th {\n",
       "        text-align: right;\n",
       "    }\n",
       "</style>\n",
       "<table border=\"1\" class=\"dataframe\">\n",
       "  <thead>\n",
       "    <tr style=\"text-align: right;\">\n",
       "      <th></th>\n",
       "      <th>id</th>\n",
       "      <th>mssubclass</th>\n",
       "      <th>mszoning</th>\n",
       "      <th>lotfrontage</th>\n",
       "      <th>lotarea</th>\n",
       "      <th>street</th>\n",
       "      <th>alley</th>\n",
       "      <th>lotshape</th>\n",
       "      <th>landcontour</th>\n",
       "      <th>utilities</th>\n",
       "      <th>...</th>\n",
       "      <th>poolarea</th>\n",
       "      <th>poolqc</th>\n",
       "      <th>fence</th>\n",
       "      <th>miscfeature</th>\n",
       "      <th>miscval</th>\n",
       "      <th>mosold</th>\n",
       "      <th>yrsold</th>\n",
       "      <th>saletype</th>\n",
       "      <th>salecondition</th>\n",
       "      <th>saleprice</th>\n",
       "    </tr>\n",
       "  </thead>\n",
       "  <tbody>\n",
       "    <tr>\n",
       "      <th>0</th>\n",
       "      <td>1</td>\n",
       "      <td>60</td>\n",
       "      <td>RL</td>\n",
       "      <td>65.0</td>\n",
       "      <td>8450</td>\n",
       "      <td>Pave</td>\n",
       "      <td>&lt;NA&gt;</td>\n",
       "      <td>Reg</td>\n",
       "      <td>Lvl</td>\n",
       "      <td>AllPub</td>\n",
       "      <td>...</td>\n",
       "      <td>0</td>\n",
       "      <td>&lt;NA&gt;</td>\n",
       "      <td>&lt;NA&gt;</td>\n",
       "      <td>&lt;NA&gt;</td>\n",
       "      <td>0</td>\n",
       "      <td>2</td>\n",
       "      <td>2008</td>\n",
       "      <td>WD</td>\n",
       "      <td>Normal</td>\n",
       "      <td>208500.0</td>\n",
       "    </tr>\n",
       "    <tr>\n",
       "      <th>1</th>\n",
       "      <td>2</td>\n",
       "      <td>20</td>\n",
       "      <td>RL</td>\n",
       "      <td>80.0</td>\n",
       "      <td>9600</td>\n",
       "      <td>Pave</td>\n",
       "      <td>&lt;NA&gt;</td>\n",
       "      <td>Reg</td>\n",
       "      <td>Lvl</td>\n",
       "      <td>AllPub</td>\n",
       "      <td>...</td>\n",
       "      <td>0</td>\n",
       "      <td>&lt;NA&gt;</td>\n",
       "      <td>&lt;NA&gt;</td>\n",
       "      <td>&lt;NA&gt;</td>\n",
       "      <td>0</td>\n",
       "      <td>5</td>\n",
       "      <td>2007</td>\n",
       "      <td>WD</td>\n",
       "      <td>Normal</td>\n",
       "      <td>181500.0</td>\n",
       "    </tr>\n",
       "    <tr>\n",
       "      <th>2</th>\n",
       "      <td>3</td>\n",
       "      <td>60</td>\n",
       "      <td>RL</td>\n",
       "      <td>68.0</td>\n",
       "      <td>11250</td>\n",
       "      <td>Pave</td>\n",
       "      <td>&lt;NA&gt;</td>\n",
       "      <td>IR1</td>\n",
       "      <td>Lvl</td>\n",
       "      <td>AllPub</td>\n",
       "      <td>...</td>\n",
       "      <td>0</td>\n",
       "      <td>&lt;NA&gt;</td>\n",
       "      <td>&lt;NA&gt;</td>\n",
       "      <td>&lt;NA&gt;</td>\n",
       "      <td>0</td>\n",
       "      <td>9</td>\n",
       "      <td>2008</td>\n",
       "      <td>WD</td>\n",
       "      <td>Normal</td>\n",
       "      <td>223500.0</td>\n",
       "    </tr>\n",
       "    <tr>\n",
       "      <th>3</th>\n",
       "      <td>4</td>\n",
       "      <td>70</td>\n",
       "      <td>RL</td>\n",
       "      <td>60.0</td>\n",
       "      <td>9550</td>\n",
       "      <td>Pave</td>\n",
       "      <td>&lt;NA&gt;</td>\n",
       "      <td>IR1</td>\n",
       "      <td>Lvl</td>\n",
       "      <td>AllPub</td>\n",
       "      <td>...</td>\n",
       "      <td>0</td>\n",
       "      <td>&lt;NA&gt;</td>\n",
       "      <td>&lt;NA&gt;</td>\n",
       "      <td>&lt;NA&gt;</td>\n",
       "      <td>0</td>\n",
       "      <td>2</td>\n",
       "      <td>2006</td>\n",
       "      <td>WD</td>\n",
       "      <td>Abnorml</td>\n",
       "      <td>140000.0</td>\n",
       "    </tr>\n",
       "    <tr>\n",
       "      <th>4</th>\n",
       "      <td>5</td>\n",
       "      <td>60</td>\n",
       "      <td>RL</td>\n",
       "      <td>84.0</td>\n",
       "      <td>14260</td>\n",
       "      <td>Pave</td>\n",
       "      <td>&lt;NA&gt;</td>\n",
       "      <td>IR1</td>\n",
       "      <td>Lvl</td>\n",
       "      <td>AllPub</td>\n",
       "      <td>...</td>\n",
       "      <td>0</td>\n",
       "      <td>&lt;NA&gt;</td>\n",
       "      <td>&lt;NA&gt;</td>\n",
       "      <td>&lt;NA&gt;</td>\n",
       "      <td>0</td>\n",
       "      <td>12</td>\n",
       "      <td>2008</td>\n",
       "      <td>WD</td>\n",
       "      <td>Normal</td>\n",
       "      <td>250000.0</td>\n",
       "    </tr>\n",
       "  </tbody>\n",
       "</table>\n",
       "<p>5 rows × 81 columns</p>\n",
       "</div>"
      ],
      "text/plain": [
       "   id  mssubclass mszoning  lotfrontage  lotarea street alley lotshape  \\\n",
       "0   1          60       RL         65.0     8450   Pave  <NA>      Reg   \n",
       "1   2          20       RL         80.0     9600   Pave  <NA>      Reg   \n",
       "2   3          60       RL         68.0    11250   Pave  <NA>      IR1   \n",
       "3   4          70       RL         60.0     9550   Pave  <NA>      IR1   \n",
       "4   5          60       RL         84.0    14260   Pave  <NA>      IR1   \n",
       "\n",
       "  landcontour utilities  ... poolarea poolqc fence miscfeature miscval mosold  \\\n",
       "0         Lvl    AllPub  ...        0   <NA>  <NA>        <NA>       0      2   \n",
       "1         Lvl    AllPub  ...        0   <NA>  <NA>        <NA>       0      5   \n",
       "2         Lvl    AllPub  ...        0   <NA>  <NA>        <NA>       0      9   \n",
       "3         Lvl    AllPub  ...        0   <NA>  <NA>        <NA>       0      2   \n",
       "4         Lvl    AllPub  ...        0   <NA>  <NA>        <NA>       0     12   \n",
       "\n",
       "  yrsold  saletype  salecondition  saleprice  \n",
       "0   2008        WD         Normal   208500.0  \n",
       "1   2007        WD         Normal   181500.0  \n",
       "2   2008        WD         Normal   223500.0  \n",
       "3   2006        WD        Abnorml   140000.0  \n",
       "4   2008        WD         Normal   250000.0  \n",
       "\n",
       "[5 rows x 81 columns]"
      ]
     },
     "execution_count": 5,
     "metadata": {},
     "output_type": "execute_result"
    }
   ],
   "source": [
    "# set database name and table name\n",
    "database_name = \"housing\"\n",
    "table_name = \"data\"\n",
    "\n",
    "# set database name and table name\n",
    "database_name = \"housing\"\n",
    "table_name = \"data\"\n",
    "\n",
    "# pull data\n",
    "statement = \"\"\"SELECT * FROM {}.{}\"\"\".format(\n",
    "    database_name, table_name\n",
    ")\n",
    "\n",
    "# pull data using AWS Wrangler\n",
    "df = wr.athena.read_sql_query(\n",
    "    sql=statement,\n",
    "    database=database_name,\n",
    "    ctas_approach=False,\n",
    "    boto3_session=boto3.Session(),\n",
    ")\n",
    "df.head(5)"
   ]
  },
  {
   "cell_type": "markdown",
   "id": "8ba05ec4-c02d-4880-963c-512ce5022576",
   "metadata": {},
   "source": [
    "## Feature Engineering"
   ]
  },
  {
   "cell_type": "code",
   "execution_count": 6,
   "id": "7f994e2d-95b4-431e-8521-1cb4c1443a08",
   "metadata": {
    "tags": []
   },
   "outputs": [],
   "source": [
    "# drop numerical feature with a lot of missing values\n",
    "df = df.drop('lotfrontage', axis=1)\n",
    "\n",
    "# drop categorical features with a lot of missing values\n",
    "df = df.drop('fireplacequ', axis=1)\n",
    "df = df.drop('fence', axis=1)\n",
    "df = df.drop('alley', axis=1)\n",
    "df = df.drop('miscfeature', axis=1)\n",
    "df = df.drop('poolqc', axis=1)"
   ]
  },
  {
   "cell_type": "code",
   "execution_count": 7,
   "id": "e02d127b-1291-455e-babb-900c9ca5dd27",
   "metadata": {
    "tags": []
   },
   "outputs": [
    {
     "data": {
      "image/png": "[encoded data removed]",
      "text/plain": [
       "<Figure size 640x480 with 1 Axes>"
      ]
     },
     "metadata": {},
     "output_type": "display_data"
    }
   ],
   "source": [
    "# apply log transformation\n",
    "df['logsaleprice'] = np.log(df['saleprice'])\n",
    "\n",
    "# plot histogram to see the new distribution\n",
    "sns.histplot(df['logsaleprice'], kde=True)\n",
    "plt.show()"
   ]
  },
  {
   "cell_type": "code",
   "execution_count": 8,
   "id": "47f39319-5b4c-433f-8aaa-df19dec081ed",
   "metadata": {
    "tags": []
   },
   "outputs": [],
   "source": [
    "# the ordinal (ordered) categorical features\n",
    "five_levels = [\"Po\", \"Fa\", \"TA\", \"Gd\", \"Ex\"]\n",
    "ten_levels = list(range(10))\n",
    "ordered_levels = {\n",
    "    \"overallqual\": ten_levels,\n",
    "    \"overallcond\": ten_levels,\n",
    "    \"exterqual\": five_levels,\n",
    "    \"extercond\": five_levels,\n",
    "    \"bsmtqual\": five_levels,\n",
    "    \"bsmtcond\": five_levels,\n",
    "    \"heatingqc\": five_levels,\n",
    "    \"kitchenqual\": five_levels,\n",
    "    \"garagequal\": five_levels,\n",
    "    \"garagecond\": five_levels,\n",
    "    \"lotshape\": [\"Reg\", \"IR1\", \"IR2\", \"IR3\"],\n",
    "    \"landslope\": [\"Sev\", \"Mod\", \"Gtl\"],\n",
    "    \"bsmtexposure\": [\"No\", \"Mn\", \"Av\", \"Gd\"],\n",
    "    \"bsmtfintype1\": [\"Unf\", \"LwQ\", \"Rec\", \"BLQ\", \"ALQ\", \"GLQ\"],\n",
    "    \"bsmtfintype2\": [\"Unf\", \"LwQ\", \"Rec\", \"BLQ\", \"ALQ\", \"GLQ\"],\n",
    "    \"functional\": [\"Sal\", \"Sev\", \"Maj1\", \"Maj2\", \"Mod\", \"Min2\", \"Min1\", \"Typ\"],\n",
    "    \"garagefinish\": [\"Unf\", \"RFn\", \"Fin\"],\n",
    "    \"paveddrive\": [\"N\", \"P\", \"Y\"],\n",
    "    \"utilities\": [\"NoSeWa\", \"NoSewr\", \"AllPub\"],\n",
    "    \"centralair\": [\"N\", \"Y\"],\n",
    "    \"electrical\": [\"Mix\", \"FuseP\", \"FuseF\", \"FuseA\", \"SBrkr\"]\n",
    "}\n",
    "\n",
    "# define ordered categorical data\n",
    "for name, levels in ordered_levels.items():\n",
    "    df[name] = df[name].astype(CategoricalDtype(levels, ordered=True))\n",
    "\n",
    "# assign the code to the categories\n",
    "for name in ordered_levels.keys():\n",
    "    df[name] = df[name].cat.codes"
   ]
  },
  {
   "cell_type": "code",
   "execution_count": 9,
   "id": "73dee7e9-219f-4e25-a4fa-27a3e2b5f132",
   "metadata": {
    "tags": []
   },
   "outputs": [
    {
     "name": "stdout",
     "output_type": "stream",
     "text": [
      "<class 'pandas.core.frame.DataFrame'>\n",
      "RangeIndex: 2919 entries, 0 to 2918\n",
      "Columns: 225 entries, id to salecondition_Partial\n",
      "dtypes: Int64(23), bool(170), float64(12), int8(20)\n",
      "memory usage: 1.4 MB\n",
      "None\n"
     ]
    }
   ],
   "source": [
    "# the nominal categorical features\n",
    "features_nom = [\"mssubclass\", \"mszoning\", \"street\", \"landcontour\",\n",
    "                \"lotconfig\", \"neighborhood\", \"condition1\", \"condition2\",\n",
    "                \"bldgtype\", \"housestyle\", \"roofstyle\", \"roofmatl\", \"exterior1st\",\n",
    "                \"exterior2nd\", \"masvnrtype\", \"foundation\", \"heating\", \"centralair\",\n",
    "                \"garagetype\", \"saletype\", \"salecondition\"]\n",
    "\n",
    "# change their type to category\n",
    "for name in features_nom:\n",
    "    df[name] = df[name].astype(\"category\")\n",
    "\n",
    "# function to one hot encode categorical columns\n",
    "def one_hot_encode_categorical_columns(df):\n",
    "    categorical_columns = df.select_dtypes(include=['object', 'category']).columns\n",
    "    df_encoded = pd.get_dummies(df, columns=categorical_columns)\n",
    "    return df_encoded\n",
    "\n",
    "# perform the one-hot encode on categorical  columns\n",
    "df_encoded = one_hot_encode_categorical_columns(df)\n",
    "\n",
    "print(df_encoded.info())"
   ]
  },
  {
   "cell_type": "code",
   "execution_count": 10,
   "id": "03031df3-3b49-4cac-a0ea-432e1e05ee2d",
   "metadata": {
    "tags": []
   },
   "outputs": [
    {
     "name": "stdout",
     "output_type": "stream",
     "text": [
      "<class 'pandas.core.frame.DataFrame'>\n",
      "RangeIndex: 2919 entries, 0 to 2918\n",
      "Columns: 225 entries, id to salecondition_Partial\n",
      "dtypes: Int64(23), bool(170), float64(12), int8(20)\n",
      "memory usage: 1.4 MB\n",
      "None\n"
     ]
    }
   ],
   "source": [
    "# Convert uint8 columns to integer type\n",
    "uint8_columns = df_encoded.select_dtypes(include=['uint8']).columns.tolist()\n",
    "df_encoded[uint8_columns] = df_encoded[uint8_columns].astype(int)\n",
    "\n",
    "print(df_encoded.info())"
   ]
  },
  {
   "cell_type": "code",
   "execution_count": 11,
   "id": "4ac46513-76ae-4585-8d80-4b42221160a4",
   "metadata": {
    "tags": []
   },
   "outputs": [
    {
     "name": "stdout",
     "output_type": "stream",
     "text": [
      "Shape of the dataframe (row, col): (2919, 35) \n",
      "\n"
     ]
    },
    {
     "data": {
      "text/html": [
       "<div>\n",
       "<style scoped>\n",
       "    .dataframe tbody tr th:only-of-type {\n",
       "        vertical-align: middle;\n",
       "    }\n",
       "\n",
       "    .dataframe tbody tr th {\n",
       "        vertical-align: top;\n",
       "    }\n",
       "\n",
       "    .dataframe thead th {\n",
       "        text-align: right;\n",
       "    }\n",
       "</style>\n",
       "<table border=\"1\" class=\"dataframe\">\n",
       "  <thead>\n",
       "    <tr style=\"text-align: right;\">\n",
       "      <th></th>\n",
       "      <th>id</th>\n",
       "      <th>lotarea</th>\n",
       "      <th>yearbuilt</th>\n",
       "      <th>yearremodadd</th>\n",
       "      <th>masvnrarea</th>\n",
       "      <th>bsmtfinsf1</th>\n",
       "      <th>bsmtfinsf2</th>\n",
       "      <th>bsmtunfsf</th>\n",
       "      <th>totalbsmtsf</th>\n",
       "      <th>1stflrsf</th>\n",
       "      <th>...</th>\n",
       "      <th>openporchsf</th>\n",
       "      <th>enclosedporch</th>\n",
       "      <th>3ssnporch</th>\n",
       "      <th>screenporch</th>\n",
       "      <th>poolarea</th>\n",
       "      <th>miscval</th>\n",
       "      <th>mosold</th>\n",
       "      <th>yrsold</th>\n",
       "      <th>saleprice</th>\n",
       "      <th>logsaleprice</th>\n",
       "    </tr>\n",
       "  </thead>\n",
       "  <tbody>\n",
       "    <tr>\n",
       "      <th>0</th>\n",
       "      <td>1.0</td>\n",
       "      <td>8450.0</td>\n",
       "      <td>2003.0</td>\n",
       "      <td>2003.0</td>\n",
       "      <td>196.0</td>\n",
       "      <td>706.0</td>\n",
       "      <td>0.0</td>\n",
       "      <td>150.0</td>\n",
       "      <td>856.0</td>\n",
       "      <td>856.0</td>\n",
       "      <td>...</td>\n",
       "      <td>61.0</td>\n",
       "      <td>0.0</td>\n",
       "      <td>0.0</td>\n",
       "      <td>0.0</td>\n",
       "      <td>0.0</td>\n",
       "      <td>0.0</td>\n",
       "      <td>2.0</td>\n",
       "      <td>2008.0</td>\n",
       "      <td>208500.0</td>\n",
       "      <td>12.247694</td>\n",
       "    </tr>\n",
       "    <tr>\n",
       "      <th>1</th>\n",
       "      <td>2.0</td>\n",
       "      <td>9600.0</td>\n",
       "      <td>1976.0</td>\n",
       "      <td>1976.0</td>\n",
       "      <td>0.0</td>\n",
       "      <td>978.0</td>\n",
       "      <td>0.0</td>\n",
       "      <td>284.0</td>\n",
       "      <td>1262.0</td>\n",
       "      <td>1262.0</td>\n",
       "      <td>...</td>\n",
       "      <td>0.0</td>\n",
       "      <td>0.0</td>\n",
       "      <td>0.0</td>\n",
       "      <td>0.0</td>\n",
       "      <td>0.0</td>\n",
       "      <td>0.0</td>\n",
       "      <td>5.0</td>\n",
       "      <td>2007.0</td>\n",
       "      <td>181500.0</td>\n",
       "      <td>12.109011</td>\n",
       "    </tr>\n",
       "    <tr>\n",
       "      <th>2</th>\n",
       "      <td>3.0</td>\n",
       "      <td>11250.0</td>\n",
       "      <td>2001.0</td>\n",
       "      <td>2002.0</td>\n",
       "      <td>162.0</td>\n",
       "      <td>486.0</td>\n",
       "      <td>0.0</td>\n",
       "      <td>434.0</td>\n",
       "      <td>920.0</td>\n",
       "      <td>920.0</td>\n",
       "      <td>...</td>\n",
       "      <td>42.0</td>\n",
       "      <td>0.0</td>\n",
       "      <td>0.0</td>\n",
       "      <td>0.0</td>\n",
       "      <td>0.0</td>\n",
       "      <td>0.0</td>\n",
       "      <td>9.0</td>\n",
       "      <td>2008.0</td>\n",
       "      <td>223500.0</td>\n",
       "      <td>12.317167</td>\n",
       "    </tr>\n",
       "    <tr>\n",
       "      <th>3</th>\n",
       "      <td>4.0</td>\n",
       "      <td>9550.0</td>\n",
       "      <td>1915.0</td>\n",
       "      <td>1970.0</td>\n",
       "      <td>0.0</td>\n",
       "      <td>216.0</td>\n",
       "      <td>0.0</td>\n",
       "      <td>540.0</td>\n",
       "      <td>756.0</td>\n",
       "      <td>961.0</td>\n",
       "      <td>...</td>\n",
       "      <td>35.0</td>\n",
       "      <td>272.0</td>\n",
       "      <td>0.0</td>\n",
       "      <td>0.0</td>\n",
       "      <td>0.0</td>\n",
       "      <td>0.0</td>\n",
       "      <td>2.0</td>\n",
       "      <td>2006.0</td>\n",
       "      <td>140000.0</td>\n",
       "      <td>11.849398</td>\n",
       "    </tr>\n",
       "    <tr>\n",
       "      <th>4</th>\n",
       "      <td>5.0</td>\n",
       "      <td>14260.0</td>\n",
       "      <td>2000.0</td>\n",
       "      <td>2000.0</td>\n",
       "      <td>350.0</td>\n",
       "      <td>655.0</td>\n",
       "      <td>0.0</td>\n",
       "      <td>490.0</td>\n",
       "      <td>1145.0</td>\n",
       "      <td>1145.0</td>\n",
       "      <td>...</td>\n",
       "      <td>84.0</td>\n",
       "      <td>0.0</td>\n",
       "      <td>0.0</td>\n",
       "      <td>0.0</td>\n",
       "      <td>0.0</td>\n",
       "      <td>0.0</td>\n",
       "      <td>12.0</td>\n",
       "      <td>2008.0</td>\n",
       "      <td>250000.0</td>\n",
       "      <td>12.429216</td>\n",
       "    </tr>\n",
       "  </tbody>\n",
       "</table>\n",
       "<p>5 rows × 35 columns</p>\n",
       "</div>"
      ],
      "text/plain": [
       "    id  lotarea  yearbuilt  yearremodadd  masvnrarea  bsmtfinsf1  bsmtfinsf2  \\\n",
       "0  1.0   8450.0     2003.0        2003.0       196.0       706.0         0.0   \n",
       "1  2.0   9600.0     1976.0        1976.0         0.0       978.0         0.0   \n",
       "2  3.0  11250.0     2001.0        2002.0       162.0       486.0         0.0   \n",
       "3  4.0   9550.0     1915.0        1970.0         0.0       216.0         0.0   \n",
       "4  5.0  14260.0     2000.0        2000.0       350.0       655.0         0.0   \n",
       "\n",
       "   bsmtunfsf  totalbsmtsf  1stflrsf  ...  openporchsf  enclosedporch  \\\n",
       "0      150.0        856.0     856.0  ...         61.0            0.0   \n",
       "1      284.0       1262.0    1262.0  ...          0.0            0.0   \n",
       "2      434.0        920.0     920.0  ...         42.0            0.0   \n",
       "3      540.0        756.0     961.0  ...         35.0          272.0   \n",
       "4      490.0       1145.0    1145.0  ...         84.0            0.0   \n",
       "\n",
       "   3ssnporch  screenporch  poolarea  miscval  mosold  yrsold  saleprice  \\\n",
       "0        0.0          0.0       0.0      0.0     2.0  2008.0   208500.0   \n",
       "1        0.0          0.0       0.0      0.0     5.0  2007.0   181500.0   \n",
       "2        0.0          0.0       0.0      0.0     9.0  2008.0   223500.0   \n",
       "3        0.0          0.0       0.0      0.0     2.0  2006.0   140000.0   \n",
       "4        0.0          0.0       0.0      0.0    12.0  2008.0   250000.0   \n",
       "\n",
       "   logsaleprice  \n",
       "0     12.247694  \n",
       "1     12.109011  \n",
       "2     12.317167  \n",
       "3     11.849398  \n",
       "4     12.429216  \n",
       "\n",
       "[5 rows x 35 columns]"
      ]
     },
     "execution_count": 11,
     "metadata": {},
     "output_type": "execute_result"
    }
   ],
   "source": [
    "# impute missing values for numerical columns with median\n",
    "numerical_columns = df_encoded.select_dtypes(include=[float, int]).columns.tolist()\n",
    "numerical_imputer = SimpleImputer(strategy='median')\n",
    "df_numerical_imputed = pd.DataFrame(numerical_imputer.fit_transform(df_encoded[numerical_columns]), columns=numerical_columns)\n",
    "\n",
    "# create new imputed dataset\n",
    "df_imputed = pd.concat([df_numerical_imputed], axis=1)\n",
    "shape = df_imputed.shape\n",
    "print(\"Shape of the dataframe (row, col):\",shape,\"\\r\\n\")\n",
    "df_imputed.head(5)"
   ]
  },
  {
   "cell_type": "markdown",
   "id": "a68d4b38-37a6-4840-9f72-10ea9aa3fd03",
   "metadata": {},
   "source": [
    "## Prepare Data for Feature Store"
   ]
  },
  {
   "cell_type": "code",
   "execution_count": 12,
   "id": "a37e55df-1ff3-4b07-9573-0af7cbe7af32",
   "metadata": {
    "tags": []
   },
   "outputs": [
    {
     "data": {
      "text/html": [
       "<div>\n",
       "<style scoped>\n",
       "    .dataframe tbody tr th:only-of-type {\n",
       "        vertical-align: middle;\n",
       "    }\n",
       "\n",
       "    .dataframe tbody tr th {\n",
       "        vertical-align: top;\n",
       "    }\n",
       "\n",
       "    .dataframe thead th {\n",
       "        text-align: right;\n",
       "    }\n",
       "</style>\n",
       "<table border=\"1\" class=\"dataframe\">\n",
       "  <thead>\n",
       "    <tr style=\"text-align: right;\">\n",
       "      <th></th>\n",
       "      <th>id</th>\n",
       "      <th>lotarea</th>\n",
       "      <th>yearbuilt</th>\n",
       "      <th>yearremodadd</th>\n",
       "      <th>masvnrarea</th>\n",
       "      <th>bsmtfinsf1</th>\n",
       "      <th>bsmtfinsf2</th>\n",
       "      <th>bsmtunfsf</th>\n",
       "      <th>totalbsmtsf</th>\n",
       "      <th>1stflrsf</th>\n",
       "      <th>...</th>\n",
       "      <th>enclosedporch</th>\n",
       "      <th>3ssnporch</th>\n",
       "      <th>screenporch</th>\n",
       "      <th>poolarea</th>\n",
       "      <th>miscval</th>\n",
       "      <th>mosold</th>\n",
       "      <th>yrsold</th>\n",
       "      <th>saleprice</th>\n",
       "      <th>logsaleprice</th>\n",
       "      <th>event_time</th>\n",
       "    </tr>\n",
       "  </thead>\n",
       "  <tbody>\n",
       "    <tr>\n",
       "      <th>0</th>\n",
       "      <td>1.0</td>\n",
       "      <td>8450.0</td>\n",
       "      <td>2003.0</td>\n",
       "      <td>2003.0</td>\n",
       "      <td>196.0</td>\n",
       "      <td>706.0</td>\n",
       "      <td>0.0</td>\n",
       "      <td>150.0</td>\n",
       "      <td>856.0</td>\n",
       "      <td>856.0</td>\n",
       "      <td>...</td>\n",
       "      <td>0.0</td>\n",
       "      <td>0.0</td>\n",
       "      <td>0.0</td>\n",
       "      <td>0.0</td>\n",
       "      <td>0.0</td>\n",
       "      <td>2.0</td>\n",
       "      <td>2008.0</td>\n",
       "      <td>208500.0</td>\n",
       "      <td>12.247694</td>\n",
       "      <td>2024-06-13 23:15:07.225094</td>\n",
       "    </tr>\n",
       "    <tr>\n",
       "      <th>1</th>\n",
       "      <td>2.0</td>\n",
       "      <td>9600.0</td>\n",
       "      <td>1976.0</td>\n",
       "      <td>1976.0</td>\n",
       "      <td>0.0</td>\n",
       "      <td>978.0</td>\n",
       "      <td>0.0</td>\n",
       "      <td>284.0</td>\n",
       "      <td>1262.0</td>\n",
       "      <td>1262.0</td>\n",
       "      <td>...</td>\n",
       "      <td>0.0</td>\n",
       "      <td>0.0</td>\n",
       "      <td>0.0</td>\n",
       "      <td>0.0</td>\n",
       "      <td>0.0</td>\n",
       "      <td>5.0</td>\n",
       "      <td>2007.0</td>\n",
       "      <td>181500.0</td>\n",
       "      <td>12.109011</td>\n",
       "      <td>2024-06-13 23:15:07.225094</td>\n",
       "    </tr>\n",
       "    <tr>\n",
       "      <th>2</th>\n",
       "      <td>3.0</td>\n",
       "      <td>11250.0</td>\n",
       "      <td>2001.0</td>\n",
       "      <td>2002.0</td>\n",
       "      <td>162.0</td>\n",
       "      <td>486.0</td>\n",
       "      <td>0.0</td>\n",
       "      <td>434.0</td>\n",
       "      <td>920.0</td>\n",
       "      <td>920.0</td>\n",
       "      <td>...</td>\n",
       "      <td>0.0</td>\n",
       "      <td>0.0</td>\n",
       "      <td>0.0</td>\n",
       "      <td>0.0</td>\n",
       "      <td>0.0</td>\n",
       "      <td>9.0</td>\n",
       "      <td>2008.0</td>\n",
       "      <td>223500.0</td>\n",
       "      <td>12.317167</td>\n",
       "      <td>2024-06-13 23:15:07.225094</td>\n",
       "    </tr>\n",
       "    <tr>\n",
       "      <th>3</th>\n",
       "      <td>4.0</td>\n",
       "      <td>9550.0</td>\n",
       "      <td>1915.0</td>\n",
       "      <td>1970.0</td>\n",
       "      <td>0.0</td>\n",
       "      <td>216.0</td>\n",
       "      <td>0.0</td>\n",
       "      <td>540.0</td>\n",
       "      <td>756.0</td>\n",
       "      <td>961.0</td>\n",
       "      <td>...</td>\n",
       "      <td>272.0</td>\n",
       "      <td>0.0</td>\n",
       "      <td>0.0</td>\n",
       "      <td>0.0</td>\n",
       "      <td>0.0</td>\n",
       "      <td>2.0</td>\n",
       "      <td>2006.0</td>\n",
       "      <td>140000.0</td>\n",
       "      <td>11.849398</td>\n",
       "      <td>2024-06-13 23:15:07.225094</td>\n",
       "    </tr>\n",
       "    <tr>\n",
       "      <th>4</th>\n",
       "      <td>5.0</td>\n",
       "      <td>14260.0</td>\n",
       "      <td>2000.0</td>\n",
       "      <td>2000.0</td>\n",
       "      <td>350.0</td>\n",
       "      <td>655.0</td>\n",
       "      <td>0.0</td>\n",
       "      <td>490.0</td>\n",
       "      <td>1145.0</td>\n",
       "      <td>1145.0</td>\n",
       "      <td>...</td>\n",
       "      <td>0.0</td>\n",
       "      <td>0.0</td>\n",
       "      <td>0.0</td>\n",
       "      <td>0.0</td>\n",
       "      <td>0.0</td>\n",
       "      <td>12.0</td>\n",
       "      <td>2008.0</td>\n",
       "      <td>250000.0</td>\n",
       "      <td>12.429216</td>\n",
       "      <td>2024-06-13 23:15:07.225094</td>\n",
       "    </tr>\n",
       "  </tbody>\n",
       "</table>\n",
       "<p>5 rows × 36 columns</p>\n",
       "</div>"
      ],
      "text/plain": [
       "    id  lotarea  yearbuilt  yearremodadd  masvnrarea  bsmtfinsf1  bsmtfinsf2  \\\n",
       "0  1.0   8450.0     2003.0        2003.0       196.0       706.0         0.0   \n",
       "1  2.0   9600.0     1976.0        1976.0         0.0       978.0         0.0   \n",
       "2  3.0  11250.0     2001.0        2002.0       162.0       486.0         0.0   \n",
       "3  4.0   9550.0     1915.0        1970.0         0.0       216.0         0.0   \n",
       "4  5.0  14260.0     2000.0        2000.0       350.0       655.0         0.0   \n",
       "\n",
       "   bsmtunfsf  totalbsmtsf  1stflrsf  ...  enclosedporch  3ssnporch  \\\n",
       "0      150.0        856.0     856.0  ...            0.0        0.0   \n",
       "1      284.0       1262.0    1262.0  ...            0.0        0.0   \n",
       "2      434.0        920.0     920.0  ...            0.0        0.0   \n",
       "3      540.0        756.0     961.0  ...          272.0        0.0   \n",
       "4      490.0       1145.0    1145.0  ...            0.0        0.0   \n",
       "\n",
       "   screenporch  poolarea  miscval  mosold  yrsold  saleprice  logsaleprice  \\\n",
       "0          0.0       0.0      0.0     2.0  2008.0   208500.0     12.247694   \n",
       "1          0.0       0.0      0.0     5.0  2007.0   181500.0     12.109011   \n",
       "2          0.0       0.0      0.0     9.0  2008.0   223500.0     12.317167   \n",
       "3          0.0       0.0      0.0     2.0  2006.0   140000.0     11.849398   \n",
       "4          0.0       0.0      0.0    12.0  2008.0   250000.0     12.429216   \n",
       "\n",
       "                  event_time  \n",
       "0 2024-06-13 23:15:07.225094  \n",
       "1 2024-06-13 23:15:07.225094  \n",
       "2 2024-06-13 23:15:07.225094  \n",
       "3 2024-06-13 23:15:07.225094  \n",
       "4 2024-06-13 23:15:07.225094  \n",
       "\n",
       "[5 rows x 36 columns]"
      ]
     },
     "execution_count": 12,
     "metadata": {},
     "output_type": "execute_result"
    }
   ],
   "source": [
    "# add an event time\n",
    "df_imputed['event_time'] = pd.Timestamp.now()\n",
    "df_imputed.head(5)"
   ]
  },
  {
   "cell_type": "code",
   "execution_count": 13,
   "id": "eebb29c4-6da9-4d0a-99e1-287a2bcdb25c",
   "metadata": {
    "tags": []
   },
   "outputs": [
    {
     "name": "stdout",
     "output_type": "stream",
     "text": [
      "<class 'pandas.core.frame.DataFrame'>\n",
      "RangeIndex: 2919 entries, 0 to 2918\n",
      "Data columns (total 36 columns):\n",
      " #   Column         Non-Null Count  Dtype         \n",
      "---  ------         --------------  -----         \n",
      " 0   id             2919 non-null   float64       \n",
      " 1   lotarea        2919 non-null   float64       \n",
      " 2   yearbuilt      2919 non-null   float64       \n",
      " 3   yearremodadd   2919 non-null   float64       \n",
      " 4   masvnrarea     2919 non-null   float64       \n",
      " 5   bsmtfinsf1     2919 non-null   float64       \n",
      " 6   bsmtfinsf2     2919 non-null   float64       \n",
      " 7   bsmtunfsf      2919 non-null   float64       \n",
      " 8   totalbsmtsf    2919 non-null   float64       \n",
      " 9   1stflrsf       2919 non-null   float64       \n",
      " 10  2ndflrsf       2919 non-null   float64       \n",
      " 11  lowqualfinsf   2919 non-null   float64       \n",
      " 12  grlivarea      2919 non-null   float64       \n",
      " 13  bsmtfullbath   2919 non-null   float64       \n",
      " 14  bsmthalfbath   2919 non-null   float64       \n",
      " 15  fullbath       2919 non-null   float64       \n",
      " 16  halfbath       2919 non-null   float64       \n",
      " 17  bedroomabvgr   2919 non-null   float64       \n",
      " 18  kitchenabvgr   2919 non-null   float64       \n",
      " 19  totrmsabvgrd   2919 non-null   float64       \n",
      " 20  fireplaces     2919 non-null   float64       \n",
      " 21  garageyrblt    2919 non-null   float64       \n",
      " 22  garagecars     2919 non-null   float64       \n",
      " 23  garagearea     2919 non-null   float64       \n",
      " 24  wooddecksf     2919 non-null   float64       \n",
      " 25  openporchsf    2919 non-null   float64       \n",
      " 26  enclosedporch  2919 non-null   float64       \n",
      " 27  3ssnporch      2919 non-null   float64       \n",
      " 28  screenporch    2919 non-null   float64       \n",
      " 29  poolarea       2919 non-null   float64       \n",
      " 30  miscval        2919 non-null   float64       \n",
      " 31  mosold         2919 non-null   float64       \n",
      " 32  yrsold         2919 non-null   float64       \n",
      " 33  saleprice      2919 non-null   float64       \n",
      " 34  logsaleprice   2919 non-null   float64       \n",
      " 35  event_time     2919 non-null   datetime64[us]\n",
      "dtypes: datetime64[us](1), float64(35)\n",
      "memory usage: 821.1 KB\n",
      "None\n"
     ]
    }
   ],
   "source": [
    "# check column types\n",
    "print(df_imputed.info())"
   ]
  },
  {
   "cell_type": "code",
   "execution_count": 14,
   "id": "20689541-97df-4467-af9b-b891d459903b",
   "metadata": {
    "tags": []
   },
   "outputs": [],
   "source": [
    "# convert datetime to Unix timestamp (seconds since epoch)\n",
    "df_imputed['event_time'] = df_imputed['event_time'].astype(int) / 10**9"
   ]
  },
  {
   "cell_type": "code",
   "execution_count": 15,
   "id": "5c03cc01-8c29-4537-84c5-52296314b9f4",
   "metadata": {
    "tags": []
   },
   "outputs": [],
   "source": [
    "# function to clean column names for feature store\n",
    "def clean_feature_name(feature_name):\n",
    "    # Replace invalid characters with underscores\n",
    "    cleaned_name = re.sub(r'[^a-zA-Z0-9_-]', '_', feature_name)\n",
    "    # Ensure the name does not start or end with an underscore or hyphen\n",
    "    cleaned_name = re.sub(r'^[_-]+|[_-]+$', '', cleaned_name)\n",
    "    return cleaned_name\n",
    "\n",
    "# Apply the cleaning function to the column names\n",
    "cleaned_columns = [clean_feature_name(col) for col in df_imputed.columns]\n",
    "df_imputed.columns = cleaned_columns"
   ]
  },
  {
   "cell_type": "markdown",
   "id": "bdb2040f-122a-4f73-b534-6a65075495bb",
   "metadata": {},
   "source": [
    "## Set Up Feature Store"
   ]
  },
  {
   "cell_type": "code",
   "execution_count": 16,
   "id": "fcb8027e-fa38-45bd-829f-c1c6a6dae8b8",
   "metadata": {
    "tags": []
   },
   "outputs": [],
   "source": [
    "# define feature group names for train, validation, and test\n",
    "train_feature_group_name = \"housing_train\"\n",
    "validation_feature_group_name = \"housing_validation\"\n",
    "test_feature_group_name = \"housing_test\""
   ]
  },
  {
   "cell_type": "code",
   "execution_count": 17,
   "id": "16f1912e-9e0b-410b-8310-3ab9e3b771ce",
   "metadata": {
    "tags": []
   },
   "outputs": [],
   "source": [
    "# split the data into train, validation, and test sets\n",
    "train_data, validation_data, test_data = np.split(df_imputed.sample(frac=1, random_state=42), [int(0.7*len(df_imputed)), int(0.9*len(df_imputed))])"
   ]
  },
  {
   "cell_type": "code",
   "execution_count": 18,
   "id": "61354c60-7170-4aad-a7b1-e40162ccd61a",
   "metadata": {},
   "outputs": [],
   "source": [
    "# record identifier and event time feature names\n",
    "record_identifier_feature_name = \"id\"\n",
    "event_time_feature_name = \"event_time\"    \n",
    "prefix = \"feature_store\""
   ]
  },
  {
   "cell_type": "code",
   "execution_count": 22,
   "id": "cb085ba3-5935-4864-857c-fa669a348ce2",
   "metadata": {},
   "outputs": [],
   "source": [
    "# set up Feature Store Session with AWS\n",
    "boto_session = boto3.Session(region_name=region)\n",
    "sagemaker_client = boto_session.client(service_name=\"sagemaker\", region_name=region)\n",
    "featurestore_runtime = boto_session.client(\n",
    "    service_name=\"sagemaker-featurestore-runtime\", region_name=region\n",
    ")\n",
    "feature_store_session = Session(\n",
    "    boto_session=boto_session,\n",
    "    sagemaker_client=sagemaker_client,\n",
    "    sagemaker_featurestore_runtime_client=featurestore_runtime,\n",
    ")"
   ]
  },
  {
   "cell_type": "code",
   "execution_count": 23,
   "id": "41a0e1ca-70bd-4970-80e5-33ab507c166e",
   "metadata": {},
   "outputs": [],
   "source": [
    "housing_train_feature_group = FeatureGroup(name=train_feature_group_name, sagemaker_session=feature_store_session)"
   ]
  },
  {
   "cell_type": "code",
   "execution_count": 24,
   "id": "4f6591df-6463-496e-ad18-a0d6d49cdfc7",
   "metadata": {},
   "outputs": [],
   "source": [
    "housing_validation_feature_group = FeatureGroup(name=validation_feature_group_name, sagemaker_session=feature_store_session)"
   ]
  },
  {
   "cell_type": "code",
   "execution_count": 25,
   "id": "8eeb4475-ff4d-45e3-b401-39e4281cc343",
   "metadata": {},
   "outputs": [],
   "source": [
    "housing_test_feature_group = FeatureGroup(name=test_feature_group_name, sagemaker_session=sagemaker_session)"
   ]
  },
  {
   "cell_type": "code",
   "execution_count": 26,
   "id": "a1b2d478-16e7-4785-9ed1-56be561873c9",
   "metadata": {},
   "outputs": [
    {
     "data": {
      "text/plain": [
       "[FeatureDefinition(feature_name='id', feature_type=<FeatureTypeEnum.FRACTIONAL: 'Fractional'>, collection_type=None),\n",
       " FeatureDefinition(feature_name='lotarea', feature_type=<FeatureTypeEnum.FRACTIONAL: 'Fractional'>, collection_type=None),\n",
       " FeatureDefinition(feature_name='yearbuilt', feature_type=<FeatureTypeEnum.FRACTIONAL: 'Fractional'>, collection_type=None),\n",
       " FeatureDefinition(feature_name='yearremodadd', feature_type=<FeatureTypeEnum.FRACTIONAL: 'Fractional'>, collection_type=None),\n",
       " FeatureDefinition(feature_name='masvnrarea', feature_type=<FeatureTypeEnum.FRACTIONAL: 'Fractional'>, collection_type=None),\n",
       " FeatureDefinition(feature_name='bsmtfinsf1', feature_type=<FeatureTypeEnum.FRACTIONAL: 'Fractional'>, collection_type=None),\n",
       " FeatureDefinition(feature_name='bsmtfinsf2', feature_type=<FeatureTypeEnum.FRACTIONAL: 'Fractional'>, collection_type=None),\n",
       " FeatureDefinition(feature_name='bsmtunfsf', feature_type=<FeatureTypeEnum.FRACTIONAL: 'Fractional'>, collection_type=None),\n",
       " FeatureDefinition(feature_name='totalbsmtsf', feature_type=<FeatureTypeEnum.FRACTIONAL: 'Fractional'>, collection_type=None),\n",
       " FeatureDefinition(feature_name='1stflrsf', feature_type=<FeatureTypeEnum.FRACTIONAL: 'Fractional'>, collection_type=None),\n",
       " FeatureDefinition(feature_name='2ndflrsf', feature_type=<FeatureTypeEnum.FRACTIONAL: 'Fractional'>, collection_type=None),\n",
       " FeatureDefinition(feature_name='lowqualfinsf', feature_type=<FeatureTypeEnum.FRACTIONAL: 'Fractional'>, collection_type=None),\n",
       " FeatureDefinition(feature_name='grlivarea', feature_type=<FeatureTypeEnum.FRACTIONAL: 'Fractional'>, collection_type=None),\n",
       " FeatureDefinition(feature_name='bsmtfullbath', feature_type=<FeatureTypeEnum.FRACTIONAL: 'Fractional'>, collection_type=None),\n",
       " FeatureDefinition(feature_name='bsmthalfbath', feature_type=<FeatureTypeEnum.FRACTIONAL: 'Fractional'>, collection_type=None),\n",
       " FeatureDefinition(feature_name='fullbath', feature_type=<FeatureTypeEnum.FRACTIONAL: 'Fractional'>, collection_type=None),\n",
       " FeatureDefinition(feature_name='halfbath', feature_type=<FeatureTypeEnum.FRACTIONAL: 'Fractional'>, collection_type=None),\n",
       " FeatureDefinition(feature_name='bedroomabvgr', feature_type=<FeatureTypeEnum.FRACTIONAL: 'Fractional'>, collection_type=None),\n",
       " FeatureDefinition(feature_name='kitchenabvgr', feature_type=<FeatureTypeEnum.FRACTIONAL: 'Fractional'>, collection_type=None),\n",
       " FeatureDefinition(feature_name='totrmsabvgrd', feature_type=<FeatureTypeEnum.FRACTIONAL: 'Fractional'>, collection_type=None),\n",
       " FeatureDefinition(feature_name='fireplaces', feature_type=<FeatureTypeEnum.FRACTIONAL: 'Fractional'>, collection_type=None),\n",
       " FeatureDefinition(feature_name='garageyrblt', feature_type=<FeatureTypeEnum.FRACTIONAL: 'Fractional'>, collection_type=None),\n",
       " FeatureDefinition(feature_name='garagecars', feature_type=<FeatureTypeEnum.FRACTIONAL: 'Fractional'>, collection_type=None),\n",
       " FeatureDefinition(feature_name='garagearea', feature_type=<FeatureTypeEnum.FRACTIONAL: 'Fractional'>, collection_type=None),\n",
       " FeatureDefinition(feature_name='wooddecksf', feature_type=<FeatureTypeEnum.FRACTIONAL: 'Fractional'>, collection_type=None),\n",
       " FeatureDefinition(feature_name='openporchsf', feature_type=<FeatureTypeEnum.FRACTIONAL: 'Fractional'>, collection_type=None),\n",
       " FeatureDefinition(feature_name='enclosedporch', feature_type=<FeatureTypeEnum.FRACTIONAL: 'Fractional'>, collection_type=None),\n",
       " FeatureDefinition(feature_name='3ssnporch', feature_type=<FeatureTypeEnum.FRACTIONAL: 'Fractional'>, collection_type=None),\n",
       " FeatureDefinition(feature_name='screenporch', feature_type=<FeatureTypeEnum.FRACTIONAL: 'Fractional'>, collection_type=None),\n",
       " FeatureDefinition(feature_name='poolarea', feature_type=<FeatureTypeEnum.FRACTIONAL: 'Fractional'>, collection_type=None),\n",
       " FeatureDefinition(feature_name='miscval', feature_type=<FeatureTypeEnum.FRACTIONAL: 'Fractional'>, collection_type=None),\n",
       " FeatureDefinition(feature_name='mosold', feature_type=<FeatureTypeEnum.FRACTIONAL: 'Fractional'>, collection_type=None),\n",
       " FeatureDefinition(feature_name='yrsold', feature_type=<FeatureTypeEnum.FRACTIONAL: 'Fractional'>, collection_type=None),\n",
       " FeatureDefinition(feature_name='saleprice', feature_type=<FeatureTypeEnum.FRACTIONAL: 'Fractional'>, collection_type=None),\n",
       " FeatureDefinition(feature_name='logsaleprice', feature_type=<FeatureTypeEnum.FRACTIONAL: 'Fractional'>, collection_type=None),\n",
       " FeatureDefinition(feature_name='event_time', feature_type=<FeatureTypeEnum.FRACTIONAL: 'Fractional'>, collection_type=None)]"
      ]
     },
     "execution_count": 26,
     "metadata": {},
     "output_type": "execute_result"
    }
   ],
   "source": [
    "# load feature definitions to the feature group\n",
    "housing_train_feature_group.load_feature_definitions(data_frame=train_data)"
   ]
  },
  {
   "cell_type": "code",
   "execution_count": 27,
   "id": "6dd8d25b-df1b-480a-b4e6-b79c6d68a14c",
   "metadata": {},
   "outputs": [
    {
     "data": {
      "text/plain": [
       "[FeatureDefinition(feature_name='id', feature_type=<FeatureTypeEnum.FRACTIONAL: 'Fractional'>, collection_type=None),\n",
       " FeatureDefinition(feature_name='lotarea', feature_type=<FeatureTypeEnum.FRACTIONAL: 'Fractional'>, collection_type=None),\n",
       " FeatureDefinition(feature_name='yearbuilt', feature_type=<FeatureTypeEnum.FRACTIONAL: 'Fractional'>, collection_type=None),\n",
       " FeatureDefinition(feature_name='yearremodadd', feature_type=<FeatureTypeEnum.FRACTIONAL: 'Fractional'>, collection_type=None),\n",
       " FeatureDefinition(feature_name='masvnrarea', feature_type=<FeatureTypeEnum.FRACTIONAL: 'Fractional'>, collection_type=None),\n",
       " FeatureDefinition(feature_name='bsmtfinsf1', feature_type=<FeatureTypeEnum.FRACTIONAL: 'Fractional'>, collection_type=None),\n",
       " FeatureDefinition(feature_name='bsmtfinsf2', feature_type=<FeatureTypeEnum.FRACTIONAL: 'Fractional'>, collection_type=None),\n",
       " FeatureDefinition(feature_name='bsmtunfsf', feature_type=<FeatureTypeEnum.FRACTIONAL: 'Fractional'>, collection_type=None),\n",
       " FeatureDefinition(feature_name='totalbsmtsf', feature_type=<FeatureTypeEnum.FRACTIONAL: 'Fractional'>, collection_type=None),\n",
       " FeatureDefinition(feature_name='1stflrsf', feature_type=<FeatureTypeEnum.FRACTIONAL: 'Fractional'>, collection_type=None),\n",
       " FeatureDefinition(feature_name='2ndflrsf', feature_type=<FeatureTypeEnum.FRACTIONAL: 'Fractional'>, collection_type=None),\n",
       " FeatureDefinition(feature_name='lowqualfinsf', feature_type=<FeatureTypeEnum.FRACTIONAL: 'Fractional'>, collection_type=None),\n",
       " FeatureDefinition(feature_name='grlivarea', feature_type=<FeatureTypeEnum.FRACTIONAL: 'Fractional'>, collection_type=None),\n",
       " FeatureDefinition(feature_name='bsmtfullbath', feature_type=<FeatureTypeEnum.FRACTIONAL: 'Fractional'>, collection_type=None),\n",
       " FeatureDefinition(feature_name='bsmthalfbath', feature_type=<FeatureTypeEnum.FRACTIONAL: 'Fractional'>, collection_type=None),\n",
       " FeatureDefinition(feature_name='fullbath', feature_type=<FeatureTypeEnum.FRACTIONAL: 'Fractional'>, collection_type=None),\n",
       " FeatureDefinition(feature_name='halfbath', feature_type=<FeatureTypeEnum.FRACTIONAL: 'Fractional'>, collection_type=None),\n",
       " FeatureDefinition(feature_name='bedroomabvgr', feature_type=<FeatureTypeEnum.FRACTIONAL: 'Fractional'>, collection_type=None),\n",
       " FeatureDefinition(feature_name='kitchenabvgr', feature_type=<FeatureTypeEnum.FRACTIONAL: 'Fractional'>, collection_type=None),\n",
       " FeatureDefinition(feature_name='totrmsabvgrd', feature_type=<FeatureTypeEnum.FRACTIONAL: 'Fractional'>, collection_type=None),\n",
       " FeatureDefinition(feature_name='fireplaces', feature_type=<FeatureTypeEnum.FRACTIONAL: 'Fractional'>, collection_type=None),\n",
       " FeatureDefinition(feature_name='garageyrblt', feature_type=<FeatureTypeEnum.FRACTIONAL: 'Fractional'>, collection_type=None),\n",
       " FeatureDefinition(feature_name='garagecars', feature_type=<FeatureTypeEnum.FRACTIONAL: 'Fractional'>, collection_type=None),\n",
       " FeatureDefinition(feature_name='garagearea', feature_type=<FeatureTypeEnum.FRACTIONAL: 'Fractional'>, collection_type=None),\n",
       " FeatureDefinition(feature_name='wooddecksf', feature_type=<FeatureTypeEnum.FRACTIONAL: 'Fractional'>, collection_type=None),\n",
       " FeatureDefinition(feature_name='openporchsf', feature_type=<FeatureTypeEnum.FRACTIONAL: 'Fractional'>, collection_type=None),\n",
       " FeatureDefinition(feature_name='enclosedporch', feature_type=<FeatureTypeEnum.FRACTIONAL: 'Fractional'>, collection_type=None),\n",
       " FeatureDefinition(feature_name='3ssnporch', feature_type=<FeatureTypeEnum.FRACTIONAL: 'Fractional'>, collection_type=None),\n",
       " FeatureDefinition(feature_name='screenporch', feature_type=<FeatureTypeEnum.FRACTIONAL: 'Fractional'>, collection_type=None),\n",
       " FeatureDefinition(feature_name='poolarea', feature_type=<FeatureTypeEnum.FRACTIONAL: 'Fractional'>, collection_type=None),\n",
       " FeatureDefinition(feature_name='miscval', feature_type=<FeatureTypeEnum.FRACTIONAL: 'Fractional'>, collection_type=None),\n",
       " FeatureDefinition(feature_name='mosold', feature_type=<FeatureTypeEnum.FRACTIONAL: 'Fractional'>, collection_type=None),\n",
       " FeatureDefinition(feature_name='yrsold', feature_type=<FeatureTypeEnum.FRACTIONAL: 'Fractional'>, collection_type=None),\n",
       " FeatureDefinition(feature_name='saleprice', feature_type=<FeatureTypeEnum.FRACTIONAL: 'Fractional'>, collection_type=None),\n",
       " FeatureDefinition(feature_name='logsaleprice', feature_type=<FeatureTypeEnum.FRACTIONAL: 'Fractional'>, collection_type=None),\n",
       " FeatureDefinition(feature_name='event_time', feature_type=<FeatureTypeEnum.FRACTIONAL: 'Fractional'>, collection_type=None)]"
      ]
     },
     "execution_count": 27,
     "metadata": {},
     "output_type": "execute_result"
    }
   ],
   "source": [
    "# load feature definitions to the feature group\n",
    "housing_validation_feature_group.load_feature_definitions(data_frame=validation_data)"
   ]
  },
  {
   "cell_type": "code",
   "execution_count": 28,
   "id": "cc848e29-a1d7-401e-9787-a5ea3aa199e0",
   "metadata": {},
   "outputs": [
    {
     "data": {
      "text/plain": [
       "[FeatureDefinition(feature_name='id', feature_type=<FeatureTypeEnum.FRACTIONAL: 'Fractional'>, collection_type=None),\n",
       " FeatureDefinition(feature_name='lotarea', feature_type=<FeatureTypeEnum.FRACTIONAL: 'Fractional'>, collection_type=None),\n",
       " FeatureDefinition(feature_name='yearbuilt', feature_type=<FeatureTypeEnum.FRACTIONAL: 'Fractional'>, collection_type=None),\n",
       " FeatureDefinition(feature_name='yearremodadd', feature_type=<FeatureTypeEnum.FRACTIONAL: 'Fractional'>, collection_type=None),\n",
       " FeatureDefinition(feature_name='masvnrarea', feature_type=<FeatureTypeEnum.FRACTIONAL: 'Fractional'>, collection_type=None),\n",
       " FeatureDefinition(feature_name='bsmtfinsf1', feature_type=<FeatureTypeEnum.FRACTIONAL: 'Fractional'>, collection_type=None),\n",
       " FeatureDefinition(feature_name='bsmtfinsf2', feature_type=<FeatureTypeEnum.FRACTIONAL: 'Fractional'>, collection_type=None),\n",
       " FeatureDefinition(feature_name='bsmtunfsf', feature_type=<FeatureTypeEnum.FRACTIONAL: 'Fractional'>, collection_type=None),\n",
       " FeatureDefinition(feature_name='totalbsmtsf', feature_type=<FeatureTypeEnum.FRACTIONAL: 'Fractional'>, collection_type=None),\n",
       " FeatureDefinition(feature_name='1stflrsf', feature_type=<FeatureTypeEnum.FRACTIONAL: 'Fractional'>, collection_type=None),\n",
       " FeatureDefinition(feature_name='2ndflrsf', feature_type=<FeatureTypeEnum.FRACTIONAL: 'Fractional'>, collection_type=None),\n",
       " FeatureDefinition(feature_name='lowqualfinsf', feature_type=<FeatureTypeEnum.FRACTIONAL: 'Fractional'>, collection_type=None),\n",
       " FeatureDefinition(feature_name='grlivarea', feature_type=<FeatureTypeEnum.FRACTIONAL: 'Fractional'>, collection_type=None),\n",
       " FeatureDefinition(feature_name='bsmtfullbath', feature_type=<FeatureTypeEnum.FRACTIONAL: 'Fractional'>, collection_type=None),\n",
       " FeatureDefinition(feature_name='bsmthalfbath', feature_type=<FeatureTypeEnum.FRACTIONAL: 'Fractional'>, collection_type=None),\n",
       " FeatureDefinition(feature_name='fullbath', feature_type=<FeatureTypeEnum.FRACTIONAL: 'Fractional'>, collection_type=None),\n",
       " FeatureDefinition(feature_name='halfbath', feature_type=<FeatureTypeEnum.FRACTIONAL: 'Fractional'>, collection_type=None),\n",
       " FeatureDefinition(feature_name='bedroomabvgr', feature_type=<FeatureTypeEnum.FRACTIONAL: 'Fractional'>, collection_type=None),\n",
       " FeatureDefinition(feature_name='kitchenabvgr', feature_type=<FeatureTypeEnum.FRACTIONAL: 'Fractional'>, collection_type=None),\n",
       " FeatureDefinition(feature_name='totrmsabvgrd', feature_type=<FeatureTypeEnum.FRACTIONAL: 'Fractional'>, collection_type=None),\n",
       " FeatureDefinition(feature_name='fireplaces', feature_type=<FeatureTypeEnum.FRACTIONAL: 'Fractional'>, collection_type=None),\n",
       " FeatureDefinition(feature_name='garageyrblt', feature_type=<FeatureTypeEnum.FRACTIONAL: 'Fractional'>, collection_type=None),\n",
       " FeatureDefinition(feature_name='garagecars', feature_type=<FeatureTypeEnum.FRACTIONAL: 'Fractional'>, collection_type=None),\n",
       " FeatureDefinition(feature_name='garagearea', feature_type=<FeatureTypeEnum.FRACTIONAL: 'Fractional'>, collection_type=None),\n",
       " FeatureDefinition(feature_name='wooddecksf', feature_type=<FeatureTypeEnum.FRACTIONAL: 'Fractional'>, collection_type=None),\n",
       " FeatureDefinition(feature_name='openporchsf', feature_type=<FeatureTypeEnum.FRACTIONAL: 'Fractional'>, collection_type=None),\n",
       " FeatureDefinition(feature_name='enclosedporch', feature_type=<FeatureTypeEnum.FRACTIONAL: 'Fractional'>, collection_type=None),\n",
       " FeatureDefinition(feature_name='3ssnporch', feature_type=<FeatureTypeEnum.FRACTIONAL: 'Fractional'>, collection_type=None),\n",
       " FeatureDefinition(feature_name='screenporch', feature_type=<FeatureTypeEnum.FRACTIONAL: 'Fractional'>, collection_type=None),\n",
       " FeatureDefinition(feature_name='poolarea', feature_type=<FeatureTypeEnum.FRACTIONAL: 'Fractional'>, collection_type=None),\n",
       " FeatureDefinition(feature_name='miscval', feature_type=<FeatureTypeEnum.FRACTIONAL: 'Fractional'>, collection_type=None),\n",
       " FeatureDefinition(feature_name='mosold', feature_type=<FeatureTypeEnum.FRACTIONAL: 'Fractional'>, collection_type=None),\n",
       " FeatureDefinition(feature_name='yrsold', feature_type=<FeatureTypeEnum.FRACTIONAL: 'Fractional'>, collection_type=None),\n",
       " FeatureDefinition(feature_name='saleprice', feature_type=<FeatureTypeEnum.FRACTIONAL: 'Fractional'>, collection_type=None),\n",
       " FeatureDefinition(feature_name='logsaleprice', feature_type=<FeatureTypeEnum.FRACTIONAL: 'Fractional'>, collection_type=None),\n",
       " FeatureDefinition(feature_name='event_time', feature_type=<FeatureTypeEnum.FRACTIONAL: 'Fractional'>, collection_type=None)]"
      ]
     },
     "execution_count": 28,
     "metadata": {},
     "output_type": "execute_result"
    }
   ],
   "source": [
    "# load feature definitions to the feature group\n",
    "housing_test_feature_group.load_feature_definitions(data_frame=test_data)"
   ]
  },
  {
   "cell_type": "code",
   "execution_count": 29,
   "id": "5c5ddf23-6b47-46ed-974e-5eb7449eb821",
   "metadata": {},
   "outputs": [],
   "source": [
    "# create feature groups in feature store\n",
    "def wait_for_feature_group_creation_complete(feature_group):\n",
    "    status = feature_group.describe().get(\"FeatureGroupStatus\")\n",
    "    while status == \"Creating\":\n",
    "        print(\"Waiting for Feature Group Creation\")\n",
    "        time.sleep(5)\n",
    "        status = feature_group.describe().get(\"FeatureGroupStatus\")\n",
    "    if status != \"Created\":\n",
    "        raise RuntimeError(f\"Failed to create feature group {feature_group.name}\")\n",
    "    print(f\"FeatureGroup {feature_group.name} successfully created.\")"
   ]
  },
  {
   "cell_type": "code",
   "execution_count": 30,
   "id": "d6a37389-8e80-45bc-9123-ba311f411e93",
   "metadata": {},
   "outputs": [
    {
     "name": "stdout",
     "output_type": "stream",
     "text": [
      "Waiting for Feature Group Creation\n",
      "Waiting for Feature Group Creation\n",
      "Waiting for Feature Group Creation\n",
      "Waiting for Feature Group Creation\n",
      "FeatureGroup housing_train successfully created.\n"
     ]
    }
   ],
   "source": [
    "housing_train_feature_group.create(\n",
    "    s3_uri=f\"s3://{bucket_name}/{prefix}\",\n",
    "    record_identifier_name=record_identifier_feature_name,\n",
    "    event_time_feature_name=event_time_feature_name,\n",
    "    role_arn=role,\n",
    "    enable_online_store=True,\n",
    ")\n",
    "\n",
    "wait_for_feature_group_creation_complete(feature_group=housing_train_feature_group)"
   ]
  },
  {
   "cell_type": "code",
   "execution_count": 31,
   "id": "4a5aa684-d7b5-4f60-b0a1-279acb40912c",
   "metadata": {},
   "outputs": [
    {
     "name": "stdout",
     "output_type": "stream",
     "text": [
      "Waiting for Feature Group Creation\n",
      "Waiting for Feature Group Creation\n",
      "Waiting for Feature Group Creation\n",
      "Waiting for Feature Group Creation\n",
      "FeatureGroup housing_validation successfully created.\n"
     ]
    }
   ],
   "source": [
    "housing_validation_feature_group.create(\n",
    "    s3_uri=f\"s3://{bucket_name}/{prefix}\",\n",
    "    record_identifier_name=record_identifier_feature_name,\n",
    "    event_time_feature_name=event_time_feature_name,\n",
    "    role_arn=role,\n",
    "    enable_online_store=True,\n",
    ")\n",
    "\n",
    "wait_for_feature_group_creation_complete(feature_group=housing_validation_feature_group)"
   ]
  },
  {
   "cell_type": "code",
   "execution_count": 32,
   "id": "c4ac35c2-92cf-411b-aca5-ef4898c3902f",
   "metadata": {},
   "outputs": [
    {
     "name": "stdout",
     "output_type": "stream",
     "text": [
      "Waiting for Feature Group Creation\n",
      "Waiting for Feature Group Creation\n",
      "Waiting for Feature Group Creation\n",
      "Waiting for Feature Group Creation\n",
      "FeatureGroup housing_test successfully created.\n"
     ]
    }
   ],
   "source": [
    "housing_test_feature_group.create(\n",
    "    s3_uri=f\"s3://{bucket_name}/{prefix}\",\n",
    "    record_identifier_name=record_identifier_feature_name,\n",
    "    event_time_feature_name=event_time_feature_name,\n",
    "    role_arn=role,\n",
    "    enable_online_store=True,\n",
    ")\n",
    "\n",
    "wait_for_feature_group_creation_complete(feature_group=housing_test_feature_group)"
   ]
  },
  {
   "cell_type": "code",
   "execution_count": 45,
   "id": "f7e79fbb-a358-4401-9019-6c4db9d32ef0",
   "metadata": {},
   "outputs": [
    {
     "data": {
      "text/plain": [
       "{'FeatureGroupArn': 'arn:aws:sagemaker:us-east-1:453322325373:feature-group/housing_train',\n",
       " 'FeatureGroupName': 'housing_train',\n",
       " 'RecordIdentifierFeatureName': 'id',\n",
       " 'EventTimeFeatureName': 'event_time',\n",
       " 'FeatureDefinitions': [{'FeatureName': 'id', 'FeatureType': 'Fractional'},\n",
       "  {'FeatureName': 'lotarea', 'FeatureType': 'Fractional'},\n",
       "  {'FeatureName': 'yearbuilt', 'FeatureType': 'Fractional'},\n",
       "  {'FeatureName': 'yearremodadd', 'FeatureType': 'Fractional'},\n",
       "  {'FeatureName': 'masvnrarea', 'FeatureType': 'Fractional'},\n",
       "  {'FeatureName': 'bsmtfinsf1', 'FeatureType': 'Fractional'},\n",
       "  {'FeatureName': 'bsmtfinsf2', 'FeatureType': 'Fractional'},\n",
       "  {'FeatureName': 'bsmtunfsf', 'FeatureType': 'Fractional'},\n",
       "  {'FeatureName': 'totalbsmtsf', 'FeatureType': 'Fractional'},\n",
       "  {'FeatureName': '1stflrsf', 'FeatureType': 'Fractional'},\n",
       "  {'FeatureName': '2ndflrsf', 'FeatureType': 'Fractional'},\n",
       "  {'FeatureName': 'lowqualfinsf', 'FeatureType': 'Fractional'},\n",
       "  {'FeatureName': 'grlivarea', 'FeatureType': 'Fractional'},\n",
       "  {'FeatureName': 'bsmtfullbath', 'FeatureType': 'Fractional'},\n",
       "  {'FeatureName': 'bsmthalfbath', 'FeatureType': 'Fractional'},\n",
       "  {'FeatureName': 'fullbath', 'FeatureType': 'Fractional'},\n",
       "  {'FeatureName': 'halfbath', 'FeatureType': 'Fractional'},\n",
       "  {'FeatureName': 'bedroomabvgr', 'FeatureType': 'Fractional'},\n",
       "  {'FeatureName': 'kitchenabvgr', 'FeatureType': 'Fractional'},\n",
       "  {'FeatureName': 'totrmsabvgrd', 'FeatureType': 'Fractional'},\n",
       "  {'FeatureName': 'fireplaces', 'FeatureType': 'Fractional'},\n",
       "  {'FeatureName': 'garageyrblt', 'FeatureType': 'Fractional'},\n",
       "  {'FeatureName': 'garagecars', 'FeatureType': 'Fractional'},\n",
       "  {'FeatureName': 'garagearea', 'FeatureType': 'Fractional'},\n",
       "  {'FeatureName': 'wooddecksf', 'FeatureType': 'Fractional'},\n",
       "  {'FeatureName': 'openporchsf', 'FeatureType': 'Fractional'},\n",
       "  {'FeatureName': 'enclosedporch', 'FeatureType': 'Fractional'},\n",
       "  {'FeatureName': '3ssnporch', 'FeatureType': 'Fractional'},\n",
       "  {'FeatureName': 'screenporch', 'FeatureType': 'Fractional'},\n",
       "  {'FeatureName': 'poolarea', 'FeatureType': 'Fractional'},\n",
       "  {'FeatureName': 'miscval', 'FeatureType': 'Fractional'},\n",
       "  {'FeatureName': 'mosold', 'FeatureType': 'Fractional'},\n",
       "  {'FeatureName': 'yrsold', 'FeatureType': 'Fractional'},\n",
       "  {'FeatureName': 'saleprice', 'FeatureType': 'Fractional'},\n",
       "  {'FeatureName': 'logsaleprice', 'FeatureType': 'Fractional'},\n",
       "  {'FeatureName': 'event_time', 'FeatureType': 'Fractional'}],\n",
       " 'CreationTime': datetime.datetime(2024, 6, 13, 23, 55, 58, 764000, tzinfo=tzlocal()),\n",
       " 'OnlineStoreConfig': {'EnableOnlineStore': True},\n",
       " 'OfflineStoreConfig': {'S3StorageConfig': {'S3Uri': 's3://housing-dataset-54355/feature_store',\n",
       "   'ResolvedOutputS3Uri': 's3://housing-dataset-54355/feature_store/453322325373/sagemaker/us-east-1/offline-store/housing_train-1718322958/data'},\n",
       "  'DisableGlueTableCreation': False,\n",
       "  'DataCatalogConfig': {'TableName': 'housing_train_1718322958',\n",
       "   'Catalog': 'AwsDataCatalog',\n",
       "   'Database': 'sagemaker_featurestore'}},\n",
       " 'ThroughputConfig': {'ThroughputMode': 'OnDemand'},\n",
       " 'RoleArn': 'arn:aws:iam::453322325373:role/LabRole',\n",
       " 'FeatureGroupStatus': 'Created',\n",
       " 'OfflineStoreStatus': {'Status': 'Active'},\n",
       " 'OnlineStoreTotalSizeBytes': 0,\n",
       " 'ResponseMetadata': {'RequestId': '2ea3e9c1-63c1-4935-b143-42b526c70296',\n",
       "  'HTTPStatusCode': 200,\n",
       "  'HTTPHeaders': {'x-amzn-requestid': '2ea3e9c1-63c1-4935-b143-42b526c70296',\n",
       "   'content-type': 'application/x-amz-json-1.1',\n",
       "   'content-length': '2989',\n",
       "   'date': 'Fri, 14 Jun 2024 00:07:24 GMT'},\n",
       "  'RetryAttempts': 0}}"
      ]
     },
     "execution_count": 45,
     "metadata": {},
     "output_type": "execute_result"
    }
   ],
   "source": [
    "# check that the feature group exists\n",
    "housing_train_feature_group.describe()"
   ]
  },
  {
   "cell_type": "code",
   "execution_count": 46,
   "id": "53586a61-dbce-4a13-befe-5f6076116b25",
   "metadata": {},
   "outputs": [
    {
     "data": {
      "text/plain": [
       "{'FeatureGroupArn': 'arn:aws:sagemaker:us-east-1:453322325373:feature-group/housing_validation',\n",
       " 'FeatureGroupName': 'housing_validation',\n",
       " 'RecordIdentifierFeatureName': 'id',\n",
       " 'EventTimeFeatureName': 'event_time',\n",
       " 'FeatureDefinitions': [{'FeatureName': 'id', 'FeatureType': 'Fractional'},\n",
       "  {'FeatureName': 'lotarea', 'FeatureType': 'Fractional'},\n",
       "  {'FeatureName': 'yearbuilt', 'FeatureType': 'Fractional'},\n",
       "  {'FeatureName': 'yearremodadd', 'FeatureType': 'Fractional'},\n",
       "  {'FeatureName': 'masvnrarea', 'FeatureType': 'Fractional'},\n",
       "  {'FeatureName': 'bsmtfinsf1', 'FeatureType': 'Fractional'},\n",
       "  {'FeatureName': 'bsmtfinsf2', 'FeatureType': 'Fractional'},\n",
       "  {'FeatureName': 'bsmtunfsf', 'FeatureType': 'Fractional'},\n",
       "  {'FeatureName': 'totalbsmtsf', 'FeatureType': 'Fractional'},\n",
       "  {'FeatureName': '1stflrsf', 'FeatureType': 'Fractional'},\n",
       "  {'FeatureName': '2ndflrsf', 'FeatureType': 'Fractional'},\n",
       "  {'FeatureName': 'lowqualfinsf', 'FeatureType': 'Fractional'},\n",
       "  {'FeatureName': 'grlivarea', 'FeatureType': 'Fractional'},\n",
       "  {'FeatureName': 'bsmtfullbath', 'FeatureType': 'Fractional'},\n",
       "  {'FeatureName': 'bsmthalfbath', 'FeatureType': 'Fractional'},\n",
       "  {'FeatureName': 'fullbath', 'FeatureType': 'Fractional'},\n",
       "  {'FeatureName': 'halfbath', 'FeatureType': 'Fractional'},\n",
       "  {'FeatureName': 'bedroomabvgr', 'FeatureType': 'Fractional'},\n",
       "  {'FeatureName': 'kitchenabvgr', 'FeatureType': 'Fractional'},\n",
       "  {'FeatureName': 'totrmsabvgrd', 'FeatureType': 'Fractional'},\n",
       "  {'FeatureName': 'fireplaces', 'FeatureType': 'Fractional'},\n",
       "  {'FeatureName': 'garageyrblt', 'FeatureType': 'Fractional'},\n",
       "  {'FeatureName': 'garagecars', 'FeatureType': 'Fractional'},\n",
       "  {'FeatureName': 'garagearea', 'FeatureType': 'Fractional'},\n",
       "  {'FeatureName': 'wooddecksf', 'FeatureType': 'Fractional'},\n",
       "  {'FeatureName': 'openporchsf', 'FeatureType': 'Fractional'},\n",
       "  {'FeatureName': 'enclosedporch', 'FeatureType': 'Fractional'},\n",
       "  {'FeatureName': '3ssnporch', 'FeatureType': 'Fractional'},\n",
       "  {'FeatureName': 'screenporch', 'FeatureType': 'Fractional'},\n",
       "  {'FeatureName': 'poolarea', 'FeatureType': 'Fractional'},\n",
       "  {'FeatureName': 'miscval', 'FeatureType': 'Fractional'},\n",
       "  {'FeatureName': 'mosold', 'FeatureType': 'Fractional'},\n",
       "  {'FeatureName': 'yrsold', 'FeatureType': 'Fractional'},\n",
       "  {'FeatureName': 'saleprice', 'FeatureType': 'Fractional'},\n",
       "  {'FeatureName': 'logsaleprice', 'FeatureType': 'Fractional'},\n",
       "  {'FeatureName': 'event_time', 'FeatureType': 'Fractional'}],\n",
       " 'CreationTime': datetime.datetime(2024, 6, 13, 23, 56, 20, 615000, tzinfo=tzlocal()),\n",
       " 'OnlineStoreConfig': {'EnableOnlineStore': True},\n",
       " 'OfflineStoreConfig': {'S3StorageConfig': {'S3Uri': 's3://housing-dataset-54355/feature_store',\n",
       "   'ResolvedOutputS3Uri': 's3://housing-dataset-54355/feature_store/453322325373/sagemaker/us-east-1/offline-store/housing_validation-1718322980/data'},\n",
       "  'DisableGlueTableCreation': False,\n",
       "  'DataCatalogConfig': {'TableName': 'housing_validation_1718322980',\n",
       "   'Catalog': 'AwsDataCatalog',\n",
       "   'Database': 'sagemaker_featurestore'}},\n",
       " 'ThroughputConfig': {'ThroughputMode': 'OnDemand'},\n",
       " 'RoleArn': 'arn:aws:iam::453322325373:role/LabRole',\n",
       " 'FeatureGroupStatus': 'Created',\n",
       " 'OnlineStoreTotalSizeBytes': 0,\n",
       " 'ResponseMetadata': {'RequestId': '9a5ecfc1-dcf2-49e9-ad30-df46dbf3c587',\n",
       "  'HTTPStatusCode': 200,\n",
       "  'HTTPHeaders': {'x-amzn-requestid': '9a5ecfc1-dcf2-49e9-ad30-df46dbf3c587',\n",
       "   'content-type': 'application/x-amz-json-1.1',\n",
       "   'content-length': '2968',\n",
       "   'date': 'Fri, 14 Jun 2024 00:07:27 GMT'},\n",
       "  'RetryAttempts': 0}}"
      ]
     },
     "execution_count": 46,
     "metadata": {},
     "output_type": "execute_result"
    }
   ],
   "source": [
    "# check that the feature group exists\n",
    "housing_validation_feature_group.describe()"
   ]
  },
  {
   "cell_type": "code",
   "execution_count": 47,
   "id": "283abc36-8ceb-43ba-93d5-ca8b5a3e4470",
   "metadata": {},
   "outputs": [
    {
     "data": {
      "text/plain": [
       "{'FeatureGroupArn': 'arn:aws:sagemaker:us-east-1:453322325373:feature-group/housing_test',\n",
       " 'FeatureGroupName': 'housing_test',\n",
       " 'RecordIdentifierFeatureName': 'id',\n",
       " 'EventTimeFeatureName': 'event_time',\n",
       " 'FeatureDefinitions': [{'FeatureName': 'id', 'FeatureType': 'Fractional'},\n",
       "  {'FeatureName': 'lotarea', 'FeatureType': 'Fractional'},\n",
       "  {'FeatureName': 'yearbuilt', 'FeatureType': 'Fractional'},\n",
       "  {'FeatureName': 'yearremodadd', 'FeatureType': 'Fractional'},\n",
       "  {'FeatureName': 'masvnrarea', 'FeatureType': 'Fractional'},\n",
       "  {'FeatureName': 'bsmtfinsf1', 'FeatureType': 'Fractional'},\n",
       "  {'FeatureName': 'bsmtfinsf2', 'FeatureType': 'Fractional'},\n",
       "  {'FeatureName': 'bsmtunfsf', 'FeatureType': 'Fractional'},\n",
       "  {'FeatureName': 'totalbsmtsf', 'FeatureType': 'Fractional'},\n",
       "  {'FeatureName': '1stflrsf', 'FeatureType': 'Fractional'},\n",
       "  {'FeatureName': '2ndflrsf', 'FeatureType': 'Fractional'},\n",
       "  {'FeatureName': 'lowqualfinsf', 'FeatureType': 'Fractional'},\n",
       "  {'FeatureName': 'grlivarea', 'FeatureType': 'Fractional'},\n",
       "  {'FeatureName': 'bsmtfullbath', 'FeatureType': 'Fractional'},\n",
       "  {'FeatureName': 'bsmthalfbath', 'FeatureType': 'Fractional'},\n",
       "  {'FeatureName': 'fullbath', 'FeatureType': 'Fractional'},\n",
       "  {'FeatureName': 'halfbath', 'FeatureType': 'Fractional'},\n",
       "  {'FeatureName': 'bedroomabvgr', 'FeatureType': 'Fractional'},\n",
       "  {'FeatureName': 'kitchenabvgr', 'FeatureType': 'Fractional'},\n",
       "  {'FeatureName': 'totrmsabvgrd', 'FeatureType': 'Fractional'},\n",
       "  {'FeatureName': 'fireplaces', 'FeatureType': 'Fractional'},\n",
       "  {'FeatureName': 'garageyrblt', 'FeatureType': 'Fractional'},\n",
       "  {'FeatureName': 'garagecars', 'FeatureType': 'Fractional'},\n",
       "  {'FeatureName': 'garagearea', 'FeatureType': 'Fractional'},\n",
       "  {'FeatureName': 'wooddecksf', 'FeatureType': 'Fractional'},\n",
       "  {'FeatureName': 'openporchsf', 'FeatureType': 'Fractional'},\n",
       "  {'FeatureName': 'enclosedporch', 'FeatureType': 'Fractional'},\n",
       "  {'FeatureName': '3ssnporch', 'FeatureType': 'Fractional'},\n",
       "  {'FeatureName': 'screenporch', 'FeatureType': 'Fractional'},\n",
       "  {'FeatureName': 'poolarea', 'FeatureType': 'Fractional'},\n",
       "  {'FeatureName': 'miscval', 'FeatureType': 'Fractional'},\n",
       "  {'FeatureName': 'mosold', 'FeatureType': 'Fractional'},\n",
       "  {'FeatureName': 'yrsold', 'FeatureType': 'Fractional'},\n",
       "  {'FeatureName': 'saleprice', 'FeatureType': 'Fractional'},\n",
       "  {'FeatureName': 'logsaleprice', 'FeatureType': 'Fractional'},\n",
       "  {'FeatureName': 'event_time', 'FeatureType': 'Fractional'}],\n",
       " 'CreationTime': datetime.datetime(2024, 6, 13, 23, 56, 42, 62000, tzinfo=tzlocal()),\n",
       " 'OnlineStoreConfig': {'EnableOnlineStore': True},\n",
       " 'OfflineStoreConfig': {'S3StorageConfig': {'S3Uri': 's3://housing-dataset-54355/feature_store',\n",
       "   'ResolvedOutputS3Uri': 's3://housing-dataset-54355/feature_store/453322325373/sagemaker/us-east-1/offline-store/housing_test-1718323002/data'},\n",
       "  'DisableGlueTableCreation': False,\n",
       "  'DataCatalogConfig': {'TableName': 'housing_test_1718323002',\n",
       "   'Catalog': 'AwsDataCatalog',\n",
       "   'Database': 'sagemaker_featurestore'}},\n",
       " 'ThroughputConfig': {'ThroughputMode': 'OnDemand'},\n",
       " 'RoleArn': 'arn:aws:iam::453322325373:role/LabRole',\n",
       " 'FeatureGroupStatus': 'Created',\n",
       " 'OnlineStoreTotalSizeBytes': 0,\n",
       " 'ResponseMetadata': {'RequestId': '277f8d27-f4bd-4bb8-875c-cf237eb8f49e',\n",
       "  'HTTPStatusCode': 200,\n",
       "  'HTTPHeaders': {'x-amzn-requestid': '277f8d27-f4bd-4bb8-875c-cf237eb8f49e',\n",
       "   'content-type': 'application/x-amz-json-1.1',\n",
       "   'content-length': '2944',\n",
       "   'date': 'Fri, 14 Jun 2024 00:07:31 GMT'},\n",
       "  'RetryAttempts': 0}}"
      ]
     },
     "execution_count": 47,
     "metadata": {},
     "output_type": "execute_result"
    }
   ],
   "source": [
    "# check that the feature group exists\n",
    "housing_test_feature_group.describe()"
   ]
  },
  {
   "cell_type": "markdown",
   "id": "5a071590-ab72-44c4-8d86-6ff25a25886b",
   "metadata": {
    "tags": []
   },
   "source": [
    "## Ingest Data into Feature Store"
   ]
  },
  {
   "cell_type": "code",
   "execution_count": 33,
   "id": "810a8847-6d78-43a9-8c17-6fa40a97d448",
   "metadata": {},
   "outputs": [],
   "source": [
    "import subprocess\n",
    "import importlib\n",
    "import logging\n",
    "import sys"
   ]
  },
  {
   "cell_type": "code",
   "execution_count": 35,
   "id": "71a77b59-a54c-47fd-9b78-dd85aca0c747",
   "metadata": {},
   "outputs": [],
   "source": [
    "import time"
   ]
  },
  {
   "cell_type": "code",
   "execution_count": 38,
   "id": "713ac353-33ef-44dd-a661-4321cb61dd7e",
   "metadata": {},
   "outputs": [],
   "source": [
    "logger = logging.getLogger('__name__')\n",
    "logger.setLevel(logging.DEBUG)\n",
    "logger.addHandler(logging.StreamHandler())"
   ]
  },
  {
   "cell_type": "code",
   "execution_count": 41,
   "id": "63841eab-7186-4f4c-b275-9e1505d9226c",
   "metadata": {
    "tags": []
   },
   "outputs": [
    {
     "name": "stderr",
     "output_type": "stream",
     "text": [
      "Ingesting data into feature group: housing_train ...\n",
      "2043 customer records ingested into feature group: housing_train\n"
     ]
    }
   ],
   "source": [
    "# ingest data into the feature groups for train, validation, and test\n",
    "logger.info(f'Ingesting data into feature group: {housing_train_feature_group.name} ...')\n",
    "housing_train_feature_group.ingest(data_frame=train_data, max_processes=16, wait=True)\n",
    "logger.info(f'{len(train_data)} housing data records ingested into feature group: {housing_train_feature_group.name}')"
   ]
  },
  {
   "cell_type": "code",
   "execution_count": 42,
   "id": "9bea1e2b-8b90-4a74-87ca-e5583bbf2957",
   "metadata": {},
   "outputs": [
    {
     "name": "stderr",
     "output_type": "stream",
     "text": [
      "Ingesting data into feature group: housing_validation ...\n",
      "584 housing data records ingested into feature group: housing_validation\n"
     ]
    }
   ],
   "source": [
    "logger.info(f'Ingesting data into feature group: {housing_validation_feature_group.name} ...')\n",
    "housing_validation_feature_group.ingest(data_frame=validation_data, max_processes=16, wait=True)\n",
    "logger.info(f'{len(validation_data)} housing data records ingested into feature group: {housing_validation_feature_group.name}')"
   ]
  },
  {
   "cell_type": "code",
   "execution_count": 43,
   "id": "73e03fd3-839c-4df5-af5f-5e1ce6f3e793",
   "metadata": {
    "tags": []
   },
   "outputs": [
    {
     "name": "stderr",
     "output_type": "stream",
     "text": [
      "Ingesting data into feature group: housing_test ...\n",
      "292 housing data records ingested into feature group: housing_test\n"
     ]
    }
   ],
   "source": [
    "logger.info(f'Ingesting data into feature group: {housing_test_feature_group.name} ...')\n",
    "housing_test_feature_group.ingest(data_frame=test_data, max_processes=16, wait=True)\n",
    "logger.info(f'{len(test_data)} housing data records ingested into feature group: {housing_test_feature_group.name}')"
   ]
  },
  {
   "cell_type": "code",
   "execution_count": 51,
   "id": "620bdd17-8a7d-4a66-960a-db1f78bb345c",
   "metadata": {},
   "outputs": [
    {
     "data": {
      "text/plain": [
       "{'ResponseMetadata': {'RequestId': '20f5c211-11e2-4fa0-87ab-8148ff45fe36',\n",
       "  'HTTPStatusCode': 200,\n",
       "  'HTTPHeaders': {'x-amzn-requestid': '20f5c211-11e2-4fa0-87ab-8148ff45fe36',\n",
       "   'content-type': 'application/json',\n",
       "   'content-length': '2818',\n",
       "   'date': 'Fri, 14 Jun 2024 00:16:11 GMT'},\n",
       "  'RetryAttempts': 0},\n",
       " 'Record': [{'FeatureName': 'id', 'ValueAsString': '1.0'},\n",
       "  {'FeatureName': 'lotarea', 'ValueAsString': '8450.0'},\n",
       "  {'FeatureName': 'yearbuilt', 'ValueAsString': '2003.0'},\n",
       "  {'FeatureName': 'yearremodadd', 'ValueAsString': '2003.0'},\n",
       "  {'FeatureName': 'masvnrarea', 'ValueAsString': '196.0'},\n",
       "  {'FeatureName': 'bsmtfinsf1', 'ValueAsString': '706.0'},\n",
       "  {'FeatureName': 'bsmtfinsf2', 'ValueAsString': '0.0'},\n",
       "  {'FeatureName': 'bsmtunfsf', 'ValueAsString': '150.0'},\n",
       "  {'FeatureName': 'totalbsmtsf', 'ValueAsString': '856.0'},\n",
       "  {'FeatureName': '1stflrsf', 'ValueAsString': '856.0'},\n",
       "  {'FeatureName': '2ndflrsf', 'ValueAsString': '854.0'},\n",
       "  {'FeatureName': 'lowqualfinsf', 'ValueAsString': '0.0'},\n",
       "  {'FeatureName': 'grlivarea', 'ValueAsString': '1710.0'},\n",
       "  {'FeatureName': 'bsmtfullbath', 'ValueAsString': '1.0'},\n",
       "  {'FeatureName': 'bsmthalfbath', 'ValueAsString': '0.0'},\n",
       "  {'FeatureName': 'fullbath', 'ValueAsString': '2.0'},\n",
       "  {'FeatureName': 'halfbath', 'ValueAsString': '1.0'},\n",
       "  {'FeatureName': 'bedroomabvgr', 'ValueAsString': '3.0'},\n",
       "  {'FeatureName': 'kitchenabvgr', 'ValueAsString': '1.0'},\n",
       "  {'FeatureName': 'totrmsabvgrd', 'ValueAsString': '8.0'},\n",
       "  {'FeatureName': 'fireplaces', 'ValueAsString': '0.0'},\n",
       "  {'FeatureName': 'garageyrblt', 'ValueAsString': '2003.0'},\n",
       "  {'FeatureName': 'garagecars', 'ValueAsString': '2.0'},\n",
       "  {'FeatureName': 'garagearea', 'ValueAsString': '548.0'},\n",
       "  {'FeatureName': 'wooddecksf', 'ValueAsString': '0.0'},\n",
       "  {'FeatureName': 'openporchsf', 'ValueAsString': '61.0'},\n",
       "  {'FeatureName': 'enclosedporch', 'ValueAsString': '0.0'},\n",
       "  {'FeatureName': '3ssnporch', 'ValueAsString': '0.0'},\n",
       "  {'FeatureName': 'screenporch', 'ValueAsString': '0.0'},\n",
       "  {'FeatureName': 'poolarea', 'ValueAsString': '0.0'},\n",
       "  {'FeatureName': 'miscval', 'ValueAsString': '0.0'},\n",
       "  {'FeatureName': 'mosold', 'ValueAsString': '2.0'},\n",
       "  {'FeatureName': 'yrsold', 'ValueAsString': '2008.0'},\n",
       "  {'FeatureName': 'saleprice', 'ValueAsString': '208500.0'},\n",
       "  {'FeatureName': 'logsaleprice', 'ValueAsString': '12.247694320220992'},\n",
       "  {'FeatureName': 'event_time', 'ValueAsString': '1718320.507225094'}]}"
      ]
     },
     "execution_count": 51,
     "metadata": {},
     "output_type": "execute_result"
    }
   ],
   "source": [
    "# test it works\n",
    "featurestore_runtime.get_record(\n",
    "    FeatureGroupName=housing_train_feature_group.name,\n",
    "    RecordIdentifierValueAsString=\"1.0\",\n",
    ")"
   ]
  },
  {
   "cell_type": "code",
   "execution_count": 56,
   "id": "e0c62128-cae0-4c21-a961-cd546bffdab9",
   "metadata": {},
   "outputs": [
    {
     "data": {
      "text/plain": [
       "{'ResponseMetadata': {'RequestId': '7f35d2be-8494-4f36-a656-29fe2d36358a',\n",
       "  'HTTPStatusCode': 200,\n",
       "  'HTTPHeaders': {'x-amzn-requestid': '7f35d2be-8494-4f36-a656-29fe2d36358a',\n",
       "   'content-type': 'application/json',\n",
       "   'content-length': '2822',\n",
       "   'date': 'Fri, 14 Jun 2024 00:19:25 GMT'},\n",
       "  'RetryAttempts': 0},\n",
       " 'Record': [{'FeatureName': 'id', 'ValueAsString': '2500.0'},\n",
       "  {'FeatureName': 'lotarea', 'ValueAsString': '3869.0'},\n",
       "  {'FeatureName': 'yearbuilt', 'ValueAsString': '1984.0'},\n",
       "  {'FeatureName': 'yearremodadd', 'ValueAsString': '1984.0'},\n",
       "  {'FeatureName': 'masvnrarea', 'ValueAsString': '149.0'},\n",
       "  {'FeatureName': 'bsmtfinsf1', 'ValueAsString': '283.0'},\n",
       "  {'FeatureName': 'bsmtfinsf2', 'ValueAsString': '755.0'},\n",
       "  {'FeatureName': 'bsmtunfsf', 'ValueAsString': '0.0'},\n",
       "  {'FeatureName': 'totalbsmtsf', 'ValueAsString': '1038.0'},\n",
       "  {'FeatureName': '1stflrsf', 'ValueAsString': '1038.0'},\n",
       "  {'FeatureName': '2ndflrsf', 'ValueAsString': '0.0'},\n",
       "  {'FeatureName': 'lowqualfinsf', 'ValueAsString': '0.0'},\n",
       "  {'FeatureName': 'grlivarea', 'ValueAsString': '1038.0'},\n",
       "  {'FeatureName': 'bsmtfullbath', 'ValueAsString': '0.0'},\n",
       "  {'FeatureName': 'bsmthalfbath', 'ValueAsString': '0.0'},\n",
       "  {'FeatureName': 'fullbath', 'ValueAsString': '2.0'},\n",
       "  {'FeatureName': 'halfbath', 'ValueAsString': '0.0'},\n",
       "  {'FeatureName': 'bedroomabvgr', 'ValueAsString': '2.0'},\n",
       "  {'FeatureName': 'kitchenabvgr', 'ValueAsString': '1.0'},\n",
       "  {'FeatureName': 'totrmsabvgrd', 'ValueAsString': '5.0'},\n",
       "  {'FeatureName': 'fireplaces', 'ValueAsString': '0.0'},\n",
       "  {'FeatureName': 'garageyrblt', 'ValueAsString': '1984.0'},\n",
       "  {'FeatureName': 'garagecars', 'ValueAsString': '1.0'},\n",
       "  {'FeatureName': 'garagearea', 'ValueAsString': '264.0'},\n",
       "  {'FeatureName': 'wooddecksf', 'ValueAsString': '0.0'},\n",
       "  {'FeatureName': 'openporchsf', 'ValueAsString': '105.0'},\n",
       "  {'FeatureName': 'enclosedporch', 'ValueAsString': '0.0'},\n",
       "  {'FeatureName': '3ssnporch', 'ValueAsString': '0.0'},\n",
       "  {'FeatureName': 'screenporch', 'ValueAsString': '0.0'},\n",
       "  {'FeatureName': 'poolarea', 'ValueAsString': '0.0'},\n",
       "  {'FeatureName': 'miscval', 'ValueAsString': '0.0'},\n",
       "  {'FeatureName': 'mosold', 'ValueAsString': '7.0'},\n",
       "  {'FeatureName': 'yrsold', 'ValueAsString': '2007.0'},\n",
       "  {'FeatureName': 'saleprice', 'ValueAsString': '163000.0'},\n",
       "  {'FeatureName': 'logsaleprice', 'ValueAsString': '12.001505479788898'},\n",
       "  {'FeatureName': 'event_time', 'ValueAsString': '1718320.507225094'}]}"
      ]
     },
     "execution_count": 56,
     "metadata": {},
     "output_type": "execute_result"
    }
   ],
   "source": [
    "# test it works\n",
    "featurestore_runtime.get_record(\n",
    "    FeatureGroupName=housing_validation_feature_group.name,\n",
    "    RecordIdentifierValueAsString=\"2500.0\",\n",
    ")"
   ]
  },
  {
   "cell_type": "code",
   "execution_count": 60,
   "id": "ca1613b3-2835-4759-b2e4-f1c76f28e8a3",
   "metadata": {},
   "outputs": [
    {
     "data": {
      "text/plain": [
       "{'ResponseMetadata': {'RequestId': '4f50463c-3eff-490b-9a6d-1f88bcfbc8ef',\n",
       "  'HTTPStatusCode': 200,\n",
       "  'HTTPHeaders': {'x-amzn-requestid': '4f50463c-3eff-490b-9a6d-1f88bcfbc8ef',\n",
       "   'content-type': 'application/json',\n",
       "   'content-length': '32',\n",
       "   'date': 'Fri, 14 Jun 2024 00:21:15 GMT'},\n",
       "  'RetryAttempts': 0}}"
      ]
     },
     "execution_count": 60,
     "metadata": {},
     "output_type": "execute_result"
    }
   ],
   "source": [
    "# test it works\n",
    "featurestore_runtime.get_record(\n",
    "    FeatureGroupName=housing_test_feature_group.name,\n",
    "    RecordIdentifierValueAsString=\"2909.0\",\n",
    ")"
   ]
  },
  {
   "cell_type": "markdown",
   "id": "116c566d-6bad-41ad-b57b-96adf689816c",
   "metadata": {},
   "source": [
    "## Shut down notebook resources"
   ]
  },
  {
   "cell_type": "code",
   "execution_count": 1,
   "id": "c92ba96c-396a-4d42-9994-ac2f7d9b11a6",
   "metadata": {},
   "outputs": [
    {
     "data": {
      "application/javascript": [
       "\n",
       "try {\n",
       "    Jupyter.notebook.save_checkpoint();\n",
       "    Jupyter.notebook.session.delete();\n",
       "}\n",
       "catch(err) {\n",
       "    // NoOp\n",
       "}\n"
      ],
      "text/plain": [
       "<IPython.core.display.Javascript object>"
      ]
     },
     "metadata": {},
     "output_type": "display_data"
    }
   ],
   "source": [
    "%%javascript\n",
    "\n",
    "try {\n",
    "    Jupyter.notebook.save_checkpoint();\n",
    "    Jupyter.notebook.session.delete();\n",
    "}\n",
    "catch(err) {\n",
    "    // NoOp\n",
    "}"
   ]
  },
  {
   "cell_type": "code",
   "execution_count": 61,
   "id": "f163218f-317d-4036-a57c-89e7efc0d07f",
   "metadata": {
    "tags": []
   },
   "outputs": [
    {
     "data": {
      "text/html": [
       "\n",
       "<p><b>Shutting down your kernel for this notebook to release resources.</b></p>\n",
       "<button class=\"sm-command-button\" data-commandlinker-command=\"kernelmenu:shutdown\" style=\"display:none;\">Shutdown Kernel</button>\n",
       "        \n",
       "<script>\n",
       "try {\n",
       "    els = document.getElementsByClassName(\"sm-command-button\");\n",
       "    els[0].click();\n",
       "}\n",
       "catch(err) {\n",
       "    // NoOp\n",
       "}    \n",
       "</script>\n"
      ],
      "text/plain": [
       "<IPython.core.display.HTML object>"
      ]
     },
     "metadata": {},
     "output_type": "display_data"
    }
   ],
   "source": [
    "%%html\n",
    "\n",
    "<p><b>Shutting down your kernel for this notebook to release resources.</b></p>\n",
    "<button class=\"sm-command-button\" data-commandlinker-command=\"kernelmenu:shutdown\" style=\"display:none;\">Shutdown Kernel</button>\n",
    "        \n",
    "<script>\n",
    "try {\n",
    "    els = document.getElementsByClassName(\"sm-command-button\");\n",
    "    els[0].click();\n",
    "}\n",
    "catch(err) {\n",
    "    // NoOp\n",
    "}    \n",
    "</script>"
   ]
  },
  {
   "cell_type": "code",
   "execution_count": null,
   "id": "4c2c693a-966e-408c-9f8d-3a00d199b74b",
   "metadata": {},
   "outputs": [],
   "source": []
  }
 ],
 "metadata": {
  "availableInstances": [
   {
    "_defaultOrder": 0,
    "_isFastLaunch": true,
    "category": "General purpose",
    "gpuNum": 0,
    "hideHardwareSpecs": false,
    "memoryGiB": 4,
    "name": "ml.t3.medium",
    "vcpuNum": 2
   },
   {
    "_defaultOrder": 1,
    "_isFastLaunch": false,
    "category": "General purpose",
    "gpuNum": 0,
    "hideHardwareSpecs": false,
    "memoryGiB": 8,
    "name": "ml.t3.large",
    "vcpuNum": 2
   },
   {
    "_defaultOrder": 2,
    "_isFastLaunch": false,
    "category": "General purpose",
    "gpuNum": 0,
    "hideHardwareSpecs": false,
    "memoryGiB": 16,
    "name": "ml.t3.xlarge",
    "vcpuNum": 4
   },
   {
    "_defaultOrder": 3,
    "_isFastLaunch": false,
    "category": "General purpose",
    "gpuNum": 0,
    "hideHardwareSpecs": false,
    "memoryGiB": 32,
    "name": "ml.t3.2xlarge",
    "vcpuNum": 8
   },
   {
    "_defaultOrder": 4,
    "_isFastLaunch": true,
    "category": "General purpose",
    "gpuNum": 0,
    "hideHardwareSpecs": false,
    "memoryGiB": 8,
    "name": "ml.m5.large",
    "vcpuNum": 2
   },
   {
    "_defaultOrder": 5,
    "_isFastLaunch": false,
    "category": "General purpose",
    "gpuNum": 0,
    "hideHardwareSpecs": false,
    "memoryGiB": 16,
    "name": "ml.m5.xlarge",
    "vcpuNum": 4
   },
   {
    "_defaultOrder": 6,
    "_isFastLaunch": false,
    "category": "General purpose",
    "gpuNum": 0,
    "hideHardwareSpecs": false,
    "memoryGiB": 32,
    "name": "ml.m5.2xlarge",
    "vcpuNum": 8
   },
   {
    "_defaultOrder": 7,
    "_isFastLaunch": false,
    "category": "General purpose",
    "gpuNum": 0,
    "hideHardwareSpecs": false,
    "memoryGiB": 64,
    "name": "ml.m5.4xlarge",
    "vcpuNum": 16
   },
   {
    "_defaultOrder": 8,
    "_isFastLaunch": false,
    "category": "General purpose",
    "gpuNum": 0,
    "hideHardwareSpecs": false,
    "memoryGiB": 128,
    "name": "ml.m5.8xlarge",
    "vcpuNum": 32
   },
   {
    "_defaultOrder": 9,
    "_isFastLaunch": false,
    "category": "General purpose",
    "gpuNum": 0,
    "hideHardwareSpecs": false,
    "memoryGiB": 192,
    "name": "ml.m5.12xlarge",
    "vcpuNum": 48
   },
   {
    "_defaultOrder": 10,
    "_isFastLaunch": false,
    "category": "General purpose",
    "gpuNum": 0,
    "hideHardwareSpecs": false,
    "memoryGiB": 256,
    "name": "ml.m5.16xlarge",
    "vcpuNum": 64
   },
   {
    "_defaultOrder": 11,
    "_isFastLaunch": false,
    "category": "General purpose",
    "gpuNum": 0,
    "hideHardwareSpecs": false,
    "memoryGiB": 384,
    "name": "ml.m5.24xlarge",
    "vcpuNum": 96
   },
   {
    "_defaultOrder": 12,
    "_isFastLaunch": false,
    "category": "General purpose",
    "gpuNum": 0,
    "hideHardwareSpecs": false,
    "memoryGiB": 8,
    "name": "ml.m5d.large",
    "vcpuNum": 2
   },
   {
    "_defaultOrder": 13,
    "_isFastLaunch": false,
    "category": "General purpose",
    "gpuNum": 0,
    "hideHardwareSpecs": false,
    "memoryGiB": 16,
    "name": "ml.m5d.xlarge",
    "vcpuNum": 4
   },
   {
    "_defaultOrder": 14,
    "_isFastLaunch": false,
    "category": "General purpose",
    "gpuNum": 0,
    "hideHardwareSpecs": false,
    "memoryGiB": 32,
    "name": "ml.m5d.2xlarge",
    "vcpuNum": 8
   },
   {
    "_defaultOrder": 15,
    "_isFastLaunch": false,
    "category": "General purpose",
    "gpuNum": 0,
    "hideHardwareSpecs": false,
    "memoryGiB": 64,
    "name": "ml.m5d.4xlarge",
    "vcpuNum": 16
   },
   {
    "_defaultOrder": 16,
    "_isFastLaunch": false,
    "category": "General purpose",
    "gpuNum": 0,
    "hideHardwareSpecs": false,
    "memoryGiB": 128,
    "name": "ml.m5d.8xlarge",
    "vcpuNum": 32
   },
   {
    "_defaultOrder": 17,
    "_isFastLaunch": false,
    "category": "General purpose",
    "gpuNum": 0,
    "hideHardwareSpecs": false,
    "memoryGiB": 192,
    "name": "ml.m5d.12xlarge",
    "vcpuNum": 48
   },
   {
    "_defaultOrder": 18,
    "_isFastLaunch": false,
    "category": "General purpose",
    "gpuNum": 0,
    "hideHardwareSpecs": false,
    "memoryGiB": 256,
    "name": "ml.m5d.16xlarge",
    "vcpuNum": 64
   },
   {
    "_defaultOrder": 19,
    "_isFastLaunch": false,
    "category": "General purpose",
    "gpuNum": 0,
    "hideHardwareSpecs": false,
    "memoryGiB": 384,
    "name": "ml.m5d.24xlarge",
    "vcpuNum": 96
   },
   {
    "_defaultOrder": 20,
    "_isFastLaunch": false,
    "category": "General purpose",
    "gpuNum": 0,
    "hideHardwareSpecs": true,
    "memoryGiB": 0,
    "name": "ml.geospatial.interactive",
    "supportedImageNames": [
     "sagemaker-geospatial-v1-0"
    ],
    "vcpuNum": 0
   },
   {
    "_defaultOrder": 21,
    "_isFastLaunch": true,
    "category": "Compute optimized",
    "gpuNum": 0,
    "hideHardwareSpecs": false,
    "memoryGiB": 4,
    "name": "ml.c5.large",
    "vcpuNum": 2
   },
   {
    "_defaultOrder": 22,
    "_isFastLaunch": false,
    "category": "Compute optimized",
    "gpuNum": 0,
    "hideHardwareSpecs": false,
    "memoryGiB": 8,
    "name": "ml.c5.xlarge",
    "vcpuNum": 4
   },
   {
    "_defaultOrder": 23,
    "_isFastLaunch": false,
    "category": "Compute optimized",
    "gpuNum": 0,
    "hideHardwareSpecs": false,
    "memoryGiB": 16,
    "name": "ml.c5.2xlarge",
    "vcpuNum": 8
   },
   {
    "_defaultOrder": 24,
    "_isFastLaunch": false,
    "category": "Compute optimized",
    "gpuNum": 0,
    "hideHardwareSpecs": false,
    "memoryGiB": 32,
    "name": "ml.c5.4xlarge",
    "vcpuNum": 16
   },
   {
    "_defaultOrder": 25,
    "_isFastLaunch": false,
    "category": "Compute optimized",
    "gpuNum": 0,
    "hideHardwareSpecs": false,
    "memoryGiB": 72,
    "name": "ml.c5.9xlarge",
    "vcpuNum": 36
   },
   {
    "_defaultOrder": 26,
    "_isFastLaunch": false,
    "category": "Compute optimized",
    "gpuNum": 0,
    "hideHardwareSpecs": false,
    "memoryGiB": 96,
    "name": "ml.c5.12xlarge",
    "vcpuNum": 48
   },
   {
    "_defaultOrder": 27,
    "_isFastLaunch": false,
    "category": "Compute optimized",
    "gpuNum": 0,
    "hideHardwareSpecs": false,
    "memoryGiB": 144,
    "name": "ml.c5.18xlarge",
    "vcpuNum": 72
   },
   {
    "_defaultOrder": 28,
    "_isFastLaunch": false,
    "category": "Compute optimized",
    "gpuNum": 0,
    "hideHardwareSpecs": false,
    "memoryGiB": 192,
    "name": "ml.c5.24xlarge",
    "vcpuNum": 96
   },
   {
    "_defaultOrder": 29,
    "_isFastLaunch": true,
    "category": "Accelerated computing",
    "gpuNum": 1,
    "hideHardwareSpecs": false,
    "memoryGiB": 16,
    "name": "ml.g4dn.xlarge",
    "vcpuNum": 4
   },
   {
    "_defaultOrder": 30,
    "_isFastLaunch": false,
    "category": "Accelerated computing",
    "gpuNum": 1,
    "hideHardwareSpecs": false,
    "memoryGiB": 32,
    "name": "ml.g4dn.2xlarge",
    "vcpuNum": 8
   },
   {
    "_defaultOrder": 31,
    "_isFastLaunch": false,
    "category": "Accelerated computing",
    "gpuNum": 1,
    "hideHardwareSpecs": false,
    "memoryGiB": 64,
    "name": "ml.g4dn.4xlarge",
    "vcpuNum": 16
   },
   {
    "_defaultOrder": 32,
    "_isFastLaunch": false,
    "category": "Accelerated computing",
    "gpuNum": 1,
    "hideHardwareSpecs": false,
    "memoryGiB": 128,
    "name": "ml.g4dn.8xlarge",
    "vcpuNum": 32
   },
   {
    "_defaultOrder": 33,
    "_isFastLaunch": false,
    "category": "Accelerated computing",
    "gpuNum": 4,
    "hideHardwareSpecs": false,
    "memoryGiB": 192,
    "name": "ml.g4dn.12xlarge",
    "vcpuNum": 48
   },
   {
    "_defaultOrder": 34,
    "_isFastLaunch": false,
    "category": "Accelerated computing",
    "gpuNum": 1,
    "hideHardwareSpecs": false,
    "memoryGiB": 256,
    "name": "ml.g4dn.16xlarge",
    "vcpuNum": 64
   },
   {
    "_defaultOrder": 35,
    "_isFastLaunch": false,
    "category": "Accelerated computing",
    "gpuNum": 1,
    "hideHardwareSpecs": false,
    "memoryGiB": 61,
    "name": "ml.p3.2xlarge",
    "vcpuNum": 8
   },
   {
    "_defaultOrder": 36,
    "_isFastLaunch": false,
    "category": "Accelerated computing",
    "gpuNum": 4,
    "hideHardwareSpecs": false,
    "memoryGiB": 244,
    "name": "ml.p3.8xlarge",
    "vcpuNum": 32
   },
   {
    "_defaultOrder": 37,
    "_isFastLaunch": false,
    "category": "Accelerated computing",
    "gpuNum": 8,
    "hideHardwareSpecs": false,
    "memoryGiB": 488,
    "name": "ml.p3.16xlarge",
    "vcpuNum": 64
   },
   {
    "_defaultOrder": 38,
    "_isFastLaunch": false,
    "category": "Accelerated computing",
    "gpuNum": 8,
    "hideHardwareSpecs": false,
    "memoryGiB": 768,
    "name": "ml.p3dn.24xlarge",
    "vcpuNum": 96
   },
   {
    "_defaultOrder": 39,
    "_isFastLaunch": false,
    "category": "Memory Optimized",
    "gpuNum": 0,
    "hideHardwareSpecs": false,
    "memoryGiB": 16,
    "name": "ml.r5.large",
    "vcpuNum": 2
   },
   {
    "_defaultOrder": 40,
    "_isFastLaunch": false,
    "category": "Memory Optimized",
    "gpuNum": 0,
    "hideHardwareSpecs": false,
    "memoryGiB": 32,
    "name": "ml.r5.xlarge",
    "vcpuNum": 4
   },
   {
    "_defaultOrder": 41,
    "_isFastLaunch": false,
    "category": "Memory Optimized",
    "gpuNum": 0,
    "hideHardwareSpecs": false,
    "memoryGiB": 64,
    "name": "ml.r5.2xlarge",
    "vcpuNum": 8
   },
   {
    "_defaultOrder": 42,
    "_isFastLaunch": false,
    "category": "Memory Optimized",
    "gpuNum": 0,
    "hideHardwareSpecs": false,
    "memoryGiB": 128,
    "name": "ml.r5.4xlarge",
    "vcpuNum": 16
   },
   {
    "_defaultOrder": 43,
    "_isFastLaunch": false,
    "category": "Memory Optimized",
    "gpuNum": 0,
    "hideHardwareSpecs": false,
    "memoryGiB": 256,
    "name": "ml.r5.8xlarge",
    "vcpuNum": 32
   },
   {
    "_defaultOrder": 44,
    "_isFastLaunch": false,
    "category": "Memory Optimized",
    "gpuNum": 0,
    "hideHardwareSpecs": false,
    "memoryGiB": 384,
    "name": "ml.r5.12xlarge",
    "vcpuNum": 48
   },
   {
    "_defaultOrder": 45,
    "_isFastLaunch": false,
    "category": "Memory Optimized",
    "gpuNum": 0,
    "hideHardwareSpecs": false,
    "memoryGiB": 512,
    "name": "ml.r5.16xlarge",
    "vcpuNum": 64
   },
   {
    "_defaultOrder": 46,
    "_isFastLaunch": false,
    "category": "Memory Optimized",
    "gpuNum": 0,
    "hideHardwareSpecs": false,
    "memoryGiB": 768,
    "name": "ml.r5.24xlarge",
    "vcpuNum": 96
   },
   {
    "_defaultOrder": 47,
    "_isFastLaunch": false,
    "category": "Accelerated computing",
    "gpuNum": 1,
    "hideHardwareSpecs": false,
    "memoryGiB": 16,
    "name": "ml.g5.xlarge",
    "vcpuNum": 4
   },
   {
    "_defaultOrder": 48,
    "_isFastLaunch": false,
    "category": "Accelerated computing",
    "gpuNum": 1,
    "hideHardwareSpecs": false,
    "memoryGiB": 32,
    "name": "ml.g5.2xlarge",
    "vcpuNum": 8
   },
   {
    "_defaultOrder": 49,
    "_isFastLaunch": false,
    "category": "Accelerated computing",
    "gpuNum": 1,
    "hideHardwareSpecs": false,
    "memoryGiB": 64,
    "name": "ml.g5.4xlarge",
    "vcpuNum": 16
   },
   {
    "_defaultOrder": 50,
    "_isFastLaunch": false,
    "category": "Accelerated computing",
    "gpuNum": 1,
    "hideHardwareSpecs": false,
    "memoryGiB": 128,
    "name": "ml.g5.8xlarge",
    "vcpuNum": 32
   },
   {
    "_defaultOrder": 51,
    "_isFastLaunch": false,
    "category": "Accelerated computing",
    "gpuNum": 1,
    "hideHardwareSpecs": false,
    "memoryGiB": 256,
    "name": "ml.g5.16xlarge",
    "vcpuNum": 64
   },
   {
    "_defaultOrder": 52,
    "_isFastLaunch": false,
    "category": "Accelerated computing",
    "gpuNum": 4,
    "hideHardwareSpecs": false,
    "memoryGiB": 192,
    "name": "ml.g5.12xlarge",
    "vcpuNum": 48
   },
   {
    "_defaultOrder": 53,
    "_isFastLaunch": false,
    "category": "Accelerated computing",
    "gpuNum": 4,
    "hideHardwareSpecs": false,
    "memoryGiB": 384,
    "name": "ml.g5.24xlarge",
    "vcpuNum": 96
   },
   {
    "_defaultOrder": 54,
    "_isFastLaunch": false,
    "category": "Accelerated computing",
    "gpuNum": 8,
    "hideHardwareSpecs": false,
    "memoryGiB": 768,
    "name": "ml.g5.48xlarge",
    "vcpuNum": 192
   },
   {
    "_defaultOrder": 55,
    "_isFastLaunch": false,
    "category": "Accelerated computing",
    "gpuNum": 8,
    "hideHardwareSpecs": false,
    "memoryGiB": 1152,
    "name": "ml.p4d.24xlarge",
    "vcpuNum": 96
   },
   {
    "_defaultOrder": 56,
    "_isFastLaunch": false,
    "category": "Accelerated computing",
    "gpuNum": 8,
    "hideHardwareSpecs": false,
    "memoryGiB": 1152,
    "name": "ml.p4de.24xlarge",
    "vcpuNum": 96
   },
   {
    "_defaultOrder": 57,
    "_isFastLaunch": false,
    "category": "Accelerated computing",
    "gpuNum": 0,
    "hideHardwareSpecs": false,
    "memoryGiB": 32,
    "name": "ml.trn1.2xlarge",
    "vcpuNum": 8
   },
   {
    "_defaultOrder": 58,
    "_isFastLaunch": false,
    "category": "Accelerated computing",
    "gpuNum": 0,
    "hideHardwareSpecs": false,
    "memoryGiB": 512,
    "name": "ml.trn1.32xlarge",
    "vcpuNum": 128
   },
   {
    "_defaultOrder": 59,
    "_isFastLaunch": false,
    "category": "Accelerated computing",
    "gpuNum": 0,
    "hideHardwareSpecs": false,
    "memoryGiB": 512,
    "name": "ml.trn1n.32xlarge",
    "vcpuNum": 128
   }
  ],
  "kernelspec": {
   "display_name": "Python 3 (ipykernel)",
   "language": "python",
   "name": "python3"
  },
  "language_info": {
   "codemirror_mode": {
    "name": "ipython",
    "version": 3
   },
   "file_extension": ".py",
   "mimetype": "text/x-python",
   "name": "python",
   "nbconvert_exporter": "python",
   "pygments_lexer": "ipython3",
   "version": "3.10.14"
  }
 },
 "nbformat": 4,
 "nbformat_minor": 5
}
