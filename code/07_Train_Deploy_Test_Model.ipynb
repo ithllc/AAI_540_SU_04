{
 "cells": [
  {
   "cell_type": "markdown",
   "id": "ee4071ef-692c-4172-86e7-902df6864f1a",
   "metadata": {},
   "source": [
    "### Import the libraries"
   ]
  },
  {
   "cell_type": "code",
   "execution_count": 2,
   "id": "73c6be9b-3fc8-4896-b088-e482567b9f33",
   "metadata": {},
   "outputs": [
    {
     "name": "stdout",
     "output_type": "stream",
     "text": [
      "sagemaker.config INFO - Not applying SDK defaults from location: /etc/xdg/sagemaker/config.yaml\n",
      "sagemaker.config INFO - Not applying SDK defaults from location: /home/sagemaker-user/.config/sagemaker/config.yaml\n"
     ]
    }
   ],
   "source": [
    "import boto3\n",
    "import pandas as pd\n",
    "import awswrangler as wr\n",
    "from io import StringIO\n",
    "from sagemaker import image_uris, TrainingInput\n",
    "from sagemaker.estimator import Estimator\n",
    "import datetime\n",
    "import boto3\n",
    "import awswrangler as wr\n",
    "import pandas as pd\n",
    "import sagemaker\n",
    "from sagemaker.session import Session\n",
    "from sagemaker.model_monitor import DataCaptureConfig\n",
    "from sagemaker.model_monitor.dataset_format import DatasetFormat\n",
    "from sagemaker.tuner import IntegerParameter, ContinuousParameter, HyperparameterTuner\n",
    "from sagemaker.feature_store.feature_group import FeatureGroup\n",
    "from io import StringIO\n",
    "import datetime"
   ]
  },
  {
   "cell_type": "code",
   "execution_count": 3,
   "id": "d2ff54e6-24f0-411d-94ee-dff64567bec0",
   "metadata": {},
   "outputs": [
    {
     "name": "stdout",
     "output_type": "stream",
     "text": [
      "Stored variables and their in-db values:\n",
      "bucket_name                            -> 'housing-dataset-5435xx'\n",
      "set_up_dependencies_passed             -> True\n",
      "set_up_s3_bucket_passed                -> True\n"
     ]
    }
   ],
   "source": [
    "%store"
   ]
  },
  {
   "cell_type": "code",
   "execution_count": 4,
   "id": "655dee4d-8506-4faf-a9e7-474bc0d8a247",
   "metadata": {},
   "outputs": [
    {
     "name": "stdout",
     "output_type": "stream",
     "text": [
      "housing-dataset-5435xx\n"
     ]
    }
   ],
   "source": [
    "# get bucket_name\n",
    "%store -r bucket_name\n",
    "print(bucket_name)"
   ]
  },
  {
   "cell_type": "code",
   "execution_count": 5,
   "id": "02ccfac9-7afb-45c7-8de3-d975fc7a8df4",
   "metadata": {},
   "outputs": [],
   "source": [
    "# save Amazon information\n",
    "account_id = boto3.client(\"sts\").get_caller_identity().get(\"Account\")\n",
    "region = boto3.Session().region_name\n",
    "role = sagemaker.get_execution_role()\n",
    "sagemaker_session = sagemaker.Session()\n",
    "s3 = boto3.client('s3', region_name=sagemaker_session.boto_region_name)"
   ]
  },
  {
   "cell_type": "code",
   "execution_count": 6,
   "id": "81562099-cbdc-45f0-b1d9-66929ef7a385",
   "metadata": {},
   "outputs": [],
   "source": [
    "boto_session = boto3.Session(region_name=region)\n",
    "sagemaker_client = boto_session.client(service_name='sagemaker', region_name=region)\n",
    "featurestore_runtime = boto_session.client(service_name='sagemaker-featurestore-runtime', region_name=region)\n",
    "\n",
    "feature_store_session = Session(\n",
    "    boto_session=boto_session,\n",
    "    sagemaker_client=sagemaker_client,\n",
    "    sagemaker_featurestore_runtime_client=featurestore_runtime\n",
    ")"
   ]
  },
  {
   "cell_type": "markdown",
   "id": "0ea87847-8168-4f89-aa16-6dd2cb99d63c",
   "metadata": {},
   "source": [
    "### Construct Athena queries to read the data from each offline feature store"
   ]
  },
  {
   "cell_type": "code",
   "execution_count": 7,
   "id": "93a29c28-ca50-4904-99db-a76f24071ee1",
   "metadata": {},
   "outputs": [],
   "source": [
    "train_feature_group_name = \"housing_train\"\n",
    "validation_feature_group_name = \"housing_validation\"\n",
    "test_feature_group_name = \"housing_test\""
   ]
  },
  {
   "cell_type": "code",
   "execution_count": 8,
   "id": "dbfd8f2d-5dac-401d-a7a5-a37f2887913c",
   "metadata": {},
   "outputs": [],
   "source": [
    "# set database name and table name\n",
    "database_name = \"housing\"\n",
    "table_name = \"data\""
   ]
  },
  {
   "cell_type": "code",
   "execution_count": 9,
   "id": "5e96f950-2a98-4000-af2d-ba665df13e26",
   "metadata": {},
   "outputs": [
    {
     "data": {
      "text/plain": [
       "{'FeatureGroupSummaries': [{'FeatureGroupName': 'housing_validation',\n",
       "   'FeatureGroupArn': 'arn:aws:sagemaker:us-east-1:952054755114:feature-group/housing_validation',\n",
       "   'CreationTime': datetime.datetime(2024, 6, 19, 5, 43, 46, 915000, tzinfo=tzlocal()),\n",
       "   'FeatureGroupStatus': 'Created',\n",
       "   'OfflineStoreStatus': {'Status': 'Active'}},\n",
       "  {'FeatureGroupName': 'housing_train',\n",
       "   'FeatureGroupArn': 'arn:aws:sagemaker:us-east-1:952054755114:feature-group/housing_train',\n",
       "   'CreationTime': datetime.datetime(2024, 6, 19, 5, 43, 25, 527000, tzinfo=tzlocal()),\n",
       "   'FeatureGroupStatus': 'Created',\n",
       "   'OfflineStoreStatus': {'Status': 'Active'}},\n",
       "  {'FeatureGroupName': 'housing_test',\n",
       "   'FeatureGroupArn': 'arn:aws:sagemaker:us-east-1:952054755114:feature-group/housing_test',\n",
       "   'CreationTime': datetime.datetime(2024, 6, 19, 5, 44, 8, 358000, tzinfo=tzlocal()),\n",
       "   'FeatureGroupStatus': 'Created',\n",
       "   'OfflineStoreStatus': {'Status': 'Active'}}],\n",
       " 'ResponseMetadata': {'RequestId': '93c0012d-eac1-4f3a-b8ed-6fb67fab2e9d',\n",
       "  'HTTPStatusCode': 200,\n",
       "  'HTTPHeaders': {'x-amzn-requestid': '93c0012d-eac1-4f3a-b8ed-6fb67fab2e9d',\n",
       "   'content-type': 'application/x-amz-json-1.1',\n",
       "   'content-length': '725',\n",
       "   'date': 'Thu, 20 Jun 2024 02:20:41 GMT'},\n",
       "  'RetryAttempts': 0}}"
      ]
     },
     "execution_count": 9,
     "metadata": {},
     "output_type": "execute_result"
    }
   ],
   "source": [
    "sagemaker_client.list_feature_groups()"
   ]
  },
  {
   "cell_type": "code",
   "execution_count": 10,
   "id": "083ddeb2-f5f7-4303-ad7a-3e500d1f3ee7",
   "metadata": {},
   "outputs": [],
   "source": [
    "# Initialize FeatureGroup\n",
    "train_feature_group = FeatureGroup(name=train_feature_group_name, sagemaker_session=sagemaker_session)"
   ]
  },
  {
   "cell_type": "code",
   "execution_count": 11,
   "id": "24d65841-fa7c-4b64-b88b-25ed03f25b42",
   "metadata": {},
   "outputs": [],
   "source": [
    "# Initialize FeatureGroup\n",
    "validation_feature_group = FeatureGroup(name=validation_feature_group_name, sagemaker_session=sagemaker_session)"
   ]
  },
  {
   "cell_type": "code",
   "execution_count": 12,
   "id": "4394f89b-ed91-4f77-8739-88e2d7d2234e",
   "metadata": {},
   "outputs": [],
   "source": [
    "# Initialize FeatureGroup\n",
    "test_feature_group = FeatureGroup(name=test_feature_group_name, sagemaker_session=sagemaker_session)"
   ]
  },
  {
   "cell_type": "code",
   "execution_count": 13,
   "id": "0cb2ff5f-d4e0-4bd6-bb73-9f27187fcbd2",
   "metadata": {},
   "outputs": [],
   "source": [
    "train_data_query = train_feature_group.athena_query()\n",
    "validation_data_query = validation_feature_group.athena_query()\n",
    "test_data_query = test_feature_group.athena_query()"
   ]
  },
  {
   "cell_type": "code",
   "execution_count": 14,
   "id": "73ef23bc-9185-4271-a0bb-3a62500b2c6e",
   "metadata": {},
   "outputs": [],
   "source": [
    "train_data_table = train_data_query.table_name\n",
    "validation_data_table = validation_data_query.table_name\n",
    "test_data_table = test_data_query.table_name"
   ]
  },
  {
   "cell_type": "code",
   "execution_count": 15,
   "id": "36abd8f1-ff37-4d55-8bdc-a2ba5ead08ab",
   "metadata": {},
   "outputs": [],
   "source": [
    "train_query = f\"\"\"\n",
    "SELECT * FROM \"{train_data_table}\"\n",
    "\"\"\""
   ]
  },
  {
   "cell_type": "code",
   "execution_count": 16,
   "id": "06c906e5-fe15-489a-80f6-42ea1f866f1a",
   "metadata": {},
   "outputs": [],
   "source": [
    "validation_query = f\"\"\"\n",
    "SELECT * FROM \"{validation_data_table}\"\n",
    "\"\"\""
   ]
  },
  {
   "cell_type": "code",
   "execution_count": 17,
   "id": "91a2e2a2-e6c0-4126-8730-6c05b5d23b65",
   "metadata": {},
   "outputs": [],
   "source": [
    "test_query = f\"\"\"\n",
    "SELECT * FROM \"{test_data_table}\"\n",
    "\"\"\""
   ]
  },
  {
   "cell_type": "markdown",
   "id": "64a46873-40de-4257-8c96-643e5ef629a0",
   "metadata": {},
   "source": [
    "### Execute queries and put into dataframes"
   ]
  },
  {
   "cell_type": "code",
   "execution_count": 18,
   "id": "3f75f20b-f8c4-448c-b40b-960423c37fb4",
   "metadata": {},
   "outputs": [],
   "source": [
    "# run Athena query. The output is loaded to a Pandas dataframe.\n",
    "df_train = pd.DataFrame()\n",
    "train_data_query.run(query_string=train_query, output_location='s3://'+bucket_name+'/query_results/train/')\n",
    "train_data_query.wait()\n",
    "df_train = train_data_query.as_dataframe()"
   ]
  },
  {
   "cell_type": "code",
   "execution_count": 19,
   "id": "5afe86e2-3e0c-4a1b-8f3f-8eb3d60396cc",
   "metadata": {},
   "outputs": [],
   "source": [
    "# run Athena query. The output is loaded to a Pandas dataframe.\n",
    "df_validation = pd.DataFrame()\n",
    "validation_data_query.run(query_string=validation_query, output_location='s3://'+bucket_name+'/query_results/validation/')\n",
    "validation_data_query.wait()\n",
    "df_validation = validation_data_query.as_dataframe()"
   ]
  },
  {
   "cell_type": "code",
   "execution_count": 20,
   "id": "16292033-2b5b-4f7b-b96f-ebfccd62793b",
   "metadata": {},
   "outputs": [],
   "source": [
    "# run Athena query. The output is loaded to a Pandas dataframe.\n",
    "df_test = pd.DataFrame()\n",
    "test_data_query.run(query_string=test_query, output_location='s3://'+bucket_name+'/query_results/test/')\n",
    "test_data_query.wait()\n",
    "df_test = test_data_query.as_dataframe()"
   ]
  },
  {
   "cell_type": "code",
   "execution_count": 21,
   "id": "44255f83-8ab6-4065-860b-112a96554c90",
   "metadata": {},
   "outputs": [
    {
     "data": {
      "text/html": [
       "<div>\n",
       "<style scoped>\n",
       "    .dataframe tbody tr th:only-of-type {\n",
       "        vertical-align: middle;\n",
       "    }\n",
       "\n",
       "    .dataframe tbody tr th {\n",
       "        vertical-align: top;\n",
       "    }\n",
       "\n",
       "    .dataframe thead th {\n",
       "        text-align: right;\n",
       "    }\n",
       "</style>\n",
       "<table border=\"1\" class=\"dataframe\">\n",
       "  <thead>\n",
       "    <tr style=\"text-align: right;\">\n",
       "      <th></th>\n",
       "      <th>id</th>\n",
       "      <th>mssubclass</th>\n",
       "      <th>lotarea</th>\n",
       "      <th>yearbuilt</th>\n",
       "      <th>yearremodadd</th>\n",
       "      <th>masvnrarea</th>\n",
       "      <th>bsmtfinsf1</th>\n",
       "      <th>bsmtfinsf2</th>\n",
       "      <th>bsmtunfsf</th>\n",
       "      <th>totalbsmtsf</th>\n",
       "      <th>...</th>\n",
       "      <th>poolarea</th>\n",
       "      <th>miscval</th>\n",
       "      <th>mosold</th>\n",
       "      <th>yrsold</th>\n",
       "      <th>saleprice</th>\n",
       "      <th>logsaleprice</th>\n",
       "      <th>event_time</th>\n",
       "      <th>write_time</th>\n",
       "      <th>api_invocation_time</th>\n",
       "      <th>is_deleted</th>\n",
       "    </tr>\n",
       "  </thead>\n",
       "  <tbody>\n",
       "    <tr>\n",
       "      <th>0</th>\n",
       "      <td>881.0</td>\n",
       "      <td>20.0</td>\n",
       "      <td>7024.0</td>\n",
       "      <td>2005.0</td>\n",
       "      <td>2006.0</td>\n",
       "      <td>0.0</td>\n",
       "      <td>980.0</td>\n",
       "      <td>0.0</td>\n",
       "      <td>110.0</td>\n",
       "      <td>1090.0</td>\n",
       "      <td>...</td>\n",
       "      <td>0.0</td>\n",
       "      <td>0.0</td>\n",
       "      <td>6.0</td>\n",
       "      <td>2007.0</td>\n",
       "      <td>157000.0</td>\n",
       "      <td>11.964001</td>\n",
       "      <td>1.718776e+09</td>\n",
       "      <td>2024-06-19 05:50:59.640</td>\n",
       "      <td>2024-06-19 05:44:40.000</td>\n",
       "      <td>False</td>\n",
       "    </tr>\n",
       "    <tr>\n",
       "      <th>1</th>\n",
       "      <td>104.0</td>\n",
       "      <td>20.0</td>\n",
       "      <td>10402.0</td>\n",
       "      <td>2009.0</td>\n",
       "      <td>2009.0</td>\n",
       "      <td>0.0</td>\n",
       "      <td>0.0</td>\n",
       "      <td>0.0</td>\n",
       "      <td>1226.0</td>\n",
       "      <td>1226.0</td>\n",
       "      <td>...</td>\n",
       "      <td>0.0</td>\n",
       "      <td>0.0</td>\n",
       "      <td>5.0</td>\n",
       "      <td>2010.0</td>\n",
       "      <td>198900.0</td>\n",
       "      <td>12.200558</td>\n",
       "      <td>1.718776e+09</td>\n",
       "      <td>2024-06-19 05:50:59.640</td>\n",
       "      <td>2024-06-19 05:44:40.000</td>\n",
       "      <td>False</td>\n",
       "    </tr>\n",
       "    <tr>\n",
       "      <th>2</th>\n",
       "      <td>2757.0</td>\n",
       "      <td>30.0</td>\n",
       "      <td>10914.0</td>\n",
       "      <td>1929.0</td>\n",
       "      <td>1950.0</td>\n",
       "      <td>0.0</td>\n",
       "      <td>0.0</td>\n",
       "      <td>0.0</td>\n",
       "      <td>715.0</td>\n",
       "      <td>715.0</td>\n",
       "      <td>...</td>\n",
       "      <td>0.0</td>\n",
       "      <td>0.0</td>\n",
       "      <td>8.0</td>\n",
       "      <td>2006.0</td>\n",
       "      <td>163000.0</td>\n",
       "      <td>12.001506</td>\n",
       "      <td>1.718776e+09</td>\n",
       "      <td>2024-06-19 05:50:59.640</td>\n",
       "      <td>2024-06-19 05:44:40.000</td>\n",
       "      <td>False</td>\n",
       "    </tr>\n",
       "  </tbody>\n",
       "</table>\n",
       "<p>3 rows × 40 columns</p>\n",
       "</div>"
      ],
      "text/plain": [
       "       id  mssubclass  lotarea  yearbuilt  yearremodadd  masvnrarea  \\\n",
       "0   881.0        20.0   7024.0     2005.0        2006.0         0.0   \n",
       "1   104.0        20.0  10402.0     2009.0        2009.0         0.0   \n",
       "2  2757.0        30.0  10914.0     1929.0        1950.0         0.0   \n",
       "\n",
       "   bsmtfinsf1  bsmtfinsf2  bsmtunfsf  totalbsmtsf  ...  poolarea  miscval  \\\n",
       "0       980.0         0.0      110.0       1090.0  ...       0.0      0.0   \n",
       "1         0.0         0.0     1226.0       1226.0  ...       0.0      0.0   \n",
       "2         0.0         0.0      715.0        715.0  ...       0.0      0.0   \n",
       "\n",
       "   mosold  yrsold  saleprice  logsaleprice    event_time  \\\n",
       "0     6.0  2007.0   157000.0     11.964001  1.718776e+09   \n",
       "1     5.0  2010.0   198900.0     12.200558  1.718776e+09   \n",
       "2     8.0  2006.0   163000.0     12.001506  1.718776e+09   \n",
       "\n",
       "                write_time      api_invocation_time  is_deleted  \n",
       "0  2024-06-19 05:50:59.640  2024-06-19 05:44:40.000       False  \n",
       "1  2024-06-19 05:50:59.640  2024-06-19 05:44:40.000       False  \n",
       "2  2024-06-19 05:50:59.640  2024-06-19 05:44:40.000       False  \n",
       "\n",
       "[3 rows x 40 columns]"
      ]
     },
     "execution_count": 21,
     "metadata": {},
     "output_type": "execute_result"
    }
   ],
   "source": [
    "df_test.head(3)"
   ]
  },
  {
   "cell_type": "code",
   "execution_count": 22,
   "id": "7edcd39a-37c7-4576-8a40-09f695481ed3",
   "metadata": {},
   "outputs": [
    {
     "name": "stdout",
     "output_type": "stream",
     "text": [
      "<class 'pandas.core.frame.DataFrame'>\n",
      "RangeIndex: 584 entries, 0 to 583\n",
      "Data columns (total 40 columns):\n",
      " #   Column               Non-Null Count  Dtype  \n",
      "---  ------               --------------  -----  \n",
      " 0   id                   584 non-null    float64\n",
      " 1   mssubclass           584 non-null    float64\n",
      " 2   lotarea              584 non-null    float64\n",
      " 3   yearbuilt            584 non-null    float64\n",
      " 4   yearremodadd         584 non-null    float64\n",
      " 5   masvnrarea           584 non-null    float64\n",
      " 6   bsmtfinsf1           584 non-null    float64\n",
      " 7   bsmtfinsf2           584 non-null    float64\n",
      " 8   bsmtunfsf            584 non-null    float64\n",
      " 9   totalbsmtsf          584 non-null    float64\n",
      " 10  firstflrsf           584 non-null    float64\n",
      " 11  secondflrsf          584 non-null    float64\n",
      " 12  lowqualfinsf         584 non-null    float64\n",
      " 13  grlivarea            584 non-null    float64\n",
      " 14  bsmtfullbath         584 non-null    float64\n",
      " 15  bsmthalfbath         584 non-null    float64\n",
      " 16  fullbath             584 non-null    float64\n",
      " 17  halfbath             584 non-null    float64\n",
      " 18  bedroomabvgr         584 non-null    float64\n",
      " 19  kitchenabvgr         584 non-null    float64\n",
      " 20  totrmsabvgrd         584 non-null    float64\n",
      " 21  fireplaces           584 non-null    float64\n",
      " 22  garageyrblt          584 non-null    float64\n",
      " 23  garagecars           584 non-null    float64\n",
      " 24  garagearea           584 non-null    float64\n",
      " 25  wooddecksf           584 non-null    float64\n",
      " 26  openporchsf          584 non-null    float64\n",
      " 27  enclosedporch        584 non-null    float64\n",
      " 28  threessnporch        584 non-null    float64\n",
      " 29  screenporch          584 non-null    float64\n",
      " 30  poolarea             584 non-null    float64\n",
      " 31  miscval              584 non-null    float64\n",
      " 32  mosold               584 non-null    float64\n",
      " 33  yrsold               584 non-null    float64\n",
      " 34  saleprice            584 non-null    float64\n",
      " 35  logsaleprice         584 non-null    float64\n",
      " 36  event_time           584 non-null    float64\n",
      " 37  write_time           584 non-null    object \n",
      " 38  api_invocation_time  584 non-null    object \n",
      " 39  is_deleted           584 non-null    bool   \n",
      "dtypes: bool(1), float64(37), object(2)\n",
      "memory usage: 178.6+ KB\n"
     ]
    }
   ],
   "source": [
    "df_test.info()"
   ]
  },
  {
   "cell_type": "markdown",
   "id": "0eb0fd53-8b94-48ad-aa1f-e2afef14e65a",
   "metadata": {},
   "source": [
    "### For df_train and df_validation the \"id\" column is removed and for df_test both the \"id\" column and \"saleprice\" column are removed"
   ]
  },
  {
   "cell_type": "code",
   "execution_count": 23,
   "id": "22c28f6a-2315-4454-a64d-bbea5893f7a0",
   "metadata": {},
   "outputs": [
    {
     "name": "stdout",
     "output_type": "stream",
     "text": [
      "'saleprice' in df_train: True\n",
      "'saleprice' in df_validation: True\n",
      "'saleprice' in df_test: True\n"
     ]
    }
   ],
   "source": [
    "# Check if 'saleprice' column is in df_train\n",
    "is_saleprice_in_train = 'saleprice' in df_train.columns\n",
    "print(f\"'saleprice' in df_train: {is_saleprice_in_train}\")\n",
    "\n",
    "# Check if 'saleprice' column is in df_validation\n",
    "is_saleprice_in_validation = 'saleprice' in df_validation.columns\n",
    "print(f\"'saleprice' in df_validation: {is_saleprice_in_validation}\")\n",
    "\n",
    "# Check if 'saleprice' column is in df_validation\n",
    "is_saleprice_in_test = 'saleprice' in df_test.columns\n",
    "print(f\"'saleprice' in df_test: {is_saleprice_in_test}\")"
   ]
  },
  {
   "cell_type": "code",
   "execution_count": 24,
   "id": "2900efda-1499-4df5-a058-1b04931e0899",
   "metadata": {},
   "outputs": [],
   "source": [
    "df_train = df_train.drop(['id', 'event_time', 'write_time','api_invocation_time','is_deleted'], axis=1)\n",
    "df_validation = df_validation.drop(['id', 'event_time', 'write_time','api_invocation_time','is_deleted'], axis=1)\n",
    "df_test = df_test.drop(['id', 'saleprice', 'event_time', 'write_time','api_invocation_time','is_deleted'], axis=1)"
   ]
  },
  {
   "cell_type": "markdown",
   "id": "d079a8fa-93ec-466e-a948-95aa0c2fb6bb",
   "metadata": {},
   "source": [
    "### Check the shape of the data"
   ]
  },
  {
   "cell_type": "code",
   "execution_count": 25,
   "id": "6e54c9a7-1f8f-4ddf-bc85-2554a31cbc33",
   "metadata": {},
   "outputs": [
    {
     "name": "stdout",
     "output_type": "stream",
     "text": [
      "(4086, 35)\n",
      "(1168, 35)\n",
      "(584, 34)\n"
     ]
    }
   ],
   "source": [
    "print(df_train.shape)\n",
    "print(df_validation.shape)\n",
    "print(df_test.shape)"
   ]
  },
  {
   "cell_type": "code",
   "execution_count": 26,
   "id": "dd296380-da86-465f-a7a8-e598b77dcec5",
   "metadata": {},
   "outputs": [
    {
     "name": "stdout",
     "output_type": "stream",
     "text": [
      "<class 'pandas.core.frame.DataFrame'>\n",
      "RangeIndex: 4086 entries, 0 to 4085\n",
      "Data columns (total 35 columns):\n",
      " #   Column         Non-Null Count  Dtype  \n",
      "---  ------         --------------  -----  \n",
      " 0   mssubclass     4086 non-null   float64\n",
      " 1   lotarea        4086 non-null   float64\n",
      " 2   yearbuilt      4086 non-null   float64\n",
      " 3   yearremodadd   4086 non-null   float64\n",
      " 4   masvnrarea     4086 non-null   float64\n",
      " 5   bsmtfinsf1     4086 non-null   float64\n",
      " 6   bsmtfinsf2     4086 non-null   float64\n",
      " 7   bsmtunfsf      4086 non-null   float64\n",
      " 8   totalbsmtsf    4086 non-null   float64\n",
      " 9   firstflrsf     4086 non-null   float64\n",
      " 10  secondflrsf    4086 non-null   float64\n",
      " 11  lowqualfinsf   4086 non-null   float64\n",
      " 12  grlivarea      4086 non-null   float64\n",
      " 13  bsmtfullbath   4086 non-null   float64\n",
      " 14  bsmthalfbath   4086 non-null   float64\n",
      " 15  fullbath       4086 non-null   float64\n",
      " 16  halfbath       4086 non-null   float64\n",
      " 17  bedroomabvgr   4086 non-null   float64\n",
      " 18  kitchenabvgr   4086 non-null   float64\n",
      " 19  totrmsabvgrd   4086 non-null   float64\n",
      " 20  fireplaces     4086 non-null   float64\n",
      " 21  garageyrblt    4086 non-null   float64\n",
      " 22  garagecars     4086 non-null   float64\n",
      " 23  garagearea     4086 non-null   float64\n",
      " 24  wooddecksf     4086 non-null   float64\n",
      " 25  openporchsf    4086 non-null   float64\n",
      " 26  enclosedporch  4086 non-null   float64\n",
      " 27  threessnporch  4086 non-null   float64\n",
      " 28  screenporch    4086 non-null   float64\n",
      " 29  poolarea       4086 non-null   float64\n",
      " 30  miscval        4086 non-null   float64\n",
      " 31  mosold         4086 non-null   float64\n",
      " 32  yrsold         4086 non-null   float64\n",
      " 33  saleprice      4086 non-null   float64\n",
      " 34  logsaleprice   4086 non-null   float64\n",
      "dtypes: float64(35)\n",
      "memory usage: 1.1 MB\n"
     ]
    }
   ],
   "source": [
    "df_train.info()"
   ]
  },
  {
   "cell_type": "markdown",
   "id": "9152a9e3-7386-474e-bfc9-c89866b7e477",
   "metadata": {},
   "source": [
    "### Check the first few rows of the data"
   ]
  },
  {
   "cell_type": "code",
   "execution_count": 27,
   "id": "3fec82c4-15d2-4ac8-ba88-87386f655e2f",
   "metadata": {},
   "outputs": [
    {
     "name": "stdout",
     "output_type": "stream",
     "text": [
      "   mssubclass  lotarea  yearbuilt  yearremodadd  masvnrarea  bsmtfinsf1  \\\n",
      "0        60.0   9600.0     1971.0        1971.0         0.0       329.0   \n",
      "1        20.0  10682.0     1960.0        1971.0         0.0       399.0   \n",
      "2        80.0  11512.0     1959.0        2006.0        84.0       719.0   \n",
      "3        20.0  12537.0     1971.0        2008.0         0.0       734.0   \n",
      "4        20.0  11027.0     1954.0        1954.0        28.0       468.0   \n",
      "\n",
      "   bsmtfinsf2  bsmtunfsf  totalbsmtsf  firstflrsf  ...  openporchsf  \\\n",
      "0         0.0      386.0        715.0       930.0  ...         78.0   \n",
      "1         0.0      615.0       1014.0      1149.0  ...        240.0   \n",
      "2         0.0      300.0       1019.0      1357.0  ...          0.0   \n",
      "3         0.0      344.0       1078.0      1078.0  ...          0.0   \n",
      "4       539.0      171.0       1178.0      1293.0  ...          0.0   \n",
      "\n",
      "   enclosedporch  threessnporch  screenporch  poolarea  miscval  mosold  \\\n",
      "0            0.0            0.0          0.0       0.0      0.0     6.0   \n",
      "1            0.0            0.0          0.0       0.0      0.0     7.0   \n",
      "2            0.0            0.0        163.0       0.0      0.0     5.0   \n",
      "3            0.0            0.0          0.0       0.0      0.0     4.0   \n",
      "4            0.0            0.0          0.0       0.0      0.0     5.0   \n",
      "\n",
      "   yrsold  saleprice  logsaleprice  \n",
      "0  2010.0   163000.0     12.001506  \n",
      "1  2009.0   163000.0     12.001506  \n",
      "2  2008.0   177000.0     12.083905  \n",
      "3  2010.0   149900.0     11.917724  \n",
      "4  2006.0   163000.0     12.001506  \n",
      "\n",
      "[5 rows x 35 columns]\n"
     ]
    }
   ],
   "source": [
    "print(df_train.head(5))"
   ]
  },
  {
   "cell_type": "code",
   "execution_count": 28,
   "id": "c27757f9-b0d9-4404-ab0b-c48f82ece548",
   "metadata": {},
   "outputs": [
    {
     "data": {
      "text/html": [
       "<div>\n",
       "<style scoped>\n",
       "    .dataframe tbody tr th:only-of-type {\n",
       "        vertical-align: middle;\n",
       "    }\n",
       "\n",
       "    .dataframe tbody tr th {\n",
       "        vertical-align: top;\n",
       "    }\n",
       "\n",
       "    .dataframe thead th {\n",
       "        text-align: right;\n",
       "    }\n",
       "</style>\n",
       "<table border=\"1\" class=\"dataframe\">\n",
       "  <thead>\n",
       "    <tr style=\"text-align: right;\">\n",
       "      <th></th>\n",
       "      <th>mssubclass</th>\n",
       "      <th>lotarea</th>\n",
       "      <th>yearbuilt</th>\n",
       "      <th>yearremodadd</th>\n",
       "      <th>masvnrarea</th>\n",
       "      <th>bsmtfinsf1</th>\n",
       "      <th>bsmtfinsf2</th>\n",
       "      <th>bsmtunfsf</th>\n",
       "      <th>totalbsmtsf</th>\n",
       "      <th>firstflrsf</th>\n",
       "      <th>...</th>\n",
       "      <th>openporchsf</th>\n",
       "      <th>enclosedporch</th>\n",
       "      <th>threessnporch</th>\n",
       "      <th>screenporch</th>\n",
       "      <th>poolarea</th>\n",
       "      <th>miscval</th>\n",
       "      <th>mosold</th>\n",
       "      <th>yrsold</th>\n",
       "      <th>saleprice</th>\n",
       "      <th>logsaleprice</th>\n",
       "    </tr>\n",
       "  </thead>\n",
       "  <tbody>\n",
       "    <tr>\n",
       "      <th>0</th>\n",
       "      <td>60.0</td>\n",
       "      <td>8396.0</td>\n",
       "      <td>2003.0</td>\n",
       "      <td>2003.0</td>\n",
       "      <td>196.0</td>\n",
       "      <td>0.0</td>\n",
       "      <td>0.0</td>\n",
       "      <td>847.0</td>\n",
       "      <td>847.0</td>\n",
       "      <td>847.0</td>\n",
       "      <td>...</td>\n",
       "      <td>48.0</td>\n",
       "      <td>0.0</td>\n",
       "      <td>0.0</td>\n",
       "      <td>0.0</td>\n",
       "      <td>0.0</td>\n",
       "      <td>0.0</td>\n",
       "      <td>5.0</td>\n",
       "      <td>2008.0</td>\n",
       "      <td>163000.0</td>\n",
       "      <td>12.001506</td>\n",
       "    </tr>\n",
       "    <tr>\n",
       "      <th>1</th>\n",
       "      <td>60.0</td>\n",
       "      <td>11287.0</td>\n",
       "      <td>1989.0</td>\n",
       "      <td>1989.0</td>\n",
       "      <td>340.0</td>\n",
       "      <td>421.0</td>\n",
       "      <td>0.0</td>\n",
       "      <td>386.0</td>\n",
       "      <td>807.0</td>\n",
       "      <td>1175.0</td>\n",
       "      <td>...</td>\n",
       "      <td>84.0</td>\n",
       "      <td>0.0</td>\n",
       "      <td>196.0</td>\n",
       "      <td>0.0</td>\n",
       "      <td>0.0</td>\n",
       "      <td>0.0</td>\n",
       "      <td>1.0</td>\n",
       "      <td>2007.0</td>\n",
       "      <td>228500.0</td>\n",
       "      <td>12.339292</td>\n",
       "    </tr>\n",
       "    <tr>\n",
       "      <th>2</th>\n",
       "      <td>60.0</td>\n",
       "      <td>53107.0</td>\n",
       "      <td>1992.0</td>\n",
       "      <td>1992.0</td>\n",
       "      <td>0.0</td>\n",
       "      <td>985.0</td>\n",
       "      <td>0.0</td>\n",
       "      <td>595.0</td>\n",
       "      <td>1580.0</td>\n",
       "      <td>1079.0</td>\n",
       "      <td>...</td>\n",
       "      <td>231.0</td>\n",
       "      <td>0.0</td>\n",
       "      <td>0.0</td>\n",
       "      <td>0.0</td>\n",
       "      <td>0.0</td>\n",
       "      <td>0.0</td>\n",
       "      <td>6.0</td>\n",
       "      <td>2007.0</td>\n",
       "      <td>240000.0</td>\n",
       "      <td>12.388394</td>\n",
       "    </tr>\n",
       "    <tr>\n",
       "      <th>3</th>\n",
       "      <td>20.0</td>\n",
       "      <td>10400.0</td>\n",
       "      <td>1988.0</td>\n",
       "      <td>1988.0</td>\n",
       "      <td>102.0</td>\n",
       "      <td>929.0</td>\n",
       "      <td>0.0</td>\n",
       "      <td>916.0</td>\n",
       "      <td>1845.0</td>\n",
       "      <td>1872.0</td>\n",
       "      <td>...</td>\n",
       "      <td>39.0</td>\n",
       "      <td>0.0</td>\n",
       "      <td>0.0</td>\n",
       "      <td>0.0</td>\n",
       "      <td>0.0</td>\n",
       "      <td>0.0</td>\n",
       "      <td>6.0</td>\n",
       "      <td>2006.0</td>\n",
       "      <td>241500.0</td>\n",
       "      <td>12.394625</td>\n",
       "    </tr>\n",
       "    <tr>\n",
       "      <th>4</th>\n",
       "      <td>50.0</td>\n",
       "      <td>12392.0</td>\n",
       "      <td>1950.0</td>\n",
       "      <td>2000.0</td>\n",
       "      <td>0.0</td>\n",
       "      <td>435.0</td>\n",
       "      <td>0.0</td>\n",
       "      <td>397.0</td>\n",
       "      <td>832.0</td>\n",
       "      <td>1218.0</td>\n",
       "      <td>...</td>\n",
       "      <td>96.0</td>\n",
       "      <td>0.0</td>\n",
       "      <td>0.0</td>\n",
       "      <td>0.0</td>\n",
       "      <td>0.0</td>\n",
       "      <td>0.0</td>\n",
       "      <td>4.0</td>\n",
       "      <td>2008.0</td>\n",
       "      <td>163000.0</td>\n",
       "      <td>12.001506</td>\n",
       "    </tr>\n",
       "  </tbody>\n",
       "</table>\n",
       "<p>5 rows × 35 columns</p>\n",
       "</div>"
      ],
      "text/plain": [
       "   mssubclass  lotarea  yearbuilt  yearremodadd  masvnrarea  bsmtfinsf1  \\\n",
       "0        60.0   8396.0     2003.0        2003.0       196.0         0.0   \n",
       "1        60.0  11287.0     1989.0        1989.0       340.0       421.0   \n",
       "2        60.0  53107.0     1992.0        1992.0         0.0       985.0   \n",
       "3        20.0  10400.0     1988.0        1988.0       102.0       929.0   \n",
       "4        50.0  12392.0     1950.0        2000.0         0.0       435.0   \n",
       "\n",
       "   bsmtfinsf2  bsmtunfsf  totalbsmtsf  firstflrsf  ...  openporchsf  \\\n",
       "0         0.0      847.0        847.0       847.0  ...         48.0   \n",
       "1         0.0      386.0        807.0      1175.0  ...         84.0   \n",
       "2         0.0      595.0       1580.0      1079.0  ...        231.0   \n",
       "3         0.0      916.0       1845.0      1872.0  ...         39.0   \n",
       "4         0.0      397.0        832.0      1218.0  ...         96.0   \n",
       "\n",
       "   enclosedporch  threessnporch  screenporch  poolarea  miscval  mosold  \\\n",
       "0            0.0            0.0          0.0       0.0      0.0     5.0   \n",
       "1            0.0          196.0          0.0       0.0      0.0     1.0   \n",
       "2            0.0            0.0          0.0       0.0      0.0     6.0   \n",
       "3            0.0            0.0          0.0       0.0      0.0     6.0   \n",
       "4            0.0            0.0          0.0       0.0      0.0     4.0   \n",
       "\n",
       "   yrsold  saleprice  logsaleprice  \n",
       "0  2008.0   163000.0     12.001506  \n",
       "1  2007.0   228500.0     12.339292  \n",
       "2  2007.0   240000.0     12.388394  \n",
       "3  2006.0   241500.0     12.394625  \n",
       "4  2008.0   163000.0     12.001506  \n",
       "\n",
       "[5 rows x 35 columns]"
      ]
     },
     "execution_count": 28,
     "metadata": {},
     "output_type": "execute_result"
    }
   ],
   "source": [
    "df_validation.head(5)"
   ]
  },
  {
   "cell_type": "code",
   "execution_count": 29,
   "id": "b3f3f735-fdc2-4506-95a3-290239a5bfe2",
   "metadata": {},
   "outputs": [
    {
     "data": {
      "text/html": [
       "<div>\n",
       "<style scoped>\n",
       "    .dataframe tbody tr th:only-of-type {\n",
       "        vertical-align: middle;\n",
       "    }\n",
       "\n",
       "    .dataframe tbody tr th {\n",
       "        vertical-align: top;\n",
       "    }\n",
       "\n",
       "    .dataframe thead th {\n",
       "        text-align: right;\n",
       "    }\n",
       "</style>\n",
       "<table border=\"1\" class=\"dataframe\">\n",
       "  <thead>\n",
       "    <tr style=\"text-align: right;\">\n",
       "      <th></th>\n",
       "      <th>mssubclass</th>\n",
       "      <th>lotarea</th>\n",
       "      <th>yearbuilt</th>\n",
       "      <th>yearremodadd</th>\n",
       "      <th>masvnrarea</th>\n",
       "      <th>bsmtfinsf1</th>\n",
       "      <th>bsmtfinsf2</th>\n",
       "      <th>bsmtunfsf</th>\n",
       "      <th>totalbsmtsf</th>\n",
       "      <th>firstflrsf</th>\n",
       "      <th>...</th>\n",
       "      <th>wooddecksf</th>\n",
       "      <th>openporchsf</th>\n",
       "      <th>enclosedporch</th>\n",
       "      <th>threessnporch</th>\n",
       "      <th>screenporch</th>\n",
       "      <th>poolarea</th>\n",
       "      <th>miscval</th>\n",
       "      <th>mosold</th>\n",
       "      <th>yrsold</th>\n",
       "      <th>logsaleprice</th>\n",
       "    </tr>\n",
       "  </thead>\n",
       "  <tbody>\n",
       "    <tr>\n",
       "      <th>0</th>\n",
       "      <td>20.0</td>\n",
       "      <td>7024.0</td>\n",
       "      <td>2005.0</td>\n",
       "      <td>2006.0</td>\n",
       "      <td>0.0</td>\n",
       "      <td>980.0</td>\n",
       "      <td>0.0</td>\n",
       "      <td>110.0</td>\n",
       "      <td>1090.0</td>\n",
       "      <td>1090.0</td>\n",
       "      <td>...</td>\n",
       "      <td>0.0</td>\n",
       "      <td>49.0</td>\n",
       "      <td>0.0</td>\n",
       "      <td>0.0</td>\n",
       "      <td>0.0</td>\n",
       "      <td>0.0</td>\n",
       "      <td>0.0</td>\n",
       "      <td>6.0</td>\n",
       "      <td>2007.0</td>\n",
       "      <td>11.964001</td>\n",
       "    </tr>\n",
       "    <tr>\n",
       "      <th>1</th>\n",
       "      <td>20.0</td>\n",
       "      <td>10402.0</td>\n",
       "      <td>2009.0</td>\n",
       "      <td>2009.0</td>\n",
       "      <td>0.0</td>\n",
       "      <td>0.0</td>\n",
       "      <td>0.0</td>\n",
       "      <td>1226.0</td>\n",
       "      <td>1226.0</td>\n",
       "      <td>1226.0</td>\n",
       "      <td>...</td>\n",
       "      <td>0.0</td>\n",
       "      <td>36.0</td>\n",
       "      <td>0.0</td>\n",
       "      <td>0.0</td>\n",
       "      <td>0.0</td>\n",
       "      <td>0.0</td>\n",
       "      <td>0.0</td>\n",
       "      <td>5.0</td>\n",
       "      <td>2010.0</td>\n",
       "      <td>12.200558</td>\n",
       "    </tr>\n",
       "    <tr>\n",
       "      <th>2</th>\n",
       "      <td>30.0</td>\n",
       "      <td>10914.0</td>\n",
       "      <td>1929.0</td>\n",
       "      <td>1950.0</td>\n",
       "      <td>0.0</td>\n",
       "      <td>0.0</td>\n",
       "      <td>0.0</td>\n",
       "      <td>715.0</td>\n",
       "      <td>715.0</td>\n",
       "      <td>715.0</td>\n",
       "      <td>...</td>\n",
       "      <td>0.0</td>\n",
       "      <td>0.0</td>\n",
       "      <td>75.0</td>\n",
       "      <td>0.0</td>\n",
       "      <td>112.0</td>\n",
       "      <td>0.0</td>\n",
       "      <td>0.0</td>\n",
       "      <td>8.0</td>\n",
       "      <td>2006.0</td>\n",
       "      <td>12.001506</td>\n",
       "    </tr>\n",
       "    <tr>\n",
       "      <th>3</th>\n",
       "      <td>50.0</td>\n",
       "      <td>6000.0</td>\n",
       "      <td>1929.0</td>\n",
       "      <td>1950.0</td>\n",
       "      <td>0.0</td>\n",
       "      <td>0.0</td>\n",
       "      <td>0.0</td>\n",
       "      <td>862.0</td>\n",
       "      <td>862.0</td>\n",
       "      <td>950.0</td>\n",
       "      <td>...</td>\n",
       "      <td>0.0</td>\n",
       "      <td>0.0</td>\n",
       "      <td>112.0</td>\n",
       "      <td>0.0</td>\n",
       "      <td>0.0</td>\n",
       "      <td>0.0</td>\n",
       "      <td>0.0</td>\n",
       "      <td>7.0</td>\n",
       "      <td>2008.0</td>\n",
       "      <td>11.695247</td>\n",
       "    </tr>\n",
       "    <tr>\n",
       "      <th>4</th>\n",
       "      <td>30.0</td>\n",
       "      <td>7392.0</td>\n",
       "      <td>1930.0</td>\n",
       "      <td>1995.0</td>\n",
       "      <td>0.0</td>\n",
       "      <td>0.0</td>\n",
       "      <td>0.0</td>\n",
       "      <td>520.0</td>\n",
       "      <td>520.0</td>\n",
       "      <td>912.0</td>\n",
       "      <td>...</td>\n",
       "      <td>0.0</td>\n",
       "      <td>90.0</td>\n",
       "      <td>0.0</td>\n",
       "      <td>0.0</td>\n",
       "      <td>0.0</td>\n",
       "      <td>0.0</td>\n",
       "      <td>0.0</td>\n",
       "      <td>5.0</td>\n",
       "      <td>2008.0</td>\n",
       "      <td>12.001506</td>\n",
       "    </tr>\n",
       "  </tbody>\n",
       "</table>\n",
       "<p>5 rows × 34 columns</p>\n",
       "</div>"
      ],
      "text/plain": [
       "   mssubclass  lotarea  yearbuilt  yearremodadd  masvnrarea  bsmtfinsf1  \\\n",
       "0        20.0   7024.0     2005.0        2006.0         0.0       980.0   \n",
       "1        20.0  10402.0     2009.0        2009.0         0.0         0.0   \n",
       "2        30.0  10914.0     1929.0        1950.0         0.0         0.0   \n",
       "3        50.0   6000.0     1929.0        1950.0         0.0         0.0   \n",
       "4        30.0   7392.0     1930.0        1995.0         0.0         0.0   \n",
       "\n",
       "   bsmtfinsf2  bsmtunfsf  totalbsmtsf  firstflrsf  ...  wooddecksf  \\\n",
       "0         0.0      110.0       1090.0      1090.0  ...         0.0   \n",
       "1         0.0     1226.0       1226.0      1226.0  ...         0.0   \n",
       "2         0.0      715.0        715.0       715.0  ...         0.0   \n",
       "3         0.0      862.0        862.0       950.0  ...         0.0   \n",
       "4         0.0      520.0        520.0       912.0  ...         0.0   \n",
       "\n",
       "   openporchsf  enclosedporch  threessnporch  screenporch  poolarea  miscval  \\\n",
       "0         49.0            0.0            0.0          0.0       0.0      0.0   \n",
       "1         36.0            0.0            0.0          0.0       0.0      0.0   \n",
       "2          0.0           75.0            0.0        112.0       0.0      0.0   \n",
       "3          0.0          112.0            0.0          0.0       0.0      0.0   \n",
       "4         90.0            0.0            0.0          0.0       0.0      0.0   \n",
       "\n",
       "   mosold  yrsold  logsaleprice  \n",
       "0     6.0  2007.0     11.964001  \n",
       "1     5.0  2010.0     12.200558  \n",
       "2     8.0  2006.0     12.001506  \n",
       "3     7.0  2008.0     11.695247  \n",
       "4     5.0  2008.0     12.001506  \n",
       "\n",
       "[5 rows x 34 columns]"
      ]
     },
     "execution_count": 29,
     "metadata": {},
     "output_type": "execute_result"
    }
   ],
   "source": [
    "df_test.head(5)"
   ]
  },
  {
   "cell_type": "markdown",
   "id": "fca99d50-5662-4f8a-8b16-d6f37b93cb50",
   "metadata": {},
   "source": [
    "### Save the data to the S3 bucket as CSV files"
   ]
  },
  {
   "cell_type": "code",
   "execution_count": 30,
   "id": "98bb03f6-8a58-4da3-9577-8d847459ef52",
   "metadata": {},
   "outputs": [
    {
     "data": {
      "text/plain": [
       "'\\n!pip install botocore==1.34.129 s3transfer==0.3.0 boto3==1.34.129\\n!pip install s3fs\\n'"
      ]
     },
     "execution_count": 30,
     "metadata": {},
     "output_type": "execute_result"
    }
   ],
   "source": [
    "'''\n",
    "!pip install botocore==1.34.129 s3transfer==0.3.0 boto3==1.34.129\n",
    "!pip install s3fs\n",
    "'''"
   ]
  },
  {
   "cell_type": "code",
   "execution_count": 31,
   "id": "13e751f6-dc67-442f-9b26-f294f1e9471d",
   "metadata": {},
   "outputs": [],
   "source": [
    "df_train.to_csv(f\"s3://{bucket_name}/processed/housing/train.csv\", header=False,  index=False)"
   ]
  },
  {
   "cell_type": "code",
   "execution_count": 32,
   "id": "6b13fef5-71c1-4c24-8f99-891c780a2811",
   "metadata": {},
   "outputs": [],
   "source": [
    "df_validation.to_csv(f\"s3://{bucket_name}/processed/housing/validation.csv\", header=False, index=False)"
   ]
  },
  {
   "cell_type": "code",
   "execution_count": 33,
   "id": "f0a556ad-727a-4594-b8ed-5ebd2bbac5a1",
   "metadata": {},
   "outputs": [],
   "source": [
    "df_test.to_csv(f\"s3://{bucket_name}/processed/housing/test.csv\", header=False, index=False)"
   ]
  },
  {
   "cell_type": "markdown",
   "id": "f2702056-e8a6-4453-b4bc-02dd5f249bae",
   "metadata": {},
   "source": [
    "### Train a model using SageMaker built-in XgBoost algorithm on the training data and validate it on the validation data\n",
    "1. set the container image for the XGBoost algorithm\n",
    "2. set the output path\n",
    "3. set the hyperparameters\n",
    "4. create an estimator\n",
    "5. fit the model to the training data and validate on the validation data"
   ]
  },
  {
   "cell_type": "code",
   "execution_count": 34,
   "id": "1122c002-3a41-40ef-ae8a-9ff8e0ebb708",
   "metadata": {},
   "outputs": [],
   "source": [
    "# set the container image for the XGBoost algorithm\n",
    "container = image_uris.retrieve(region=region, framework=\"xgboost\", version=\"latest\")"
   ]
  },
  {
   "cell_type": "code",
   "execution_count": 35,
   "id": "e9d08da9-f2a4-4deb-8068-08d11787aacf",
   "metadata": {},
   "outputs": [],
   "source": [
    "# set the output path\n",
    "output_path = f\"s3://{bucket_name}/housing/model\""
   ]
  },
  {
   "cell_type": "code",
   "execution_count": 36,
   "id": "b5479692-c8b3-42c4-bea2-eb87f1c894b6",
   "metadata": {},
   "outputs": [],
   "source": [
    "# set the hyperparameters\n",
    "hyperparameters = {\n",
    "    \"objective\": \"reg:linear\",\n",
    "    \"num_round\": \"100\",\n",
    "    \"max_depth\": \"5\",\n",
    "    \"eta\": \"0.2\",\n",
    "    \"gamma\": \"4\",\n",
    "    \"min_child_weight\": \"6\",\n",
    "    \"subsample\": \"0.7\",\n",
    "    \"silent\": \"0\",\n",
    "}"
   ]
  },
  {
   "cell_type": "code",
   "execution_count": 37,
   "id": "ef78b69d-e1e4-4910-a170-7883b2e43ead",
   "metadata": {},
   "outputs": [],
   "source": [
    "# create an estimator\n",
    "estimator = Estimator(\n",
    "    image_uri=container,\n",
    "    role=role,\n",
    "    instance_count=1,\n",
    "    instance_type=\"ml.m5.xlarge\",\n",
    "    output_path=output_path,\n",
    "    hyperparameters=hyperparameters,\n",
    ")"
   ]
  },
  {
   "cell_type": "code",
   "execution_count": 38,
   "id": "a541dc13-e69b-4a45-95cc-36e13537be37",
   "metadata": {},
   "outputs": [
    {
     "name": "stderr",
     "output_type": "stream",
     "text": [
      "INFO:sagemaker:Creating training-job with name: xgboost-2024-06-20-02-20-59-393\n"
     ]
    },
    {
     "name": "stdout",
     "output_type": "stream",
     "text": [
      "2024-06-20 02:20:59 Starting - Starting the training job...\n",
      "2024-06-20 02:21:15 Starting - Preparing the instances for training...\n",
      "2024-06-20 02:21:42 Downloading - Downloading input data...\n",
      "2024-06-20 02:22:07 Downloading - Downloading the training image...\n",
      "2024-06-20 02:22:53 Training - Training image download completed. Training in progress.\n",
      "2024-06-20 02:22:53 Uploading - Uploading generated training model\u001b[34mArguments: train\u001b[0m\n",
      "\u001b[34m[2024-06-20:02:22:46:INFO] Running standalone xgboost training.\u001b[0m\n",
      "\u001b[34m[2024-06-20:02:22:46:INFO] File size need to be processed in the node: 0.97mb. Available memory size in the node: 7988.06mb\u001b[0m\n",
      "\u001b[34m[2024-06-20:02:22:46:INFO] Determined delimiter of CSV input is ','\u001b[0m\n",
      "\u001b[34m[02:22:46] S3DistributionType set as FullyReplicated\u001b[0m\n",
      "\u001b[34m[02:22:46] 4086x34 matrix with 138924 entries loaded from /opt/ml/input/data/train?format=csv&label_column=0&delimiter=,\u001b[0m\n",
      "\u001b[34m[2024-06-20:02:22:46:INFO] Determined delimiter of CSV input is ','\u001b[0m\n",
      "\u001b[34m[02:22:46] S3DistributionType set as FullyReplicated\u001b[0m\n",
      "\u001b[34m[02:22:46] 1168x34 matrix with 39712 entries loaded from /opt/ml/input/data/validation?format=csv&label_column=0&delimiter=,\u001b[0m\n",
      "\u001b[34m[02:22:46] src/tree/updater_prune.cc:74: tree pruning end, 1 roots, 32 extra nodes, 0 pruned nodes, max_depth=5\u001b[0m\n",
      "\u001b[34m[0]#011train-rmse:58.0613#011validation-rmse:62.4913\u001b[0m\n",
      "\u001b[34m[02:22:46] src/tree/updater_prune.cc:74: tree pruning end, 1 roots, 36 extra nodes, 0 pruned nodes, max_depth=5\u001b[0m\n",
      "\u001b[34m[1]#011train-rmse:48.5389#011validation-rmse:53.3266\u001b[0m\n",
      "\u001b[34m[02:22:46] src/tree/updater_prune.cc:74: tree pruning end, 1 roots, 36 extra nodes, 0 pruned nodes, max_depth=5\u001b[0m\n",
      "\u001b[34m[2]#011train-rmse:41.0917#011validation-rmse:46.2864\u001b[0m\n",
      "\u001b[34m[02:22:46] src/tree/updater_prune.cc:74: tree pruning end, 1 roots, 34 extra nodes, 0 pruned nodes, max_depth=5\u001b[0m\n",
      "\u001b[34m[3]#011train-rmse:35.3795#011validation-rmse:41.0059\u001b[0m\n",
      "\u001b[34m[02:22:46] src/tree/updater_prune.cc:74: tree pruning end, 1 roots, 44 extra nodes, 0 pruned nodes, max_depth=5\u001b[0m\n",
      "\u001b[34m[4]#011train-rmse:31.1373#011validation-rmse:37.2066\u001b[0m\n",
      "\u001b[34m[02:22:46] src/tree/updater_prune.cc:74: tree pruning end, 1 roots, 42 extra nodes, 0 pruned nodes, max_depth=5\u001b[0m\n",
      "\u001b[34m[5]#011train-rmse:28.0181#011validation-rmse:34.4498\u001b[0m\n",
      "\u001b[34m[02:22:46] src/tree/updater_prune.cc:74: tree pruning end, 1 roots, 44 extra nodes, 0 pruned nodes, max_depth=5\u001b[0m\n",
      "\u001b[34m[6]#011train-rmse:25.7315#011validation-rmse:32.5678\u001b[0m\n",
      "\u001b[34m[02:22:46] src/tree/updater_prune.cc:74: tree pruning end, 1 roots, 48 extra nodes, 0 pruned nodes, max_depth=5\u001b[0m\n",
      "\u001b[34m[7]#011train-rmse:23.8062#011validation-rmse:31.0165\u001b[0m\n",
      "\u001b[34m[02:22:46] src/tree/updater_prune.cc:74: tree pruning end, 1 roots, 42 extra nodes, 0 pruned nodes, max_depth=5\u001b[0m\n",
      "\u001b[34m[8]#011train-rmse:22.5094#011validation-rmse:30.1508\u001b[0m\n",
      "\u001b[34m[02:22:46] src/tree/updater_prune.cc:74: tree pruning end, 1 roots, 44 extra nodes, 0 pruned nodes, max_depth=5\u001b[0m\n",
      "\u001b[34m[9]#011train-rmse:21.6531#011validation-rmse:29.4752\u001b[0m\n",
      "\u001b[34m[02:22:46] src/tree/updater_prune.cc:74: tree pruning end, 1 roots, 44 extra nodes, 0 pruned nodes, max_depth=5\u001b[0m\n",
      "\u001b[34m[10]#011train-rmse:20.8956#011validation-rmse:29.1089\u001b[0m\n",
      "\u001b[34m[02:22:46] src/tree/updater_prune.cc:74: tree pruning end, 1 roots, 44 extra nodes, 0 pruned nodes, max_depth=5\u001b[0m\n",
      "\u001b[34m[11]#011train-rmse:20.2848#011validation-rmse:28.6513\u001b[0m\n",
      "\u001b[34m[02:22:46] src/tree/updater_prune.cc:74: tree pruning end, 1 roots, 42 extra nodes, 0 pruned nodes, max_depth=5\u001b[0m\n",
      "\u001b[34m[12]#011train-rmse:19.9091#011validation-rmse:28.3473\u001b[0m\n",
      "\u001b[34m[02:22:46] src/tree/updater_prune.cc:74: tree pruning end, 1 roots, 52 extra nodes, 0 pruned nodes, max_depth=5\u001b[0m\n",
      "\u001b[34m[13]#011train-rmse:19.3716#011validation-rmse:27.9994\u001b[0m\n",
      "\u001b[34m[02:22:46] src/tree/updater_prune.cc:74: tree pruning end, 1 roots, 52 extra nodes, 0 pruned nodes, max_depth=5\u001b[0m\n",
      "\u001b[34m[14]#011train-rmse:18.7547#011validation-rmse:27.6107\u001b[0m\n",
      "\u001b[34m[02:22:46] src/tree/updater_prune.cc:74: tree pruning end, 1 roots, 42 extra nodes, 0 pruned nodes, max_depth=5\u001b[0m\n",
      "\u001b[34m[15]#011train-rmse:18.3051#011validation-rmse:27.4986\u001b[0m\n",
      "\u001b[34m[02:22:46] src/tree/updater_prune.cc:74: tree pruning end, 1 roots, 32 extra nodes, 0 pruned nodes, max_depth=5\u001b[0m\n",
      "\u001b[34m[16]#011train-rmse:18.0894#011validation-rmse:27.3385\u001b[0m\n",
      "\u001b[34m[02:22:46] src/tree/updater_prune.cc:74: tree pruning end, 1 roots, 40 extra nodes, 0 pruned nodes, max_depth=5\u001b[0m\n",
      "\u001b[34m[17]#011train-rmse:17.7134#011validation-rmse:27.1623\u001b[0m\n",
      "\u001b[34m[02:22:46] src/tree/updater_prune.cc:74: tree pruning end, 1 roots, 44 extra nodes, 0 pruned nodes, max_depth=5\u001b[0m\n",
      "\u001b[34m[18]#011train-rmse:17.3759#011validation-rmse:27.0658\u001b[0m\n",
      "\u001b[34m[02:22:46] src/tree/updater_prune.cc:74: tree pruning end, 1 roots, 20 extra nodes, 0 pruned nodes, max_depth=5\u001b[0m\n",
      "\u001b[34m[19]#011train-rmse:17.1969#011validation-rmse:26.9543\u001b[0m\n",
      "\u001b[34m[02:22:46] src/tree/updater_prune.cc:74: tree pruning end, 1 roots, 46 extra nodes, 0 pruned nodes, max_depth=5\u001b[0m\n",
      "\u001b[34m[20]#011train-rmse:16.8402#011validation-rmse:26.7707\u001b[0m\n",
      "\u001b[34m[02:22:46] src/tree/updater_prune.cc:74: tree pruning end, 1 roots, 38 extra nodes, 0 pruned nodes, max_depth=5\u001b[0m\n",
      "\u001b[34m[21]#011train-rmse:16.5637#011validation-rmse:26.766\u001b[0m\n",
      "\u001b[34m[02:22:46] src/tree/updater_prune.cc:74: tree pruning end, 1 roots, 52 extra nodes, 0 pruned nodes, max_depth=5\u001b[0m\n",
      "\u001b[34m[22]#011train-rmse:16.2393#011validation-rmse:26.5664\u001b[0m\n",
      "\u001b[34m[02:22:46] src/tree/updater_prune.cc:74: tree pruning end, 1 roots, 36 extra nodes, 0 pruned nodes, max_depth=5\u001b[0m\n",
      "\u001b[34m[23]#011train-rmse:15.9605#011validation-rmse:26.4735\u001b[0m\n",
      "\u001b[34m[02:22:46] src/tree/updater_prune.cc:74: tree pruning end, 1 roots, 38 extra nodes, 0 pruned nodes, max_depth=5\u001b[0m\n",
      "\u001b[34m[24]#011train-rmse:15.67#011validation-rmse:26.4186\u001b[0m\n",
      "\u001b[34m[02:22:46] src/tree/updater_prune.cc:74: tree pruning end, 1 roots, 24 extra nodes, 0 pruned nodes, max_depth=5\u001b[0m\n",
      "\u001b[34m[25]#011train-rmse:15.611#011validation-rmse:26.3938\u001b[0m\n",
      "\u001b[34m[02:22:46] src/tree/updater_prune.cc:74: tree pruning end, 1 roots, 48 extra nodes, 0 pruned nodes, max_depth=5\u001b[0m\n",
      "\u001b[34m[26]#011train-rmse:15.4088#011validation-rmse:26.3606\u001b[0m\n",
      "\u001b[34m[02:22:46] src/tree/updater_prune.cc:74: tree pruning end, 1 roots, 22 extra nodes, 0 pruned nodes, max_depth=5\u001b[0m\n",
      "\u001b[34m[27]#011train-rmse:15.3085#011validation-rmse:26.2899\u001b[0m\n",
      "\u001b[34m[02:22:46] src/tree/updater_prune.cc:74: tree pruning end, 1 roots, 14 extra nodes, 0 pruned nodes, max_depth=5\u001b[0m\n",
      "\u001b[34m[28]#011train-rmse:15.2423#011validation-rmse:26.3377\u001b[0m\n",
      "\u001b[34m[02:22:46] src/tree/updater_prune.cc:74: tree pruning end, 1 roots, 60 extra nodes, 0 pruned nodes, max_depth=5\u001b[0m\n",
      "\u001b[34m[29]#011train-rmse:14.767#011validation-rmse:26.1872\u001b[0m\n",
      "\u001b[34m[02:22:46] src/tree/updater_prune.cc:74: tree pruning end, 1 roots, 36 extra nodes, 0 pruned nodes, max_depth=5\u001b[0m\n",
      "\u001b[34m[30]#011train-rmse:14.6465#011validation-rmse:26.175\u001b[0m\n",
      "\u001b[34m[02:22:46] src/tree/updater_prune.cc:74: tree pruning end, 1 roots, 34 extra nodes, 0 pruned nodes, max_depth=5\u001b[0m\n",
      "\u001b[34m[31]#011train-rmse:14.5467#011validation-rmse:26.1339\u001b[0m\n",
      "\u001b[34m[02:22:46] src/tree/updater_prune.cc:74: tree pruning end, 1 roots, 34 extra nodes, 0 pruned nodes, max_depth=5\u001b[0m\n",
      "\u001b[34m[32]#011train-rmse:14.3974#011validation-rmse:25.9989\u001b[0m\n",
      "\u001b[34m[02:22:46] src/tree/updater_prune.cc:74: tree pruning end, 1 roots, 40 extra nodes, 0 pruned nodes, max_depth=5\u001b[0m\n",
      "\u001b[34m[33]#011train-rmse:14.293#011validation-rmse:25.9707\u001b[0m\n",
      "\u001b[34m[02:22:46] src/tree/updater_prune.cc:74: tree pruning end, 1 roots, 30 extra nodes, 0 pruned nodes, max_depth=5\u001b[0m\n",
      "\u001b[34m[34]#011train-rmse:14.2168#011validation-rmse:25.9666\u001b[0m\n",
      "\u001b[34m[02:22:46] src/tree/updater_prune.cc:74: tree pruning end, 1 roots, 36 extra nodes, 0 pruned nodes, max_depth=5\u001b[0m\n",
      "\u001b[34m[35]#011train-rmse:14.1195#011validation-rmse:26.0811\u001b[0m\n",
      "\u001b[34m[02:22:46] src/tree/updater_prune.cc:74: tree pruning end, 1 roots, 40 extra nodes, 0 pruned nodes, max_depth=5\u001b[0m\n",
      "\u001b[34m[36]#011train-rmse:13.8593#011validation-rmse:26.0858\u001b[0m\n",
      "\u001b[34m[02:22:46] src/tree/updater_prune.cc:74: tree pruning end, 1 roots, 34 extra nodes, 0 pruned nodes, max_depth=5\u001b[0m\n",
      "\u001b[34m[37]#011train-rmse:13.6549#011validation-rmse:25.9827\u001b[0m\n",
      "\u001b[34m[02:22:46] src/tree/updater_prune.cc:74: tree pruning end, 1 roots, 46 extra nodes, 0 pruned nodes, max_depth=5\u001b[0m\n",
      "\u001b[34m[38]#011train-rmse:13.4981#011validation-rmse:26.0039\u001b[0m\n",
      "\u001b[34m[02:22:46] src/tree/updater_prune.cc:74: tree pruning end, 1 roots, 32 extra nodes, 0 pruned nodes, max_depth=5\u001b[0m\n",
      "\u001b[34m[39]#011train-rmse:13.3755#011validation-rmse:25.939\u001b[0m\n",
      "\u001b[34m[02:22:46] src/tree/updater_prune.cc:74: tree pruning end, 1 roots, 34 extra nodes, 0 pruned nodes, max_depth=5\u001b[0m\n",
      "\u001b[34m[40]#011train-rmse:13.2893#011validation-rmse:25.9282\u001b[0m\n",
      "\u001b[34m[02:22:46] src/tree/updater_prune.cc:74: tree pruning end, 1 roots, 22 extra nodes, 0 pruned nodes, max_depth=5\u001b[0m\n",
      "\u001b[34m[41]#011train-rmse:13.1588#011validation-rmse:25.8863\u001b[0m\n",
      "\u001b[34m[02:22:46] src/tree/updater_prune.cc:74: tree pruning end, 1 roots, 38 extra nodes, 0 pruned nodes, max_depth=5\u001b[0m\n",
      "\u001b[34m[42]#011train-rmse:13.0587#011validation-rmse:25.9316\u001b[0m\n",
      "\u001b[34m[02:22:46] src/tree/updater_prune.cc:74: tree pruning end, 1 roots, 26 extra nodes, 0 pruned nodes, max_depth=5\u001b[0m\n",
      "\u001b[34m[43]#011train-rmse:13.0028#011validation-rmse:25.9465\u001b[0m\n",
      "\u001b[34m[02:22:46] src/tree/updater_prune.cc:74: tree pruning end, 1 roots, 30 extra nodes, 0 pruned nodes, max_depth=5\u001b[0m\n",
      "\u001b[34m[44]#011train-rmse:12.8677#011validation-rmse:25.949\u001b[0m\n",
      "\u001b[34m[02:22:46] src/tree/updater_prune.cc:74: tree pruning end, 1 roots, 36 extra nodes, 0 pruned nodes, max_depth=5\u001b[0m\n",
      "\u001b[34m[45]#011train-rmse:12.7868#011validation-rmse:25.9556\u001b[0m\n",
      "\u001b[34m[02:22:46] src/tree/updater_prune.cc:74: tree pruning end, 1 roots, 48 extra nodes, 0 pruned nodes, max_depth=5\u001b[0m\n",
      "\u001b[34m[46]#011train-rmse:12.4968#011validation-rmse:26.0093\u001b[0m\n",
      "\u001b[34m[02:22:46] src/tree/updater_prune.cc:74: tree pruning end, 1 roots, 46 extra nodes, 0 pruned nodes, max_depth=5\u001b[0m\n",
      "\u001b[34m[47]#011train-rmse:12.3166#011validation-rmse:26.0251\u001b[0m\n",
      "\u001b[34m[02:22:46] src/tree/updater_prune.cc:74: tree pruning end, 1 roots, 30 extra nodes, 0 pruned nodes, max_depth=5\u001b[0m\n",
      "\u001b[34m[48]#011train-rmse:12.2843#011validation-rmse:26.024\u001b[0m\n",
      "\u001b[34m[02:22:46] src/tree/updater_prune.cc:74: tree pruning end, 1 roots, 40 extra nodes, 0 pruned nodes, max_depth=5\u001b[0m\n",
      "\u001b[34m[49]#011train-rmse:12.1637#011validation-rmse:25.9873\u001b[0m\n",
      "\u001b[34m[02:22:46] src/tree/updater_prune.cc:74: tree pruning end, 1 roots, 40 extra nodes, 0 pruned nodes, max_depth=5\u001b[0m\n",
      "\u001b[34m[50]#011train-rmse:12.0595#011validation-rmse:25.987\u001b[0m\n",
      "\u001b[34m[02:22:46] src/tree/updater_prune.cc:74: tree pruning end, 1 roots, 42 extra nodes, 0 pruned nodes, max_depth=5\u001b[0m\n",
      "\u001b[34m[51]#011train-rmse:11.8545#011validation-rmse:26.0163\u001b[0m\n",
      "\u001b[34m[02:22:46] src/tree/updater_prune.cc:74: tree pruning end, 1 roots, 62 extra nodes, 0 pruned nodes, max_depth=5\u001b[0m\n",
      "\u001b[34m[52]#011train-rmse:11.543#011validation-rmse:26.0012\u001b[0m\n",
      "\u001b[34m[02:22:46] src/tree/updater_prune.cc:74: tree pruning end, 1 roots, 24 extra nodes, 0 pruned nodes, max_depth=5\u001b[0m\n",
      "\u001b[34m[53]#011train-rmse:11.5012#011validation-rmse:26.0178\u001b[0m\n",
      "\u001b[34m[02:22:46] src/tree/updater_prune.cc:74: tree pruning end, 1 roots, 48 extra nodes, 0 pruned nodes, max_depth=5\u001b[0m\n",
      "\u001b[34m[54]#011train-rmse:11.3072#011validation-rmse:26.0052\u001b[0m\n",
      "\u001b[34m[02:22:46] src/tree/updater_prune.cc:74: tree pruning end, 1 roots, 40 extra nodes, 0 pruned nodes, max_depth=5\u001b[0m\n",
      "\u001b[34m[55]#011train-rmse:11.1578#011validation-rmse:25.9766\u001b[0m\n",
      "\u001b[34m[02:22:46] src/tree/updater_prune.cc:74: tree pruning end, 1 roots, 18 extra nodes, 0 pruned nodes, max_depth=5\u001b[0m\n",
      "\u001b[34m[56]#011train-rmse:11.1222#011validation-rmse:25.981\u001b[0m\n",
      "\u001b[34m[02:22:46] src/tree/updater_prune.cc:74: tree pruning end, 1 roots, 26 extra nodes, 0 pruned nodes, max_depth=5\u001b[0m\n",
      "\u001b[34m[57]#011train-rmse:11.0897#011validation-rmse:25.9778\u001b[0m\n",
      "\u001b[34m[02:22:46] src/tree/updater_prune.cc:74: tree pruning end, 1 roots, 58 extra nodes, 0 pruned nodes, max_depth=5\u001b[0m\n",
      "\u001b[34m[58]#011train-rmse:10.8745#011validation-rmse:25.9198\u001b[0m\n",
      "\u001b[34m[02:22:46] src/tree/updater_prune.cc:74: tree pruning end, 1 roots, 38 extra nodes, 0 pruned nodes, max_depth=5\u001b[0m\n",
      "\u001b[34m[59]#011train-rmse:10.7872#011validation-rmse:25.9391\u001b[0m\n",
      "\u001b[34m[02:22:46] src/tree/updater_prune.cc:74: tree pruning end, 1 roots, 52 extra nodes, 0 pruned nodes, max_depth=5\u001b[0m\n",
      "\u001b[34m[60]#011train-rmse:10.596#011validation-rmse:25.8252\u001b[0m\n",
      "\u001b[34m[02:22:46] src/tree/updater_prune.cc:74: tree pruning end, 1 roots, 38 extra nodes, 0 pruned nodes, max_depth=5\u001b[0m\n",
      "\u001b[34m[61]#011train-rmse:10.5566#011validation-rmse:25.8526\u001b[0m\n",
      "\u001b[34m[02:22:46] src/tree/updater_prune.cc:74: tree pruning end, 1 roots, 40 extra nodes, 0 pruned nodes, max_depth=5\u001b[0m\n",
      "\u001b[34m[62]#011train-rmse:10.5127#011validation-rmse:25.8074\u001b[0m\n",
      "\u001b[34m[02:22:46] src/tree/updater_prune.cc:74: tree pruning end, 1 roots, 40 extra nodes, 0 pruned nodes, max_depth=5\u001b[0m\n",
      "\u001b[34m[63]#011train-rmse:10.3997#011validation-rmse:25.7657\u001b[0m\n",
      "\u001b[34m[02:22:46] src/tree/updater_prune.cc:74: tree pruning end, 1 roots, 46 extra nodes, 0 pruned nodes, max_depth=5\u001b[0m\n",
      "\u001b[34m[64]#011train-rmse:10.275#011validation-rmse:25.7079\u001b[0m\n",
      "\u001b[34m[02:22:46] src/tree/updater_prune.cc:74: tree pruning end, 1 roots, 38 extra nodes, 0 pruned nodes, max_depth=5\u001b[0m\n",
      "\u001b[34m[65]#011train-rmse:10.1453#011validation-rmse:25.663\u001b[0m\n",
      "\u001b[34m[02:22:46] src/tree/updater_prune.cc:74: tree pruning end, 1 roots, 26 extra nodes, 0 pruned nodes, max_depth=5\u001b[0m\n",
      "\u001b[34m[66]#011train-rmse:10.0728#011validation-rmse:25.6908\u001b[0m\n",
      "\u001b[34m[02:22:46] src/tree/updater_prune.cc:74: tree pruning end, 1 roots, 26 extra nodes, 0 pruned nodes, max_depth=5\u001b[0m\n",
      "\u001b[34m[67]#011train-rmse:10.0291#011validation-rmse:25.6964\u001b[0m\n",
      "\u001b[34m[02:22:46] src/tree/updater_prune.cc:74: tree pruning end, 1 roots, 36 extra nodes, 0 pruned nodes, max_depth=5\u001b[0m\n",
      "\u001b[34m[68]#011train-rmse:9.95233#011validation-rmse:25.6737\u001b[0m\n",
      "\u001b[34m[02:22:46] src/tree/updater_prune.cc:74: tree pruning end, 1 roots, 40 extra nodes, 0 pruned nodes, max_depth=5\u001b[0m\n",
      "\u001b[34m[69]#011train-rmse:9.8019#011validation-rmse:25.6929\u001b[0m\n",
      "\u001b[34m[02:22:46] src/tree/updater_prune.cc:74: tree pruning end, 1 roots, 34 extra nodes, 0 pruned nodes, max_depth=5\u001b[0m\n",
      "\u001b[34m[70]#011train-rmse:9.70167#011validation-rmse:25.7238\u001b[0m\n",
      "\u001b[34m[02:22:46] src/tree/updater_prune.cc:74: tree pruning end, 1 roots, 28 extra nodes, 0 pruned nodes, max_depth=5\u001b[0m\n",
      "\u001b[34m[71]#011train-rmse:9.65591#011validation-rmse:25.7163\u001b[0m\n",
      "\u001b[34m[02:22:46] src/tree/updater_prune.cc:74: tree pruning end, 1 roots, 26 extra nodes, 0 pruned nodes, max_depth=5\u001b[0m\n",
      "\u001b[34m[72]#011train-rmse:9.60307#011validation-rmse:25.7073\u001b[0m\n",
      "\u001b[34m[02:22:46] src/tree/updater_prune.cc:74: tree pruning end, 1 roots, 30 extra nodes, 0 pruned nodes, max_depth=5\u001b[0m\n",
      "\u001b[34m[73]#011train-rmse:9.55549#011validation-rmse:25.7242\u001b[0m\n",
      "\u001b[34m[02:22:46] src/tree/updater_prune.cc:74: tree pruning end, 1 roots, 50 extra nodes, 0 pruned nodes, max_depth=5\u001b[0m\n",
      "\u001b[34m[74]#011train-rmse:9.40772#011validation-rmse:25.6869\u001b[0m\n",
      "\u001b[34m[02:22:46] src/tree/updater_prune.cc:74: tree pruning end, 1 roots, 38 extra nodes, 0 pruned nodes, max_depth=5\u001b[0m\n",
      "\u001b[34m[75]#011train-rmse:9.30359#011validation-rmse:25.7222\u001b[0m\n",
      "\u001b[34m[02:22:46] src/tree/updater_prune.cc:74: tree pruning end, 1 roots, 50 extra nodes, 0 pruned nodes, max_depth=5\u001b[0m\n",
      "\u001b[34m[76]#011train-rmse:9.15158#011validation-rmse:25.7059\u001b[0m\n",
      "\u001b[34m[02:22:46] src/tree/updater_prune.cc:74: tree pruning end, 1 roots, 26 extra nodes, 0 pruned nodes, max_depth=5\u001b[0m\n",
      "\u001b[34m[77]#011train-rmse:9.08072#011validation-rmse:25.6883\u001b[0m\n",
      "\u001b[34m[02:22:46] src/tree/updater_prune.cc:74: tree pruning end, 1 roots, 30 extra nodes, 0 pruned nodes, max_depth=5\u001b[0m\n",
      "\u001b[34m[78]#011train-rmse:9.01699#011validation-rmse:25.625\u001b[0m\n",
      "\u001b[34m[02:22:46] src/tree/updater_prune.cc:74: tree pruning end, 1 roots, 26 extra nodes, 0 pruned nodes, max_depth=5\u001b[0m\n",
      "\u001b[34m[79]#011train-rmse:8.98416#011validation-rmse:25.6323\u001b[0m\n",
      "\u001b[34m[02:22:47] src/tree/updater_prune.cc:74: tree pruning end, 1 roots, 36 extra nodes, 0 pruned nodes, max_depth=5\u001b[0m\n",
      "\u001b[34m[80]#011train-rmse:8.89152#011validation-rmse:25.6419\u001b[0m\n",
      "\u001b[34m[02:22:47] src/tree/updater_prune.cc:74: tree pruning end, 1 roots, 36 extra nodes, 0 pruned nodes, max_depth=5\u001b[0m\n",
      "\u001b[34m[81]#011train-rmse:8.78537#011validation-rmse:25.621\u001b[0m\n",
      "\u001b[34m[02:22:47] src/tree/updater_prune.cc:74: tree pruning end, 1 roots, 32 extra nodes, 0 pruned nodes, max_depth=5\u001b[0m\n",
      "\u001b[34m[82]#011train-rmse:8.74003#011validation-rmse:25.6294\u001b[0m\n",
      "\u001b[34m[02:22:47] src/tree/updater_prune.cc:74: tree pruning end, 1 roots, 34 extra nodes, 0 pruned nodes, max_depth=5\u001b[0m\n",
      "\u001b[34m[83]#011train-rmse:8.69647#011validation-rmse:25.6385\u001b[0m\n",
      "\u001b[34m[02:22:47] src/tree/updater_prune.cc:74: tree pruning end, 1 roots, 44 extra nodes, 0 pruned nodes, max_depth=5\u001b[0m\n",
      "\u001b[34m[84]#011train-rmse:8.6144#011validation-rmse:25.5899\u001b[0m\n",
      "\u001b[34m[02:22:47] src/tree/updater_prune.cc:74: tree pruning end, 1 roots, 26 extra nodes, 0 pruned nodes, max_depth=5\u001b[0m\n",
      "\u001b[34m[85]#011train-rmse:8.56474#011validation-rmse:25.6144\u001b[0m\n",
      "\u001b[34m[02:22:47] src/tree/updater_prune.cc:74: tree pruning end, 1 roots, 28 extra nodes, 0 pruned nodes, max_depth=5\u001b[0m\n",
      "\u001b[34m[86]#011train-rmse:8.53318#011validation-rmse:25.6112\u001b[0m\n",
      "\u001b[34m[02:22:47] src/tree/updater_prune.cc:74: tree pruning end, 1 roots, 44 extra nodes, 0 pruned nodes, max_depth=5\u001b[0m\n",
      "\u001b[34m[87]#011train-rmse:8.49901#011validation-rmse:25.6091\u001b[0m\n",
      "\u001b[34m[02:22:47] src/tree/updater_prune.cc:74: tree pruning end, 1 roots, 26 extra nodes, 0 pruned nodes, max_depth=5\u001b[0m\n",
      "\u001b[34m[88]#011train-rmse:8.47241#011validation-rmse:25.608\u001b[0m\n",
      "\u001b[34m[02:22:47] src/tree/updater_prune.cc:74: tree pruning end, 1 roots, 48 extra nodes, 0 pruned nodes, max_depth=5\u001b[0m\n",
      "\u001b[34m[89]#011train-rmse:8.32884#011validation-rmse:25.5905\u001b[0m\n",
      "\u001b[34m[02:22:47] src/tree/updater_prune.cc:74: tree pruning end, 1 roots, 34 extra nodes, 0 pruned nodes, max_depth=5\u001b[0m\n",
      "\u001b[34m[90]#011train-rmse:8.22568#011validation-rmse:25.6036\u001b[0m\n",
      "\u001b[34m[02:22:47] src/tree/updater_prune.cc:74: tree pruning end, 1 roots, 40 extra nodes, 0 pruned nodes, max_depth=5\u001b[0m\n",
      "\u001b[34m[91]#011train-rmse:8.13291#011validation-rmse:25.6142\u001b[0m\n",
      "\u001b[34m[02:22:47] src/tree/updater_prune.cc:74: tree pruning end, 1 roots, 44 extra nodes, 0 pruned nodes, max_depth=5\u001b[0m\n",
      "\u001b[34m[92]#011train-rmse:8.0279#011validation-rmse:25.5915\u001b[0m\n",
      "\u001b[34m[02:22:47] src/tree/updater_prune.cc:74: tree pruning end, 1 roots, 52 extra nodes, 0 pruned nodes, max_depth=5\u001b[0m\n",
      "\u001b[34m[93]#011train-rmse:7.93544#011validation-rmse:25.6085\u001b[0m\n",
      "\u001b[34m[02:22:47] src/tree/updater_prune.cc:74: tree pruning end, 1 roots, 48 extra nodes, 0 pruned nodes, max_depth=5\u001b[0m\n",
      "\u001b[34m[94]#011train-rmse:7.85872#011validation-rmse:25.6293\u001b[0m\n",
      "\u001b[34m[02:22:47] src/tree/updater_prune.cc:74: tree pruning end, 1 roots, 24 extra nodes, 0 pruned nodes, max_depth=5\u001b[0m\n",
      "\u001b[34m[95]#011train-rmse:7.83749#011validation-rmse:25.6273\u001b[0m\n",
      "\u001b[34m[02:22:47] src/tree/updater_prune.cc:74: tree pruning end, 1 roots, 40 extra nodes, 0 pruned nodes, max_depth=5\u001b[0m\n",
      "\u001b[34m[96]#011train-rmse:7.74082#011validation-rmse:25.6783\u001b[0m\n",
      "\u001b[34m[02:22:47] src/tree/updater_prune.cc:74: tree pruning end, 1 roots, 52 extra nodes, 0 pruned nodes, max_depth=5\u001b[0m\n",
      "\u001b[34m[97]#011train-rmse:7.61602#011validation-rmse:25.7024\u001b[0m\n",
      "\u001b[34m[02:22:47] src/tree/updater_prune.cc:74: tree pruning end, 1 roots, 46 extra nodes, 0 pruned nodes, max_depth=5\u001b[0m\n",
      "\u001b[34m[98]#011train-rmse:7.52788#011validation-rmse:25.7243\u001b[0m\n",
      "\u001b[34m[02:22:47] src/tree/updater_prune.cc:74: tree pruning end, 1 roots, 28 extra nodes, 0 pruned nodes, max_depth=5\u001b[0m\n",
      "\u001b[34m[99]#011train-rmse:7.46274#011validation-rmse:25.7331\u001b[0m\n",
      "\n",
      "2024-06-20 02:23:06 Completed - Training job completed\n",
      "Training seconds: 84\n",
      "Billable seconds: 84\n"
     ]
    }
   ],
   "source": [
    "# fit the model to the training data and validate on the validation data\n",
    "estimator.fit(\n",
    "    {\n",
    "        \"train\": TrainingInput(\n",
    "            s3_data=f\"s3://{bucket_name}/processed/housing/train.csv\", content_type=\"text/csv\"\n",
    "        ),\n",
    "        \"validation\": TrainingInput(\n",
    "            s3_data=f\"s3://{bucket_name}/processed/housing/validation.csv\", content_type=\"text/csv\"\n",
    "        ),\n",
    "    }\n",
    ")"
   ]
  },
  {
   "cell_type": "markdown",
   "id": "769317b7-c939-4b4d-93b8-2696c381a3e8",
   "metadata": {},
   "source": [
    "### Upload the Sagemaker Model created during our training job to the Sagemaker Model Registry"
   ]
  },
  {
   "cell_type": "code",
   "execution_count": 39,
   "id": "1fdc4547-c632-497f-8dbc-72ba10688f12",
   "metadata": {},
   "outputs": [
    {
     "name": "stdout",
     "output_type": "stream",
     "text": [
      "sagemaker-xgboost-2024-06-20-02-23-41\n"
     ]
    }
   ],
   "source": [
    "# Get the current date and time\n",
    "current_datetime = datetime.datetime.now().strftime(\"%Y-%m-%d-%H-%M-%S\")\n",
    "# Update the model_name variable\n",
    "model_name = f\"sagemaker-xgboost-{current_datetime}\"\n",
    "print(model_name)"
   ]
  },
  {
   "cell_type": "code",
   "execution_count": 40,
   "id": "b671e482-860b-431e-ae6c-cc03677890f1",
   "metadata": {},
   "outputs": [
    {
     "name": "stdout",
     "output_type": "stream",
     "text": [
      "arn:aws:sagemaker:us-east-1:952054755114:model/sagemaker-xgboost-2024-06-20-02-23-41\n"
     ]
    }
   ],
   "source": [
    "# Saving training job information to be used in the ML lineage module\n",
    "training_job_info = estimator.latest_training_job.describe()\n",
    "if training_job_info != None:\n",
    "    \n",
    "    # Get the model data\n",
    "    model_data = training_job_info[\"ModelArtifacts\"][\"S3ModelArtifacts\"]\n",
    "    # Create the primary container\n",
    "    primary_container = {\"Image\": container, \"ModelDataUrl\": model_data}\n",
    "\n",
    "    # Save our model to the Sagemaker Model Registry\n",
    "    create_model_response = sagemaker_client.create_model(\n",
    "        ModelName=model_name, ExecutionRoleArn=role, PrimaryContainer=primary_container\n",
    "    )\n",
    "    print(create_model_response[\"ModelArn\"])"
   ]
  },
  {
   "cell_type": "code",
   "execution_count": 41,
   "id": "76b7db2a-ce4a-4e59-b159-2c6e28121919",
   "metadata": {},
   "outputs": [
    {
     "data": {
      "text/plain": [
       "{'TrainingJobName': 'xgboost-2024-06-20-02-20-59-393',\n",
       " 'TrainingJobArn': 'arn:aws:sagemaker:us-east-1:952054755114:training-job/xgboost-2024-06-20-02-20-59-393',\n",
       " 'ModelArtifacts': {'S3ModelArtifacts': 's3://housing-dataset-5435xx/housing/model/xgboost-2024-06-20-02-20-59-393/output/model.tar.gz'},\n",
       " 'TrainingJobStatus': 'Completed',\n",
       " 'SecondaryStatus': 'Completed',\n",
       " 'HyperParameters': {'eta': '0.2',\n",
       "  'gamma': '4',\n",
       "  'max_depth': '5',\n",
       "  'min_child_weight': '6',\n",
       "  'num_round': '100',\n",
       "  'objective': 'reg:linear',\n",
       "  'silent': '0',\n",
       "  'subsample': '0.7'},\n",
       " 'AlgorithmSpecification': {'TrainingImage': '811284229777.dkr.ecr.us-east-1.amazonaws.com/xgboost:latest',\n",
       "  'TrainingInputMode': 'File',\n",
       "  'MetricDefinitions': [{'Name': 'train:mae',\n",
       "    'Regex': '.*\\\\[[0-9]+\\\\].*#011train-mae:([-+]?[0-9]*\\\\.?[0-9]+(?:[eE][-+]?[0-9]+)?).*'},\n",
       "   {'Name': 'train:merror',\n",
       "    'Regex': '.*\\\\[[0-9]+\\\\].*#011train-merror:([-+]?[0-9]*\\\\.?[0-9]+(?:[eE][-+]?[0-9]+)?).*'},\n",
       "   {'Name': 'validation:mae',\n",
       "    'Regex': '.*\\\\[[0-9]+\\\\].*#011validation-mae:([-+]?[0-9]*\\\\.?[0-9]+(?:[eE][-+]?[0-9]+)?).*'},\n",
       "   {'Name': 'validation:logloss',\n",
       "    'Regex': '.*\\\\[[0-9]+\\\\].*#011validation-logloss:([-+]?[0-9]*\\\\.?[0-9]+(?:[eE][-+]?[0-9]+)?).*'},\n",
       "   {'Name': 'validation:macro_precision',\n",
       "    'Regex': '.*\\\\[[0-9]+\\\\].*#011validation-macro_precision:([-+]?[0-9]*\\\\.?[0-9]+(?:[eE][-+]?[0-9]+)?).*'},\n",
       "   {'Name': 'train:mlogloss',\n",
       "    'Regex': '.*\\\\[[0-9]+\\\\].*#011train-mlogloss:([-+]?[0-9]*\\\\.?[0-9]+(?:[eE][-+]?[0-9]+)?).*'},\n",
       "   {'Name': 'validation:binary_f_beta',\n",
       "    'Regex': '.*\\\\[[0-9]+\\\\].*#011validation-binary_f_beta:([-+]?[0-9]*\\\\.?[0-9]+(?:[eE][-+]?[0-9]+)?).*'},\n",
       "   {'Name': 'validation:precision_macro',\n",
       "    'Regex': '.*\\\\[[0-9]+\\\\].*#011validation-precision_macro:([-+]?[0-9]*\\\\.?[0-9]+(?:[eE][-+]?[0-9]+)?).*'},\n",
       "   {'Name': 'validation:recall',\n",
       "    'Regex': '.*\\\\[[0-9]+\\\\].*#011validation-recall:([-+]?[0-9]*\\\\.?[0-9]+(?:[eE][-+]?[0-9]+)?).*'},\n",
       "   {'Name': 'validation:precision',\n",
       "    'Regex': '.*\\\\[[0-9]+\\\\].*#011validation-precision:([-+]?[0-9]*\\\\.?[0-9]+(?:[eE][-+]?[0-9]+)?).*'},\n",
       "   {'Name': 'train:error',\n",
       "    'Regex': '.*\\\\[[0-9]+\\\\].*#011train-error:([-+]?[0-9]*\\\\.?[0-9]+(?:[eE][-+]?[0-9]+)?).*'},\n",
       "   {'Name': 'train:ndcg',\n",
       "    'Regex': '.*\\\\[[0-9]+\\\\].*#011train-ndcg:([-+]?[0-9]*\\\\.?[0-9]+(?:[eE][-+]?[0-9]+)?).*'},\n",
       "   {'Name': 'validation:map',\n",
       "    'Regex': '.*\\\\[[0-9]+\\\\].*#011validation-map:([-+]?[0-9]*\\\\.?[0-9]+(?:[eE][-+]?[0-9]+)?).*'},\n",
       "   {'Name': 'validation:auc',\n",
       "    'Regex': '.*\\\\[[0-9]+\\\\].*#011validation-auc:([-+]?[0-9]*\\\\.?[0-9]+(?:[eE][-+]?[0-9]+)?).*'},\n",
       "   {'Name': 'train:auc',\n",
       "    'Regex': '.*\\\\[[0-9]+\\\\].*#011train-auc:([-+]?[0-9]*\\\\.?[0-9]+(?:[eE][-+]?[0-9]+)?).*'},\n",
       "   {'Name': 'validation:error',\n",
       "    'Regex': '.*\\\\[[0-9]+\\\\].*#011validation-error:([-+]?[0-9]*\\\\.?[0-9]+(?:[eE][-+]?[0-9]+)?).*'},\n",
       "   {'Name': 'validation:merror',\n",
       "    'Regex': '.*\\\\[[0-9]+\\\\].*#011validation-merror:([-+]?[0-9]*\\\\.?[0-9]+(?:[eE][-+]?[0-9]+)?).*'},\n",
       "   {'Name': 'train:rmse',\n",
       "    'Regex': '.*\\\\[[0-9]+\\\\].*#011train-rmse:([-+]?[0-9]*\\\\.?[0-9]+(?:[eE][-+]?[0-9]+)?).*'},\n",
       "   {'Name': 'train:logloss',\n",
       "    'Regex': '.*\\\\[[0-9]+\\\\].*#011train-logloss:([-+]?[0-9]*\\\\.?[0-9]+(?:[eE][-+]?[0-9]+)?).*'},\n",
       "   {'Name': 'validation:balanced_accuracy',\n",
       "    'Regex': '.*\\\\[[0-9]+\\\\].*#011validation-balanced_accuracy:([-+]?[0-9]*\\\\.?[0-9]+(?:[eE][-+]?[0-9]+)?).*'},\n",
       "   {'Name': 'validation:rmse',\n",
       "    'Regex': '.*\\\\[[0-9]+\\\\].*#011validation-rmse:([-+]?[0-9]*\\\\.?[0-9]+(?:[eE][-+]?[0-9]+)?).*'},\n",
       "   {'Name': 'validation:mse',\n",
       "    'Regex': '.*\\\\[[0-9]+\\\\].*#011validation-mse:([-+]?[0-9]*\\\\.?[0-9]+(?:[eE][-+]?[0-9]+)?).*'},\n",
       "   {'Name': 'validation:ndcg',\n",
       "    'Regex': '.*\\\\[[0-9]+\\\\].*#011validation-ndcg:([-+]?[0-9]*\\\\.?[0-9]+(?:[eE][-+]?[0-9]+)?).*'},\n",
       "   {'Name': 'validation:macro_recall',\n",
       "    'Regex': '.*\\\\[[0-9]+\\\\].*#011validation-macro_recall:([-+]?[0-9]*\\\\.?[0-9]+(?:[eE][-+]?[0-9]+)?).*'},\n",
       "   {'Name': 'validation:r2',\n",
       "    'Regex': '.*\\\\[[0-9]+\\\\].*#011validation-r2:([-+]?[0-9]*\\\\.?[0-9]+(?:[eE][-+]?[0-9]+)?).*'},\n",
       "   {'Name': 'validation:recall_macro',\n",
       "    'Regex': '.*\\\\[[0-9]+\\\\].*#011validation-recall_macro:([-+]?[0-9]*\\\\.?[0-9]+(?:[eE][-+]?[0-9]+)?).*'},\n",
       "   {'Name': 'validation:mlogloss',\n",
       "    'Regex': '.*\\\\[[0-9]+\\\\].*#011validation-mlogloss:([-+]?[0-9]*\\\\.?[0-9]+(?:[eE][-+]?[0-9]+)?).*'},\n",
       "   {'Name': 'train:map',\n",
       "    'Regex': '.*\\\\[[0-9]+\\\\].*#011train-map:([-+]?[0-9]*\\\\.?[0-9]+(?:[eE][-+]?[0-9]+)?).*'},\n",
       "   {'Name': 'validation:macro_f_beta',\n",
       "    'Regex': '.*\\\\[[0-9]+\\\\].*#011validation-macro_f_beta:([-+]?[0-9]*\\\\.?[0-9]+(?:[eE][-+]?[0-9]+)?).*'}],\n",
       "  'EnableSageMakerMetricsTimeSeries': False},\n",
       " 'RoleArn': 'arn:aws:iam::952054755114:role/LabRole',\n",
       " 'InputDataConfig': [{'ChannelName': 'train',\n",
       "   'DataSource': {'S3DataSource': {'S3DataType': 'S3Prefix',\n",
       "     'S3Uri': 's3://housing-dataset-5435xx/processed/housing/train.csv',\n",
       "     'S3DataDistributionType': 'FullyReplicated'}},\n",
       "   'ContentType': 'text/csv',\n",
       "   'CompressionType': 'None',\n",
       "   'RecordWrapperType': 'None'},\n",
       "  {'ChannelName': 'validation',\n",
       "   'DataSource': {'S3DataSource': {'S3DataType': 'S3Prefix',\n",
       "     'S3Uri': 's3://housing-dataset-5435xx/processed/housing/validation.csv',\n",
       "     'S3DataDistributionType': 'FullyReplicated'}},\n",
       "   'ContentType': 'text/csv',\n",
       "   'CompressionType': 'None',\n",
       "   'RecordWrapperType': 'None'}],\n",
       " 'OutputDataConfig': {'KmsKeyId': '',\n",
       "  'S3OutputPath': 's3://housing-dataset-5435xx/housing/model',\n",
       "  'CompressionType': 'GZIP'},\n",
       " 'ResourceConfig': {'InstanceType': 'ml.m5.xlarge',\n",
       "  'InstanceCount': 1,\n",
       "  'VolumeSizeInGB': 30},\n",
       " 'StoppingCondition': {'MaxRuntimeInSeconds': 86400},\n",
       " 'CreationTime': datetime.datetime(2024, 6, 20, 2, 20, 59, 610000, tzinfo=tzlocal()),\n",
       " 'TrainingStartTime': datetime.datetime(2024, 6, 20, 2, 21, 42, 122000, tzinfo=tzlocal()),\n",
       " 'TrainingEndTime': datetime.datetime(2024, 6, 20, 2, 23, 6, 90000, tzinfo=tzlocal()),\n",
       " 'LastModifiedTime': datetime.datetime(2024, 6, 20, 2, 23, 6, 694000, tzinfo=tzlocal()),\n",
       " 'SecondaryStatusTransitions': [{'Status': 'Starting',\n",
       "   'StartTime': datetime.datetime(2024, 6, 20, 2, 20, 59, 610000, tzinfo=tzlocal()),\n",
       "   'EndTime': datetime.datetime(2024, 6, 20, 2, 21, 42, 122000, tzinfo=tzlocal()),\n",
       "   'StatusMessage': 'Preparing the instances for training'},\n",
       "  {'Status': 'Downloading',\n",
       "   'StartTime': datetime.datetime(2024, 6, 20, 2, 21, 42, 122000, tzinfo=tzlocal()),\n",
       "   'EndTime': datetime.datetime(2024, 6, 20, 2, 22, 37, 922000, tzinfo=tzlocal()),\n",
       "   'StatusMessage': 'Downloading the training image'},\n",
       "  {'Status': 'Training',\n",
       "   'StartTime': datetime.datetime(2024, 6, 20, 2, 22, 37, 922000, tzinfo=tzlocal()),\n",
       "   'EndTime': datetime.datetime(2024, 6, 20, 2, 22, 53, 324000, tzinfo=tzlocal()),\n",
       "   'StatusMessage': 'Training image download completed. Training in progress.'},\n",
       "  {'Status': 'Uploading',\n",
       "   'StartTime': datetime.datetime(2024, 6, 20, 2, 22, 53, 324000, tzinfo=tzlocal()),\n",
       "   'EndTime': datetime.datetime(2024, 6, 20, 2, 23, 6, 90000, tzinfo=tzlocal()),\n",
       "   'StatusMessage': 'Uploading generated training model'},\n",
       "  {'Status': 'Completed',\n",
       "   'StartTime': datetime.datetime(2024, 6, 20, 2, 23, 6, 90000, tzinfo=tzlocal()),\n",
       "   'EndTime': datetime.datetime(2024, 6, 20, 2, 23, 6, 90000, tzinfo=tzlocal()),\n",
       "   'StatusMessage': 'Training job completed'}],\n",
       " 'FinalMetricDataList': [{'MetricName': 'train:rmse',\n",
       "   'Value': 7.462739944458008,\n",
       "   'Timestamp': datetime.datetime(2024, 6, 20, 2, 22, 47, tzinfo=tzlocal())},\n",
       "  {'MetricName': 'validation:rmse',\n",
       "   'Value': 25.73310089111328,\n",
       "   'Timestamp': datetime.datetime(2024, 6, 20, 2, 22, 47, tzinfo=tzlocal())}],\n",
       " 'EnableNetworkIsolation': False,\n",
       " 'EnableInterContainerTrafficEncryption': False,\n",
       " 'EnableManagedSpotTraining': False,\n",
       " 'TrainingTimeInSeconds': 84,\n",
       " 'BillableTimeInSeconds': 84,\n",
       " 'DebugHookConfig': {'S3OutputPath': 's3://housing-dataset-5435xx/housing/model',\n",
       "  'CollectionConfigurations': []},\n",
       " 'ProfilerConfig': {'S3OutputPath': 's3://housing-dataset-5435xx/housing/model',\n",
       "  'ProfilingIntervalInMilliseconds': 500,\n",
       "  'DisableProfiler': False},\n",
       " 'ProfilingStatus': 'Enabled',\n",
       " 'ResponseMetadata': {'RequestId': '1a438dcd-9a22-4b55-9c51-d13eef9a164c',\n",
       "  'HTTPStatusCode': 200,\n",
       "  'HTTPHeaders': {'x-amzn-requestid': '1a438dcd-9a22-4b55-9c51-d13eef9a164c',\n",
       "   'content-type': 'application/x-amz-json-1.1',\n",
       "   'content-length': '7050',\n",
       "   'date': 'Thu, 20 Jun 2024 02:23:41 GMT'},\n",
       "  'RetryAttempts': 0}}"
      ]
     },
     "execution_count": 41,
     "metadata": {},
     "output_type": "execute_result"
    }
   ],
   "source": [
    "# Inspect Training Job Details\n",
    "training_job_info"
   ]
  },
  {
   "cell_type": "markdown",
   "id": "2a74d23d-4343-422c-9786-88af293c5308",
   "metadata": {},
   "source": [
    "### Host the trained XGBoost model as a SageMaker Endpoint"
   ]
  },
  {
   "cell_type": "code",
   "execution_count": 42,
   "id": "9494cb0a-a87c-4539-8827-ce4f8de24d01",
   "metadata": {},
   "outputs": [
    {
     "name": "stderr",
     "output_type": "stream",
     "text": [
      "INFO:sagemaker:Creating model with name: xgboost-2024-06-20-02-23-42-062\n",
      "INFO:sagemaker:Creating endpoint-config with name housing-endpoint\n",
      "INFO:sagemaker:Creating endpoint with name housing-endpoint\n"
     ]
    },
    {
     "name": "stdout",
     "output_type": "stream",
     "text": [
      "-----!"
     ]
    }
   ],
   "source": [
    "# deploy the model to an endpoint\n",
    "predictor = estimator.deploy(\n",
    "    initial_instance_count=1,\n",
    "    instance_type=\"ml.m5.xlarge\",\n",
    "    endpoint_name=\"housing-endpoint\",\n",
    "    wait=True,\n",
    ")"
   ]
  },
  {
   "cell_type": "code",
   "execution_count": 43,
   "id": "e10120dd-2277-41c0-8e09-51ca6842ffb2",
   "metadata": {},
   "outputs": [
    {
     "name": "stdout",
     "output_type": "stream",
     "text": [
      "housing-endpoint\n"
     ]
    }
   ],
   "source": [
    "print(predictor.endpoint_name)"
   ]
  },
  {
   "cell_type": "code",
   "execution_count": null,
   "id": "c98b5b0a-6ef0-4dd9-a851-ce837edc5c84",
   "metadata": {},
   "outputs": [],
   "source": [
    "# Extracting information from training_job_info\n",
    "model_data = training_job_info['ModelArtifacts']['S3ModelArtifacts']\n",
    "image_uri = training_job_info['AlgorithmSpecification']['TrainingImage']\n",
    "baseline_dataset = training_job_info['InputDataConfig'][0]['DataSource']['S3DataSource']['S3Uri']\n",
    "\n",
    "# Store the variables\n",
    "%store model_data\n",
    "%store image_uri\n",
    "%store baseline_dataset"
   ]
  },
  {
   "cell_type": "markdown",
   "id": "76afbb2b-1739-4ee7-8060-d4c70629c423",
   "metadata": {},
   "source": [
    "### Real time inference using the deployed endpoint"
   ]
  },
  {
   "cell_type": "code",
   "execution_count": 44,
   "id": "5a5cfd48-1dfc-49a3-884e-0d18fceb8da0",
   "metadata": {},
   "outputs": [
    {
     "data": {
      "text/html": [
       "<div>\n",
       "<style scoped>\n",
       "    .dataframe tbody tr th:only-of-type {\n",
       "        vertical-align: middle;\n",
       "    }\n",
       "\n",
       "    .dataframe tbody tr th {\n",
       "        vertical-align: top;\n",
       "    }\n",
       "\n",
       "    .dataframe thead th {\n",
       "        text-align: right;\n",
       "    }\n",
       "</style>\n",
       "<table border=\"1\" class=\"dataframe\">\n",
       "  <thead>\n",
       "    <tr style=\"text-align: right;\">\n",
       "      <th></th>\n",
       "      <th>0</th>\n",
       "      <th>1</th>\n",
       "      <th>2</th>\n",
       "      <th>3</th>\n",
       "      <th>4</th>\n",
       "      <th>5</th>\n",
       "      <th>6</th>\n",
       "      <th>7</th>\n",
       "      <th>8</th>\n",
       "      <th>9</th>\n",
       "      <th>...</th>\n",
       "      <th>574</th>\n",
       "      <th>575</th>\n",
       "      <th>576</th>\n",
       "      <th>577</th>\n",
       "      <th>578</th>\n",
       "      <th>579</th>\n",
       "      <th>580</th>\n",
       "      <th>581</th>\n",
       "      <th>582</th>\n",
       "      <th>583</th>\n",
       "    </tr>\n",
       "  </thead>\n",
       "  <tbody>\n",
       "    <tr>\n",
       "      <th>0</th>\n",
       "      <td>168.810226</td>\n",
       "      <td>142.669815</td>\n",
       "      <td>181.753235</td>\n",
       "      <td>136.428436</td>\n",
       "      <td>173.605499</td>\n",
       "      <td>169.296417</td>\n",
       "      <td>151.233002</td>\n",
       "      <td>152.473083</td>\n",
       "      <td>174.711182</td>\n",
       "      <td>171.090561</td>\n",
       "      <td>...</td>\n",
       "      <td>155.016632</td>\n",
       "      <td>156.93428</td>\n",
       "      <td>87.375931</td>\n",
       "      <td>132.90947</td>\n",
       "      <td>163.423004</td>\n",
       "      <td>141.263245</td>\n",
       "      <td>147.741699</td>\n",
       "      <td>175.709076</td>\n",
       "      <td>138.951355</td>\n",
       "      <td>154.498581</td>\n",
       "    </tr>\n",
       "  </tbody>\n",
       "</table>\n",
       "<p>1 rows × 584 columns</p>\n",
       "</div>"
      ],
      "text/plain": [
       "          0           1           2           3           4           5    \\\n",
       "0  168.810226  142.669815  181.753235  136.428436  173.605499  169.296417   \n",
       "\n",
       "          6           7           8           9    ...         574        575  \\\n",
       "0  151.233002  152.473083  174.711182  171.090561  ...  155.016632  156.93428   \n",
       "\n",
       "         576        577         578         579         580         581  \\\n",
       "0  87.375931  132.90947  163.423004  141.263245  147.741699  175.709076   \n",
       "\n",
       "          582         583  \n",
       "0  138.951355  154.498581  \n",
       "\n",
       "[1 rows x 584 columns]"
      ]
     },
     "execution_count": 44,
     "metadata": {},
     "output_type": "execute_result"
    }
   ],
   "source": [
    "# make predictions using the endpoint\n",
    "csv_data = df_test.to_csv(header=False, index=False)\n",
    "predictions = predictor.predict(csv_data, initial_args={\"ContentType\": \"text/csv\"}).decode(\"utf-8\")\n",
    "predictions = pd.read_csv(StringIO(predictions), header=None)\n",
    "predictions.head(5)"
   ]
  },
  {
   "cell_type": "markdown",
   "id": "6971fb6c-30b2-43e2-b253-af5153b09c4b",
   "metadata": {},
   "source": [
    "### Delete the endpoint"
   ]
  },
  {
   "cell_type": "code",
   "execution_count": 45,
   "id": "19ff6daa-e6f8-4f9c-bec1-44f55b1354ec",
   "metadata": {},
   "outputs": [
    {
     "name": "stderr",
     "output_type": "stream",
     "text": [
      "INFO:sagemaker:Deleting endpoint configuration with name: housing-endpoint\n",
      "INFO:sagemaker:Deleting endpoint with name: housing-endpoint\n"
     ]
    }
   ],
   "source": [
    "# delete the endpoint\n",
    "predictor.delete_endpoint()"
   ]
  },
  {
   "cell_type": "markdown",
   "id": "c1d993b3-848c-4e17-99ce-f7ad6bddcd72",
   "metadata": {},
   "source": [
    "### Shut down notebook resources"
   ]
  },
  {
   "cell_type": "code",
   "execution_count": 46,
   "id": "ccbde132-1a8a-49bd-93a7-7dcfca554bf7",
   "metadata": {},
   "outputs": [
    {
     "data": {
      "application/javascript": [
       "\n",
       "try {\n",
       "    Jupyter.notebook.save_checkpoint();\n",
       "    Jupyter.notebook.session.delete();\n",
       "}\n",
       "catch(err) {\n",
       "    // NoOp\n",
       "}\n"
      ],
      "text/plain": [
       "<IPython.core.display.Javascript object>"
      ]
     },
     "metadata": {},
     "output_type": "display_data"
    }
   ],
   "source": [
    "%%javascript\n",
    "\n",
    "try {\n",
    "    Jupyter.notebook.save_checkpoint();\n",
    "    Jupyter.notebook.session.delete();\n",
    "}\n",
    "catch(err) {\n",
    "    // NoOp\n",
    "}"
   ]
  },
  {
   "cell_type": "code",
   "execution_count": 47,
   "id": "1e95b87e-375e-4de7-84e4-428825b214aa",
   "metadata": {},
   "outputs": [
    {
     "data": {
      "text/html": [
       "\n",
       "<p><b>Shutting down your kernel for this notebook to release resources.</b></p>\n",
       "<button class=\"sm-command-button\" data-commandlinker-command=\"kernelmenu:shutdown\" style=\"display:none;\">Shutdown Kernel</button>\n",
       "        \n",
       "<script>\n",
       "try {\n",
       "    els = document.getElementsByClassName(\"sm-command-button\");\n",
       "    els[0].click();\n",
       "}\n",
       "catch(err) {\n",
       "    // NoOp\n",
       "}    \n",
       "</script>\n"
      ],
      "text/plain": [
       "<IPython.core.display.HTML object>"
      ]
     },
     "metadata": {},
     "output_type": "display_data"
    }
   ],
   "source": [
    "%%html\n",
    "\n",
    "<p><b>Shutting down your kernel for this notebook to release resources.</b></p>\n",
    "<button class=\"sm-command-button\" data-commandlinker-command=\"kernelmenu:shutdown\" style=\"display:none;\">Shutdown Kernel</button>\n",
    "        \n",
    "<script>\n",
    "try {\n",
    "    els = document.getElementsByClassName(\"sm-command-button\");\n",
    "    els[0].click();\n",
    "}\n",
    "catch(err) {\n",
    "    // NoOp\n",
    "}    \n",
    "</script>"
   ]
  },
  {
   "cell_type": "code",
   "execution_count": null,
   "id": "1c084fd5-fda9-4579-aa9e-3aee6f042fc3",
   "metadata": {},
   "outputs": [],
   "source": []
  },
  {
   "cell_type": "code",
   "execution_count": null,
   "id": "b284d469-9efb-46e2-af5a-25da044ec5f8",
   "metadata": {},
   "outputs": [],
   "source": []
  }
 ],
 "metadata": {
  "kernelspec": {
   "display_name": "Python 3 (ipykernel)",
   "language": "python",
   "name": "python3"
  },
  "language_info": {
   "codemirror_mode": {
    "name": "ipython",
    "version": 3
   },
   "file_extension": ".py",
   "mimetype": "text/x-python",
   "name": "python",
   "nbconvert_exporter": "python",
   "pygments_lexer": "ipython3",
   "version": "3.10.14"
  }
 },
 "nbformat": 4,
 "nbformat_minor": 5
}
