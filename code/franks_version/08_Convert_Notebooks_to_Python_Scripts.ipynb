{
 "cells": [
  {
   "cell_type": "markdown",
   "id": "a1a288f3-45ed-40d5-b4ee-9c092206ad55",
   "metadata": {},
   "source": [
    "# Convert Notebooks to Python Scripts"
   ]
  },
  {
   "cell_type": "markdown",
   "id": "e212335f-310d-4ba3-8abf-9f21160bba5c",
   "metadata": {},
   "source": [
    "### Import Libraries"
   ]
  },
  {
   "cell_type": "code",
   "execution_count": 1,
   "id": "6bcbd2ee-9a60-40d8-9ddf-c622fb277554",
   "metadata": {},
   "outputs": [
    {
     "name": "stdout",
     "output_type": "stream",
     "text": [
      "sagemaker.config INFO - Not applying SDK defaults from location: /etc/xdg/sagemaker/config.yaml\n",
      "sagemaker.config INFO - Not applying SDK defaults from location: /home/sagemaker-user/.config/sagemaker/config.yaml\n"
     ]
    }
   ],
   "source": [
    "import boto3\n",
    "import botocore\n",
    "import os\n",
    "import random\n",
    "import sagemaker"
   ]
  },
  {
   "cell_type": "markdown",
   "id": "f1519973-06fc-49a7-802d-91febf1aecd9",
   "metadata": {},
   "source": [
    "### Get Session Information"
   ]
  },
  {
   "cell_type": "code",
   "execution_count": 2,
   "id": "d765ec48-be95-4411-acde-56b9d84bc798",
   "metadata": {},
   "outputs": [],
   "source": [
    "# save Amazon information\n",
    "region = boto3.Session().region_name\n",
    "sagemaker_session = sagemaker.Session()\n",
    "s3 = boto3.client('s3', region_name=sagemaker_session.boto_region_name)"
   ]
  },
  {
   "cell_type": "markdown",
   "id": "cbf13bd5-c3e0-463b-b279-c51505096434",
   "metadata": {},
   "source": [
    "### Upload Scripts to S3 Bucket\n",
    "Logic: \n",
    "1. if S3 Bucket created, then just run the script to upload python scripts to S3 Bucket\n",
    "2. if S3 Bucket not there, then create the S3 Bucket and upload the python scripts to it"
   ]
  },
  {
   "cell_type": "code",
   "execution_count": 3,
   "id": "38340551-d287-4a53-858a-f9dec09e4000",
   "metadata": {},
   "outputs": [
    {
     "name": "stdout",
     "output_type": "stream",
     "text": [
      "Created new S3 bucket: python-script-6638\n"
     ]
    }
   ],
   "source": [
    "# Initialize bucket_name\n",
    "bucket_name = ''\n",
    "bucket_found = False  # Flag to track if bucket is found\n",
    "\n",
    "# Check if a bucket with 'python-script' exists\n",
    "boto3_session = boto3.Session()\n",
    "get_S3_Bucket = boto3_session.resource('s3')\n",
    "s3 = boto3.client('s3')  # Ensure you have an S3 client to create a bucket\n",
    "\n",
    "for bucket in get_S3_Bucket.buckets.all():\n",
    "    if 'python-script' in bucket.name:\n",
    "        bucket_name = bucket.name\n",
    "        print(f\"S3 Bucket for python script already exists: {bucket_name}\")\n",
    "        bucket_found = True  # Set flag to True if bucket is found\n",
    "        break\n",
    "\n",
    "if not bucket_found:  # If no bucket found, create a new one\n",
    "    # Define bucket name\n",
    "    bucket_name = 'python-script-'\n",
    "    random_int = random.randint(1000, 9999)  # Generate a random integer between 1000 and 9999\n",
    "    bucket_name += str(random_int)  # Append the random integer to the end of bucket_name\n",
    "\n",
    "    # Create a new S3 bucket\n",
    "    if boto3_session.region_name == 'us-east-1':\n",
    "        s3.create_bucket(Bucket=bucket_name)\n",
    "    else:\n",
    "        s3.create_bucket(\n",
    "            Bucket=bucket_name,\n",
    "            CreateBucketConfiguration={\n",
    "                'LocationConstraint': boto3_session.region_name\n",
    "            }\n",
    "        )\n",
    "    print(f\"Created new S3 bucket: {bucket_name}\")"
   ]
  },
  {
   "cell_type": "markdown",
   "id": "0d9291c7-6adb-4416-a99b-dcffd9a15caf",
   "metadata": {},
   "source": [
    "### Convert Notebooks to Python Scripts and Upload them to the S3 Bucket"
   ]
  },
  {
   "cell_type": "code",
   "execution_count": 4,
   "id": "38806dc3-a0c3-4f75-be59-321304f4e060",
   "metadata": {},
   "outputs": [
    {
     "name": "stdout",
     "output_type": "stream",
     "text": [
      "Python Script Bucket Name: python-script-6638\n"
     ]
    },
    {
     "name": "stderr",
     "output_type": "stream",
     "text": [
      "[NbConvertApp] Making directory s3://python-script-6638/\n",
      "[NbConvertApp] Converting notebook 01_Set_Up_Dependencies.ipynb to script\n",
      "[NbConvertApp] Writing 1588 bytes to s3:/python-script-6638/01_Set_Up_Dependencies.py\n",
      "[NbConvertApp] Converting notebook 02_Set_Up_S3.ipynb to script\n",
      "[NbConvertApp] Writing 2770 bytes to s3:/python-script-6638/02_Set_Up_S3.py\n",
      "[NbConvertApp] Converting notebook 03_Preprocess_Data.ipynb to script\n",
      "[NbConvertApp] Writing 2713 bytes to s3:/python-script-6638/03_Preprocess_Data.py\n",
      "[NbConvertApp] Converting notebook 04_Set_Up_Athena.ipynb to script\n",
      "[NbConvertApp] Writing 5283 bytes to s3:/python-script-6638/04_Set_Up_Athena.py\n",
      "[NbConvertApp] Converting notebook 06_Split_Data_and_Set_Up_Feature_Store.ipynb to script\n",
      "[NbConvertApp] Writing 13891 bytes to s3:/python-script-6638/06_Split_Data_and_Set_Up_Feature_Store.py\n",
      "[NbConvertApp] Converting notebook 07_Build_Train_Deploy_Model_and_Perform_Model_Monitoring.ipynb to script\n",
      "[NbConvertApp] Writing 23244 bytes to s3:/python-script-6638/07_Build_Train_Deploy_Model_and_Perform_Model_Monitoring.py\n"
     ]
    }
   ],
   "source": [
    "%run convert_notebooks_to_python_scripts.py"
   ]
  },
  {
   "cell_type": "code",
   "execution_count": null,
   "id": "316f85d9-25bb-44a2-9f04-6d0be108c197",
   "metadata": {},
   "outputs": [],
   "source": []
  }
 ],
 "metadata": {
  "kernelspec": {
   "display_name": "Python 3 (ipykernel)",
   "language": "python",
   "name": "python3"
  },
  "language_info": {
   "codemirror_mode": {
    "name": "ipython",
    "version": 3
   },
   "file_extension": ".py",
   "mimetype": "text/x-python",
   "name": "python",
   "nbconvert_exporter": "python",
   "pygments_lexer": "ipython3",
   "version": "3.10.14"
  }
 },
 "nbformat": 4,
 "nbformat_minor": 5
}
