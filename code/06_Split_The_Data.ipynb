{
 "cells": [
  {
   "cell_type": "markdown",
   "id": "e736b8f5-5aee-47be-a27b-1a234459caab",
   "metadata": {},
   "source": [
    "# Split the processed dataset into Train, Test, and Validation"
   ]
  },
  {
   "cell_type": "markdown",
   "id": "2e25ff59-4102-4984-bcad-59bc7dbc7fbd",
   "metadata": {},
   "source": [
    "### Import the Libraries"
   ]
  },
  {
   "cell_type": "code",
   "execution_count": 1,
   "id": "fb7ed77c-4cce-4a9d-8e13-61c7291ca0da",
   "metadata": {},
   "outputs": [
    {
     "name": "stdout",
     "output_type": "stream",
     "text": [
      "sagemaker.config INFO - Not applying SDK defaults from location: /etc/xdg/sagemaker/config.yaml\n",
      "sagemaker.config INFO - Not applying SDK defaults from location: /home/sagemaker-user/.config/sagemaker/config.yaml\n"
     ]
    },
    {
     "name": "stderr",
     "output_type": "stream",
     "text": [
      "/tmp/ipykernel_4524/3209399217.py:10: DeprecationWarning: Importing display from IPython.core.display is deprecated since IPython 7.14, please import from IPython display\n",
      "  from IPython.core.display import display, HTML\n"
     ]
    }
   ],
   "source": [
    "import awswrangler as wr\n",
    "import boto3\n",
    "import os\n",
    "import pandas as pd\n",
    "import sagemaker\n",
    "from sagemaker import get_execution_role\n",
    "from sagemaker.session import Session\n",
    "\n",
    "from sklearn.model_selection import train_test_split\n",
    "from IPython.core.display import display, HTML"
   ]
  },
  {
   "cell_type": "code",
   "execution_count": 2,
   "id": "283db6c3-e485-4b17-9903-f9f32768f9fe",
   "metadata": {},
   "outputs": [
    {
     "name": "stdout",
     "output_type": "stream",
     "text": [
      "Stored variables and their in-db values:\n",
      "bucket_name                                       -> 'wizard-of-tasks-dataset-54321'\n",
      "ingest_create_athena_db_passed                    -> True\n",
      "ingest_create_athena_table_tsv_passed             -> True\n",
      "s3_private_data_path_csv                          -> 's3://sagemaker-us-east-1-114106928417/aai-540-2-1\n",
      "s3_private_path_tsv                               -> 's3://sagemaker-us-east-1-114106928417/amazon-revi\n",
      "s3_public_data_path_csv                           -> '/home/sagemaker-user/aai-540-homework/homework-2-\n",
      "s3_public_path_tsv                                -> 's3://dsoaws/amazon-reviews-pds/tsv'\n",
      "setup_dependencies_passed                         -> True\n",
      "setup_s3_bucket_passed                            -> True\n"
     ]
    }
   ],
   "source": [
    "# check dependencies are stored\n",
    "%store"
   ]
  },
  {
   "cell_type": "code",
   "execution_count": 3,
   "id": "6e8d59fc-858c-437b-8cea-de15da3a33b3",
   "metadata": {},
   "outputs": [],
   "source": [
    "# save Amazon information\n",
    "account_id = boto3.client(\"sts\").get_caller_identity().get(\"Account\")\n",
    "region = boto3.Session().region_name\n",
    "role = get_execution_role()\n",
    "sagemaker_session = Session()\n",
    "s3 = boto3.client('s3', region_name=sagemaker_session.boto_region_name)"
   ]
  },
  {
   "cell_type": "code",
   "execution_count": 4,
   "id": "7061f4fd-8e9f-4086-932b-e57aec37c127",
   "metadata": {},
   "outputs": [
    {
     "name": "stdout",
     "output_type": "stream",
     "text": [
      "s3://wizard-of-tasks-dataset-54321/data/processed_data.csv\n"
     ]
    }
   ],
   "source": [
    "# get s3 path to data from stored variable\n",
    "%store -r bucket_name\n",
    "s3_processed_dataset_path = 's3://{}/data/processed_data.csv'.format(bucket_name)\n",
    "print(s3_processed_dataset_path)"
   ]
  },
  {
   "cell_type": "markdown",
   "id": "6897a4a1-5ace-42c1-bcdc-9cdebb3a22f9",
   "metadata": {},
   "source": [
    "### Import the data from S3 into Pandas Dataframe\n",
    "1. using aws wrangler\n",
    "2. review the dataset"
   ]
  },
  {
   "cell_type": "code",
   "execution_count": 5,
   "id": "80dc6599-3a13-40ce-b364-6815811abb4f",
   "metadata": {},
   "outputs": [],
   "source": [
    "df_processed_data = wr.s3.read_csv(path=s3_processed_dataset_path, sep='^')"
   ]
  },
  {
   "cell_type": "code",
   "execution_count": 6,
   "id": "7fe83ed7-c207-4f08-af06-c7ac5b99364d",
   "metadata": {},
   "outputs": [
    {
     "name": "stdout",
     "output_type": "stream",
     "text": [
      "<class 'pandas.core.frame.DataFrame'>\n",
      "RangeIndex: 1328 entries, 0 to 1327\n",
      "Data columns (total 14 columns):\n",
      " #   Column                 Non-Null Count  Dtype \n",
      "---  ------                 --------------  ----- \n",
      " 0   question               1328 non-null   object\n",
      " 1   intent_question        1328 non-null   object\n",
      " 2   history                1187 non-null   object\n",
      " 3   conversation_id        1328 non-null   object\n",
      " 4   document_url_question  1328 non-null   object\n",
      " 5   domain_question        1328 non-null   object\n",
      " 6   text_answer            1328 non-null   object\n",
      " 7   intent_answer          1328 non-null   object\n",
      " 8   domain_answer          1328 non-null   object\n",
      " 9   question_id            1328 non-null   object\n",
      " 10  title                  1328 non-null   object\n",
      " 11  description            1319 non-null   object\n",
      " 12  ingredients            570 non-null    object\n",
      " 13  steps                  1328 non-null   object\n",
      "dtypes: object(14)\n",
      "memory usage: 145.4+ KB\n"
     ]
    }
   ],
   "source": [
    "df_processed_data.info()"
   ]
  },
  {
   "cell_type": "code",
   "execution_count": 7,
   "id": "d51571c2-f48d-4c79-bb31-0ca8a8266d67",
   "metadata": {},
   "outputs": [
    {
     "data": {
      "text/html": [
       "<div>\n",
       "<style scoped>\n",
       "    .dataframe tbody tr th:only-of-type {\n",
       "        vertical-align: middle;\n",
       "    }\n",
       "\n",
       "    .dataframe tbody tr th {\n",
       "        vertical-align: top;\n",
       "    }\n",
       "\n",
       "    .dataframe thead th {\n",
       "        text-align: right;\n",
       "    }\n",
       "</style>\n",
       "<table border=\"1\" class=\"dataframe\">\n",
       "  <thead>\n",
       "    <tr style=\"text-align: right;\">\n",
       "      <th></th>\n",
       "      <th>question</th>\n",
       "      <th>intent_question</th>\n",
       "      <th>history</th>\n",
       "      <th>conversation_id</th>\n",
       "      <th>document_url_question</th>\n",
       "      <th>domain_question</th>\n",
       "      <th>text_answer</th>\n",
       "      <th>intent_answer</th>\n",
       "      <th>domain_answer</th>\n",
       "      <th>question_id</th>\n",
       "      <th>title</th>\n",
       "      <th>description</th>\n",
       "      <th>ingredients</th>\n",
       "      <th>steps</th>\n",
       "    </tr>\n",
       "  </thead>\n",
       "  <tbody>\n",
       "    <tr>\n",
       "      <th>0</th>\n",
       "      <td>How do we prepare the tree?</td>\n",
       "      <td>ask_question_recipe_steps</td>\n",
       "      <td>student: I'm ready for the first step now plea...</td>\n",
       "      <td>Wizard-of-Task-diy-1</td>\n",
       "      <td>https://www.wikihow.com/Start-a-Bonsai-Tree</td>\n",
       "      <td>diy</td>\n",
       "      <td>Have you selected a pot? This is a very import...</td>\n",
       "      <td>answer_question_recipe_steps</td>\n",
       "      <td>diy</td>\n",
       "      <td>diy-1-1</td>\n",
       "      <td>How to Start a Bonsai Tree</td>\n",
       "      <td>The ancient art of growing Bonsai trees is wel...</td>\n",
       "      <td>NaN</td>\n",
       "      <td>['Select a suitable species of tree for your c...</td>\n",
       "    </tr>\n",
       "    <tr>\n",
       "      <th>1</th>\n",
       "      <td>Ok, I have a nice dark green pot, perfect. Wha...</td>\n",
       "      <td>ask_question_ingredients_tools</td>\n",
       "      <td>student: I've got an idea of where I want it t...</td>\n",
       "      <td>Wizard-of-Task-diy-1</td>\n",
       "      <td>https://www.wikihow.com/Start-a-Bonsai-Tree</td>\n",
       "      <td>diy</td>\n",
       "      <td>Next we will prepare the tree for potting. The...</td>\n",
       "      <td>answer_question_recipe_steps</td>\n",
       "      <td>diy</td>\n",
       "      <td>diy-1-2</td>\n",
       "      <td>How to Start a Bonsai Tree</td>\n",
       "      <td>The ancient art of growing Bonsai trees is wel...</td>\n",
       "      <td>NaN</td>\n",
       "      <td>['Select a suitable species of tree for your c...</td>\n",
       "    </tr>\n",
       "    <tr>\n",
       "      <th>2</th>\n",
       "      <td>Does that mean basil grows best in the spring ...</td>\n",
       "      <td>ask_question_recipe_steps</td>\n",
       "      <td>student: Gotcha!  Once I have all those tools,...</td>\n",
       "      <td>Wizard-of-Task-diy-2</td>\n",
       "      <td>https://www.wikihow.com/Grow-Basil</td>\n",
       "      <td>diy</td>\n",
       "      <td>Yes, like most plants, basil likes a temperate...</td>\n",
       "      <td>answer_question_recipe_steps</td>\n",
       "      <td>diy</td>\n",
       "      <td>diy-2-3</td>\n",
       "      <td>How to Grow Basil</td>\n",
       "      <td>Basil is easy to grow, and transforms ordinary...</td>\n",
       "      <td>NaN</td>\n",
       "      <td>['Choose the kind of basil you wish to grow.',...</td>\n",
       "    </tr>\n",
       "    <tr>\n",
       "      <th>3</th>\n",
       "      <td>I don't really have access to those right now ...</td>\n",
       "      <td>ask_question_recipe_steps</td>\n",
       "      <td>student: Okay, now what should I do after that...</td>\n",
       "      <td>Wizard-of-Task-diy-3</td>\n",
       "      <td>https://www.wikihow.com/Remove-Salt-Build-up-o...</td>\n",
       "      <td>diy</td>\n",
       "      <td>You can just rub it on the main zipper piece</td>\n",
       "      <td>answer_question_recipe_steps</td>\n",
       "      <td>diy</td>\n",
       "      <td>diy-3-1</td>\n",
       "      <td>How to Remove Salt Build up on a Zipper</td>\n",
       "      <td>Whether it’s from roads and sidewalks in the w...</td>\n",
       "      <td>NaN</td>\n",
       "      <td>['Open the zipper as much as possible.', 'Use ...</td>\n",
       "    </tr>\n",
       "    <tr>\n",
       "      <th>4</th>\n",
       "      <td>If I could only choose one thing to decoupage ...</td>\n",
       "      <td>ask_question_recipe_steps</td>\n",
       "      <td>student: What is the easiest type of material ...</td>\n",
       "      <td>Wizard-of-Task-diy-5</td>\n",
       "      <td>https://www.wikihow.com/Decoupage</td>\n",
       "      <td>diy</td>\n",
       "      <td>I would highly recommend either decoupaging wo...</td>\n",
       "      <td>answer_question_recipe_steps</td>\n",
       "      <td>diy</td>\n",
       "      <td>diy-5-5</td>\n",
       "      <td>How to Decoupage</td>\n",
       "      <td>If you'd like to give new life to a piece of f...</td>\n",
       "      <td>NaN</td>\n",
       "      <td>['Cover your workspace with paper to protect i...</td>\n",
       "    </tr>\n",
       "  </tbody>\n",
       "</table>\n",
       "</div>"
      ],
      "text/plain": [
       "                                            question  \\\n",
       "0                       How do we prepare the tree?    \n",
       "1  Ok, I have a nice dark green pot, perfect. Wha...   \n",
       "2  Does that mean basil grows best in the spring ...   \n",
       "3  I don't really have access to those right now ...   \n",
       "4  If I could only choose one thing to decoupage ...   \n",
       "\n",
       "                  intent_question  \\\n",
       "0       ask_question_recipe_steps   \n",
       "1  ask_question_ingredients_tools   \n",
       "2       ask_question_recipe_steps   \n",
       "3       ask_question_recipe_steps   \n",
       "4       ask_question_recipe_steps   \n",
       "\n",
       "                                             history       conversation_id  \\\n",
       "0  student: I'm ready for the first step now plea...  Wizard-of-Task-diy-1   \n",
       "1  student: I've got an idea of where I want it t...  Wizard-of-Task-diy-1   \n",
       "2  student: Gotcha!  Once I have all those tools,...  Wizard-of-Task-diy-2   \n",
       "3  student: Okay, now what should I do after that...  Wizard-of-Task-diy-3   \n",
       "4  student: What is the easiest type of material ...  Wizard-of-Task-diy-5   \n",
       "\n",
       "                               document_url_question domain_question  \\\n",
       "0        https://www.wikihow.com/Start-a-Bonsai-Tree             diy   \n",
       "1        https://www.wikihow.com/Start-a-Bonsai-Tree             diy   \n",
       "2                 https://www.wikihow.com/Grow-Basil             diy   \n",
       "3  https://www.wikihow.com/Remove-Salt-Build-up-o...             diy   \n",
       "4                  https://www.wikihow.com/Decoupage             diy   \n",
       "\n",
       "                                         text_answer  \\\n",
       "0  Have you selected a pot? This is a very import...   \n",
       "1  Next we will prepare the tree for potting. The...   \n",
       "2  Yes, like most plants, basil likes a temperate...   \n",
       "3       You can just rub it on the main zipper piece   \n",
       "4  I would highly recommend either decoupaging wo...   \n",
       "\n",
       "                  intent_answer domain_answer question_id  \\\n",
       "0  answer_question_recipe_steps           diy     diy-1-1   \n",
       "1  answer_question_recipe_steps           diy     diy-1-2   \n",
       "2  answer_question_recipe_steps           diy     diy-2-3   \n",
       "3  answer_question_recipe_steps           diy     diy-3-1   \n",
       "4  answer_question_recipe_steps           diy     diy-5-5   \n",
       "\n",
       "                                     title  \\\n",
       "0               How to Start a Bonsai Tree   \n",
       "1               How to Start a Bonsai Tree   \n",
       "2                        How to Grow Basil   \n",
       "3  How to Remove Salt Build up on a Zipper   \n",
       "4                         How to Decoupage   \n",
       "\n",
       "                                         description ingredients  \\\n",
       "0  The ancient art of growing Bonsai trees is wel...         NaN   \n",
       "1  The ancient art of growing Bonsai trees is wel...         NaN   \n",
       "2  Basil is easy to grow, and transforms ordinary...         NaN   \n",
       "3  Whether it’s from roads and sidewalks in the w...         NaN   \n",
       "4  If you'd like to give new life to a piece of f...         NaN   \n",
       "\n",
       "                                               steps  \n",
       "0  ['Select a suitable species of tree for your c...  \n",
       "1  ['Select a suitable species of tree for your c...  \n",
       "2  ['Choose the kind of basil you wish to grow.',...  \n",
       "3  ['Open the zipper as much as possible.', 'Use ...  \n",
       "4  ['Cover your workspace with paper to protect i...  "
      ]
     },
     "execution_count": 7,
     "metadata": {},
     "output_type": "execute_result"
    }
   ],
   "source": [
    "df_processed_data.head()"
   ]
  },
  {
   "cell_type": "markdown",
   "id": "bf35daf4-13aa-4fa4-8777-2248bb465e5b",
   "metadata": {},
   "source": [
    "### Perform Train, Test Split on the dataset\n",
    "1. Determine the count of conversations per conversationid\n",
    "2. Determine the count of conversationids and the count of conversations 'count'\n",
    "3. Use the count of the conversationids and count of conversations as the numbers to split the merged processed dataset, split it into Train, Validation, and Test"
   ]
  },
  {
   "cell_type": "code",
   "execution_count": 8,
   "id": "9acb84c4-4217-404a-b724-51fc184e85f1",
   "metadata": {},
   "outputs": [
    {
     "data": {
      "text/html": [
       "<div>\n",
       "<style scoped>\n",
       "    .dataframe tbody tr th:only-of-type {\n",
       "        vertical-align: middle;\n",
       "    }\n",
       "\n",
       "    .dataframe tbody tr th {\n",
       "        vertical-align: top;\n",
       "    }\n",
       "\n",
       "    .dataframe thead th {\n",
       "        text-align: right;\n",
       "    }\n",
       "</style>\n",
       "<table border=\"1\" class=\"dataframe\">\n",
       "  <thead>\n",
       "    <tr style=\"text-align: right;\">\n",
       "      <th></th>\n",
       "      <th>conversation_id</th>\n",
       "      <th>count</th>\n",
       "    </tr>\n",
       "  </thead>\n",
       "  <tbody>\n",
       "    <tr>\n",
       "      <th>0</th>\n",
       "      <td>Wizard-of-Task-diy-1</td>\n",
       "      <td>2</td>\n",
       "    </tr>\n",
       "    <tr>\n",
       "      <th>1</th>\n",
       "      <td>Wizard-of-Task-diy-10</td>\n",
       "      <td>3</td>\n",
       "    </tr>\n",
       "    <tr>\n",
       "      <th>2</th>\n",
       "      <td>Wizard-of-Task-diy-100</td>\n",
       "      <td>5</td>\n",
       "    </tr>\n",
       "    <tr>\n",
       "      <th>3</th>\n",
       "      <td>Wizard-of-Task-diy-101</td>\n",
       "      <td>1</td>\n",
       "    </tr>\n",
       "    <tr>\n",
       "      <th>4</th>\n",
       "      <td>Wizard-of-Task-diy-102</td>\n",
       "      <td>3</td>\n",
       "    </tr>\n",
       "    <tr>\n",
       "      <th>...</th>\n",
       "      <td>...</td>\n",
       "      <td>...</td>\n",
       "    </tr>\n",
       "    <tr>\n",
       "      <th>479</th>\n",
       "      <td>Wizard-of-Task-food-93</td>\n",
       "      <td>3</td>\n",
       "    </tr>\n",
       "    <tr>\n",
       "      <th>480</th>\n",
       "      <td>Wizard-of-Task-food-94</td>\n",
       "      <td>3</td>\n",
       "    </tr>\n",
       "    <tr>\n",
       "      <th>481</th>\n",
       "      <td>Wizard-of-Task-food-95</td>\n",
       "      <td>3</td>\n",
       "    </tr>\n",
       "    <tr>\n",
       "      <th>482</th>\n",
       "      <td>Wizard-of-Task-food-98</td>\n",
       "      <td>4</td>\n",
       "    </tr>\n",
       "    <tr>\n",
       "      <th>483</th>\n",
       "      <td>Wizard-of-Task-food-99</td>\n",
       "      <td>1</td>\n",
       "    </tr>\n",
       "  </tbody>\n",
       "</table>\n",
       "<p>484 rows × 2 columns</p>\n",
       "</div>"
      ],
      "text/plain": [
       "            conversation_id  count\n",
       "0      Wizard-of-Task-diy-1      2\n",
       "1     Wizard-of-Task-diy-10      3\n",
       "2    Wizard-of-Task-diy-100      5\n",
       "3    Wizard-of-Task-diy-101      1\n",
       "4    Wizard-of-Task-diy-102      3\n",
       "..                      ...    ...\n",
       "479  Wizard-of-Task-food-93      3\n",
       "480  Wizard-of-Task-food-94      3\n",
       "481  Wizard-of-Task-food-95      3\n",
       "482  Wizard-of-Task-food-98      4\n",
       "483  Wizard-of-Task-food-99      1\n",
       "\n",
       "[484 rows x 2 columns]"
      ]
     },
     "execution_count": 8,
     "metadata": {},
     "output_type": "execute_result"
    }
   ],
   "source": [
    "df_conversations = df_processed_data.groupby('conversation_id').count().reset_index()[['conversation_id','question']].rename(columns={'question':'count'})\n",
    "df_conversations.loc[32, 'count'] = 6 # for splitting to work properly\n",
    "df_conversations"
   ]
  },
  {
   "cell_type": "code",
   "execution_count": 9,
   "id": "828fab95-92ec-4d2f-8120-c3bf52128bdd",
   "metadata": {},
   "outputs": [
    {
     "name": "stdout",
     "output_type": "stream",
     "text": [
      "484\n",
      "484\n"
     ]
    }
   ],
   "source": [
    "conversations = list(df_conversations['conversation_id'])\n",
    "print(len(conversations))\n",
    "count = list(df_conversations['count'])\n",
    "print(len(count))"
   ]
  },
  {
   "cell_type": "code",
   "execution_count": 13,
   "id": "cdf82994-fdcd-481c-a1af-892188ff7f59",
   "metadata": {},
   "outputs": [],
   "source": [
    "conversation_train, conversation_test, count_train, _ = train_test_split(conversations, count,\n",
    "                                                               test_size=0.5, random_state = 30, stratify=None)\n",
    "\n",
    "conversation_train, conversations_val, _, _ = train_test_split(conversation_train, count_train, \n",
    "                                                               test_size=0.4, random_state= 42, stratify=None)"
   ]
  },
  {
   "cell_type": "code",
   "execution_count": 17,
   "id": "6ed7c338-6f66-49a8-b8f6-7922dda013b9",
   "metadata": {},
   "outputs": [
    {
     "data": {
      "text/html": [
       "<div>\n",
       "<style scoped>\n",
       "    .dataframe tbody tr th:only-of-type {\n",
       "        vertical-align: middle;\n",
       "    }\n",
       "\n",
       "    .dataframe tbody tr th {\n",
       "        vertical-align: top;\n",
       "    }\n",
       "\n",
       "    .dataframe thead th {\n",
       "        text-align: right;\n",
       "    }\n",
       "</style>\n",
       "<table border=\"1\" class=\"dataframe\">\n",
       "  <thead>\n",
       "    <tr style=\"text-align: right;\">\n",
       "      <th></th>\n",
       "      <th>data_split</th>\n",
       "      <th>question</th>\n",
       "      <th>intent_question</th>\n",
       "      <th>history</th>\n",
       "      <th>conversation_id</th>\n",
       "      <th>document_url_question</th>\n",
       "      <th>domain_question</th>\n",
       "      <th>text_answer</th>\n",
       "      <th>intent_answer</th>\n",
       "      <th>domain_answer</th>\n",
       "      <th>question_id</th>\n",
       "      <th>title</th>\n",
       "      <th>description</th>\n",
       "      <th>ingredients</th>\n",
       "      <th>steps</th>\n",
       "    </tr>\n",
       "  </thead>\n",
       "  <tbody>\n",
       "    <tr>\n",
       "      <th>0</th>\n",
       "      <td>test</td>\n",
       "      <td>653</td>\n",
       "      <td>653</td>\n",
       "      <td>583</td>\n",
       "      <td>653</td>\n",
       "      <td>653</td>\n",
       "      <td>653</td>\n",
       "      <td>653</td>\n",
       "      <td>653</td>\n",
       "      <td>653</td>\n",
       "      <td>653</td>\n",
       "      <td>653</td>\n",
       "      <td>644</td>\n",
       "      <td>262</td>\n",
       "      <td>653</td>\n",
       "    </tr>\n",
       "    <tr>\n",
       "      <th>1</th>\n",
       "      <td>train</td>\n",
       "      <td>404</td>\n",
       "      <td>404</td>\n",
       "      <td>364</td>\n",
       "      <td>404</td>\n",
       "      <td>404</td>\n",
       "      <td>404</td>\n",
       "      <td>404</td>\n",
       "      <td>404</td>\n",
       "      <td>404</td>\n",
       "      <td>404</td>\n",
       "      <td>404</td>\n",
       "      <td>404</td>\n",
       "      <td>191</td>\n",
       "      <td>404</td>\n",
       "    </tr>\n",
       "    <tr>\n",
       "      <th>2</th>\n",
       "      <td>validation</td>\n",
       "      <td>271</td>\n",
       "      <td>271</td>\n",
       "      <td>240</td>\n",
       "      <td>271</td>\n",
       "      <td>271</td>\n",
       "      <td>271</td>\n",
       "      <td>271</td>\n",
       "      <td>271</td>\n",
       "      <td>271</td>\n",
       "      <td>271</td>\n",
       "      <td>271</td>\n",
       "      <td>271</td>\n",
       "      <td>117</td>\n",
       "      <td>271</td>\n",
       "    </tr>\n",
       "  </tbody>\n",
       "</table>\n",
       "</div>"
      ],
      "text/plain": [
       "   data_split  question  intent_question  history  conversation_id  \\\n",
       "0        test       653              653      583              653   \n",
       "1       train       404              404      364              404   \n",
       "2  validation       271              271      240              271   \n",
       "\n",
       "   document_url_question  domain_question  text_answer  intent_answer  \\\n",
       "0                    653              653          653            653   \n",
       "1                    404              404          404            404   \n",
       "2                    271              271          271            271   \n",
       "\n",
       "   domain_answer  question_id  title  description  ingredients  steps  \n",
       "0            653          653    653          644          262    653  \n",
       "1            404          404    404          404          191    404  \n",
       "2            271          271    271          271          117    271  "
      ]
     },
     "execution_count": 17,
     "metadata": {},
     "output_type": "execute_result"
    }
   ],
   "source": [
    "split_data = df_processed_data\n",
    "split_data['data_split'] = split_data['conversation_id'].apply(lambda x: 'train' if x in conversation_train else 'test' if x in conversation_test else 'validation')\n",
    "split_data.groupby('data_split').count().reset_index()"
   ]
  },
  {
   "cell_type": "markdown",
   "id": "ab506a3a-d005-4810-8618-184d1c548f65",
   "metadata": {},
   "source": [
    "### Write the Split datasets to the S3 Bucket\n",
    "1. Define the S3 path\n",
    "2. Define the final split dataframe, train dataframe, validation dataframe, and test dataframe\n",
    "3. Convert the final split data to CSV and upload to S3\n",
    "4. Convert the train dataset to CSV and upload to S3\n",
    "5. Convert to validation dataset to CSV and upload to S3\n",
    "6. Convert the test dataset to CSV and upload to S3"
   ]
  },
  {
   "cell_type": "code",
   "execution_count": 18,
   "id": "316bbefe-7235-4680-ba1d-6102bc8a1882",
   "metadata": {},
   "outputs": [
    {
     "name": "stdout",
     "output_type": "stream",
     "text": [
      "s3://wizard-of-tasks-dataset-54321/data/\n"
     ]
    }
   ],
   "source": [
    "# Define the S3 path\n",
    "s3_path = 's3://{}/data/'.format(bucket_name)\n",
    "print(s3_path)"
   ]
  },
  {
   "cell_type": "code",
   "execution_count": 19,
   "id": "821a142c-ee8c-4cb6-ac3e-7b2b03ab056e",
   "metadata": {},
   "outputs": [
    {
     "name": "stdout",
     "output_type": "stream",
     "text": [
      "404\n",
      "271\n",
      "653\n"
     ]
    }
   ],
   "source": [
    "train_df = split_data[split_data['data_split'] == 'train']\n",
    "print(len(train_df))\n",
    "\n",
    "val_df = split_data[split_data['data_split'] == 'validation']\n",
    "print(len(val_df))\n",
    "test_df = split_data[split_data['data_split'] == 'test']\n",
    "print(len(test_df))"
   ]
  },
  {
   "cell_type": "code",
   "execution_count": 20,
   "id": "81751683-8fb2-4109-b502-64d42a4694ce",
   "metadata": {},
   "outputs": [
    {
     "data": {
      "text/plain": [
       "{'paths': ['s3://wizard-of-tasks-dataset-54321/data/test_df.csv'],\n",
       " 'partitions_values': {}}"
      ]
     },
     "execution_count": 20,
     "metadata": {},
     "output_type": "execute_result"
    }
   ],
   "source": [
    "# Convert final_split_data to CSV and upload to S3\n",
    "wr.s3.to_csv(split_data, f\"{s3_path}final_split_data.csv\", sep='^', index=False)\n",
    "\n",
    "# Convert train_df to CSV and upload to S3\n",
    "wr.s3.to_csv(train_df, f\"{s3_path}train_df.csv\", sep='^', index=False)\n",
    "\n",
    "# Convert val_df to CSV and upload to S3\n",
    "wr.s3.to_csv(val_df, f\"{s3_path}val_df.csv\", sep='^', index=False)\n",
    "\n",
    "# Convert test_df to CSV and upload to S3\n",
    "wr.s3.to_csv(test_df, f\"{s3_path}test_df.csv\", sep='^', index=False)"
   ]
  },
  {
   "cell_type": "markdown",
   "id": "28231f76-ea5e-4046-a36f-ceb59125b7c5",
   "metadata": {},
   "source": [
    "### Check that it uploaded using aws wrangler"
   ]
  },
  {
   "cell_type": "code",
   "execution_count": 25,
   "id": "ed7e597b-4e0d-46de-ba7d-3a2dadadbf8e",
   "metadata": {},
   "outputs": [
    {
     "data": {
      "text/plain": [
       "['my-athena-bucket-test123',\n",
       " 'sagemaker-us-east-1-114106928417',\n",
       " 'wizard-of-tasks-dataset',\n",
       " 'wizard-of-tasks-dataset-54321']"
      ]
     },
     "execution_count": 25,
     "metadata": {},
     "output_type": "execute_result"
    }
   ],
   "source": [
    "# List all buckets\n",
    "buckets = wr.s3.list_buckets()\n",
    "buckets"
   ]
  },
  {
   "cell_type": "code",
   "execution_count": 34,
   "id": "72ac4dd2-acb9-4173-8257-e6b4122ab52d",
   "metadata": {},
   "outputs": [
    {
     "name": "stdout",
     "output_type": "stream",
     "text": [
      "Dataset /wizard-of-tasks-dataset-54321/data/final_split_data.csv exists in bucket s3:.\n",
      "Dataset /wizard-of-tasks-dataset-54321/data/train_df.csv exists in bucket s3:.\n",
      "Dataset /wizard-of-tasks-dataset-54321/data/val_df.csv exists in bucket s3:.\n",
      "Dataset /wizard-of-tasks-dataset-54321/data/test_df does not exist in bucket s3:.\n"
     ]
    }
   ],
   "source": [
    "# Check if datasets exist\n",
    "dataset_paths = ['s3://{}/data/final_split_data.csv'.format(bucket_name), 's3://{}/data/train_df.csv'.format(bucket_name), 's3://{}/data/val_df.csv'.format(bucket_name), 's3://{}/data/test_df'.format(bucket_name)]\n",
    "for path in dataset_paths:\n",
    "    bucket, key = path.split('/', 1)\n",
    "    if wr.s3.does_object_exist(path):\n",
    "        print(f\"Dataset {key} exists in bucket {bucket}.\")\n",
    "    else:\n",
    "        print(f\"Dataset {key} does not exist in bucket {bucket}.\")"
   ]
  },
  {
   "cell_type": "markdown",
   "id": "f627c28a-1329-41ba-a220-a825464ccf48",
   "metadata": {},
   "source": [
    "### Shutdown Notebook"
   ]
  },
  {
   "cell_type": "code",
   "execution_count": 35,
   "id": "1ba9458b-1345-41a5-afc3-ca7c2a04fc47",
   "metadata": {},
   "outputs": [
    {
     "data": {
      "text/html": [
       "\n",
       "<p><b>Shutting down your kernel for this notebook to release resources.</b></p>\n",
       "<button class=\"sm-command-button\" data-commandlinker-command=\"kernelmenu:shutdown\" style=\"display:none;\">Shutdown Kernel</button>\n",
       "        \n",
       "<script>\n",
       "try {\n",
       "    els = document.getElementsByClassName(\"sm-command-button\");\n",
       "    els[0].click();\n",
       "}\n",
       "catch(err) {\n",
       "    // NoOp\n",
       "}    \n",
       "</script>\n"
      ],
      "text/plain": [
       "<IPython.core.display.HTML object>"
      ]
     },
     "metadata": {},
     "output_type": "display_data"
    }
   ],
   "source": [
    "%%html\n",
    "\n",
    "<p><b>Shutting down your kernel for this notebook to release resources.</b></p>\n",
    "<button class=\"sm-command-button\" data-commandlinker-command=\"kernelmenu:shutdown\" style=\"display:none;\">Shutdown Kernel</button>\n",
    "        \n",
    "<script>\n",
    "try {\n",
    "    els = document.getElementsByClassName(\"sm-command-button\");\n",
    "    els[0].click();\n",
    "}\n",
    "catch(err) {\n",
    "    // NoOp\n",
    "}    \n",
    "</script>"
   ]
  },
  {
   "cell_type": "code",
   "execution_count": 1,
   "id": "434dd378-c2ea-4399-b000-0f79e2a06dba",
   "metadata": {},
   "outputs": [
    {
     "data": {
      "application/javascript": [
       "\n",
       "try {\n",
       "    Jupyter.notebook.save_checkpoint();\n",
       "    Jupyter.notebook.session.delete();\n",
       "}\n",
       "catch(err) {\n",
       "    // NoOp\n",
       "}\n"
      ],
      "text/plain": [
       "<IPython.core.display.Javascript object>"
      ]
     },
     "metadata": {},
     "output_type": "display_data"
    }
   ],
   "source": [
    "%%javascript\n",
    "\n",
    "try {\n",
    "    Jupyter.notebook.save_checkpoint();\n",
    "    Jupyter.notebook.session.delete();\n",
    "}\n",
    "catch(err) {\n",
    "    // NoOp\n",
    "}"
   ]
  },
  {
   "cell_type": "code",
   "execution_count": null,
   "id": "525c02ee-65c5-4b77-9692-f6d99a19756a",
   "metadata": {},
   "outputs": [],
   "source": []
  }
 ],
 "metadata": {
  "kernelspec": {
   "display_name": "Python 3 (ipykernel)",
   "language": "python",
   "name": "python3"
  },
  "language_info": {
   "codemirror_mode": {
    "name": "ipython",
    "version": 3
   },
   "file_extension": ".py",
   "mimetype": "text/x-python",
   "name": "python",
   "nbconvert_exporter": "python",
   "pygments_lexer": "ipython3",
   "version": "3.10.14"
  }
 },
 "nbformat": 4,
 "nbformat_minor": 5
}
