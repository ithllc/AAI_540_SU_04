{
 "cells": [
  {
   "cell_type": "markdown",
   "id": "ee4071ef-692c-4172-86e7-902df6864f1a",
   "metadata": {},
   "source": [
    "### Import the libraries"
   ]
  },
  {
   "cell_type": "code",
   "execution_count": 2,
   "id": "73c6be9b-3fc8-4896-b088-e482567b9f33",
   "metadata": {},
   "outputs": [
    {
     "name": "stdout",
     "output_type": "stream",
     "text": [
      "sagemaker.config INFO - Not applying SDK defaults from location: /etc/xdg/sagemaker/config.yaml\n",
      "sagemaker.config INFO - Not applying SDK defaults from location: /home/sagemaker-user/.config/sagemaker/config.yaml\n"
     ]
    }
   ],
   "source": [
    "import boto3\n",
    "import pandas as pd\n",
    "import awswrangler as wr\n",
    "from io import StringIO\n",
    "from sagemaker import image_uris, TrainingInput\n",
    "from sagemaker.estimator import Estimator\n",
    "import datetime\n",
    "import boto3\n",
    "import awswrangler as wr\n",
    "import pandas as pd\n",
    "import sagemaker\n",
    "from sagemaker.session import Session\n",
    "from sagemaker.model_monitor import DataCaptureConfig\n",
    "from sagemaker.model_monitor.dataset_format import DatasetFormat\n",
    "from sagemaker.tuner import IntegerParameter, ContinuousParameter, HyperparameterTuner\n",
    "from sagemaker.feature_store.feature_group import FeatureGroup\n",
    "from io import StringIO\n",
    "import datetime"
   ]
  },
  {
   "cell_type": "code",
   "execution_count": 3,
   "id": "d2ff54e6-24f0-411d-94ee-dff64567bec0",
   "metadata": {},
   "outputs": [
    {
     "name": "stdout",
     "output_type": "stream",
     "text": [
      "Stored variables and their in-db values:\n",
      "baseline_dataset                       -> 's3://housing-dataset-5435v3/processed/housing/tra\n",
      "bucket_name                            -> 'housing-dataset-5435v3'\n",
      "image_uri                              -> '811284229777.dkr.ecr.us-east-1.amazonaws.com/xgbo\n",
      "model_data                             -> 's3://housing-dataset-5435v3/HousingTrain/pipeline\n",
      "pipeline_definition                    -> {'Version': '2020-12-01', 'Metadata': {}, 'Paramet\n",
      "role                                   -> 'arn:aws:iam::952054755114:role/LabRole'\n",
      "set_up_dependencies_passed             -> True\n",
      "set_up_s3_bucket_passed                -> True\n"
     ]
    }
   ],
   "source": [
    "%store"
   ]
  },
  {
   "cell_type": "code",
   "execution_count": 4,
   "id": "655dee4d-8506-4faf-a9e7-474bc0d8a247",
   "metadata": {},
   "outputs": [
    {
     "name": "stdout",
     "output_type": "stream",
     "text": [
      "housing-dataset-5435v3\n"
     ]
    }
   ],
   "source": [
    "# get bucket_name\n",
    "%store -r bucket_name\n",
    "print(bucket_name)"
   ]
  },
  {
   "cell_type": "code",
   "execution_count": 5,
   "id": "02ccfac9-7afb-45c7-8de3-d975fc7a8df4",
   "metadata": {},
   "outputs": [],
   "source": [
    "# save Amazon information\n",
    "account_id = boto3.client(\"sts\").get_caller_identity().get(\"Account\")\n",
    "region = boto3.Session().region_name\n",
    "role = sagemaker.get_execution_role()\n",
    "sagemaker_session = sagemaker.Session()\n",
    "s3 = boto3.client('s3', region_name=sagemaker_session.boto_region_name)"
   ]
  },
  {
   "cell_type": "code",
   "execution_count": 6,
   "id": "81562099-cbdc-45f0-b1d9-66929ef7a385",
   "metadata": {},
   "outputs": [],
   "source": [
    "boto_session = boto3.Session(region_name=region)\n",
    "sagemaker_client = boto_session.client(service_name='sagemaker', region_name=region)\n",
    "featurestore_runtime = boto_session.client(service_name='sagemaker-featurestore-runtime', region_name=region)\n",
    "\n",
    "feature_store_session = Session(\n",
    "    boto_session=boto_session,\n",
    "    sagemaker_client=sagemaker_client,\n",
    "    sagemaker_featurestore_runtime_client=featurestore_runtime\n",
    ")"
   ]
  },
  {
   "cell_type": "markdown",
   "id": "0ea87847-8168-4f89-aa16-6dd2cb99d63c",
   "metadata": {},
   "source": [
    "### Construct Athena queries to read the data from each offline feature store"
   ]
  },
  {
   "cell_type": "code",
   "execution_count": 7,
   "id": "93a29c28-ca50-4904-99db-a76f24071ee1",
   "metadata": {},
   "outputs": [],
   "source": [
    "train_feature_group_name = \"housing_train\"\n",
    "validation_feature_group_name = \"housing_validation\"\n",
    "test_feature_group_name = \"housing_test\""
   ]
  },
  {
   "cell_type": "code",
   "execution_count": 8,
   "id": "dbfd8f2d-5dac-401d-a7a5-a37f2887913c",
   "metadata": {},
   "outputs": [],
   "source": [
    "# set database name and table name\n",
    "database_name = \"housing\"\n",
    "table_name = \"data\""
   ]
  },
  {
   "cell_type": "code",
   "execution_count": 9,
   "id": "5e96f950-2a98-4000-af2d-ba665df13e26",
   "metadata": {},
   "outputs": [
    {
     "data": {
      "text/plain": [
       "{'FeatureGroupSummaries': [{'FeatureGroupName': 'housing_validation',\n",
       "   'FeatureGroupArn': 'arn:aws:sagemaker:us-east-1:952054755114:feature-group/housing_validation',\n",
       "   'CreationTime': datetime.datetime(2024, 6, 20, 22, 29, 54, 868000, tzinfo=tzlocal()),\n",
       "   'FeatureGroupStatus': 'Created',\n",
       "   'OfflineStoreStatus': {'Status': 'Active'}},\n",
       "  {'FeatureGroupName': 'housing_train',\n",
       "   'FeatureGroupArn': 'arn:aws:sagemaker:us-east-1:952054755114:feature-group/housing_train',\n",
       "   'CreationTime': datetime.datetime(2024, 6, 20, 22, 29, 33, 574000, tzinfo=tzlocal()),\n",
       "   'FeatureGroupStatus': 'Created',\n",
       "   'OfflineStoreStatus': {'Status': 'Active'}},\n",
       "  {'FeatureGroupName': 'housing_test',\n",
       "   'FeatureGroupArn': 'arn:aws:sagemaker:us-east-1:952054755114:feature-group/housing_test',\n",
       "   'CreationTime': datetime.datetime(2024, 6, 20, 22, 30, 13, 468000, tzinfo=tzlocal()),\n",
       "   'FeatureGroupStatus': 'Created',\n",
       "   'OfflineStoreStatus': {'Status': 'Active'}}],\n",
       " 'ResponseMetadata': {'RequestId': '9f17df37-42d0-4281-9792-147f7a6d7876',\n",
       "  'HTTPStatusCode': 200,\n",
       "  'HTTPHeaders': {'x-amzn-requestid': '9f17df37-42d0-4281-9792-147f7a6d7876',\n",
       "   'content-type': 'application/x-amz-json-1.1',\n",
       "   'content-length': '725',\n",
       "   'date': 'Mon, 24 Jun 2024 02:50:22 GMT'},\n",
       "  'RetryAttempts': 0}}"
      ]
     },
     "execution_count": 9,
     "metadata": {},
     "output_type": "execute_result"
    }
   ],
   "source": [
    "sagemaker_client.list_feature_groups()"
   ]
  },
  {
   "cell_type": "code",
   "execution_count": 10,
   "id": "083ddeb2-f5f7-4303-ad7a-3e500d1f3ee7",
   "metadata": {},
   "outputs": [],
   "source": [
    "# Initialize FeatureGroup\n",
    "train_feature_group = FeatureGroup(name=train_feature_group_name, sagemaker_session=sagemaker_session)"
   ]
  },
  {
   "cell_type": "code",
   "execution_count": 11,
   "id": "24d65841-fa7c-4b64-b88b-25ed03f25b42",
   "metadata": {},
   "outputs": [],
   "source": [
    "# Initialize FeatureGroup\n",
    "validation_feature_group = FeatureGroup(name=validation_feature_group_name, sagemaker_session=sagemaker_session)"
   ]
  },
  {
   "cell_type": "code",
   "execution_count": 12,
   "id": "4394f89b-ed91-4f77-8739-88e2d7d2234e",
   "metadata": {},
   "outputs": [],
   "source": [
    "# Initialize FeatureGroup\n",
    "test_feature_group = FeatureGroup(name=test_feature_group_name, sagemaker_session=sagemaker_session)"
   ]
  },
  {
   "cell_type": "code",
   "execution_count": 13,
   "id": "0cb2ff5f-d4e0-4bd6-bb73-9f27187fcbd2",
   "metadata": {},
   "outputs": [],
   "source": [
    "train_data_query = train_feature_group.athena_query()\n",
    "validation_data_query = validation_feature_group.athena_query()\n",
    "test_data_query = test_feature_group.athena_query()"
   ]
  },
  {
   "cell_type": "code",
   "execution_count": 14,
   "id": "73ef23bc-9185-4271-a0bb-3a62500b2c6e",
   "metadata": {},
   "outputs": [],
   "source": [
    "train_data_table = train_data_query.table_name\n",
    "validation_data_table = validation_data_query.table_name\n",
    "test_data_table = test_data_query.table_name"
   ]
  },
  {
   "cell_type": "code",
   "execution_count": 15,
   "id": "36abd8f1-ff37-4d55-8bdc-a2ba5ead08ab",
   "metadata": {},
   "outputs": [],
   "source": [
    "train_query = f\"\"\"\n",
    "SELECT * FROM \"{train_data_table}\"\n",
    "\"\"\""
   ]
  },
  {
   "cell_type": "code",
   "execution_count": 16,
   "id": "06c906e5-fe15-489a-80f6-42ea1f866f1a",
   "metadata": {},
   "outputs": [],
   "source": [
    "validation_query = f\"\"\"\n",
    "SELECT * FROM \"{validation_data_table}\"\n",
    "\"\"\""
   ]
  },
  {
   "cell_type": "code",
   "execution_count": 17,
   "id": "91a2e2a2-e6c0-4126-8730-6c05b5d23b65",
   "metadata": {},
   "outputs": [],
   "source": [
    "test_query = f\"\"\"\n",
    "SELECT * FROM \"{test_data_table}\"\n",
    "\"\"\""
   ]
  },
  {
   "cell_type": "markdown",
   "id": "64a46873-40de-4257-8c96-643e5ef629a0",
   "metadata": {},
   "source": [
    "### Execute queries and put into dataframes"
   ]
  },
  {
   "cell_type": "code",
   "execution_count": 18,
   "id": "3f75f20b-f8c4-448c-b40b-960423c37fb4",
   "metadata": {},
   "outputs": [],
   "source": [
    "# run Athena query. The output is loaded to a Pandas dataframe.\n",
    "df_train = pd.DataFrame()\n",
    "train_data_query.run(query_string=train_query, output_location='s3://'+bucket_name+'/query_results/train/')\n",
    "train_data_query.wait()\n",
    "df_train = train_data_query.as_dataframe()"
   ]
  },
  {
   "cell_type": "code",
   "execution_count": 19,
   "id": "5afe86e2-3e0c-4a1b-8f3f-8eb3d60396cc",
   "metadata": {},
   "outputs": [],
   "source": [
    "# run Athena query. The output is loaded to a Pandas dataframe.\n",
    "df_validation = pd.DataFrame()\n",
    "validation_data_query.run(query_string=validation_query, output_location='s3://'+bucket_name+'/query_results/validation/')\n",
    "validation_data_query.wait()\n",
    "df_validation = validation_data_query.as_dataframe()"
   ]
  },
  {
   "cell_type": "code",
   "execution_count": 20,
   "id": "16292033-2b5b-4f7b-b96f-ebfccd62793b",
   "metadata": {},
   "outputs": [],
   "source": [
    "# run Athena query. The output is loaded to a Pandas dataframe.\n",
    "df_test = pd.DataFrame()\n",
    "test_data_query.run(query_string=test_query, output_location='s3://'+bucket_name+'/query_results/test/')\n",
    "test_data_query.wait()\n",
    "df_test = test_data_query.as_dataframe()"
   ]
  },
  {
   "cell_type": "code",
   "execution_count": 21,
   "id": "44255f83-8ab6-4065-860b-112a96554c90",
   "metadata": {},
   "outputs": [
    {
     "data": {
      "text/html": [
       "<div>\n",
       "<style scoped>\n",
       "    .dataframe tbody tr th:only-of-type {\n",
       "        vertical-align: middle;\n",
       "    }\n",
       "\n",
       "    .dataframe tbody tr th {\n",
       "        vertical-align: top;\n",
       "    }\n",
       "\n",
       "    .dataframe thead th {\n",
       "        text-align: right;\n",
       "    }\n",
       "</style>\n",
       "<table border=\"1\" class=\"dataframe\">\n",
       "  <thead>\n",
       "    <tr style=\"text-align: right;\">\n",
       "      <th></th>\n",
       "      <th>id</th>\n",
       "      <th>mssubclass</th>\n",
       "      <th>lotarea</th>\n",
       "      <th>yearbuilt</th>\n",
       "      <th>yearremodadd</th>\n",
       "      <th>masvnrarea</th>\n",
       "      <th>bsmtfinsf1</th>\n",
       "      <th>bsmtfinsf2</th>\n",
       "      <th>bsmtunfsf</th>\n",
       "      <th>totalbsmtsf</th>\n",
       "      <th>...</th>\n",
       "      <th>poolarea</th>\n",
       "      <th>miscval</th>\n",
       "      <th>mosold</th>\n",
       "      <th>yrsold</th>\n",
       "      <th>saleprice</th>\n",
       "      <th>logsaleprice</th>\n",
       "      <th>event_time</th>\n",
       "      <th>write_time</th>\n",
       "      <th>api_invocation_time</th>\n",
       "      <th>is_deleted</th>\n",
       "    </tr>\n",
       "  </thead>\n",
       "  <tbody>\n",
       "    <tr>\n",
       "      <th>0</th>\n",
       "      <td>1987.0</td>\n",
       "      <td>20.0</td>\n",
       "      <td>3710.0</td>\n",
       "      <td>2007.0</td>\n",
       "      <td>2008.0</td>\n",
       "      <td>20.0</td>\n",
       "      <td>0.0</td>\n",
       "      <td>0.0</td>\n",
       "      <td>1146.0</td>\n",
       "      <td>1146.0</td>\n",
       "      <td>...</td>\n",
       "      <td>0.0</td>\n",
       "      <td>0.0</td>\n",
       "      <td>3.0</td>\n",
       "      <td>2008.0</td>\n",
       "      <td>163000.0</td>\n",
       "      <td>12.001506</td>\n",
       "      <td>1.718923e+09</td>\n",
       "      <td>2024-06-20 22:37:13.976</td>\n",
       "      <td>2024-06-20 22:32:17.000</td>\n",
       "      <td>False</td>\n",
       "    </tr>\n",
       "    <tr>\n",
       "      <th>1</th>\n",
       "      <td>1896.0</td>\n",
       "      <td>50.0</td>\n",
       "      <td>8212.0</td>\n",
       "      <td>1941.0</td>\n",
       "      <td>1950.0</td>\n",
       "      <td>0.0</td>\n",
       "      <td>626.0</td>\n",
       "      <td>0.0</td>\n",
       "      <td>94.0</td>\n",
       "      <td>720.0</td>\n",
       "      <td>...</td>\n",
       "      <td>0.0</td>\n",
       "      <td>0.0</td>\n",
       "      <td>9.0</td>\n",
       "      <td>2009.0</td>\n",
       "      <td>163000.0</td>\n",
       "      <td>12.001506</td>\n",
       "      <td>1.718923e+09</td>\n",
       "      <td>2024-06-20 22:37:13.976</td>\n",
       "      <td>2024-06-20 22:32:17.000</td>\n",
       "      <td>False</td>\n",
       "    </tr>\n",
       "    <tr>\n",
       "      <th>2</th>\n",
       "      <td>338.0</td>\n",
       "      <td>20.0</td>\n",
       "      <td>9135.0</td>\n",
       "      <td>2002.0</td>\n",
       "      <td>2003.0</td>\n",
       "      <td>113.0</td>\n",
       "      <td>810.0</td>\n",
       "      <td>0.0</td>\n",
       "      <td>726.0</td>\n",
       "      <td>1536.0</td>\n",
       "      <td>...</td>\n",
       "      <td>0.0</td>\n",
       "      <td>0.0</td>\n",
       "      <td>12.0</td>\n",
       "      <td>2008.0</td>\n",
       "      <td>214000.0</td>\n",
       "      <td>12.273731</td>\n",
       "      <td>1.718923e+09</td>\n",
       "      <td>2024-06-20 22:37:13.976</td>\n",
       "      <td>2024-06-20 22:32:17.000</td>\n",
       "      <td>False</td>\n",
       "    </tr>\n",
       "  </tbody>\n",
       "</table>\n",
       "<p>3 rows × 40 columns</p>\n",
       "</div>"
      ],
      "text/plain": [
       "       id  mssubclass  lotarea  yearbuilt  yearremodadd  masvnrarea  \\\n",
       "0  1987.0        20.0   3710.0     2007.0        2008.0        20.0   \n",
       "1  1896.0        50.0   8212.0     1941.0        1950.0         0.0   \n",
       "2   338.0        20.0   9135.0     2002.0        2003.0       113.0   \n",
       "\n",
       "   bsmtfinsf1  bsmtfinsf2  bsmtunfsf  totalbsmtsf  ...  poolarea  miscval  \\\n",
       "0         0.0         0.0     1146.0       1146.0  ...       0.0      0.0   \n",
       "1       626.0         0.0       94.0        720.0  ...       0.0      0.0   \n",
       "2       810.0         0.0      726.0       1536.0  ...       0.0      0.0   \n",
       "\n",
       "   mosold  yrsold  saleprice  logsaleprice    event_time  \\\n",
       "0     3.0  2008.0   163000.0     12.001506  1.718923e+09   \n",
       "1     9.0  2009.0   163000.0     12.001506  1.718923e+09   \n",
       "2    12.0  2008.0   214000.0     12.273731  1.718923e+09   \n",
       "\n",
       "                write_time      api_invocation_time  is_deleted  \n",
       "0  2024-06-20 22:37:13.976  2024-06-20 22:32:17.000       False  \n",
       "1  2024-06-20 22:37:13.976  2024-06-20 22:32:17.000       False  \n",
       "2  2024-06-20 22:37:13.976  2024-06-20 22:32:17.000       False  \n",
       "\n",
       "[3 rows x 40 columns]"
      ]
     },
     "execution_count": 21,
     "metadata": {},
     "output_type": "execute_result"
    }
   ],
   "source": [
    "df_test.head(3)"
   ]
  },
  {
   "cell_type": "code",
   "execution_count": 22,
   "id": "7edcd39a-37c7-4576-8a40-09f695481ed3",
   "metadata": {},
   "outputs": [
    {
     "name": "stdout",
     "output_type": "stream",
     "text": [
      "<class 'pandas.core.frame.DataFrame'>\n",
      "RangeIndex: 292 entries, 0 to 291\n",
      "Data columns (total 40 columns):\n",
      " #   Column               Non-Null Count  Dtype  \n",
      "---  ------               --------------  -----  \n",
      " 0   id                   292 non-null    float64\n",
      " 1   mssubclass           292 non-null    float64\n",
      " 2   lotarea              292 non-null    float64\n",
      " 3   yearbuilt            292 non-null    float64\n",
      " 4   yearremodadd         292 non-null    float64\n",
      " 5   masvnrarea           292 non-null    float64\n",
      " 6   bsmtfinsf1           292 non-null    float64\n",
      " 7   bsmtfinsf2           292 non-null    float64\n",
      " 8   bsmtunfsf            292 non-null    float64\n",
      " 9   totalbsmtsf          292 non-null    float64\n",
      " 10  firstflrsf           292 non-null    float64\n",
      " 11  secondflrsf          292 non-null    float64\n",
      " 12  lowqualfinsf         292 non-null    float64\n",
      " 13  grlivarea            292 non-null    float64\n",
      " 14  bsmtfullbath         292 non-null    float64\n",
      " 15  bsmthalfbath         292 non-null    float64\n",
      " 16  fullbath             292 non-null    float64\n",
      " 17  halfbath             292 non-null    float64\n",
      " 18  bedroomabvgr         292 non-null    float64\n",
      " 19  kitchenabvgr         292 non-null    float64\n",
      " 20  totrmsabvgrd         292 non-null    float64\n",
      " 21  fireplaces           292 non-null    float64\n",
      " 22  garageyrblt          292 non-null    float64\n",
      " 23  garagecars           292 non-null    float64\n",
      " 24  garagearea           292 non-null    float64\n",
      " 25  wooddecksf           292 non-null    float64\n",
      " 26  openporchsf          292 non-null    float64\n",
      " 27  enclosedporch        292 non-null    float64\n",
      " 28  threessnporch        292 non-null    float64\n",
      " 29  screenporch          292 non-null    float64\n",
      " 30  poolarea             292 non-null    float64\n",
      " 31  miscval              292 non-null    float64\n",
      " 32  mosold               292 non-null    float64\n",
      " 33  yrsold               292 non-null    float64\n",
      " 34  saleprice            292 non-null    float64\n",
      " 35  logsaleprice         292 non-null    float64\n",
      " 36  event_time           292 non-null    float64\n",
      " 37  write_time           292 non-null    object \n",
      " 38  api_invocation_time  292 non-null    object \n",
      " 39  is_deleted           292 non-null    bool   \n",
      "dtypes: bool(1), float64(37), object(2)\n",
      "memory usage: 89.4+ KB\n"
     ]
    }
   ],
   "source": [
    "df_test.info()"
   ]
  },
  {
   "cell_type": "markdown",
   "id": "0eb0fd53-8b94-48ad-aa1f-e2afef14e65a",
   "metadata": {},
   "source": [
    "### For df_train and df_validation the \"id\" column is removed and for df_test both the \"id\" column and \"saleprice\" column are removed"
   ]
  },
  {
   "cell_type": "code",
   "execution_count": 23,
   "id": "22c28f6a-2315-4454-a64d-bbea5893f7a0",
   "metadata": {},
   "outputs": [
    {
     "name": "stdout",
     "output_type": "stream",
     "text": [
      "'saleprice' in df_train: True\n",
      "'saleprice' in df_validation: True\n",
      "'saleprice' in df_test: True\n"
     ]
    }
   ],
   "source": [
    "# Check if 'saleprice' column is in df_train\n",
    "is_saleprice_in_train = 'saleprice' in df_train.columns\n",
    "print(f\"'saleprice' in df_train: {is_saleprice_in_train}\")\n",
    "\n",
    "# Check if 'saleprice' column is in df_validation\n",
    "is_saleprice_in_validation = 'saleprice' in df_validation.columns\n",
    "print(f\"'saleprice' in df_validation: {is_saleprice_in_validation}\")\n",
    "\n",
    "# Check if 'saleprice' column is in df_validation\n",
    "is_saleprice_in_test = 'saleprice' in df_test.columns\n",
    "print(f\"'saleprice' in df_test: {is_saleprice_in_test}\")"
   ]
  },
  {
   "cell_type": "code",
   "execution_count": 24,
   "id": "2900efda-1499-4df5-a058-1b04931e0899",
   "metadata": {},
   "outputs": [],
   "source": [
    "df_train = df_train.drop(['id', 'event_time', 'write_time','api_invocation_time','is_deleted'], axis=1)\n",
    "df_validation = df_validation.drop(['id', 'event_time', 'write_time','api_invocation_time','is_deleted'], axis=1)\n",
    "# 'saleprice' has been included in the df_test for the CICD step and calculating the MSE\n",
    "df_test = df_test.drop(['id', 'event_time', 'write_time','api_invocation_time','is_deleted'], axis=1)"
   ]
  },
  {
   "cell_type": "markdown",
   "id": "d079a8fa-93ec-466e-a948-95aa0c2fb6bb",
   "metadata": {},
   "source": [
    "### Check the shape of the data"
   ]
  },
  {
   "cell_type": "code",
   "execution_count": 25,
   "id": "6e54c9a7-1f8f-4ddf-bc85-2554a31cbc33",
   "metadata": {},
   "outputs": [
    {
     "name": "stdout",
     "output_type": "stream",
     "text": [
      "(2043, 35)\n",
      "(584, 35)\n",
      "(292, 35)\n"
     ]
    }
   ],
   "source": [
    "print(df_train.shape)\n",
    "print(df_validation.shape)\n",
    "print(df_test.shape)"
   ]
  },
  {
   "cell_type": "code",
   "execution_count": 26,
   "id": "dd296380-da86-465f-a7a8-e598b77dcec5",
   "metadata": {},
   "outputs": [
    {
     "name": "stdout",
     "output_type": "stream",
     "text": [
      "<class 'pandas.core.frame.DataFrame'>\n",
      "RangeIndex: 2043 entries, 0 to 2042\n",
      "Data columns (total 35 columns):\n",
      " #   Column         Non-Null Count  Dtype  \n",
      "---  ------         --------------  -----  \n",
      " 0   mssubclass     2043 non-null   float64\n",
      " 1   lotarea        2043 non-null   float64\n",
      " 2   yearbuilt      2043 non-null   float64\n",
      " 3   yearremodadd   2043 non-null   float64\n",
      " 4   masvnrarea     2043 non-null   float64\n",
      " 5   bsmtfinsf1     2043 non-null   float64\n",
      " 6   bsmtfinsf2     2043 non-null   float64\n",
      " 7   bsmtunfsf      2043 non-null   float64\n",
      " 8   totalbsmtsf    2043 non-null   float64\n",
      " 9   firstflrsf     2043 non-null   float64\n",
      " 10  secondflrsf    2043 non-null   float64\n",
      " 11  lowqualfinsf   2043 non-null   float64\n",
      " 12  grlivarea      2043 non-null   float64\n",
      " 13  bsmtfullbath   2043 non-null   float64\n",
      " 14  bsmthalfbath   2043 non-null   float64\n",
      " 15  fullbath       2043 non-null   float64\n",
      " 16  halfbath       2043 non-null   float64\n",
      " 17  bedroomabvgr   2043 non-null   float64\n",
      " 18  kitchenabvgr   2043 non-null   float64\n",
      " 19  totrmsabvgrd   2043 non-null   float64\n",
      " 20  fireplaces     2043 non-null   float64\n",
      " 21  garageyrblt    2043 non-null   float64\n",
      " 22  garagecars     2043 non-null   float64\n",
      " 23  garagearea     2043 non-null   float64\n",
      " 24  wooddecksf     2043 non-null   float64\n",
      " 25  openporchsf    2043 non-null   float64\n",
      " 26  enclosedporch  2043 non-null   float64\n",
      " 27  threessnporch  2043 non-null   float64\n",
      " 28  screenporch    2043 non-null   float64\n",
      " 29  poolarea       2043 non-null   float64\n",
      " 30  miscval        2043 non-null   float64\n",
      " 31  mosold         2043 non-null   float64\n",
      " 32  yrsold         2043 non-null   float64\n",
      " 33  saleprice      2043 non-null   float64\n",
      " 34  logsaleprice   2043 non-null   float64\n",
      "dtypes: float64(35)\n",
      "memory usage: 558.8 KB\n"
     ]
    }
   ],
   "source": [
    "df_train.info()"
   ]
  },
  {
   "cell_type": "markdown",
   "id": "9152a9e3-7386-474e-bfc9-c89866b7e477",
   "metadata": {},
   "source": [
    "### Check the first few rows of the data"
   ]
  },
  {
   "cell_type": "code",
   "execution_count": 27,
   "id": "3fec82c4-15d2-4ac8-ba88-87386f655e2f",
   "metadata": {},
   "outputs": [
    {
     "name": "stdout",
     "output_type": "stream",
     "text": [
      "   mssubclass  lotarea  yearbuilt  yearremodadd  masvnrarea  bsmtfinsf1  \\\n",
      "0        20.0   6718.0     2001.0        2001.0        86.0       250.0   \n",
      "1        50.0   6240.0     1939.0        1952.0         0.0        48.0   \n",
      "2        30.0   4118.0     1941.0        1950.0         0.0         0.0   \n",
      "3        20.0   6500.0     1976.0        1976.0        84.0      1033.0   \n",
      "4        20.0  11024.0     2005.0        2006.0       118.0         0.0   \n",
      "\n",
      "   bsmtfinsf2  bsmtunfsf  totalbsmtsf  firstflrsf  ...  openporchsf  \\\n",
      "0         0.0     1017.0       1267.0      1312.0  ...         28.0   \n",
      "1         0.0      624.0        672.0       899.0  ...          0.0   \n",
      "2         0.0      693.0        693.0       693.0  ...         20.0   \n",
      "3         0.0       94.0       1127.0      1127.0  ...          0.0   \n",
      "4         0.0     1400.0       1400.0      1400.0  ...         55.0   \n",
      "\n",
      "   enclosedporch  threessnporch  screenporch  poolarea  miscval  mosold  \\\n",
      "0            0.0            0.0          0.0       0.0      0.0     1.0   \n",
      "1            0.0            0.0          0.0       0.0      0.0     7.0   \n",
      "2            0.0            0.0          0.0       0.0      0.0     3.0   \n",
      "3          138.0            0.0          0.0       0.0      0.0     5.0   \n",
      "4            0.0            0.0          0.0       0.0      0.0    10.0   \n",
      "\n",
      "   yrsold  saleprice  logsaleprice  \n",
      "0  2007.0   163000.0     12.001506  \n",
      "1  2007.0   163000.0     12.001506  \n",
      "2  2006.0    52500.0     10.868568  \n",
      "3  2008.0   163000.0     12.001506  \n",
      "4  2006.0   163000.0     12.001506  \n",
      "\n",
      "[5 rows x 35 columns]\n"
     ]
    }
   ],
   "source": [
    "print(df_train.head(5))"
   ]
  },
  {
   "cell_type": "code",
   "execution_count": 28,
   "id": "c27757f9-b0d9-4404-ab0b-c48f82ece548",
   "metadata": {},
   "outputs": [
    {
     "data": {
      "text/html": [
       "<div>\n",
       "<style scoped>\n",
       "    .dataframe tbody tr th:only-of-type {\n",
       "        vertical-align: middle;\n",
       "    }\n",
       "\n",
       "    .dataframe tbody tr th {\n",
       "        vertical-align: top;\n",
       "    }\n",
       "\n",
       "    .dataframe thead th {\n",
       "        text-align: right;\n",
       "    }\n",
       "</style>\n",
       "<table border=\"1\" class=\"dataframe\">\n",
       "  <thead>\n",
       "    <tr style=\"text-align: right;\">\n",
       "      <th></th>\n",
       "      <th>mssubclass</th>\n",
       "      <th>lotarea</th>\n",
       "      <th>yearbuilt</th>\n",
       "      <th>yearremodadd</th>\n",
       "      <th>masvnrarea</th>\n",
       "      <th>bsmtfinsf1</th>\n",
       "      <th>bsmtfinsf2</th>\n",
       "      <th>bsmtunfsf</th>\n",
       "      <th>totalbsmtsf</th>\n",
       "      <th>firstflrsf</th>\n",
       "      <th>...</th>\n",
       "      <th>openporchsf</th>\n",
       "      <th>enclosedporch</th>\n",
       "      <th>threessnporch</th>\n",
       "      <th>screenporch</th>\n",
       "      <th>poolarea</th>\n",
       "      <th>miscval</th>\n",
       "      <th>mosold</th>\n",
       "      <th>yrsold</th>\n",
       "      <th>saleprice</th>\n",
       "      <th>logsaleprice</th>\n",
       "    </tr>\n",
       "  </thead>\n",
       "  <tbody>\n",
       "    <tr>\n",
       "      <th>0</th>\n",
       "      <td>50.0</td>\n",
       "      <td>7425.0</td>\n",
       "      <td>1945.0</td>\n",
       "      <td>1950.0</td>\n",
       "      <td>0.0</td>\n",
       "      <td>0.0</td>\n",
       "      <td>0.0</td>\n",
       "      <td>672.0</td>\n",
       "      <td>672.0</td>\n",
       "      <td>1195.0</td>\n",
       "      <td>...</td>\n",
       "      <td>0.0</td>\n",
       "      <td>0.0</td>\n",
       "      <td>0.0</td>\n",
       "      <td>0.0</td>\n",
       "      <td>0.0</td>\n",
       "      <td>0.0</td>\n",
       "      <td>8.0</td>\n",
       "      <td>2008.0</td>\n",
       "      <td>163000.0</td>\n",
       "      <td>12.001506</td>\n",
       "    </tr>\n",
       "    <tr>\n",
       "      <th>1</th>\n",
       "      <td>160.0</td>\n",
       "      <td>1504.0</td>\n",
       "      <td>1972.0</td>\n",
       "      <td>1972.0</td>\n",
       "      <td>0.0</td>\n",
       "      <td>252.0</td>\n",
       "      <td>0.0</td>\n",
       "      <td>294.0</td>\n",
       "      <td>546.0</td>\n",
       "      <td>546.0</td>\n",
       "      <td>...</td>\n",
       "      <td>0.0</td>\n",
       "      <td>0.0</td>\n",
       "      <td>0.0</td>\n",
       "      <td>0.0</td>\n",
       "      <td>0.0</td>\n",
       "      <td>0.0</td>\n",
       "      <td>5.0</td>\n",
       "      <td>2007.0</td>\n",
       "      <td>163000.0</td>\n",
       "      <td>12.001506</td>\n",
       "    </tr>\n",
       "    <tr>\n",
       "      <th>2</th>\n",
       "      <td>60.0</td>\n",
       "      <td>16259.0</td>\n",
       "      <td>2006.0</td>\n",
       "      <td>2006.0</td>\n",
       "      <td>370.0</td>\n",
       "      <td>0.0</td>\n",
       "      <td>0.0</td>\n",
       "      <td>1249.0</td>\n",
       "      <td>1249.0</td>\n",
       "      <td>1249.0</td>\n",
       "      <td>...</td>\n",
       "      <td>154.0</td>\n",
       "      <td>0.0</td>\n",
       "      <td>0.0</td>\n",
       "      <td>0.0</td>\n",
       "      <td>0.0</td>\n",
       "      <td>0.0</td>\n",
       "      <td>9.0</td>\n",
       "      <td>2006.0</td>\n",
       "      <td>342643.0</td>\n",
       "      <td>12.744445</td>\n",
       "    </tr>\n",
       "    <tr>\n",
       "      <th>3</th>\n",
       "      <td>20.0</td>\n",
       "      <td>11500.0</td>\n",
       "      <td>1957.0</td>\n",
       "      <td>1957.0</td>\n",
       "      <td>0.0</td>\n",
       "      <td>0.0</td>\n",
       "      <td>0.0</td>\n",
       "      <td>0.0</td>\n",
       "      <td>0.0</td>\n",
       "      <td>845.0</td>\n",
       "      <td>...</td>\n",
       "      <td>0.0</td>\n",
       "      <td>0.0</td>\n",
       "      <td>0.0</td>\n",
       "      <td>0.0</td>\n",
       "      <td>0.0</td>\n",
       "      <td>0.0</td>\n",
       "      <td>1.0</td>\n",
       "      <td>2009.0</td>\n",
       "      <td>84000.0</td>\n",
       "      <td>11.338573</td>\n",
       "    </tr>\n",
       "    <tr>\n",
       "      <th>4</th>\n",
       "      <td>20.0</td>\n",
       "      <td>9600.0</td>\n",
       "      <td>1950.0</td>\n",
       "      <td>2006.0</td>\n",
       "      <td>0.0</td>\n",
       "      <td>32.0</td>\n",
       "      <td>308.0</td>\n",
       "      <td>232.0</td>\n",
       "      <td>572.0</td>\n",
       "      <td>1337.0</td>\n",
       "      <td>...</td>\n",
       "      <td>192.0</td>\n",
       "      <td>0.0</td>\n",
       "      <td>0.0</td>\n",
       "      <td>0.0</td>\n",
       "      <td>0.0</td>\n",
       "      <td>0.0</td>\n",
       "      <td>9.0</td>\n",
       "      <td>2008.0</td>\n",
       "      <td>163000.0</td>\n",
       "      <td>12.001506</td>\n",
       "    </tr>\n",
       "  </tbody>\n",
       "</table>\n",
       "<p>5 rows × 35 columns</p>\n",
       "</div>"
      ],
      "text/plain": [
       "   mssubclass  lotarea  yearbuilt  yearremodadd  masvnrarea  bsmtfinsf1  \\\n",
       "0        50.0   7425.0     1945.0        1950.0         0.0         0.0   \n",
       "1       160.0   1504.0     1972.0        1972.0         0.0       252.0   \n",
       "2        60.0  16259.0     2006.0        2006.0       370.0         0.0   \n",
       "3        20.0  11500.0     1957.0        1957.0         0.0         0.0   \n",
       "4        20.0   9600.0     1950.0        2006.0         0.0        32.0   \n",
       "\n",
       "   bsmtfinsf2  bsmtunfsf  totalbsmtsf  firstflrsf  ...  openporchsf  \\\n",
       "0         0.0      672.0        672.0      1195.0  ...          0.0   \n",
       "1         0.0      294.0        546.0       546.0  ...          0.0   \n",
       "2         0.0     1249.0       1249.0      1249.0  ...        154.0   \n",
       "3         0.0        0.0          0.0       845.0  ...          0.0   \n",
       "4       308.0      232.0        572.0      1337.0  ...        192.0   \n",
       "\n",
       "   enclosedporch  threessnporch  screenporch  poolarea  miscval  mosold  \\\n",
       "0            0.0            0.0          0.0       0.0      0.0     8.0   \n",
       "1            0.0            0.0          0.0       0.0      0.0     5.0   \n",
       "2            0.0            0.0          0.0       0.0      0.0     9.0   \n",
       "3            0.0            0.0          0.0       0.0      0.0     1.0   \n",
       "4            0.0            0.0          0.0       0.0      0.0     9.0   \n",
       "\n",
       "   yrsold  saleprice  logsaleprice  \n",
       "0  2008.0   163000.0     12.001506  \n",
       "1  2007.0   163000.0     12.001506  \n",
       "2  2006.0   342643.0     12.744445  \n",
       "3  2009.0    84000.0     11.338573  \n",
       "4  2008.0   163000.0     12.001506  \n",
       "\n",
       "[5 rows x 35 columns]"
      ]
     },
     "execution_count": 28,
     "metadata": {},
     "output_type": "execute_result"
    }
   ],
   "source": [
    "df_validation.head(5)"
   ]
  },
  {
   "cell_type": "code",
   "execution_count": 29,
   "id": "b3f3f735-fdc2-4506-95a3-290239a5bfe2",
   "metadata": {},
   "outputs": [
    {
     "data": {
      "text/html": [
       "<div>\n",
       "<style scoped>\n",
       "    .dataframe tbody tr th:only-of-type {\n",
       "        vertical-align: middle;\n",
       "    }\n",
       "\n",
       "    .dataframe tbody tr th {\n",
       "        vertical-align: top;\n",
       "    }\n",
       "\n",
       "    .dataframe thead th {\n",
       "        text-align: right;\n",
       "    }\n",
       "</style>\n",
       "<table border=\"1\" class=\"dataframe\">\n",
       "  <thead>\n",
       "    <tr style=\"text-align: right;\">\n",
       "      <th></th>\n",
       "      <th>mssubclass</th>\n",
       "      <th>lotarea</th>\n",
       "      <th>yearbuilt</th>\n",
       "      <th>yearremodadd</th>\n",
       "      <th>masvnrarea</th>\n",
       "      <th>bsmtfinsf1</th>\n",
       "      <th>bsmtfinsf2</th>\n",
       "      <th>bsmtunfsf</th>\n",
       "      <th>totalbsmtsf</th>\n",
       "      <th>firstflrsf</th>\n",
       "      <th>...</th>\n",
       "      <th>openporchsf</th>\n",
       "      <th>enclosedporch</th>\n",
       "      <th>threessnporch</th>\n",
       "      <th>screenporch</th>\n",
       "      <th>poolarea</th>\n",
       "      <th>miscval</th>\n",
       "      <th>mosold</th>\n",
       "      <th>yrsold</th>\n",
       "      <th>saleprice</th>\n",
       "      <th>logsaleprice</th>\n",
       "    </tr>\n",
       "  </thead>\n",
       "  <tbody>\n",
       "    <tr>\n",
       "      <th>0</th>\n",
       "      <td>20.0</td>\n",
       "      <td>3710.0</td>\n",
       "      <td>2007.0</td>\n",
       "      <td>2008.0</td>\n",
       "      <td>20.0</td>\n",
       "      <td>0.0</td>\n",
       "      <td>0.0</td>\n",
       "      <td>1146.0</td>\n",
       "      <td>1146.0</td>\n",
       "      <td>1246.0</td>\n",
       "      <td>...</td>\n",
       "      <td>24.0</td>\n",
       "      <td>0.0</td>\n",
       "      <td>0.0</td>\n",
       "      <td>0.0</td>\n",
       "      <td>0.0</td>\n",
       "      <td>0.0</td>\n",
       "      <td>3.0</td>\n",
       "      <td>2008.0</td>\n",
       "      <td>163000.0</td>\n",
       "      <td>12.001506</td>\n",
       "    </tr>\n",
       "    <tr>\n",
       "      <th>1</th>\n",
       "      <td>50.0</td>\n",
       "      <td>8212.0</td>\n",
       "      <td>1941.0</td>\n",
       "      <td>1950.0</td>\n",
       "      <td>0.0</td>\n",
       "      <td>626.0</td>\n",
       "      <td>0.0</td>\n",
       "      <td>94.0</td>\n",
       "      <td>720.0</td>\n",
       "      <td>854.0</td>\n",
       "      <td>...</td>\n",
       "      <td>0.0</td>\n",
       "      <td>0.0</td>\n",
       "      <td>0.0</td>\n",
       "      <td>0.0</td>\n",
       "      <td>0.0</td>\n",
       "      <td>0.0</td>\n",
       "      <td>9.0</td>\n",
       "      <td>2009.0</td>\n",
       "      <td>163000.0</td>\n",
       "      <td>12.001506</td>\n",
       "    </tr>\n",
       "    <tr>\n",
       "      <th>2</th>\n",
       "      <td>20.0</td>\n",
       "      <td>9135.0</td>\n",
       "      <td>2002.0</td>\n",
       "      <td>2003.0</td>\n",
       "      <td>113.0</td>\n",
       "      <td>810.0</td>\n",
       "      <td>0.0</td>\n",
       "      <td>726.0</td>\n",
       "      <td>1536.0</td>\n",
       "      <td>1536.0</td>\n",
       "      <td>...</td>\n",
       "      <td>74.0</td>\n",
       "      <td>0.0</td>\n",
       "      <td>0.0</td>\n",
       "      <td>0.0</td>\n",
       "      <td>0.0</td>\n",
       "      <td>0.0</td>\n",
       "      <td>12.0</td>\n",
       "      <td>2008.0</td>\n",
       "      <td>214000.0</td>\n",
       "      <td>12.273731</td>\n",
       "    </tr>\n",
       "    <tr>\n",
       "      <th>3</th>\n",
       "      <td>60.0</td>\n",
       "      <td>9543.0</td>\n",
       "      <td>2001.0</td>\n",
       "      <td>2001.0</td>\n",
       "      <td>0.0</td>\n",
       "      <td>0.0</td>\n",
       "      <td>0.0</td>\n",
       "      <td>845.0</td>\n",
       "      <td>845.0</td>\n",
       "      <td>845.0</td>\n",
       "      <td>...</td>\n",
       "      <td>103.0</td>\n",
       "      <td>0.0</td>\n",
       "      <td>0.0</td>\n",
       "      <td>0.0</td>\n",
       "      <td>0.0</td>\n",
       "      <td>0.0</td>\n",
       "      <td>2.0</td>\n",
       "      <td>2007.0</td>\n",
       "      <td>163000.0</td>\n",
       "      <td>12.001506</td>\n",
       "    </tr>\n",
       "    <tr>\n",
       "      <th>4</th>\n",
       "      <td>20.0</td>\n",
       "      <td>7584.0</td>\n",
       "      <td>1953.0</td>\n",
       "      <td>1953.0</td>\n",
       "      <td>88.0</td>\n",
       "      <td>531.0</td>\n",
       "      <td>0.0</td>\n",
       "      <td>505.0</td>\n",
       "      <td>1036.0</td>\n",
       "      <td>1036.0</td>\n",
       "      <td>...</td>\n",
       "      <td>24.0</td>\n",
       "      <td>0.0</td>\n",
       "      <td>0.0</td>\n",
       "      <td>0.0</td>\n",
       "      <td>0.0</td>\n",
       "      <td>0.0</td>\n",
       "      <td>6.0</td>\n",
       "      <td>2008.0</td>\n",
       "      <td>163000.0</td>\n",
       "      <td>12.001506</td>\n",
       "    </tr>\n",
       "  </tbody>\n",
       "</table>\n",
       "<p>5 rows × 35 columns</p>\n",
       "</div>"
      ],
      "text/plain": [
       "   mssubclass  lotarea  yearbuilt  yearremodadd  masvnrarea  bsmtfinsf1  \\\n",
       "0        20.0   3710.0     2007.0        2008.0        20.0         0.0   \n",
       "1        50.0   8212.0     1941.0        1950.0         0.0       626.0   \n",
       "2        20.0   9135.0     2002.0        2003.0       113.0       810.0   \n",
       "3        60.0   9543.0     2001.0        2001.0         0.0         0.0   \n",
       "4        20.0   7584.0     1953.0        1953.0        88.0       531.0   \n",
       "\n",
       "   bsmtfinsf2  bsmtunfsf  totalbsmtsf  firstflrsf  ...  openporchsf  \\\n",
       "0         0.0     1146.0       1146.0      1246.0  ...         24.0   \n",
       "1         0.0       94.0        720.0       854.0  ...          0.0   \n",
       "2         0.0      726.0       1536.0      1536.0  ...         74.0   \n",
       "3         0.0      845.0        845.0       845.0  ...        103.0   \n",
       "4         0.0      505.0       1036.0      1036.0  ...         24.0   \n",
       "\n",
       "   enclosedporch  threessnporch  screenporch  poolarea  miscval  mosold  \\\n",
       "0            0.0            0.0          0.0       0.0      0.0     3.0   \n",
       "1            0.0            0.0          0.0       0.0      0.0     9.0   \n",
       "2            0.0            0.0          0.0       0.0      0.0    12.0   \n",
       "3            0.0            0.0          0.0       0.0      0.0     2.0   \n",
       "4            0.0            0.0          0.0       0.0      0.0     6.0   \n",
       "\n",
       "   yrsold  saleprice  logsaleprice  \n",
       "0  2008.0   163000.0     12.001506  \n",
       "1  2009.0   163000.0     12.001506  \n",
       "2  2008.0   214000.0     12.273731  \n",
       "3  2007.0   163000.0     12.001506  \n",
       "4  2008.0   163000.0     12.001506  \n",
       "\n",
       "[5 rows x 35 columns]"
      ]
     },
     "execution_count": 29,
     "metadata": {},
     "output_type": "execute_result"
    }
   ],
   "source": [
    "df_test.head(5)"
   ]
  },
  {
   "cell_type": "markdown",
   "id": "fca99d50-5662-4f8a-8b16-d6f37b93cb50",
   "metadata": {},
   "source": [
    "### Save the data to the S3 bucket as CSV files"
   ]
  },
  {
   "cell_type": "code",
   "execution_count": 30,
   "id": "98bb03f6-8a58-4da3-9577-8d847459ef52",
   "metadata": {},
   "outputs": [
    {
     "data": {
      "text/plain": [
       "'\\n!pip install botocore==1.34.129 s3transfer==0.3.0 boto3==1.34.129\\n!pip install s3fs\\n'"
      ]
     },
     "execution_count": 30,
     "metadata": {},
     "output_type": "execute_result"
    }
   ],
   "source": [
    "'''\n",
    "!pip install botocore==1.34.129 s3transfer==0.3.0 boto3==1.34.129\n",
    "!pip install s3fs\n",
    "'''"
   ]
  },
  {
   "cell_type": "code",
   "execution_count": 31,
   "id": "13e751f6-dc67-442f-9b26-f294f1e9471d",
   "metadata": {},
   "outputs": [],
   "source": [
    "df_train.to_csv(f\"s3://{bucket_name}/processed/housing/train.csv\", header=True,  index=False)"
   ]
  },
  {
   "cell_type": "code",
   "execution_count": 32,
   "id": "6b13fef5-71c1-4c24-8f99-891c780a2811",
   "metadata": {},
   "outputs": [],
   "source": [
    "df_validation.to_csv(f\"s3://{bucket_name}/processed/housing/validation.csv\", header=True, index=False)"
   ]
  },
  {
   "cell_type": "code",
   "execution_count": 33,
   "id": "f0a556ad-727a-4594-b8ed-5ebd2bbac5a1",
   "metadata": {},
   "outputs": [],
   "source": [
    "df_test.to_csv(f\"s3://{bucket_name}/processed/housing/test.csv\", header=True, index=False)"
   ]
  },
  {
   "cell_type": "markdown",
   "id": "f2702056-e8a6-4453-b4bc-02dd5f249bae",
   "metadata": {},
   "source": [
    "### Train a model using SageMaker built-in XgBoost algorithm on the training data and validate it on the validation data\n",
    "1. set the container image for the XGBoost algorithm\n",
    "2. set the output path\n",
    "3. set the hyperparameters\n",
    "4. create an estimator\n",
    "5. fit the model to the training data and validate on the validation data"
   ]
  },
  {
   "cell_type": "code",
   "execution_count": 34,
   "id": "1122c002-3a41-40ef-ae8a-9ff8e0ebb708",
   "metadata": {},
   "outputs": [],
   "source": [
    "# set the container image for the XGBoost algorithm\n",
    "container = image_uris.retrieve(region=region, framework=\"xgboost\", version=\"latest\")"
   ]
  },
  {
   "cell_type": "code",
   "execution_count": 35,
   "id": "e9d08da9-f2a4-4deb-8068-08d11787aacf",
   "metadata": {},
   "outputs": [],
   "source": [
    "# set the output path\n",
    "output_path = f\"s3://{bucket_name}/housing/model\""
   ]
  },
  {
   "cell_type": "code",
   "execution_count": 36,
   "id": "b5479692-c8b3-42c4-bea2-eb87f1c894b6",
   "metadata": {},
   "outputs": [],
   "source": [
    "# set the hyperparameters\n",
    "hyperparameters = {\n",
    "    \"objective\": \"reg:linear\",\n",
    "    \"num_round\": \"100\",\n",
    "    \"max_depth\": \"5\",\n",
    "    \"eta\": \"0.2\",\n",
    "    \"gamma\": \"4\",\n",
    "    \"min_child_weight\": \"6\",\n",
    "    \"subsample\": \"0.7\",\n",
    "    \"silent\": \"0\",\n",
    "}"
   ]
  },
  {
   "cell_type": "code",
   "execution_count": 37,
   "id": "ef78b69d-e1e4-4910-a170-7883b2e43ead",
   "metadata": {},
   "outputs": [],
   "source": [
    "# create an estimator\n",
    "estimator = Estimator(\n",
    "    image_uri=container,\n",
    "    role=role,\n",
    "    instance_count=1,\n",
    "    instance_type=\"ml.m5.xlarge\",\n",
    "    output_path=output_path,\n",
    "    hyperparameters=hyperparameters,\n",
    ")"
   ]
  },
  {
   "cell_type": "code",
   "execution_count": 38,
   "id": "a541dc13-e69b-4a45-95cc-36e13537be37",
   "metadata": {},
   "outputs": [
    {
     "name": "stderr",
     "output_type": "stream",
     "text": [
      "INFO:sagemaker:Creating training-job with name: xgboost-2024-06-24-02-50-40-797\n"
     ]
    },
    {
     "name": "stdout",
     "output_type": "stream",
     "text": [
      "2024-06-24 02:50:41 Starting - Starting the training job...\n",
      "2024-06-24 02:50:57 Starting - Preparing the instances for training...\n",
      "2024-06-24 02:51:18 Downloading - Downloading input data...\n",
      "2024-06-24 02:51:43 Downloading - Downloading the training image...\n",
      "2024-06-24 02:52:34 Training - Training image download completed. Training in progress.\n",
      "2024-06-24 02:52:34 Uploading - Uploading generated training model\u001b[34mArguments: train\u001b[0m\n",
      "\u001b[34m[2024-06-24:02:52:26:INFO] Running standalone xgboost training.\u001b[0m\n",
      "\u001b[34m[2024-06-24:02:52:26:INFO] File size need to be processed in the node: 0.49mb. Available memory size in the node: 7960.84mb\u001b[0m\n",
      "\u001b[34m[2024-06-24:02:52:26:ERROR] Customer Error: Non-numeric value 'm' found in the header line 'mssubclass,lotarea,yearbuilt,yearremodadd,masvnrar...' of file 'train.csv'. CSV format require no header line in it. If header line is already removed, XGBoost does not accept non-numeric value in the data.\u001b[0m\n",
      "\u001b[34mTraceback (most recent call last):\n",
      "  File \"/opt/amazon/lib/python3.7/site-packages/sage_xgboost/train.py\", line 41, in main\n",
      "    standalone_train(resource_config, train_config, data_config)\n",
      "  File \"/opt/amazon/lib/python3.7/site-packages/sage_xgboost/train_methods.py\", line 17, in standalone_train\n",
      "    train_job(resource_config, train_config, data_config)\n",
      "  File \"/opt/amazon/lib/python3.7/site-packages/sage_xgboost/train_helper.py\", line 335, in train_job\n",
      "    validate_file_format(train_path, file_type)\n",
      "  File \"/opt/amazon/lib/python3.7/site-packages/sage_xgboost/train_helper.py\", line 86, in validate_file_format\n",
      "    validate_csv_format(os.path.join(files_path, data_file))\n",
      "  File \"/opt/amazon/lib/python3.7/site-packages/sage_xgboost/train_helper.py\", line 108, in validate_csv_format\n",
      "    match_object.group(0), first_line[:50], file_path.split('/')[-1]))\u001b[0m\n",
      "\u001b[34msg_algorithms_sdk.base.exceptions.CustomerError: Non-numeric value 'm' found in the header line 'mssubclass,lotarea,yearbuilt,yearremodadd,masvnrar...' of file 'train.csv'. CSV format require no header line in it. If header line is already removed, XGBoost does not accept non-numeric value in the data.\u001b[0m\n",
      "\n",
      "2024-06-24 02:52:43 Failed - Training job failed\n"
     ]
    },
    {
     "ename": "UnexpectedStatusException",
     "evalue": "Error for Training job xgboost-2024-06-24-02-50-40-797: Failed. Reason: ClientError: Non-numeric value 'm' found in the header line 'mssubclass,lotarea,yearbuilt,yearremodadd,masvnrar...' of file 'train.csv'. CSV format require no header line in it. If header line is already removed, XGBoost does not accept non-numeric value in the data., exit code: 1",
     "output_type": "error",
     "traceback": [
      "\u001b[0;31m---------------------------------------------------------------------------\u001b[0m",
      "\u001b[0;31mUnexpectedStatusException\u001b[0m                 Traceback (most recent call last)",
      "Cell \u001b[0;32mIn[38], line 2\u001b[0m\n\u001b[1;32m      1\u001b[0m \u001b[38;5;66;03m# fit the model to the training data and validate on the validation data\u001b[39;00m\n\u001b[0;32m----> 2\u001b[0m \u001b[43mestimator\u001b[49m\u001b[38;5;241;43m.\u001b[39;49m\u001b[43mfit\u001b[49m\u001b[43m(\u001b[49m\n\u001b[1;32m      3\u001b[0m \u001b[43m    \u001b[49m\u001b[43m{\u001b[49m\n\u001b[1;32m      4\u001b[0m \u001b[43m        \u001b[49m\u001b[38;5;124;43m\"\u001b[39;49m\u001b[38;5;124;43mtrain\u001b[39;49m\u001b[38;5;124;43m\"\u001b[39;49m\u001b[43m:\u001b[49m\u001b[43m \u001b[49m\u001b[43mTrainingInput\u001b[49m\u001b[43m(\u001b[49m\n\u001b[1;32m      5\u001b[0m \u001b[43m            \u001b[49m\u001b[43ms3_data\u001b[49m\u001b[38;5;241;43m=\u001b[39;49m\u001b[38;5;124;43mf\u001b[39;49m\u001b[38;5;124;43m\"\u001b[39;49m\u001b[38;5;124;43ms3://\u001b[39;49m\u001b[38;5;132;43;01m{\u001b[39;49;00m\u001b[43mbucket_name\u001b[49m\u001b[38;5;132;43;01m}\u001b[39;49;00m\u001b[38;5;124;43m/processed/housing/train.csv\u001b[39;49m\u001b[38;5;124;43m\"\u001b[39;49m\u001b[43m,\u001b[49m\u001b[43m \u001b[49m\u001b[43mcontent_type\u001b[49m\u001b[38;5;241;43m=\u001b[39;49m\u001b[38;5;124;43m\"\u001b[39;49m\u001b[38;5;124;43mtext/csv\u001b[39;49m\u001b[38;5;124;43m\"\u001b[39;49m\n\u001b[1;32m      6\u001b[0m \u001b[43m        \u001b[49m\u001b[43m)\u001b[49m\u001b[43m,\u001b[49m\n\u001b[1;32m      7\u001b[0m \u001b[43m        \u001b[49m\u001b[38;5;124;43m\"\u001b[39;49m\u001b[38;5;124;43mvalidation\u001b[39;49m\u001b[38;5;124;43m\"\u001b[39;49m\u001b[43m:\u001b[49m\u001b[43m \u001b[49m\u001b[43mTrainingInput\u001b[49m\u001b[43m(\u001b[49m\n\u001b[1;32m      8\u001b[0m \u001b[43m            \u001b[49m\u001b[43ms3_data\u001b[49m\u001b[38;5;241;43m=\u001b[39;49m\u001b[38;5;124;43mf\u001b[39;49m\u001b[38;5;124;43m\"\u001b[39;49m\u001b[38;5;124;43ms3://\u001b[39;49m\u001b[38;5;132;43;01m{\u001b[39;49;00m\u001b[43mbucket_name\u001b[49m\u001b[38;5;132;43;01m}\u001b[39;49;00m\u001b[38;5;124;43m/processed/housing/validation.csv\u001b[39;49m\u001b[38;5;124;43m\"\u001b[39;49m\u001b[43m,\u001b[49m\u001b[43m \u001b[49m\u001b[43mcontent_type\u001b[49m\u001b[38;5;241;43m=\u001b[39;49m\u001b[38;5;124;43m\"\u001b[39;49m\u001b[38;5;124;43mtext/csv\u001b[39;49m\u001b[38;5;124;43m\"\u001b[39;49m\n\u001b[1;32m      9\u001b[0m \u001b[43m        \u001b[49m\u001b[43m)\u001b[49m\u001b[43m,\u001b[49m\n\u001b[1;32m     10\u001b[0m \u001b[43m    \u001b[49m\u001b[43m}\u001b[49m\n\u001b[1;32m     11\u001b[0m \u001b[43m)\u001b[49m\n",
      "File \u001b[0;32m/opt/conda/lib/python3.10/site-packages/sagemaker/workflow/pipeline_context.py:346\u001b[0m, in \u001b[0;36mrunnable_by_pipeline.<locals>.wrapper\u001b[0;34m(*args, **kwargs)\u001b[0m\n\u001b[1;32m    342\u001b[0m         \u001b[38;5;28;01mreturn\u001b[39;00m context\n\u001b[1;32m    344\u001b[0m     \u001b[38;5;28;01mreturn\u001b[39;00m _StepArguments(retrieve_caller_name(self_instance), run_func, \u001b[38;5;241m*\u001b[39margs, \u001b[38;5;241m*\u001b[39m\u001b[38;5;241m*\u001b[39mkwargs)\n\u001b[0;32m--> 346\u001b[0m \u001b[38;5;28;01mreturn\u001b[39;00m \u001b[43mrun_func\u001b[49m\u001b[43m(\u001b[49m\u001b[38;5;241;43m*\u001b[39;49m\u001b[43margs\u001b[49m\u001b[43m,\u001b[49m\u001b[43m \u001b[49m\u001b[38;5;241;43m*\u001b[39;49m\u001b[38;5;241;43m*\u001b[39;49m\u001b[43mkwargs\u001b[49m\u001b[43m)\u001b[49m\n",
      "File \u001b[0;32m/opt/conda/lib/python3.10/site-packages/sagemaker/estimator.py:1346\u001b[0m, in \u001b[0;36mEstimatorBase.fit\u001b[0;34m(self, inputs, wait, logs, job_name, experiment_config)\u001b[0m\n\u001b[1;32m   1344\u001b[0m \u001b[38;5;28mself\u001b[39m\u001b[38;5;241m.\u001b[39mjobs\u001b[38;5;241m.\u001b[39mappend(\u001b[38;5;28mself\u001b[39m\u001b[38;5;241m.\u001b[39mlatest_training_job)\n\u001b[1;32m   1345\u001b[0m \u001b[38;5;28;01mif\u001b[39;00m wait:\n\u001b[0;32m-> 1346\u001b[0m     \u001b[38;5;28;43mself\u001b[39;49m\u001b[38;5;241;43m.\u001b[39;49m\u001b[43mlatest_training_job\u001b[49m\u001b[38;5;241;43m.\u001b[39;49m\u001b[43mwait\u001b[49m\u001b[43m(\u001b[49m\u001b[43mlogs\u001b[49m\u001b[38;5;241;43m=\u001b[39;49m\u001b[43mlogs\u001b[49m\u001b[43m)\u001b[49m\n",
      "File \u001b[0;32m/opt/conda/lib/python3.10/site-packages/sagemaker/estimator.py:2707\u001b[0m, in \u001b[0;36m_TrainingJob.wait\u001b[0;34m(self, logs)\u001b[0m\n\u001b[1;32m   2705\u001b[0m \u001b[38;5;66;03m# If logs are requested, call logs_for_jobs.\u001b[39;00m\n\u001b[1;32m   2706\u001b[0m \u001b[38;5;28;01mif\u001b[39;00m logs \u001b[38;5;241m!=\u001b[39m \u001b[38;5;124m\"\u001b[39m\u001b[38;5;124mNone\u001b[39m\u001b[38;5;124m\"\u001b[39m:\n\u001b[0;32m-> 2707\u001b[0m     \u001b[38;5;28;43mself\u001b[39;49m\u001b[38;5;241;43m.\u001b[39;49m\u001b[43msagemaker_session\u001b[49m\u001b[38;5;241;43m.\u001b[39;49m\u001b[43mlogs_for_job\u001b[49m\u001b[43m(\u001b[49m\u001b[38;5;28;43mself\u001b[39;49m\u001b[38;5;241;43m.\u001b[39;49m\u001b[43mjob_name\u001b[49m\u001b[43m,\u001b[49m\u001b[43m \u001b[49m\u001b[43mwait\u001b[49m\u001b[38;5;241;43m=\u001b[39;49m\u001b[38;5;28;43;01mTrue\u001b[39;49;00m\u001b[43m,\u001b[49m\u001b[43m \u001b[49m\u001b[43mlog_type\u001b[49m\u001b[38;5;241;43m=\u001b[39;49m\u001b[43mlogs\u001b[49m\u001b[43m)\u001b[49m\n\u001b[1;32m   2708\u001b[0m \u001b[38;5;28;01melse\u001b[39;00m:\n\u001b[1;32m   2709\u001b[0m     \u001b[38;5;28mself\u001b[39m\u001b[38;5;241m.\u001b[39msagemaker_session\u001b[38;5;241m.\u001b[39mwait_for_job(\u001b[38;5;28mself\u001b[39m\u001b[38;5;241m.\u001b[39mjob_name)\n",
      "File \u001b[0;32m/opt/conda/lib/python3.10/site-packages/sagemaker/session.py:5836\u001b[0m, in \u001b[0;36mSession.logs_for_job\u001b[0;34m(self, job_name, wait, poll, log_type, timeout)\u001b[0m\n\u001b[1;32m   5815\u001b[0m \u001b[38;5;28;01mdef\u001b[39;00m \u001b[38;5;21mlogs_for_job\u001b[39m(\u001b[38;5;28mself\u001b[39m, job_name, wait\u001b[38;5;241m=\u001b[39m\u001b[38;5;28;01mFalse\u001b[39;00m, poll\u001b[38;5;241m=\u001b[39m\u001b[38;5;241m10\u001b[39m, log_type\u001b[38;5;241m=\u001b[39m\u001b[38;5;124m\"\u001b[39m\u001b[38;5;124mAll\u001b[39m\u001b[38;5;124m\"\u001b[39m, timeout\u001b[38;5;241m=\u001b[39m\u001b[38;5;28;01mNone\u001b[39;00m):\n\u001b[1;32m   5816\u001b[0m \u001b[38;5;250m    \u001b[39m\u001b[38;5;124;03m\"\"\"Display logs for a given training job, optionally tailing them until job is complete.\u001b[39;00m\n\u001b[1;32m   5817\u001b[0m \n\u001b[1;32m   5818\u001b[0m \u001b[38;5;124;03m    If the output is a tty or a Jupyter cell, it will be color-coded\u001b[39;00m\n\u001b[0;32m   (...)\u001b[0m\n\u001b[1;32m   5834\u001b[0m \u001b[38;5;124;03m        exceptions.UnexpectedStatusException: If waiting and the training job fails.\u001b[39;00m\n\u001b[1;32m   5835\u001b[0m \u001b[38;5;124;03m    \"\"\"\u001b[39;00m\n\u001b[0;32m-> 5836\u001b[0m     \u001b[43m_logs_for_job\u001b[49m\u001b[43m(\u001b[49m\u001b[38;5;28;43mself\u001b[39;49m\u001b[43m,\u001b[49m\u001b[43m \u001b[49m\u001b[43mjob_name\u001b[49m\u001b[43m,\u001b[49m\u001b[43m \u001b[49m\u001b[43mwait\u001b[49m\u001b[43m,\u001b[49m\u001b[43m \u001b[49m\u001b[43mpoll\u001b[49m\u001b[43m,\u001b[49m\u001b[43m \u001b[49m\u001b[43mlog_type\u001b[49m\u001b[43m,\u001b[49m\u001b[43m \u001b[49m\u001b[43mtimeout\u001b[49m\u001b[43m)\u001b[49m\n",
      "File \u001b[0;32m/opt/conda/lib/python3.10/site-packages/sagemaker/session.py:8405\u001b[0m, in \u001b[0;36m_logs_for_job\u001b[0;34m(sagemaker_session, job_name, wait, poll, log_type, timeout)\u001b[0m\n\u001b[1;32m   8402\u001b[0m             last_profiler_rule_statuses \u001b[38;5;241m=\u001b[39m profiler_rule_statuses\n\u001b[1;32m   8404\u001b[0m \u001b[38;5;28;01mif\u001b[39;00m wait:\n\u001b[0;32m-> 8405\u001b[0m     \u001b[43m_check_job_status\u001b[49m\u001b[43m(\u001b[49m\u001b[43mjob_name\u001b[49m\u001b[43m,\u001b[49m\u001b[43m \u001b[49m\u001b[43mdescription\u001b[49m\u001b[43m,\u001b[49m\u001b[43m \u001b[49m\u001b[38;5;124;43m\"\u001b[39;49m\u001b[38;5;124;43mTrainingJobStatus\u001b[39;49m\u001b[38;5;124;43m\"\u001b[39;49m\u001b[43m)\u001b[49m\n\u001b[1;32m   8406\u001b[0m     \u001b[38;5;28;01mif\u001b[39;00m dot:\n\u001b[1;32m   8407\u001b[0m         \u001b[38;5;28mprint\u001b[39m()\n",
      "File \u001b[0;32m/opt/conda/lib/python3.10/site-packages/sagemaker/session.py:8458\u001b[0m, in \u001b[0;36m_check_job_status\u001b[0;34m(job, desc, status_key_name)\u001b[0m\n\u001b[1;32m   8452\u001b[0m \u001b[38;5;28;01mif\u001b[39;00m \u001b[38;5;124m\"\u001b[39m\u001b[38;5;124mCapacityError\u001b[39m\u001b[38;5;124m\"\u001b[39m \u001b[38;5;129;01min\u001b[39;00m \u001b[38;5;28mstr\u001b[39m(reason):\n\u001b[1;32m   8453\u001b[0m     \u001b[38;5;28;01mraise\u001b[39;00m exceptions\u001b[38;5;241m.\u001b[39mCapacityError(\n\u001b[1;32m   8454\u001b[0m         message\u001b[38;5;241m=\u001b[39mmessage,\n\u001b[1;32m   8455\u001b[0m         allowed_statuses\u001b[38;5;241m=\u001b[39m[\u001b[38;5;124m\"\u001b[39m\u001b[38;5;124mCompleted\u001b[39m\u001b[38;5;124m\"\u001b[39m, \u001b[38;5;124m\"\u001b[39m\u001b[38;5;124mStopped\u001b[39m\u001b[38;5;124m\"\u001b[39m],\n\u001b[1;32m   8456\u001b[0m         actual_status\u001b[38;5;241m=\u001b[39mstatus,\n\u001b[1;32m   8457\u001b[0m     )\n\u001b[0;32m-> 8458\u001b[0m \u001b[38;5;28;01mraise\u001b[39;00m exceptions\u001b[38;5;241m.\u001b[39mUnexpectedStatusException(\n\u001b[1;32m   8459\u001b[0m     message\u001b[38;5;241m=\u001b[39mmessage,\n\u001b[1;32m   8460\u001b[0m     allowed_statuses\u001b[38;5;241m=\u001b[39m[\u001b[38;5;124m\"\u001b[39m\u001b[38;5;124mCompleted\u001b[39m\u001b[38;5;124m\"\u001b[39m, \u001b[38;5;124m\"\u001b[39m\u001b[38;5;124mStopped\u001b[39m\u001b[38;5;124m\"\u001b[39m],\n\u001b[1;32m   8461\u001b[0m     actual_status\u001b[38;5;241m=\u001b[39mstatus,\n\u001b[1;32m   8462\u001b[0m )\n",
      "\u001b[0;31mUnexpectedStatusException\u001b[0m: Error for Training job xgboost-2024-06-24-02-50-40-797: Failed. Reason: ClientError: Non-numeric value 'm' found in the header line 'mssubclass,lotarea,yearbuilt,yearremodadd,masvnrar...' of file 'train.csv'. CSV format require no header line in it. If header line is already removed, XGBoost does not accept non-numeric value in the data., exit code: 1"
     ]
    }
   ],
   "source": [
    "# fit the model to the training data and validate on the validation data\n",
    "estimator.fit(\n",
    "    {\n",
    "        \"train\": TrainingInput(\n",
    "            s3_data=f\"s3://{bucket_name}/processed/housing/train.csv\", content_type=\"text/csv\"\n",
    "        ),\n",
    "        \"validation\": TrainingInput(\n",
    "            s3_data=f\"s3://{bucket_name}/processed/housing/validation.csv\", content_type=\"text/csv\"\n",
    "        ),\n",
    "    }\n",
    ")"
   ]
  },
  {
   "cell_type": "markdown",
   "id": "769317b7-c939-4b4d-93b8-2696c381a3e8",
   "metadata": {},
   "source": [
    "### Upload the Sagemaker Model created during our training job to the Sagemaker Model Registry"
   ]
  },
  {
   "cell_type": "code",
   "execution_count": null,
   "id": "1fdc4547-c632-497f-8dbc-72ba10688f12",
   "metadata": {},
   "outputs": [],
   "source": [
    "# Get the current date and time\n",
    "current_datetime = datetime.datetime.now().strftime(\"%Y-%m-%d-%H-%M-%S\")\n",
    "# Update the model_name variable\n",
    "model_name = f\"sagemaker-xgboost-{current_datetime}\"\n",
    "print(model_name)"
   ]
  },
  {
   "cell_type": "code",
   "execution_count": null,
   "id": "b671e482-860b-431e-ae6c-cc03677890f1",
   "metadata": {},
   "outputs": [],
   "source": [
    "# Saving training job information to be used in the ML lineage module\n",
    "training_job_info = estimator.latest_training_job.describe()\n",
    "if training_job_info != None:\n",
    "    \n",
    "    # Get the model data\n",
    "    model_data = training_job_info[\"ModelArtifacts\"][\"S3ModelArtifacts\"]\n",
    "    # Create the primary container\n",
    "    primary_container = {\"Image\": container, \"ModelDataUrl\": model_data}\n",
    "\n",
    "    # Save our model to the Sagemaker Model Registry\n",
    "    create_model_response = sagemaker_client.create_model(\n",
    "        ModelName=model_name, ExecutionRoleArn=role, PrimaryContainer=primary_container\n",
    "    )\n",
    "    print(create_model_response[\"ModelArn\"])"
   ]
  },
  {
   "cell_type": "code",
   "execution_count": null,
   "id": "76b7db2a-ce4a-4e59-b159-2c6e28121919",
   "metadata": {},
   "outputs": [],
   "source": [
    "# Inspect Training Job Details\n",
    "training_job_info"
   ]
  },
  {
   "cell_type": "markdown",
   "id": "2a74d23d-4343-422c-9786-88af293c5308",
   "metadata": {},
   "source": [
    "### Host the trained XGBoost model as a SageMaker Endpoint"
   ]
  },
  {
   "cell_type": "code",
   "execution_count": null,
   "id": "5d02a108-c383-4cdc-a746-46fe2d0cd143",
   "metadata": {},
   "outputs": [],
   "source": [
    "endpoint_name = \"housing-endpoint\"\n",
    "endpoint_config_name = \"housing-endpoint\"\n",
    "# Delete the endpoint\n",
    "try:\n",
    "    sagemaker_client.delete_endpoint(EndpointName=endpoint_name)\n",
    "    print(f\"Endpoint '{endpoint_name}' has been deleted.\")\n",
    "except ClientError as e:\n",
    "    if e.response['Error']['Code'] == 'ValidationException':\n",
    "        print(f\"Endpoint '{endpoint_name}' does not exist.\")\n",
    "    else:\n",
    "        print(f\"Error deleting endpoint: {e}\")\n",
    "\n",
    "# Delete the endpoint configuration\n",
    "try:\n",
    "    sagemaker_client.delete_endpoint_config(EndpointConfigName=endpoint_config_name)\n",
    "    print(f\"Endpoint configuration '{endpoint_config_name}' has been deleted.\")\n",
    "except ClientError as e:\n",
    "    if e.response['Error']['Code'] == 'ValidationException':\n",
    "        print(f\"Endpoint configuration '{endpoint_config_name}' does not exist.\")\n",
    "    else:\n",
    "        print(f\"Error deleting endpoint configuration: {e}\")"
   ]
  },
  {
   "cell_type": "code",
   "execution_count": null,
   "id": "9494cb0a-a87c-4539-8827-ce4f8de24d01",
   "metadata": {},
   "outputs": [],
   "source": [
    "# deploy the model to an endpoint\n",
    "predictor = estimator.deploy(\n",
    "    initial_instance_count=1,\n",
    "    instance_type=\"ml.m5.xlarge\",\n",
    "    endpoint_name=\"housing-endpoint\",\n",
    "    wait=True,\n",
    ")"
   ]
  },
  {
   "cell_type": "code",
   "execution_count": null,
   "id": "e10120dd-2277-41c0-8e09-51ca6842ffb2",
   "metadata": {},
   "outputs": [],
   "source": [
    "print(predictor.endpoint_name)"
   ]
  },
  {
   "cell_type": "code",
   "execution_count": null,
   "id": "c98b5b0a-6ef0-4dd9-a851-ce837edc5c84",
   "metadata": {},
   "outputs": [],
   "source": [
    "# Extracting information from training_job_info\n",
    "model_data = training_job_info['ModelArtifacts']['S3ModelArtifacts']\n",
    "image_uri = training_job_info['AlgorithmSpecification']['TrainingImage']\n",
    "baseline_dataset = training_job_info['InputDataConfig'][0]['DataSource']['S3DataSource']['S3Uri']\n",
    "\n",
    "# Store the variables\n",
    "%store model_data\n",
    "%store image_uri\n",
    "%store baseline_dataset"
   ]
  },
  {
   "cell_type": "markdown",
   "id": "76afbb2b-1739-4ee7-8060-d4c70629c423",
   "metadata": {},
   "source": [
    "### Real time inference using the deployed endpoint"
   ]
  },
  {
   "cell_type": "code",
   "execution_count": null,
   "id": "5a5cfd48-1dfc-49a3-884e-0d18fceb8da0",
   "metadata": {},
   "outputs": [],
   "source": [
    "# make predictions using the endpoint\n",
    "csv_data = df_test.to_csv(header=False, index=False)\n",
    "predictions = predictor.predict(csv_data, initial_args={\"ContentType\": \"text/csv\"}).decode(\"utf-8\")\n",
    "predictions = pd.read_csv(StringIO(predictions), header=None)\n",
    "predictions.head(5)"
   ]
  },
  {
   "cell_type": "markdown",
   "id": "6971fb6c-30b2-43e2-b253-af5153b09c4b",
   "metadata": {},
   "source": [
    "### Delete the endpoint"
   ]
  },
  {
   "cell_type": "code",
   "execution_count": null,
   "id": "611082f0-127a-4b38-9e7e-b23dab416301",
   "metadata": {},
   "outputs": [],
   "source": [
    "%store role"
   ]
  },
  {
   "cell_type": "code",
   "execution_count": null,
   "id": "19ff6daa-e6f8-4f9c-bec1-44f55b1354ec",
   "metadata": {},
   "outputs": [],
   "source": [
    "# delete the endpoint\n",
    "#predictor.delete_endpoint()\n",
    "#predictor.delete_endpoint_config(EndpointConfigName=endpoint_config_name)"
   ]
  },
  {
   "cell_type": "markdown",
   "id": "c1d993b3-848c-4e17-99ce-f7ad6bddcd72",
   "metadata": {},
   "source": [
    "### Shut down notebook resources"
   ]
  },
  {
   "cell_type": "code",
   "execution_count": null,
   "id": "ccbde132-1a8a-49bd-93a7-7dcfca554bf7",
   "metadata": {},
   "outputs": [],
   "source": [
    "%%javascript\n",
    "\n",
    "try {\n",
    "    Jupyter.notebook.save_checkpoint();\n",
    "    Jupyter.notebook.session.delete();\n",
    "}\n",
    "catch(err) {\n",
    "    // NoOp\n",
    "}"
   ]
  },
  {
   "cell_type": "code",
   "execution_count": null,
   "id": "1e95b87e-375e-4de7-84e4-428825b214aa",
   "metadata": {},
   "outputs": [],
   "source": [
    "%%html\n",
    "\n",
    "<p><b>Shutting down your kernel for this notebook to release resources.</b></p>\n",
    "<button class=\"sm-command-button\" data-commandlinker-command=\"kernelmenu:shutdown\" style=\"display:none;\">Shutdown Kernel</button>\n",
    "        \n",
    "<script>\n",
    "try {\n",
    "    els = document.getElementsByClassName(\"sm-command-button\");\n",
    "    els[0].click();\n",
    "}\n",
    "catch(err) {\n",
    "    // NoOp\n",
    "}    \n",
    "</script>"
   ]
  },
  {
   "cell_type": "code",
   "execution_count": null,
   "id": "1c084fd5-fda9-4579-aa9e-3aee6f042fc3",
   "metadata": {},
   "outputs": [],
   "source": []
  },
  {
   "cell_type": "code",
   "execution_count": null,
   "id": "b284d469-9efb-46e2-af5a-25da044ec5f8",
   "metadata": {},
   "outputs": [],
   "source": []
  }
 ],
 "metadata": {
  "kernelspec": {
   "display_name": "Python 3 (ipykernel)",
   "language": "python",
   "name": "python3"
  },
  "language_info": {
   "codemirror_mode": {
    "name": "ipython",
    "version": 3
   },
   "file_extension": ".py",
   "mimetype": "text/x-python",
   "name": "python",
   "nbconvert_exporter": "python",
   "pygments_lexer": "ipython3",
   "version": "3.10.14"
  }
 },
 "nbformat": 4,
 "nbformat_minor": 5
}
