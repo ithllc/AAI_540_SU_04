{
 "cells": [
  {
   "cell_type": "markdown",
   "id": "d2bdae22-d5ff-457b-bd00-b367bae515cf",
   "metadata": {
    "tags": []
   },
   "source": [
    "# Set Up Feature Store"
   ]
  },
  {
   "cell_type": "markdown",
   "id": "ee8d003f-05c2-4147-9e35-645f9b50a307",
   "metadata": {},
   "source": [
    "## Import libraries"
   ]
  },
  {
   "cell_type": "code",
   "execution_count": 2,
   "id": "86c9be41-e29f-4430-8166-0ef42dfb8c80",
   "metadata": {
    "tags": []
   },
   "outputs": [
    {
     "name": "stdout",
     "output_type": "stream",
     "text": [
      "sagemaker.config INFO - Not applying SDK defaults from location: /etc/xdg/sagemaker/config.yaml\n",
      "sagemaker.config INFO - Not applying SDK defaults from location: /root/.config/sagemaker/config.yaml\n"
     ]
    }
   ],
   "source": [
    "import boto3\n",
    "import os\n",
    "import pandas as pd\n",
    "import sagemaker\n",
    "import time\n",
    "import warnings\n",
    "\n",
    "from IPython.core.display import HTML\n",
    "from pyathena import connect\n",
    "from sagemaker.feature_store.feature_group import FeatureGroup\n",
    "from sagemaker.session import Session\n",
    "\n",
    "# suppress future warnings\n",
    "warnings.simplefilter(action='ignore', category=FutureWarning)\n",
    "\n",
    "# filter out the specific UserWarning related to DBAPI2 objects\n",
    "warnings.filterwarnings('ignore', message=\"pandas only supports SQLAlchemy connectable\")"
   ]
  },
  {
   "cell_type": "code",
   "execution_count": 3,
   "id": "79112a76-7ea1-4fa9-8976-db9d576a4da9",
   "metadata": {
    "tags": []
   },
   "outputs": [
    {
     "name": "stdout",
     "output_type": "stream",
     "text": [
      "Stored variables and their in-db values:\n",
      "bucket_name                           -> 'wizard-of-tasks-dataset-5432'\n",
      "setup_dependencies_passed             -> True\n",
      "setup_s3_bucket_passed                -> True\n"
     ]
    }
   ],
   "source": [
    "# check stored variables\n",
    "%store"
   ]
  },
  {
   "cell_type": "markdown",
   "id": "4203b534-67be-41cd-beef-745bf0c2555d",
   "metadata": {
    "tags": []
   },
   "source": [
    "## Pull Data from Athena"
   ]
  },
  {
   "cell_type": "code",
   "execution_count": 4,
   "id": "f5d3f237-a0ec-45d8-894e-5349292679eb",
   "metadata": {
    "tags": []
   },
   "outputs": [],
   "source": [
    "# save Amazon information\n",
    "account_id = boto3.client(\"sts\").get_caller_identity().get(\"Account\")\n",
    "region = boto3.Session().region_name\n",
    "role = sagemaker.get_execution_role()\n",
    "sagemaker_session = sagemaker.Session()\n",
    "s3 = boto3.client('s3', region_name=sagemaker_session.boto_region_name)"
   ]
  },
  {
   "cell_type": "code",
   "execution_count": 5,
   "id": "503dff48-976d-4c16-8260-8cf4ce1fde36",
   "metadata": {
    "tags": []
   },
   "outputs": [
    {
     "name": "stdout",
     "output_type": "stream",
     "text": [
      "wizard-of-tasks-dataset-5432\n"
     ]
    }
   ],
   "source": [
    "# get bucket_name\n",
    "%store -r bucket_name\n",
    "print(bucket_name)\n",
    "\n",
    "# set S3 staging directory\n",
    "s3_staging_dir = \"s3://{0}/athena/staging\".format(bucket_name)\n",
    "\n",
    "# create connection\n",
    "conn = connect(region_name=region, s3_staging_dir=s3_staging_dir)"
   ]
  },
  {
   "cell_type": "code",
   "execution_count": 6,
   "id": "e0dfeda0-1216-4c54-80e1-f606616470a9",
   "metadata": {
    "tags": []
   },
   "outputs": [
    {
     "data": {
      "text/html": [
       "<div>\n",
       "<style scoped>\n",
       "    .dataframe tbody tr th:only-of-type {\n",
       "        vertical-align: middle;\n",
       "    }\n",
       "\n",
       "    .dataframe tbody tr th {\n",
       "        vertical-align: top;\n",
       "    }\n",
       "\n",
       "    .dataframe thead th {\n",
       "        text-align: right;\n",
       "    }\n",
       "</style>\n",
       "<table border=\"1\" class=\"dataframe\">\n",
       "  <thead>\n",
       "    <tr style=\"text-align: right;\">\n",
       "      <th></th>\n",
       "      <th>question</th>\n",
       "      <th>intent_question</th>\n",
       "      <th>history</th>\n",
       "      <th>conversation_id</th>\n",
       "      <th>document_url_question</th>\n",
       "      <th>domain_question</th>\n",
       "      <th>text_answer</th>\n",
       "      <th>intent_answer</th>\n",
       "      <th>domain_answer</th>\n",
       "      <th>question_id</th>\n",
       "      <th>title</th>\n",
       "      <th>description</th>\n",
       "      <th>ingredients</th>\n",
       "      <th>steps</th>\n",
       "    </tr>\n",
       "  </thead>\n",
       "  <tbody>\n",
       "    <tr>\n",
       "      <th>0</th>\n",
       "      <td>How do we prepare the tree?</td>\n",
       "      <td>ask_question_recipe_steps</td>\n",
       "      <td>student: I'm ready for the first step now plea...</td>\n",
       "      <td>Wizard-of-Task-diy-1</td>\n",
       "      <td>https://www.wikihow.com/Start-a-Bonsai-Tree</td>\n",
       "      <td>diy</td>\n",
       "      <td>Have you selected a pot? This is a very import...</td>\n",
       "      <td>answer_question_recipe_steps</td>\n",
       "      <td>diy</td>\n",
       "      <td>diy-1-1</td>\n",
       "      <td>How to Start a Bonsai Tree</td>\n",
       "      <td>\"\\nThe ancient art of growing Bonsai trees is ...</td>\n",
       "      <td></td>\n",
       "      <td>['Select a suitable species of tree for your c...</td>\n",
       "    </tr>\n",
       "    <tr>\n",
       "      <th>1</th>\n",
       "      <td>Ok, I have a nice dark green pot, perfect. Wha...</td>\n",
       "      <td>ask_question_ingredients_tools</td>\n",
       "      <td>student: I've got an idea of where I want it t...</td>\n",
       "      <td>Wizard-of-Task-diy-1</td>\n",
       "      <td>https://www.wikihow.com/Start-a-Bonsai-Tree</td>\n",
       "      <td>diy</td>\n",
       "      <td>Next we will prepare the tree for potting. The...</td>\n",
       "      <td>answer_question_recipe_steps</td>\n",
       "      <td>diy</td>\n",
       "      <td>diy-1-2</td>\n",
       "      <td>How to Start a Bonsai Tree</td>\n",
       "      <td>\"\\nThe ancient art of growing Bonsai trees is ...</td>\n",
       "      <td></td>\n",
       "      <td>['Select a suitable species of tree for your c...</td>\n",
       "    </tr>\n",
       "    <tr>\n",
       "      <th>2</th>\n",
       "      <td>Does that mean basil grows best in the spring ...</td>\n",
       "      <td>ask_question_recipe_steps</td>\n",
       "      <td>student: Gotcha!  Once I have all those tools,...</td>\n",
       "      <td>Wizard-of-Task-diy-2</td>\n",
       "      <td>https://www.wikihow.com/Grow-Basil</td>\n",
       "      <td>diy</td>\n",
       "      <td>Yes, like most plants, basil likes a temperate...</td>\n",
       "      <td>answer_question_recipe_steps</td>\n",
       "      <td>diy</td>\n",
       "      <td>diy-2-3</td>\n",
       "      <td>How to Grow Basil</td>\n",
       "      <td>\\nBasil is easy to grow, and transforms ordina...</td>\n",
       "      <td></td>\n",
       "      <td>['Choose the kind of basil you wish to grow.',...</td>\n",
       "    </tr>\n",
       "    <tr>\n",
       "      <th>3</th>\n",
       "      <td>I don't really have access to those right now ...</td>\n",
       "      <td>ask_question_recipe_steps</td>\n",
       "      <td>student: Okay, now what should I do after that...</td>\n",
       "      <td>Wizard-of-Task-diy-3</td>\n",
       "      <td>https://www.wikihow.com/Remove-Salt-Build-up-o...</td>\n",
       "      <td>diy</td>\n",
       "      <td>You can just rub it on the main zipper piece</td>\n",
       "      <td>answer_question_recipe_steps</td>\n",
       "      <td>diy</td>\n",
       "      <td>diy-3-1</td>\n",
       "      <td>How to Remove Salt Build up on a Zipper</td>\n",
       "      <td>\\nWhether it’s from roads and sidewalks in the...</td>\n",
       "      <td></td>\n",
       "      <td>['Open the zipper as much as possible.', 'Use ...</td>\n",
       "    </tr>\n",
       "    <tr>\n",
       "      <th>4</th>\n",
       "      <td>If I could only choose one thing to decoupage ...</td>\n",
       "      <td>ask_question_recipe_steps</td>\n",
       "      <td>student: What is the easiest type of material ...</td>\n",
       "      <td>Wizard-of-Task-diy-5</td>\n",
       "      <td>https://www.wikihow.com/Decoupage</td>\n",
       "      <td>diy</td>\n",
       "      <td>I would highly recommend either decoupaging wo...</td>\n",
       "      <td>answer_question_recipe_steps</td>\n",
       "      <td>diy</td>\n",
       "      <td>diy-5-5</td>\n",
       "      <td>How to Decoupage</td>\n",
       "      <td>\\nIf you'd like to give new life to a piece of...</td>\n",
       "      <td></td>\n",
       "      <td>\"['Cover your workspace with paper to protect ...</td>\n",
       "    </tr>\n",
       "  </tbody>\n",
       "</table>\n",
       "</div>"
      ],
      "text/plain": [
       "                                            question  \\\n",
       "0                       How do we prepare the tree?    \n",
       "1  Ok, I have a nice dark green pot, perfect. Wha...   \n",
       "2  Does that mean basil grows best in the spring ...   \n",
       "3  I don't really have access to those right now ...   \n",
       "4  If I could only choose one thing to decoupage ...   \n",
       "\n",
       "                  intent_question  \\\n",
       "0       ask_question_recipe_steps   \n",
       "1  ask_question_ingredients_tools   \n",
       "2       ask_question_recipe_steps   \n",
       "3       ask_question_recipe_steps   \n",
       "4       ask_question_recipe_steps   \n",
       "\n",
       "                                             history       conversation_id  \\\n",
       "0  student: I'm ready for the first step now plea...  Wizard-of-Task-diy-1   \n",
       "1  student: I've got an idea of where I want it t...  Wizard-of-Task-diy-1   \n",
       "2  student: Gotcha!  Once I have all those tools,...  Wizard-of-Task-diy-2   \n",
       "3  student: Okay, now what should I do after that...  Wizard-of-Task-diy-3   \n",
       "4  student: What is the easiest type of material ...  Wizard-of-Task-diy-5   \n",
       "\n",
       "                               document_url_question domain_question  \\\n",
       "0        https://www.wikihow.com/Start-a-Bonsai-Tree             diy   \n",
       "1        https://www.wikihow.com/Start-a-Bonsai-Tree             diy   \n",
       "2                 https://www.wikihow.com/Grow-Basil             diy   \n",
       "3  https://www.wikihow.com/Remove-Salt-Build-up-o...             diy   \n",
       "4                  https://www.wikihow.com/Decoupage             diy   \n",
       "\n",
       "                                         text_answer  \\\n",
       "0  Have you selected a pot? This is a very import...   \n",
       "1  Next we will prepare the tree for potting. The...   \n",
       "2  Yes, like most plants, basil likes a temperate...   \n",
       "3       You can just rub it on the main zipper piece   \n",
       "4  I would highly recommend either decoupaging wo...   \n",
       "\n",
       "                  intent_answer domain_answer question_id  \\\n",
       "0  answer_question_recipe_steps           diy     diy-1-1   \n",
       "1  answer_question_recipe_steps           diy     diy-1-2   \n",
       "2  answer_question_recipe_steps           diy     diy-2-3   \n",
       "3  answer_question_recipe_steps           diy     diy-3-1   \n",
       "4  answer_question_recipe_steps           diy     diy-5-5   \n",
       "\n",
       "                                     title  \\\n",
       "0               How to Start a Bonsai Tree   \n",
       "1               How to Start a Bonsai Tree   \n",
       "2                        How to Grow Basil   \n",
       "3  How to Remove Salt Build up on a Zipper   \n",
       "4                         How to Decoupage   \n",
       "\n",
       "                                         description ingredients  \\\n",
       "0  \"\\nThe ancient art of growing Bonsai trees is ...               \n",
       "1  \"\\nThe ancient art of growing Bonsai trees is ...               \n",
       "2  \\nBasil is easy to grow, and transforms ordina...               \n",
       "3  \\nWhether it’s from roads and sidewalks in the...               \n",
       "4  \\nIf you'd like to give new life to a piece of...               \n",
       "\n",
       "                                               steps  \n",
       "0  ['Select a suitable species of tree for your c...  \n",
       "1  ['Select a suitable species of tree for your c...  \n",
       "2  ['Choose the kind of basil you wish to grow.',...  \n",
       "3  ['Open the zipper as much as possible.', 'Use ...  \n",
       "4  \"['Cover your workspace with paper to protect ...  "
      ]
     },
     "execution_count": 6,
     "metadata": {},
     "output_type": "execute_result"
    }
   ],
   "source": [
    "# set database name and table name\n",
    "database_name = \"wizard_of_tasks\"\n",
    "table_name = \"data\"\n",
    "\n",
    "# pull data\n",
    "statement = \"\"\"SELECT * FROM {}.{}\"\"\".format(\n",
    "    database_name, table_name\n",
    ")\n",
    "df = pd.read_sql(statement, conn)\n",
    "df.head(5)"
   ]
  },
  {
   "cell_type": "markdown",
   "id": "a68d4b38-37a6-4840-9f72-10ea9aa3fd03",
   "metadata": {},
   "source": [
    "## Prepare Data for Feature Store"
   ]
  },
  {
   "cell_type": "code",
   "execution_count": 7,
   "id": "a37e55df-1ff3-4b07-9573-0af7cbe7af32",
   "metadata": {
    "tags": []
   },
   "outputs": [
    {
     "data": {
      "text/html": [
       "<div>\n",
       "<style scoped>\n",
       "    .dataframe tbody tr th:only-of-type {\n",
       "        vertical-align: middle;\n",
       "    }\n",
       "\n",
       "    .dataframe tbody tr th {\n",
       "        vertical-align: top;\n",
       "    }\n",
       "\n",
       "    .dataframe thead th {\n",
       "        text-align: right;\n",
       "    }\n",
       "</style>\n",
       "<table border=\"1\" class=\"dataframe\">\n",
       "  <thead>\n",
       "    <tr style=\"text-align: right;\">\n",
       "      <th></th>\n",
       "      <th>question</th>\n",
       "      <th>intent_question</th>\n",
       "      <th>history</th>\n",
       "      <th>conversation_id</th>\n",
       "      <th>document_url_question</th>\n",
       "      <th>domain_question</th>\n",
       "      <th>text_answer</th>\n",
       "      <th>intent_answer</th>\n",
       "      <th>domain_answer</th>\n",
       "      <th>question_id</th>\n",
       "      <th>title</th>\n",
       "      <th>description</th>\n",
       "      <th>ingredients</th>\n",
       "      <th>steps</th>\n",
       "      <th>event_time</th>\n",
       "    </tr>\n",
       "  </thead>\n",
       "  <tbody>\n",
       "    <tr>\n",
       "      <th>0</th>\n",
       "      <td>How do we prepare the tree?</td>\n",
       "      <td>ask_question_recipe_steps</td>\n",
       "      <td>student: I'm ready for the first step now plea...</td>\n",
       "      <td>Wizard-of-Task-diy-1</td>\n",
       "      <td>https://www.wikihow.com/Start-a-Bonsai-Tree</td>\n",
       "      <td>diy</td>\n",
       "      <td>Have you selected a pot? This is a very import...</td>\n",
       "      <td>answer_question_recipe_steps</td>\n",
       "      <td>diy</td>\n",
       "      <td>diy-1-1</td>\n",
       "      <td>How to Start a Bonsai Tree</td>\n",
       "      <td>\"\\nThe ancient art of growing Bonsai trees is ...</td>\n",
       "      <td></td>\n",
       "      <td>['Select a suitable species of tree for your c...</td>\n",
       "      <td>2024-06-10 22:05:20.702680</td>\n",
       "    </tr>\n",
       "    <tr>\n",
       "      <th>1</th>\n",
       "      <td>Ok, I have a nice dark green pot, perfect. Wha...</td>\n",
       "      <td>ask_question_ingredients_tools</td>\n",
       "      <td>student: I've got an idea of where I want it t...</td>\n",
       "      <td>Wizard-of-Task-diy-1</td>\n",
       "      <td>https://www.wikihow.com/Start-a-Bonsai-Tree</td>\n",
       "      <td>diy</td>\n",
       "      <td>Next we will prepare the tree for potting. The...</td>\n",
       "      <td>answer_question_recipe_steps</td>\n",
       "      <td>diy</td>\n",
       "      <td>diy-1-2</td>\n",
       "      <td>How to Start a Bonsai Tree</td>\n",
       "      <td>\"\\nThe ancient art of growing Bonsai trees is ...</td>\n",
       "      <td></td>\n",
       "      <td>['Select a suitable species of tree for your c...</td>\n",
       "      <td>2024-06-10 22:05:20.702680</td>\n",
       "    </tr>\n",
       "    <tr>\n",
       "      <th>2</th>\n",
       "      <td>Does that mean basil grows best in the spring ...</td>\n",
       "      <td>ask_question_recipe_steps</td>\n",
       "      <td>student: Gotcha!  Once I have all those tools,...</td>\n",
       "      <td>Wizard-of-Task-diy-2</td>\n",
       "      <td>https://www.wikihow.com/Grow-Basil</td>\n",
       "      <td>diy</td>\n",
       "      <td>Yes, like most plants, basil likes a temperate...</td>\n",
       "      <td>answer_question_recipe_steps</td>\n",
       "      <td>diy</td>\n",
       "      <td>diy-2-3</td>\n",
       "      <td>How to Grow Basil</td>\n",
       "      <td>\\nBasil is easy to grow, and transforms ordina...</td>\n",
       "      <td></td>\n",
       "      <td>['Choose the kind of basil you wish to grow.',...</td>\n",
       "      <td>2024-06-10 22:05:20.702680</td>\n",
       "    </tr>\n",
       "    <tr>\n",
       "      <th>3</th>\n",
       "      <td>I don't really have access to those right now ...</td>\n",
       "      <td>ask_question_recipe_steps</td>\n",
       "      <td>student: Okay, now what should I do after that...</td>\n",
       "      <td>Wizard-of-Task-diy-3</td>\n",
       "      <td>https://www.wikihow.com/Remove-Salt-Build-up-o...</td>\n",
       "      <td>diy</td>\n",
       "      <td>You can just rub it on the main zipper piece</td>\n",
       "      <td>answer_question_recipe_steps</td>\n",
       "      <td>diy</td>\n",
       "      <td>diy-3-1</td>\n",
       "      <td>How to Remove Salt Build up on a Zipper</td>\n",
       "      <td>\\nWhether it’s from roads and sidewalks in the...</td>\n",
       "      <td></td>\n",
       "      <td>['Open the zipper as much as possible.', 'Use ...</td>\n",
       "      <td>2024-06-10 22:05:20.702680</td>\n",
       "    </tr>\n",
       "    <tr>\n",
       "      <th>4</th>\n",
       "      <td>If I could only choose one thing to decoupage ...</td>\n",
       "      <td>ask_question_recipe_steps</td>\n",
       "      <td>student: What is the easiest type of material ...</td>\n",
       "      <td>Wizard-of-Task-diy-5</td>\n",
       "      <td>https://www.wikihow.com/Decoupage</td>\n",
       "      <td>diy</td>\n",
       "      <td>I would highly recommend either decoupaging wo...</td>\n",
       "      <td>answer_question_recipe_steps</td>\n",
       "      <td>diy</td>\n",
       "      <td>diy-5-5</td>\n",
       "      <td>How to Decoupage</td>\n",
       "      <td>\\nIf you'd like to give new life to a piece of...</td>\n",
       "      <td></td>\n",
       "      <td>\"['Cover your workspace with paper to protect ...</td>\n",
       "      <td>2024-06-10 22:05:20.702680</td>\n",
       "    </tr>\n",
       "  </tbody>\n",
       "</table>\n",
       "</div>"
      ],
      "text/plain": [
       "                                            question  \\\n",
       "0                       How do we prepare the tree?    \n",
       "1  Ok, I have a nice dark green pot, perfect. Wha...   \n",
       "2  Does that mean basil grows best in the spring ...   \n",
       "3  I don't really have access to those right now ...   \n",
       "4  If I could only choose one thing to decoupage ...   \n",
       "\n",
       "                  intent_question  \\\n",
       "0       ask_question_recipe_steps   \n",
       "1  ask_question_ingredients_tools   \n",
       "2       ask_question_recipe_steps   \n",
       "3       ask_question_recipe_steps   \n",
       "4       ask_question_recipe_steps   \n",
       "\n",
       "                                             history       conversation_id  \\\n",
       "0  student: I'm ready for the first step now plea...  Wizard-of-Task-diy-1   \n",
       "1  student: I've got an idea of where I want it t...  Wizard-of-Task-diy-1   \n",
       "2  student: Gotcha!  Once I have all those tools,...  Wizard-of-Task-diy-2   \n",
       "3  student: Okay, now what should I do after that...  Wizard-of-Task-diy-3   \n",
       "4  student: What is the easiest type of material ...  Wizard-of-Task-diy-5   \n",
       "\n",
       "                               document_url_question domain_question  \\\n",
       "0        https://www.wikihow.com/Start-a-Bonsai-Tree             diy   \n",
       "1        https://www.wikihow.com/Start-a-Bonsai-Tree             diy   \n",
       "2                 https://www.wikihow.com/Grow-Basil             diy   \n",
       "3  https://www.wikihow.com/Remove-Salt-Build-up-o...             diy   \n",
       "4                  https://www.wikihow.com/Decoupage             diy   \n",
       "\n",
       "                                         text_answer  \\\n",
       "0  Have you selected a pot? This is a very import...   \n",
       "1  Next we will prepare the tree for potting. The...   \n",
       "2  Yes, like most plants, basil likes a temperate...   \n",
       "3       You can just rub it on the main zipper piece   \n",
       "4  I would highly recommend either decoupaging wo...   \n",
       "\n",
       "                  intent_answer domain_answer question_id  \\\n",
       "0  answer_question_recipe_steps           diy     diy-1-1   \n",
       "1  answer_question_recipe_steps           diy     diy-1-2   \n",
       "2  answer_question_recipe_steps           diy     diy-2-3   \n",
       "3  answer_question_recipe_steps           diy     diy-3-1   \n",
       "4  answer_question_recipe_steps           diy     diy-5-5   \n",
       "\n",
       "                                     title  \\\n",
       "0               How to Start a Bonsai Tree   \n",
       "1               How to Start a Bonsai Tree   \n",
       "2                        How to Grow Basil   \n",
       "3  How to Remove Salt Build up on a Zipper   \n",
       "4                         How to Decoupage   \n",
       "\n",
       "                                         description ingredients  \\\n",
       "0  \"\\nThe ancient art of growing Bonsai trees is ...               \n",
       "1  \"\\nThe ancient art of growing Bonsai trees is ...               \n",
       "2  \\nBasil is easy to grow, and transforms ordina...               \n",
       "3  \\nWhether it’s from roads and sidewalks in the...               \n",
       "4  \\nIf you'd like to give new life to a piece of...               \n",
       "\n",
       "                                               steps  \\\n",
       "0  ['Select a suitable species of tree for your c...   \n",
       "1  ['Select a suitable species of tree for your c...   \n",
       "2  ['Choose the kind of basil you wish to grow.',...   \n",
       "3  ['Open the zipper as much as possible.', 'Use ...   \n",
       "4  \"['Cover your workspace with paper to protect ...   \n",
       "\n",
       "                  event_time  \n",
       "0 2024-06-10 22:05:20.702680  \n",
       "1 2024-06-10 22:05:20.702680  \n",
       "2 2024-06-10 22:05:20.702680  \n",
       "3 2024-06-10 22:05:20.702680  \n",
       "4 2024-06-10 22:05:20.702680  "
      ]
     },
     "execution_count": 7,
     "metadata": {},
     "output_type": "execute_result"
    }
   ],
   "source": [
    "# add an event time\n",
    "df['event_time'] = pd.Timestamp.now()\n",
    "df.head()"
   ]
  },
  {
   "cell_type": "code",
   "execution_count": 8,
   "id": "eebb29c4-6da9-4d0a-99e1-287a2bcdb25c",
   "metadata": {
    "tags": []
   },
   "outputs": [
    {
     "data": {
      "text/plain": [
       "question                         object\n",
       "intent_question                  object\n",
       "history                          object\n",
       "conversation_id                  object\n",
       "document_url_question            object\n",
       "domain_question                  object\n",
       "text_answer                      object\n",
       "intent_answer                    object\n",
       "domain_answer                    object\n",
       "question_id                      object\n",
       "title                            object\n",
       "description                      object\n",
       "ingredients                      object\n",
       "steps                            object\n",
       "event_time               datetime64[us]\n",
       "dtype: object"
      ]
     },
     "execution_count": 8,
     "metadata": {},
     "output_type": "execute_result"
    }
   ],
   "source": [
    "# check column types\n",
    "df.dtypes"
   ]
  },
  {
   "cell_type": "code",
   "execution_count": 9,
   "id": "755b7af2-a0d4-4845-86d0-a923c1b26582",
   "metadata": {
    "tags": []
   },
   "outputs": [],
   "source": [
    "# function to convert object or category columns to string\n",
    "def cast_object_to_string(data_frame):\n",
    "    for label in data_frame.columns:\n",
    "        if data_frame.dtypes[label] == \"object\":\n",
    "            data_frame[label] = data_frame[label].astype(\"str\").astype(\"string\")\n",
    "        if data_frame.dtypes[label] == \"category\":\n",
    "            data_frame[label] = data_frame[label].astype(\"str\").astype(\"string\")\n",
    "\n",
    "# update neighborhood dataframe\n",
    "cast_object_to_string(df)"
   ]
  },
  {
   "cell_type": "code",
   "execution_count": 10,
   "id": "20689541-97df-4467-af9b-b891d459903b",
   "metadata": {
    "tags": []
   },
   "outputs": [],
   "source": [
    "# Convert datetime to Unix timestamp (seconds since epoch)\n",
    "df['event_time'] = df['event_time'].astype(int) / 10**9"
   ]
  },
  {
   "cell_type": "code",
   "execution_count": 11,
   "id": "5efcf9a6-8aba-438e-ba0e-3cecec873852",
   "metadata": {
    "tags": []
   },
   "outputs": [
    {
     "data": {
      "text/plain": [
       "question                 string[python]\n",
       "intent_question          string[python]\n",
       "history                  string[python]\n",
       "conversation_id          string[python]\n",
       "document_url_question    string[python]\n",
       "domain_question          string[python]\n",
       "text_answer              string[python]\n",
       "intent_answer            string[python]\n",
       "domain_answer            string[python]\n",
       "question_id              string[python]\n",
       "title                    string[python]\n",
       "description              string[python]\n",
       "ingredients              string[python]\n",
       "steps                    string[python]\n",
       "event_time                      float64\n",
       "dtype: object"
      ]
     },
     "execution_count": 11,
     "metadata": {},
     "output_type": "execute_result"
    }
   ],
   "source": [
    "# check column types\n",
    "df.dtypes"
   ]
  },
  {
   "cell_type": "markdown",
   "id": "bdb2040f-122a-4f73-b534-6a65075495bb",
   "metadata": {},
   "source": [
    "## Set Up Feature Store"
   ]
  },
  {
   "cell_type": "code",
   "execution_count": 12,
   "id": "fcb8027e-fa38-45bd-829f-c1c6a6dae8b8",
   "metadata": {
    "tags": []
   },
   "outputs": [],
   "source": [
    "# set up Feature Store Session with AWS\n",
    "boto_session = boto3.Session(region_name=region)\n",
    "sagemaker_client = boto_session.client(service_name=\"sagemaker\", region_name=region)\n",
    "featurestore_runtime = boto_session.client(\n",
    "    service_name=\"sagemaker-featurestore-runtime\", region_name=region\n",
    ")\n",
    "feature_store_session = Session(\n",
    "    boto_session=boto_session,\n",
    "    sagemaker_client=sagemaker_client,\n",
    "    sagemaker_featurestore_runtime_client=featurestore_runtime,\n",
    ")"
   ]
  },
  {
   "cell_type": "code",
   "execution_count": 13,
   "id": "16f1912e-9e0b-410b-8310-3ab9e3b771ce",
   "metadata": {
    "tags": []
   },
   "outputs": [
    {
     "data": {
      "text/plain": [
       "[FeatureDefinition(feature_name='question', feature_type=<FeatureTypeEnum.STRING: 'String'>, collection_type=None),\n",
       " FeatureDefinition(feature_name='intent_question', feature_type=<FeatureTypeEnum.STRING: 'String'>, collection_type=None),\n",
       " FeatureDefinition(feature_name='history', feature_type=<FeatureTypeEnum.STRING: 'String'>, collection_type=None),\n",
       " FeatureDefinition(feature_name='conversation_id', feature_type=<FeatureTypeEnum.STRING: 'String'>, collection_type=None),\n",
       " FeatureDefinition(feature_name='document_url_question', feature_type=<FeatureTypeEnum.STRING: 'String'>, collection_type=None),\n",
       " FeatureDefinition(feature_name='domain_question', feature_type=<FeatureTypeEnum.STRING: 'String'>, collection_type=None),\n",
       " FeatureDefinition(feature_name='text_answer', feature_type=<FeatureTypeEnum.STRING: 'String'>, collection_type=None),\n",
       " FeatureDefinition(feature_name='intent_answer', feature_type=<FeatureTypeEnum.STRING: 'String'>, collection_type=None),\n",
       " FeatureDefinition(feature_name='domain_answer', feature_type=<FeatureTypeEnum.STRING: 'String'>, collection_type=None),\n",
       " FeatureDefinition(feature_name='question_id', feature_type=<FeatureTypeEnum.STRING: 'String'>, collection_type=None),\n",
       " FeatureDefinition(feature_name='title', feature_type=<FeatureTypeEnum.STRING: 'String'>, collection_type=None),\n",
       " FeatureDefinition(feature_name='description', feature_type=<FeatureTypeEnum.STRING: 'String'>, collection_type=None),\n",
       " FeatureDefinition(feature_name='ingredients', feature_type=<FeatureTypeEnum.STRING: 'String'>, collection_type=None),\n",
       " FeatureDefinition(feature_name='steps', feature_type=<FeatureTypeEnum.STRING: 'String'>, collection_type=None),\n",
       " FeatureDefinition(feature_name='event_time', feature_type=<FeatureTypeEnum.FRACTIONAL: 'Fractional'>, collection_type=None)]"
      ]
     },
     "execution_count": 13,
     "metadata": {},
     "output_type": "execute_result"
    }
   ],
   "source": [
    "# define feature group name\n",
    "feature_group_name = \"conversations\"\n",
    "\n",
    "# define feature group\n",
    "feature_group = FeatureGroup(\n",
    "    name=feature_group_name, sagemaker_session=feature_store_session\n",
    ")\n",
    "\n",
    "# load feature definitions to the feature group\n",
    "feature_group.load_feature_definitions(data_frame=df)"
   ]
  },
  {
   "cell_type": "code",
   "execution_count": 14,
   "id": "19cfe03a-e898-45e3-a837-31e17b67ff3d",
   "metadata": {},
   "outputs": [
    {
     "name": "stdout",
     "output_type": "stream",
     "text": [
      "Waiting for Feature Group Creation\n",
      "Waiting for Feature Group Creation\n",
      "Waiting for Feature Group Creation\n",
      "Waiting for Feature Group Creation\n",
      "Waiting for Feature Group Creation\n",
      "Waiting for Feature Group Creation\n",
      "Waiting for Feature Group Creation\n",
      "Waiting for Feature Group Creation\n",
      "FeatureGroup conversations successfully created.\n"
     ]
    }
   ],
   "source": [
    "# create feature groups in feature store\n",
    "def wait_for_feature_group_creation_complete(feature_group):\n",
    "    status = feature_group.describe().get(\"FeatureGroupStatus\")\n",
    "    while status == \"Creating\":\n",
    "        print(\"Waiting for Feature Group Creation\")\n",
    "        time.sleep(5)\n",
    "        status = feature_group.describe().get(\"FeatureGroupStatus\")\n",
    "    if status != \"Created\":\n",
    "        raise RuntimeError(f\"Failed to create feature group {feature_group.name}\")\n",
    "    print(f\"FeatureGroup {feature_group.name} successfully created.\")\n",
    "\n",
    "\n",
    "# record identifier and event time feature names\n",
    "record_identifier_feature_name = \"question_id\"\n",
    "event_time_feature_name = \"event_time\"    \n",
    "prefix = \"feature_store\"\n",
    "\n",
    "feature_group.create(\n",
    "    s3_uri=f\"s3://{bucket_name}/{prefix}\",\n",
    "    record_identifier_name=record_identifier_feature_name,\n",
    "    event_time_feature_name=event_time_feature_name,\n",
    "    role_arn=role,\n",
    "    enable_online_store=True,\n",
    ")\n",
    "\n",
    "wait_for_feature_group_creation_complete(feature_group=feature_group)"
   ]
  },
  {
   "cell_type": "code",
   "execution_count": 15,
   "id": "22c9fae9-0dab-4f60-a096-e7756b555b9e",
   "metadata": {
    "tags": []
   },
   "outputs": [
    {
     "data": {
      "text/plain": [
       "{'FeatureGroupArn': 'arn:aws:sagemaker:us-east-1:711667138246:feature-group/conversations',\n",
       " 'FeatureGroupName': 'conversations',\n",
       " 'RecordIdentifierFeatureName': 'question_id',\n",
       " 'EventTimeFeatureName': 'event_time',\n",
       " 'FeatureDefinitions': [{'FeatureName': 'question', 'FeatureType': 'String'},\n",
       "  {'FeatureName': 'intent_question', 'FeatureType': 'String'},\n",
       "  {'FeatureName': 'history', 'FeatureType': 'String'},\n",
       "  {'FeatureName': 'conversation_id', 'FeatureType': 'String'},\n",
       "  {'FeatureName': 'document_url_question', 'FeatureType': 'String'},\n",
       "  {'FeatureName': 'domain_question', 'FeatureType': 'String'},\n",
       "  {'FeatureName': 'text_answer', 'FeatureType': 'String'},\n",
       "  {'FeatureName': 'intent_answer', 'FeatureType': 'String'},\n",
       "  {'FeatureName': 'domain_answer', 'FeatureType': 'String'},\n",
       "  {'FeatureName': 'question_id', 'FeatureType': 'String'},\n",
       "  {'FeatureName': 'title', 'FeatureType': 'String'},\n",
       "  {'FeatureName': 'description', 'FeatureType': 'String'},\n",
       "  {'FeatureName': 'ingredients', 'FeatureType': 'String'},\n",
       "  {'FeatureName': 'steps', 'FeatureType': 'String'},\n",
       "  {'FeatureName': 'event_time', 'FeatureType': 'Fractional'}],\n",
       " 'CreationTime': datetime.datetime(2024, 6, 10, 22, 5, 22, 16000, tzinfo=tzlocal()),\n",
       " 'OnlineStoreConfig': {'EnableOnlineStore': True},\n",
       " 'OfflineStoreConfig': {'S3StorageConfig': {'S3Uri': 's3://wizard-of-tasks-dataset-5432/feature_store',\n",
       "   'ResolvedOutputS3Uri': 's3://wizard-of-tasks-dataset-5432/feature_store/711667138246/sagemaker/us-east-1/offline-store/conversations-1718057122/data'},\n",
       "  'DisableGlueTableCreation': False,\n",
       "  'DataCatalogConfig': {'TableName': 'conversations_1718057122',\n",
       "   'Catalog': 'AwsDataCatalog',\n",
       "   'Database': 'sagemaker_featurestore'}},\n",
       " 'ThroughputConfig': {'ThroughputMode': 'OnDemand'},\n",
       " 'RoleArn': 'arn:aws:iam::711667138246:role/LabRole',\n",
       " 'FeatureGroupStatus': 'Created',\n",
       " 'OnlineStoreTotalSizeBytes': 0,\n",
       " 'ResponseMetadata': {'RequestId': '5761acf8-73db-4efa-b04e-a0835d3e0086',\n",
       "  'HTTPStatusCode': 200,\n",
       "  'HTTPHeaders': {'x-amzn-requestid': '5761acf8-73db-4efa-b04e-a0835d3e0086',\n",
       "   'content-type': 'application/x-amz-json-1.1',\n",
       "   'content-length': '2127',\n",
       "   'date': 'Mon, 10 Jun 2024 22:06:03 GMT'},\n",
       "  'RetryAttempts': 0}}"
      ]
     },
     "execution_count": 15,
     "metadata": {},
     "output_type": "execute_result"
    }
   ],
   "source": [
    "# check that the feature group exists\n",
    "feature_group.describe()"
   ]
  },
  {
   "cell_type": "markdown",
   "id": "5a071590-ab72-44c4-8d86-6ff25a25886b",
   "metadata": {
    "tags": []
   },
   "source": [
    "## Ingest Data into Feature Store"
   ]
  },
  {
   "cell_type": "code",
   "execution_count": 16,
   "id": "63841eab-7186-4f4c-b275-9e1505d9226c",
   "metadata": {
    "tags": []
   },
   "outputs": [
    {
     "data": {
      "text/plain": [
       "IngestionManagerPandas(feature_group_name='conversations', feature_definitions={'question': {'FeatureName': 'question', 'FeatureType': 'String'}, 'intent_question': {'FeatureName': 'intent_question', 'FeatureType': 'String'}, 'history': {'FeatureName': 'history', 'FeatureType': 'String'}, 'conversation_id': {'FeatureName': 'conversation_id', 'FeatureType': 'String'}, 'document_url_question': {'FeatureName': 'document_url_question', 'FeatureType': 'String'}, 'domain_question': {'FeatureName': 'domain_question', 'FeatureType': 'String'}, 'text_answer': {'FeatureName': 'text_answer', 'FeatureType': 'String'}, 'intent_answer': {'FeatureName': 'intent_answer', 'FeatureType': 'String'}, 'domain_answer': {'FeatureName': 'domain_answer', 'FeatureType': 'String'}, 'question_id': {'FeatureName': 'question_id', 'FeatureType': 'String'}, 'title': {'FeatureName': 'title', 'FeatureType': 'String'}, 'description': {'FeatureName': 'description', 'FeatureType': 'String'}, 'ingredients': {'FeatureName': 'ingredients', 'FeatureType': 'String'}, 'steps': {'FeatureName': 'steps', 'FeatureType': 'String'}, 'event_time': {'FeatureName': 'event_time', 'FeatureType': 'Fractional'}}, sagemaker_fs_runtime_client_config=<botocore.config.Config object at 0x7f38b67b1e70>, sagemaker_session=<sagemaker.session.Session object at 0x7f39003720e0>, max_workers=3, max_processes=1, profile_name=None, _async_result=<multiprocess.pool.MapResult object at 0x7f38b5ae5840>, _processing_pool=<pool ProcessPool(ncpus=1)>, _failed_indices=[])"
      ]
     },
     "execution_count": 16,
     "metadata": {},
     "output_type": "execute_result"
    }
   ],
   "source": [
    "# ingest data\n",
    "feature_group.ingest(data_frame=df, max_workers=3, wait=True)"
   ]
  },
  {
   "cell_type": "code",
   "execution_count": 17,
   "id": "73e03fd3-839c-4df5-af5f-5e1ce6f3e793",
   "metadata": {
    "tags": []
   },
   "outputs": [
    {
     "data": {
      "text/plain": [
       "{'ResponseMetadata': {'RequestId': 'ca649703-c586-4657-80c8-c2db839dc260',\n",
       "  'HTTPStatusCode': 200,\n",
       "  'HTTPHeaders': {'x-amzn-requestid': 'ca649703-c586-4657-80c8-c2db839dc260',\n",
       "   'content-type': 'application/json',\n",
       "   'content-length': '3019',\n",
       "   'date': 'Mon, 10 Jun 2024 22:06:11 GMT'},\n",
       "  'RetryAttempts': 0},\n",
       " 'Record': [{'FeatureName': 'question',\n",
       "   'ValueAsString': 'How do we prepare the tree? '},\n",
       "  {'FeatureName': 'intent_question',\n",
       "   'ValueAsString': 'ask_question_recipe_steps'},\n",
       "  {'FeatureName': 'history',\n",
       "   'ValueAsString': \"student: I'm ready for the first step now please.  | teacher: That is great to hear, first you need to select a suitable species of tree for your climate | student: I've got an idea of where I want it to grow, what's the next step that I need to take now?  | teacher: Now we prepare the tree.\"},\n",
       "  {'FeatureName': 'conversation_id', 'ValueAsString': 'Wizard-of-Task-diy-1'},\n",
       "  {'FeatureName': 'document_url_question',\n",
       "   'ValueAsString': 'https://www.wikihow.com/Start-a-Bonsai-Tree'},\n",
       "  {'FeatureName': 'domain_question', 'ValueAsString': 'diy'},\n",
       "  {'FeatureName': 'text_answer',\n",
       "   'ValueAsString': 'Have you selected a pot? This is a very important thing. '},\n",
       "  {'FeatureName': 'intent_answer',\n",
       "   'ValueAsString': 'answer_question_recipe_steps'},\n",
       "  {'FeatureName': 'domain_answer', 'ValueAsString': 'diy'},\n",
       "  {'FeatureName': 'question_id', 'ValueAsString': 'diy-1-1'},\n",
       "  {'FeatureName': 'title', 'ValueAsString': 'How to Start a Bonsai Tree'},\n",
       "  {'FeatureName': 'description',\n",
       "   'ValueAsString': '\"\\\\nThe ancient art of growing Bonsai trees is well over a thousand years old. Many individuals are not aware that a simple potted plant is literally the meaning of Bonsai, \"\"Potted Plant.\"\"\\\\nThere are however a large pool of types of plants, bushes and even trees that can be trained and kept as a Bonsai.\\\\nThough usually associated with Japan, Bonsai tree cultivation actually originated in China, where the trees eventually came to be associated with the religion of Zen Buddhism. Bonsai trees are now used for decorative and recreational purposes in addition to their traditional uses. Caring for bonsai trees gives the cultivator a chance to take a contemplative yet creative role in the growth of an emblem of natural beauty.\\\\n\\\\n\"'},\n",
       "  {'FeatureName': 'ingredients', 'ValueAsString': ''},\n",
       "  {'FeatureName': 'steps',\n",
       "   'ValueAsString': \"['Select a suitable species of tree for your climate.', 'Decide whether you plan on having an indoor or outdoor tree.', 'Select the size of your bonsai.', 'Visualize the finished product while selecting a plant.', 'Select a pot.', 'Prepare the tree.', 'Remove the tree and clean the roots.', 'Prune the roots.', 'Prepare the pot.', 'Pot the tree.', 'Care for your new bonsai tree.', 'Obtain your seeds.', 'Allow the seed to germinate.', 'Introduce your seedlings to a seed tray or pot.', 'Keep your seedlings in an area of suitable temperature.', 'Care for your young seedlings.']\"},\n",
       "  {'FeatureName': 'event_time', 'ValueAsString': '1718057.12070268'}]}"
      ]
     },
     "execution_count": 17,
     "metadata": {},
     "output_type": "execute_result"
    }
   ],
   "source": [
    "# test it works\n",
    "featurestore_runtime.get_record(\n",
    "    FeatureGroupName=feature_group_name,\n",
    "    RecordIdentifierValueAsString=\"diy-1-1\",\n",
    ")"
   ]
  },
  {
   "cell_type": "markdown",
   "id": "116c566d-6bad-41ad-b57b-96adf689816c",
   "metadata": {},
   "source": [
    "## Shut down notebook resources"
   ]
  },
  {
   "cell_type": "code",
   "execution_count": 18,
   "id": "f163218f-317d-4036-a57c-89e7efc0d07f",
   "metadata": {
    "tags": []
   },
   "outputs": [
    {
     "data": {
      "text/html": [
       "\n",
       "<p><b>Shutting down your kernel for this notebook to release resources.</b></p>\n",
       "<button class=\"sm-command-button\" data-commandlinker-command=\"kernelmenu:shutdown\" style=\"display:none;\">Shutdown Kernel</button>\n",
       "        \n",
       "<script>\n",
       "try {\n",
       "    els = document.getElementsByClassName(\"sm-command-button\");\n",
       "    els[0].click();\n",
       "}\n",
       "catch(err) {\n",
       "    // NoOp\n",
       "}    \n",
       "</script>\n"
      ],
      "text/plain": [
       "<IPython.core.display.HTML object>"
      ]
     },
     "metadata": {},
     "output_type": "display_data"
    }
   ],
   "source": [
    "%%html\n",
    "\n",
    "<p><b>Shutting down your kernel for this notebook to release resources.</b></p>\n",
    "<button class=\"sm-command-button\" data-commandlinker-command=\"kernelmenu:shutdown\" style=\"display:none;\">Shutdown Kernel</button>\n",
    "        \n",
    "<script>\n",
    "try {\n",
    "    els = document.getElementsByClassName(\"sm-command-button\");\n",
    "    els[0].click();\n",
    "}\n",
    "catch(err) {\n",
    "    // NoOp\n",
    "}    \n",
    "</script>"
   ]
  },
  {
   "cell_type": "code",
   "execution_count": 19,
   "id": "c92ba96c-396a-4d42-9994-ac2f7d9b11a6",
   "metadata": {},
   "outputs": [
    {
     "data": {
      "application/javascript": [
       "\n",
       "try {\n",
       "    Jupyter.notebook.save_checkpoint();\n",
       "    Jupyter.notebook.session.delete();\n",
       "}\n",
       "catch(err) {\n",
       "    // NoOp\n",
       "}\n"
      ],
      "text/plain": [
       "<IPython.core.display.Javascript object>"
      ]
     },
     "metadata": {},
     "output_type": "display_data"
    }
   ],
   "source": [
    "%%javascript\n",
    "\n",
    "try {\n",
    "    Jupyter.notebook.save_checkpoint();\n",
    "    Jupyter.notebook.session.delete();\n",
    "}\n",
    "catch(err) {\n",
    "    // NoOp\n",
    "}"
   ]
  }
 ],
 "metadata": {
  "availableInstances": [
   {
    "_defaultOrder": 0,
    "_isFastLaunch": true,
    "category": "General purpose",
    "gpuNum": 0,
    "hideHardwareSpecs": false,
    "memoryGiB": 4,
    "name": "ml.t3.medium",
    "vcpuNum": 2
   },
   {
    "_defaultOrder": 1,
    "_isFastLaunch": false,
    "category": "General purpose",
    "gpuNum": 0,
    "hideHardwareSpecs": false,
    "memoryGiB": 8,
    "name": "ml.t3.large",
    "vcpuNum": 2
   },
   {
    "_defaultOrder": 2,
    "_isFastLaunch": false,
    "category": "General purpose",
    "gpuNum": 0,
    "hideHardwareSpecs": false,
    "memoryGiB": 16,
    "name": "ml.t3.xlarge",
    "vcpuNum": 4
   },
   {
    "_defaultOrder": 3,
    "_isFastLaunch": false,
    "category": "General purpose",
    "gpuNum": 0,
    "hideHardwareSpecs": false,
    "memoryGiB": 32,
    "name": "ml.t3.2xlarge",
    "vcpuNum": 8
   },
   {
    "_defaultOrder": 4,
    "_isFastLaunch": true,
    "category": "General purpose",
    "gpuNum": 0,
    "hideHardwareSpecs": false,
    "memoryGiB": 8,
    "name": "ml.m5.large",
    "vcpuNum": 2
   },
   {
    "_defaultOrder": 5,
    "_isFastLaunch": false,
    "category": "General purpose",
    "gpuNum": 0,
    "hideHardwareSpecs": false,
    "memoryGiB": 16,
    "name": "ml.m5.xlarge",
    "vcpuNum": 4
   },
   {
    "_defaultOrder": 6,
    "_isFastLaunch": false,
    "category": "General purpose",
    "gpuNum": 0,
    "hideHardwareSpecs": false,
    "memoryGiB": 32,
    "name": "ml.m5.2xlarge",
    "vcpuNum": 8
   },
   {
    "_defaultOrder": 7,
    "_isFastLaunch": false,
    "category": "General purpose",
    "gpuNum": 0,
    "hideHardwareSpecs": false,
    "memoryGiB": 64,
    "name": "ml.m5.4xlarge",
    "vcpuNum": 16
   },
   {
    "_defaultOrder": 8,
    "_isFastLaunch": false,
    "category": "General purpose",
    "gpuNum": 0,
    "hideHardwareSpecs": false,
    "memoryGiB": 128,
    "name": "ml.m5.8xlarge",
    "vcpuNum": 32
   },
   {
    "_defaultOrder": 9,
    "_isFastLaunch": false,
    "category": "General purpose",
    "gpuNum": 0,
    "hideHardwareSpecs": false,
    "memoryGiB": 192,
    "name": "ml.m5.12xlarge",
    "vcpuNum": 48
   },
   {
    "_defaultOrder": 10,
    "_isFastLaunch": false,
    "category": "General purpose",
    "gpuNum": 0,
    "hideHardwareSpecs": false,
    "memoryGiB": 256,
    "name": "ml.m5.16xlarge",
    "vcpuNum": 64
   },
   {
    "_defaultOrder": 11,
    "_isFastLaunch": false,
    "category": "General purpose",
    "gpuNum": 0,
    "hideHardwareSpecs": false,
    "memoryGiB": 384,
    "name": "ml.m5.24xlarge",
    "vcpuNum": 96
   },
   {
    "_defaultOrder": 12,
    "_isFastLaunch": false,
    "category": "General purpose",
    "gpuNum": 0,
    "hideHardwareSpecs": false,
    "memoryGiB": 8,
    "name": "ml.m5d.large",
    "vcpuNum": 2
   },
   {
    "_defaultOrder": 13,
    "_isFastLaunch": false,
    "category": "General purpose",
    "gpuNum": 0,
    "hideHardwareSpecs": false,
    "memoryGiB": 16,
    "name": "ml.m5d.xlarge",
    "vcpuNum": 4
   },
   {
    "_defaultOrder": 14,
    "_isFastLaunch": false,
    "category": "General purpose",
    "gpuNum": 0,
    "hideHardwareSpecs": false,
    "memoryGiB": 32,
    "name": "ml.m5d.2xlarge",
    "vcpuNum": 8
   },
   {
    "_defaultOrder": 15,
    "_isFastLaunch": false,
    "category": "General purpose",
    "gpuNum": 0,
    "hideHardwareSpecs": false,
    "memoryGiB": 64,
    "name": "ml.m5d.4xlarge",
    "vcpuNum": 16
   },
   {
    "_defaultOrder": 16,
    "_isFastLaunch": false,
    "category": "General purpose",
    "gpuNum": 0,
    "hideHardwareSpecs": false,
    "memoryGiB": 128,
    "name": "ml.m5d.8xlarge",
    "vcpuNum": 32
   },
   {
    "_defaultOrder": 17,
    "_isFastLaunch": false,
    "category": "General purpose",
    "gpuNum": 0,
    "hideHardwareSpecs": false,
    "memoryGiB": 192,
    "name": "ml.m5d.12xlarge",
    "vcpuNum": 48
   },
   {
    "_defaultOrder": 18,
    "_isFastLaunch": false,
    "category": "General purpose",
    "gpuNum": 0,
    "hideHardwareSpecs": false,
    "memoryGiB": 256,
    "name": "ml.m5d.16xlarge",
    "vcpuNum": 64
   },
   {
    "_defaultOrder": 19,
    "_isFastLaunch": false,
    "category": "General purpose",
    "gpuNum": 0,
    "hideHardwareSpecs": false,
    "memoryGiB": 384,
    "name": "ml.m5d.24xlarge",
    "vcpuNum": 96
   },
   {
    "_defaultOrder": 20,
    "_isFastLaunch": false,
    "category": "General purpose",
    "gpuNum": 0,
    "hideHardwareSpecs": true,
    "memoryGiB": 0,
    "name": "ml.geospatial.interactive",
    "supportedImageNames": [
     "sagemaker-geospatial-v1-0"
    ],
    "vcpuNum": 0
   },
   {
    "_defaultOrder": 21,
    "_isFastLaunch": true,
    "category": "Compute optimized",
    "gpuNum": 0,
    "hideHardwareSpecs": false,
    "memoryGiB": 4,
    "name": "ml.c5.large",
    "vcpuNum": 2
   },
   {
    "_defaultOrder": 22,
    "_isFastLaunch": false,
    "category": "Compute optimized",
    "gpuNum": 0,
    "hideHardwareSpecs": false,
    "memoryGiB": 8,
    "name": "ml.c5.xlarge",
    "vcpuNum": 4
   },
   {
    "_defaultOrder": 23,
    "_isFastLaunch": false,
    "category": "Compute optimized",
    "gpuNum": 0,
    "hideHardwareSpecs": false,
    "memoryGiB": 16,
    "name": "ml.c5.2xlarge",
    "vcpuNum": 8
   },
   {
    "_defaultOrder": 24,
    "_isFastLaunch": false,
    "category": "Compute optimized",
    "gpuNum": 0,
    "hideHardwareSpecs": false,
    "memoryGiB": 32,
    "name": "ml.c5.4xlarge",
    "vcpuNum": 16
   },
   {
    "_defaultOrder": 25,
    "_isFastLaunch": false,
    "category": "Compute optimized",
    "gpuNum": 0,
    "hideHardwareSpecs": false,
    "memoryGiB": 72,
    "name": "ml.c5.9xlarge",
    "vcpuNum": 36
   },
   {
    "_defaultOrder": 26,
    "_isFastLaunch": false,
    "category": "Compute optimized",
    "gpuNum": 0,
    "hideHardwareSpecs": false,
    "memoryGiB": 96,
    "name": "ml.c5.12xlarge",
    "vcpuNum": 48
   },
   {
    "_defaultOrder": 27,
    "_isFastLaunch": false,
    "category": "Compute optimized",
    "gpuNum": 0,
    "hideHardwareSpecs": false,
    "memoryGiB": 144,
    "name": "ml.c5.18xlarge",
    "vcpuNum": 72
   },
   {
    "_defaultOrder": 28,
    "_isFastLaunch": false,
    "category": "Compute optimized",
    "gpuNum": 0,
    "hideHardwareSpecs": false,
    "memoryGiB": 192,
    "name": "ml.c5.24xlarge",
    "vcpuNum": 96
   },
   {
    "_defaultOrder": 29,
    "_isFastLaunch": true,
    "category": "Accelerated computing",
    "gpuNum": 1,
    "hideHardwareSpecs": false,
    "memoryGiB": 16,
    "name": "ml.g4dn.xlarge",
    "vcpuNum": 4
   },
   {
    "_defaultOrder": 30,
    "_isFastLaunch": false,
    "category": "Accelerated computing",
    "gpuNum": 1,
    "hideHardwareSpecs": false,
    "memoryGiB": 32,
    "name": "ml.g4dn.2xlarge",
    "vcpuNum": 8
   },
   {
    "_defaultOrder": 31,
    "_isFastLaunch": false,
    "category": "Accelerated computing",
    "gpuNum": 1,
    "hideHardwareSpecs": false,
    "memoryGiB": 64,
    "name": "ml.g4dn.4xlarge",
    "vcpuNum": 16
   },
   {
    "_defaultOrder": 32,
    "_isFastLaunch": false,
    "category": "Accelerated computing",
    "gpuNum": 1,
    "hideHardwareSpecs": false,
    "memoryGiB": 128,
    "name": "ml.g4dn.8xlarge",
    "vcpuNum": 32
   },
   {
    "_defaultOrder": 33,
    "_isFastLaunch": false,
    "category": "Accelerated computing",
    "gpuNum": 4,
    "hideHardwareSpecs": false,
    "memoryGiB": 192,
    "name": "ml.g4dn.12xlarge",
    "vcpuNum": 48
   },
   {
    "_defaultOrder": 34,
    "_isFastLaunch": false,
    "category": "Accelerated computing",
    "gpuNum": 1,
    "hideHardwareSpecs": false,
    "memoryGiB": 256,
    "name": "ml.g4dn.16xlarge",
    "vcpuNum": 64
   },
   {
    "_defaultOrder": 35,
    "_isFastLaunch": false,
    "category": "Accelerated computing",
    "gpuNum": 1,
    "hideHardwareSpecs": false,
    "memoryGiB": 61,
    "name": "ml.p3.2xlarge",
    "vcpuNum": 8
   },
   {
    "_defaultOrder": 36,
    "_isFastLaunch": false,
    "category": "Accelerated computing",
    "gpuNum": 4,
    "hideHardwareSpecs": false,
    "memoryGiB": 244,
    "name": "ml.p3.8xlarge",
    "vcpuNum": 32
   },
   {
    "_defaultOrder": 37,
    "_isFastLaunch": false,
    "category": "Accelerated computing",
    "gpuNum": 8,
    "hideHardwareSpecs": false,
    "memoryGiB": 488,
    "name": "ml.p3.16xlarge",
    "vcpuNum": 64
   },
   {
    "_defaultOrder": 38,
    "_isFastLaunch": false,
    "category": "Accelerated computing",
    "gpuNum": 8,
    "hideHardwareSpecs": false,
    "memoryGiB": 768,
    "name": "ml.p3dn.24xlarge",
    "vcpuNum": 96
   },
   {
    "_defaultOrder": 39,
    "_isFastLaunch": false,
    "category": "Memory Optimized",
    "gpuNum": 0,
    "hideHardwareSpecs": false,
    "memoryGiB": 16,
    "name": "ml.r5.large",
    "vcpuNum": 2
   },
   {
    "_defaultOrder": 40,
    "_isFastLaunch": false,
    "category": "Memory Optimized",
    "gpuNum": 0,
    "hideHardwareSpecs": false,
    "memoryGiB": 32,
    "name": "ml.r5.xlarge",
    "vcpuNum": 4
   },
   {
    "_defaultOrder": 41,
    "_isFastLaunch": false,
    "category": "Memory Optimized",
    "gpuNum": 0,
    "hideHardwareSpecs": false,
    "memoryGiB": 64,
    "name": "ml.r5.2xlarge",
    "vcpuNum": 8
   },
   {
    "_defaultOrder": 42,
    "_isFastLaunch": false,
    "category": "Memory Optimized",
    "gpuNum": 0,
    "hideHardwareSpecs": false,
    "memoryGiB": 128,
    "name": "ml.r5.4xlarge",
    "vcpuNum": 16
   },
   {
    "_defaultOrder": 43,
    "_isFastLaunch": false,
    "category": "Memory Optimized",
    "gpuNum": 0,
    "hideHardwareSpecs": false,
    "memoryGiB": 256,
    "name": "ml.r5.8xlarge",
    "vcpuNum": 32
   },
   {
    "_defaultOrder": 44,
    "_isFastLaunch": false,
    "category": "Memory Optimized",
    "gpuNum": 0,
    "hideHardwareSpecs": false,
    "memoryGiB": 384,
    "name": "ml.r5.12xlarge",
    "vcpuNum": 48
   },
   {
    "_defaultOrder": 45,
    "_isFastLaunch": false,
    "category": "Memory Optimized",
    "gpuNum": 0,
    "hideHardwareSpecs": false,
    "memoryGiB": 512,
    "name": "ml.r5.16xlarge",
    "vcpuNum": 64
   },
   {
    "_defaultOrder": 46,
    "_isFastLaunch": false,
    "category": "Memory Optimized",
    "gpuNum": 0,
    "hideHardwareSpecs": false,
    "memoryGiB": 768,
    "name": "ml.r5.24xlarge",
    "vcpuNum": 96
   },
   {
    "_defaultOrder": 47,
    "_isFastLaunch": false,
    "category": "Accelerated computing",
    "gpuNum": 1,
    "hideHardwareSpecs": false,
    "memoryGiB": 16,
    "name": "ml.g5.xlarge",
    "vcpuNum": 4
   },
   {
    "_defaultOrder": 48,
    "_isFastLaunch": false,
    "category": "Accelerated computing",
    "gpuNum": 1,
    "hideHardwareSpecs": false,
    "memoryGiB": 32,
    "name": "ml.g5.2xlarge",
    "vcpuNum": 8
   },
   {
    "_defaultOrder": 49,
    "_isFastLaunch": false,
    "category": "Accelerated computing",
    "gpuNum": 1,
    "hideHardwareSpecs": false,
    "memoryGiB": 64,
    "name": "ml.g5.4xlarge",
    "vcpuNum": 16
   },
   {
    "_defaultOrder": 50,
    "_isFastLaunch": false,
    "category": "Accelerated computing",
    "gpuNum": 1,
    "hideHardwareSpecs": false,
    "memoryGiB": 128,
    "name": "ml.g5.8xlarge",
    "vcpuNum": 32
   },
   {
    "_defaultOrder": 51,
    "_isFastLaunch": false,
    "category": "Accelerated computing",
    "gpuNum": 1,
    "hideHardwareSpecs": false,
    "memoryGiB": 256,
    "name": "ml.g5.16xlarge",
    "vcpuNum": 64
   },
   {
    "_defaultOrder": 52,
    "_isFastLaunch": false,
    "category": "Accelerated computing",
    "gpuNum": 4,
    "hideHardwareSpecs": false,
    "memoryGiB": 192,
    "name": "ml.g5.12xlarge",
    "vcpuNum": 48
   },
   {
    "_defaultOrder": 53,
    "_isFastLaunch": false,
    "category": "Accelerated computing",
    "gpuNum": 4,
    "hideHardwareSpecs": false,
    "memoryGiB": 384,
    "name": "ml.g5.24xlarge",
    "vcpuNum": 96
   },
   {
    "_defaultOrder": 54,
    "_isFastLaunch": false,
    "category": "Accelerated computing",
    "gpuNum": 8,
    "hideHardwareSpecs": false,
    "memoryGiB": 768,
    "name": "ml.g5.48xlarge",
    "vcpuNum": 192
   },
   {
    "_defaultOrder": 55,
    "_isFastLaunch": false,
    "category": "Accelerated computing",
    "gpuNum": 8,
    "hideHardwareSpecs": false,
    "memoryGiB": 1152,
    "name": "ml.p4d.24xlarge",
    "vcpuNum": 96
   },
   {
    "_defaultOrder": 56,
    "_isFastLaunch": false,
    "category": "Accelerated computing",
    "gpuNum": 8,
    "hideHardwareSpecs": false,
    "memoryGiB": 1152,
    "name": "ml.p4de.24xlarge",
    "vcpuNum": 96
   },
   {
    "_defaultOrder": 57,
    "_isFastLaunch": false,
    "category": "Accelerated computing",
    "gpuNum": 0,
    "hideHardwareSpecs": false,
    "memoryGiB": 32,
    "name": "ml.trn1.2xlarge",
    "vcpuNum": 8
   },
   {
    "_defaultOrder": 58,
    "_isFastLaunch": false,
    "category": "Accelerated computing",
    "gpuNum": 0,
    "hideHardwareSpecs": false,
    "memoryGiB": 512,
    "name": "ml.trn1.32xlarge",
    "vcpuNum": 128
   },
   {
    "_defaultOrder": 59,
    "_isFastLaunch": false,
    "category": "Accelerated computing",
    "gpuNum": 0,
    "hideHardwareSpecs": false,
    "memoryGiB": 512,
    "name": "ml.trn1n.32xlarge",
    "vcpuNum": 128
   }
  ],
  "kernelspec": {
   "display_name": "Python 3 (Data Science 3.0)",
   "language": "python",
   "name": "python3__SAGEMAKER_INTERNAL__arn:aws:sagemaker:us-east-1:081325390199:image/sagemaker-data-science-310-v1"
  },
  "language_info": {
   "codemirror_mode": {
    "name": "ipython",
    "version": 3
   },
   "file_extension": ".py",
   "mimetype": "text/x-python",
   "name": "python",
   "nbconvert_exporter": "python",
   "pygments_lexer": "ipython3",
   "version": "3.10.6"
  }
 },
 "nbformat": 4,
 "nbformat_minor": 5
}
